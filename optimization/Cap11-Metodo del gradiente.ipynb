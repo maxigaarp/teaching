{
 "cells": [
  {
   "cell_type": "code",
   "execution_count": 8,
   "metadata": {},
   "outputs": [
    {
     "name": "stdout",
     "output_type": "stream",
     "text": [
      "Punto inicial:[2, 1]\n",
      "[2, 1] [4, 4] 0.3333333333333333\n",
      "[0.667, -0.333] [1.334, -1.332] 0.33350012499990617\n",
      "[0.222, 0.111] [0.444, 0.444] 0.3333333333333333\n",
      "[0.074, -0.037] [0.148, -0.148] 0.3333333333333333\n",
      "[0.025, 0.012] [0.05, 0.048] 0.3379290939786157\n",
      "[0.008, -0.004] [0.016, -0.016] 0.3333333333333333\n",
      "[0.003, 0.001] [0.006, 0.004] 0.3823529411764706\n",
      "[0.001, -0.001] [0.002, -0.004] 0.27777777777777773\n"
     ]
    }
   ],
   "source": [
    "import numpy as np\n",
    "\n",
    "x=[]\n",
    "\n",
    "## funcion x^2+2y^2\n",
    "\n",
    "x.append([2,1]) # punto inicial\n",
    "\n",
    "grad = [2*x[0][0],4*x[0][1]] #gradiente [2x,4y]\n",
    "k=0\n",
    "print(\"Punto inicial:\"+str(x[0]))\n",
    "\n",
    "while np.linalg.norm(grad)>0.00001: \n",
    "\n",
    "    a=grad[0]**2+2*grad[1]**2 # valor del coeficiente cuadratico en obtencion de t\n",
    "    b=-(2*x[k][0]*grad[0]+4*x[k][1]*grad[1]) # valor coeficiente lineal en obtencion de t\n",
    "    grad=[2*x[k][0],4*x[k][1]] #gradiente [2x,4y]\n",
    "\n",
    "    maxt=-1*b/2/a #valor de t\n",
    "    x.append([np.round(x[k][0]-maxt*grad[0],3), np.round(x[k][1]-maxt*grad[1],3)]) # calculo del proximo x\n",
    "    print(x[k], grad,maxt)\n",
    "\n",
    "    k+=1\n",
    "    grad=[2*x[k][0],4*x[k][1]] #gradiente [2x,4y]\n",
    "\n"
   ]
  },
  {
   "cell_type": "code",
   "execution_count": 10,
   "metadata": {},
   "outputs": [
    {
     "name": "stdout",
     "output_type": "stream",
     "text": [
      "Punto inicial: [6 6]\n",
      "Iteracion 1, x=[2.400 -1.200], grad=[12.000 24.000]\n",
      "Iteracion 2, x=[0.960 0.240], grad=[4.800 -4.800]\n",
      "Iteracion 3, x=[0.384 -0.048], grad=[1.920 0.960]\n",
      "Iteracion 4, x=[0.154 0.010], grad=[0.768 -0.192]\n",
      "Iteracion 5, x=[0.061 -0.002], grad=[0.307 0.038]\n",
      "Iteracion 6, x=[0.025 0.000], grad=[0.123 -0.008]\n",
      "Iteracion 7, x=[0.010 -0.000], grad=[0.049 0.002]\n",
      "Iteracion 8, x=[0.004 0.000], grad=[0.020 -0.000]\n",
      "Iteracion 9, x=[0.002 -0.000], grad=[0.008 0.000]\n",
      "Iteracion 10, x=[0.001 0.000], grad=[0.003 -0.000]\n",
      "Iteracion 11, x=[0.000 -0.000], grad=[0.001 0.000]\n",
      "Optimo: [0.000 0.000]\n"
     ]
    }
   ],
   "source": [
    "##upgrade##\n",
    " \n",
    "\n",
    "\n",
    "\n",
    "############### Metodo gradiente simbolico################\n",
    "\n",
    "from sympy import symbols,diff, Symbol, Function\n",
    "import numpy as np\n",
    "\n",
    "np.set_printoptions(formatter={'float': lambda x: \"{0:0.3f}\".format(x)})\n",
    "\n",
    "n = 2 # numero de variables\n",
    "z = [Symbol('z'+str(i+1)) for i in range(n)] # definicion de variables z1,z2,...,zn\n",
    "\n",
    "#f = z[0]**4+4*z[1]**4+10*z[0]**3- 2*z[1]**2 #definicion de funcion f(z)\n",
    "\n",
    "f = z[0]**2 + 2*z[1]**2 #definicion de funcion f(z)\n",
    "gradient=[f.diff(zi) for zi in z] # calculo del gradiente f'(z)\n",
    "\n",
    "\n",
    "\n",
    "x=[np.array([6,6])] #iteraciones del metodo del gradiente, valor inicial x[0]=(2,1)\n",
    "\n",
    "t=0.3 #valor del paso fijo\n",
    "maxiter=1000 #numero maximo de iteraciones\n",
    "print(\"Punto inicial: \"+str(x[0]))\n",
    "\n",
    "for k in range(maxiter):\n",
    "    nablaf_xk=np.array([nf.evalf(subs = dict(zip(z,x[k]))) for nf in gradient],dtype=\"float32\") #evaluar x[k] en gradiente\n",
    "    x.append(x[k]-t*nablaf_xk)\n",
    "    \n",
    "    if np.linalg.norm(nablaf_xk)<0.001: # termino del algoritmo\n",
    "        print(\"Optimo: \"+str(x[k+1]))\n",
    "        break\n",
    "    else:\n",
    "        print(\"Iteracion \"+str(k+1)+\", x=\"+str(x[k+1])+\", grad=\"+str(nablaf_xk))\n",
    "\n",
    "    \n",
    "    \n",
    "\n"
   ]
  },
  {
   "cell_type": "code",
   "execution_count": 11,
   "metadata": {},
   "outputs": [
    {
     "data": {
      "application/vnd.jupyter.widget-view+json": {
       "model_id": "7dbbfda32c204db8af600f30d093e05c",
       "version_major": 2,
       "version_minor": 0
      },
      "text/plain": [
       "Canvas(toolbar=Toolbar(toolitems=[('Home', 'Reset original view', 'home', 'home'), ('Back', 'Back to previous …"
      ]
     },
     "metadata": {},
     "output_type": "display_data"
    },
    {
     "data": {
      "text/plain": [
       "[<mpl_toolkits.mplot3d.art3d.Line3D at 0x7f060ec2bc50>]"
      ]
     },
     "execution_count": 11,
     "metadata": {},
     "output_type": "execute_result"
    }
   ],
   "source": [
    "import matplotlib.pyplot as plt\n",
    "from mpl_toolkits.mplot3d import Axes3D\n",
    "\n",
    "%matplotlib widget\n",
    "fig = plt.figure(figsize=(20, 10))\n",
    "fig.canvas.layout.width = '9in'\n",
    "fig.canvas.layout.height = '9in'\n",
    "\n",
    "ax = fig.gca(projection='3d')\n",
    "\n",
    "xd=np.linspace(-6,6,101)\n",
    "yd=np.linspace(-6,6,101)\n",
    "X,Y=np.meshgrid(xd,yd)\n",
    "Z=np.array([[f.evalf(subs = dict(zip(z,[x,y]))) for x in xd] for y in yd],dtype=\"float32\")\n",
    "\n",
    "xp=[p[0] for p in x]\n",
    "yp=[p[1] for p in x]\n",
    "zp=[f.evalf(subs = dict(zip(z,[p[0],p[1]]))) for p in x]\n",
    "plt.contour(X,Y,Z)\n",
    "\n",
    "ax.plot_surface(X,Y,Z, alpha = .2 )\n",
    "ax.plot(xp,yp,zp, marker = '*', color = 'r', alpha = .4, label = 'Gradient descent')\n"
   ]
  },
  {
   "cell_type": "code",
   "execution_count": null,
   "metadata": {},
   "outputs": [],
   "source": [
    "\n",
    "\n"
   ]
  }
 ],
 "metadata": {
  "kernelspec": {
   "display_name": "Python 3",
   "language": "python",
   "name": "python3"
  },
  "language_info": {
   "codemirror_mode": {
    "name": "ipython",
    "version": 3
   },
   "file_extension": ".py",
   "mimetype": "text/x-python",
   "name": "python",
   "nbconvert_exporter": "python",
   "pygments_lexer": "ipython3",
   "version": "3.6.10"
  }
 },
 "nbformat": 4,
 "nbformat_minor": 2
}
