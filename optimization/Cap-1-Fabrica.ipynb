{
 "cells": [
  {
   "cell_type": "code",
   "execution_count": 1,
   "metadata": {},
   "outputs": [],
   "source": [
    "import pulp\n",
    "import pandas\n",
    "import numpy as np"
   ]
  },
  {
   "cell_type": "code",
   "execution_count": 2,
   "metadata": {},
   "outputs": [],
   "source": [
    "Calidad={\"Primera\",\"Segunda\",\"Tercera\"}\n",
    "TiposAditivos={\"A\",\"B\"}\n",
    "         \n",
    "Stock={\"A\":200,\"B\":1000}\n",
    "MBase=1500\n",
    "Req={\"Primera\":{\"A\":0.500,\"B\":0},\n",
    "     \"Segunda\":{\"A\":0.250,\"B\":0.350},\n",
    "     \"Tercera\":{\"A\":0,\"B\":0.800}}\n",
    "Precio={\"Primera\":2000,\"Segunda\":1800,\"Tercera\":1500}\n"
   ]
  },
  {
   "cell_type": "code",
   "execution_count": 3,
   "metadata": {},
   "outputs": [],
   "source": [
    "prob = pulp.LpProblem(\"Fabrica_ladrillos\", pulp.LpMaximize)\n",
    "\n",
    "x = pulp.LpVariable.dicts(\"Produccion\", (c for c in Calidad), lowBound=0, cat='Continuous')\n"
   ]
  },
  {
   "cell_type": "code",
   "execution_count": 4,
   "metadata": {},
   "outputs": [],
   "source": [
    "prob += pulp.lpSum([x[c]*Precio[c] for c in Calidad])\n"
   ]
  },
  {
   "cell_type": "code",
   "execution_count": 5,
   "metadata": {},
   "outputs": [],
   "source": [
    "for i in TiposAditivos:\n",
    "    prob += 0<=pulp.lpSum([x[c]*Req[c][i] for c in Calidad])<= Stock[i]\n",
    "\n",
    "prob += pulp.lpSum([x[c] for c in Calidad]) <= MBase\n",
    "\n",
    "# for i in TiposAditivos:\n",
    "#     prob += pulp.lpSum([x[c]*Req[c][i] for c in Calidad])== a[i]\n",
    "\n",
    "# prob += pulp.lpSum([x[c] for c in Calidad]) <= MBase\n",
    "\n",
    "# for i in TiposAditivos :\n",
    "#     prob += a[i]<= Stock[i]\n"
   ]
  },
  {
   "cell_type": "code",
   "execution_count": 6,
   "metadata": {},
   "outputs": [
    {
     "name": "stdout",
     "output_type": "stream",
     "text": [
      "Using license file /home/maxi/anaconda3/gurobi.lic\n",
      "Academic license - for non-commercial use only\n",
      "Gurobi Optimizer version 9.0.1 build v9.0.1rc0 (linux64)\n",
      "Optimize a model with 3 rows, 3 columns and 7 nonzeros\n",
      "Model fingerprint: 0x915cddde\n",
      "Coefficient statistics:\n",
      "  Matrix range     [2e-01, 1e+00]\n",
      "  Objective range  [2e+03, 2e+03]\n",
      "  Bounds range     [0e+00, 0e+00]\n",
      "  RHS range        [2e+02, 2e+03]\n",
      "Presolve time: 0.02s\n",
      "Presolved: 3 rows, 3 columns, 7 nonzeros\n",
      "\n",
      "Iteration    Objective       Primal Inf.    Dual Inf.      Time\n",
      "       0    5.3000000e+33   5.650000e+30   5.300000e+03      0s\n",
      "       3    2.4900000e+06   0.000000e+00   0.000000e+00      0s\n",
      "\n",
      "Solved in 3 iterations and 0.02 seconds\n",
      "Optimal objective  2.490000000e+06\n",
      "Gurobi status= 2\n",
      "#################################################################\n",
      "\n",
      "Variables:\n",
      "\n",
      "Produccion_Primera 0.0\n",
      "Produccion_Segunda 800.0\n",
      "Produccion_Tercera 700.0\n"
     ]
    }
   ],
   "source": [
    "# Choose solver, and set it to problem, and build the Gurobi model\n",
    "solver = pulp.GUROBI()\n",
    "prob.setSolver(solver)\n",
    "prob.solver.buildSolverModel(prob)\n",
    "\n",
    "# Solve model\n",
    "prob.solve()\n",
    "\n",
    "print(\"#################################################################\")\n",
    "\n",
    "print(\"\\nVariables:\\n\")\n",
    "\n",
    "for i in prob.variables():\n",
    "    print(i, i.varValue)\n"
   ]
  },
  {
   "cell_type": "code",
   "execution_count": 7,
   "metadata": {},
   "outputs": [
    {
     "data": {
      "text/plain": [
       "Fabrica_ladrillos:\n",
       "MAXIMIZE\n",
       "2000*Produccion_Primera + 1800*Produccion_Segunda + 1500*Produccion_Tercera + 0\n",
       "SUBJECT TO\n",
       "_C1: 0.5 Produccion_Primera + 0.25 Produccion_Segunda <= 200\n",
       "\n",
       "_C2: 0.35 Produccion_Segunda + 0.8 Produccion_Tercera <= 1000\n",
       "\n",
       "_C3: Produccion_Primera + Produccion_Segunda + Produccion_Tercera <= 1500\n",
       "\n",
       "VARIABLES\n",
       "Produccion_Primera Continuous\n",
       "Produccion_Segunda Continuous\n",
       "Produccion_Tercera Continuous"
      ]
     },
     "execution_count": 7,
     "metadata": {},
     "output_type": "execute_result"
    }
   ],
   "source": [
    "prob"
   ]
  },
  {
   "cell_type": "code",
   "execution_count": 8,
   "metadata": {},
   "outputs": [],
   "source": [
    "sol=[x[\"Primera\"].varValue,x[\"Segunda\"].varValue,x[\"Tercera\"].varValue]"
   ]
  },
  {
   "cell_type": "code",
   "execution_count": 9,
   "metadata": {},
   "outputs": [],
   "source": [
    "import numpy as np\n",
    "from sympy import Plane, Point3D\n",
    "import networkx as nx\n",
    "\n",
    "\n",
    "def simplify(triangles):\n",
    "    \"\"\"\n",
    "    Simplify an iterable of triangles such that adjacent and coplanar triangles form a single face.\n",
    "    Each triangle is a set of 3 points in 3D space.\n",
    "    \"\"\"\n",
    "\n",
    "    # create a graph in which nodes represent triangles;\n",
    "    # nodes are connected if the corresponding triangles are adjacent and coplanar\n",
    "    G = nx.Graph()\n",
    "    G.add_nodes_from(range(len(triangles)))\n",
    "    for ii, a in enumerate(triangles):\n",
    "        for jj, b in enumerate(triangles):\n",
    "            if (ii < jj): # test relationships only in one way as adjacency and co-planarity are bijective\n",
    "                if is_adjacent(a, b):\n",
    "                    if is_coplanar(a, b, np.pi / 180.):\n",
    "                        G.add_edge(ii,jj)\n",
    "\n",
    "    # triangles that belong to a connected component can be combined\n",
    "    components = list(nx.connected_components(G))\n",
    "    simplified = [set(flatten(triangles[index] for index in component)) for component in components]\n",
    "\n",
    "    # need to reorder nodes so that patches are plotted correctly\n",
    "    reordered = [reorder(face) for face in simplified]\n",
    "\n",
    "    return reordered\n",
    "\n",
    "\n",
    "def is_adjacent(a, b):\n",
    "    return len(set(a) & set(b)) == 2 # i.e. triangles share 2 points and hence a side\n",
    "\n",
    "\n",
    "def is_coplanar(a, b, tolerance_in_radians=0):\n",
    "    a1, a2, a3 = a\n",
    "    b1, b2, b3 = b\n",
    "    plane_a = Plane(Point3D(a1), Point3D(a2), Point3D(a3))\n",
    "    plane_b = Plane(Point3D(b1), Point3D(b2), Point3D(b3))\n",
    "    if not tolerance_in_radians: # only accept exact results\n",
    "        return plane_a.is_coplanar(plane_b)\n",
    "    else:\n",
    "        angle = plane_a.angle_between(plane_b).evalf()\n",
    "        angle %= np.pi # make sure that angle is between 0 and np.pi\n",
    "        return (angle - tolerance_in_radians <= 0.) or \\\n",
    "            ((np.pi - angle) - tolerance_in_radians <= 0.)\n",
    "\n",
    "\n",
    "flatten = lambda l: [item for sublist in l for item in sublist]\n",
    "\n",
    "\n",
    "def reorder(vertices):\n",
    "    \"\"\"\n",
    "    Reorder nodes such that the resulting path corresponds to the \"hull\" of the set of points.\n",
    "\n",
    "    Note:\n",
    "    -----\n",
    "    Not tested on edge cases, and likely to break.\n",
    "    Probably only works for convex shapes.\n",
    "\n",
    "    \"\"\"\n",
    "    if len(vertices) <= 3: # just a triangle\n",
    "        return vertices\n",
    "    else:\n",
    "        # take random vertex (here simply the first)\n",
    "        reordered = [vertices.pop()]\n",
    "        # get next closest vertex that is not yet reordered\n",
    "        # repeat until only one vertex remains in original list\n",
    "        vertices = list(vertices)\n",
    "        while len(vertices) > 1:\n",
    "            idx = np.argmin(get_distance(reordered[-1], vertices))\n",
    "            v = vertices.pop(idx)\n",
    "            reordered.append(v)\n",
    "        # add remaining vertex to output\n",
    "        reordered += vertices\n",
    "        return reordered\n",
    "\n",
    "\n",
    "def get_distance(v1, v2):\n",
    "    v2 = np.array(list(v2))\n",
    "    difference = v2 - v1\n",
    "    ssd = np.sum(difference**2, axis=1)\n",
    "    return np.sqrt(ssd)"
   ]
  },
  {
   "cell_type": "code",
   "execution_count": 10,
   "metadata": {},
   "outputs": [
    {
     "data": {
      "application/vnd.jupyter.widget-view+json": {
       "model_id": "88982e9caf3e4c548d32e516ae85da67",
       "version_major": 2,
       "version_minor": 0
      },
      "text/plain": [
       "Canvas(toolbar=Toolbar(toolitems=[('Home', 'Reset original view', 'home', 'home'), ('Back', 'Back to previous …"
      ]
     },
     "metadata": {},
     "output_type": "display_data"
    },
    {
     "name": "stderr",
     "output_type": "stream",
     "text": [
      "/home/maxi/anaconda3/envs/opti/lib/python3.6/site-packages/ipykernel_launcher.py:61: DeprecationWarning: scipy.rand is deprecated and will be removed in SciPy 2.0.0, use numpy.random.rand instead\n"
     ]
    },
    {
     "data": {
      "text/plain": [
       "Text(0.5, 0, 'Tercera')"
      ]
     },
     "execution_count": 10,
     "metadata": {},
     "output_type": "execute_result"
    }
   ],
   "source": [
    "%matplotlib widget\n",
    "\n",
    "from scipy.spatial import HalfspaceIntersection\n",
    "from scipy.spatial import ConvexHull\n",
    "import scipy as sp\n",
    "import numpy as np\n",
    "import matplotlib.pyplot as plt\n",
    "import mpl_toolkits.mplot3d as a3\n",
    "import matplotlib.colors as colors\n",
    "\n",
    "\n",
    "w = np.array([1., 1., 1.])\n",
    "\n",
    "\n",
    "# ∑ᵢ hᵢ wᵢ qᵢ - ∑ᵢ gᵢ wᵢ <= 0\n",
    "#  qᵢ - ubᵢ <= 0\n",
    "# -qᵢ + lbᵢ <= 0\n",
    "halfspaces = np.array([\n",
    "                    [1.*w[0], 1.*w[1], 1.*w[2], -1500 ],\n",
    "                    [ 0,  0.350,  0.800, -1000],\n",
    "                    [ 0.500,  0.250,  0., -200],\n",
    "                    [-1.,  0.,  0.,  0],\n",
    "                    [ 0., -1.,  0.,  0],\n",
    "                    [ 0.,  0., -1.,  0]\n",
    "                    ])\n",
    "feasible_point = np.array([0.1, 0.1, 0.11])\n",
    "hs = HalfspaceIntersection(halfspaces, feasible_point)\n",
    "verts = hs.intersections\n",
    "verts = np.around(verts)\n",
    "hull = ConvexHull(verts)\n",
    "faces = hull.simplices\n",
    "\n",
    "fig=plt.figure()\n",
    "fig.canvas.layout.width = '7in'\n",
    "\n",
    "ax = a3.Axes3D(fig)\n",
    "ax.dist=10\n",
    "ax.azim=30\n",
    "ax.elev=10\n",
    "\n",
    "lim_sup=np.max(verts)\n",
    "lim_inf=np.min(verts)\n",
    "ax.set_xlim([lim_inf,lim_sup])\n",
    "ax.set_ylim([lim_inf,lim_sup])\n",
    "ax.set_zlim([lim_inf,lim_sup])\n",
    "\n",
    "\n",
    "\n",
    "triangles = []\n",
    "for s in faces:\n",
    "    sq = [\n",
    "        (verts[s[0], 0], verts[s[0], 1], verts[s[0], 2]),\n",
    "        (verts[s[1], 0], verts[s[1], 1], verts[s[1], 2]),\n",
    "        (verts[s[2], 0], verts[s[2], 1], verts[s[2], 2])\n",
    "    ]\n",
    "    triangles.append(sq)\n",
    "\n",
    "new_faces = simplify(triangles)\n",
    "for sq in new_faces:\n",
    "    f = a3.art3d.Poly3DCollection([sq])\n",
    "    f.set_color(colors.rgb2hex(sp.rand(3)))\n",
    "    f.set_edgecolor('k')\n",
    "    f.set_alpha(0.1)\n",
    "    ax.add_collection3d(f)\n",
    "\n",
    "    \n",
    "    \n",
    "ax.scatter(sol[0],sol[1],sol[2],s=100)\n",
    "ax.set_xlabel('Primera')\n",
    "ax.set_ylabel('Segunda')\n",
    "ax.set_zlabel('Tercera')\n",
    "\n",
    "# # rotate the axes and update\n",
    "# for angle in range(0, 360):\n",
    "#     ax.view_init(30, angle)\n",
    "#     plt.draw()\n",
    "#     plt.pause(.001)"
   ]
  },
  {
   "cell_type": "code",
   "execution_count": 11,
   "metadata": {},
   "outputs": [
    {
     "data": {
      "text/plain": [
       "array([5, 7, 6], dtype=int32)"
      ]
     },
     "execution_count": 11,
     "metadata": {},
     "output_type": "execute_result"
    }
   ],
   "source": [
    "s\n"
   ]
  },
  {
   "cell_type": "code",
   "execution_count": null,
   "metadata": {},
   "outputs": [],
   "source": []
  }
 ],
 "metadata": {
  "kernelspec": {
   "display_name": "Python 3",
   "language": "python",
   "name": "python3"
  },
  "language_info": {
   "codemirror_mode": {
    "name": "ipython",
    "version": 3
   },
   "file_extension": ".py",
   "mimetype": "text/x-python",
   "name": "python",
   "nbconvert_exporter": "python",
   "pygments_lexer": "ipython3",
   "version": "3.6.10"
  }
 },
 "nbformat": 4,
 "nbformat_minor": 2
}
