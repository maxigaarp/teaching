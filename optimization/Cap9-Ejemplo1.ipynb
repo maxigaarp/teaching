{
 "cells": [
  {
   "cell_type": "code",
   "execution_count": 4,
   "metadata": {},
   "outputs": [
    {
     "name": "stdout",
     "output_type": "stream",
     "text": [
      "Gurobi Optimizer version 9.0.1 build v9.0.1rc0 (linux64)\n",
      "Optimize a model with 3 rows, 4 columns and 9 nonzeros\n",
      "Model fingerprint: 0xc81ad464\n",
      "Variable types: 0 continuous, 4 integer (0 binary)\n",
      "Coefficient statistics:\n",
      "  Matrix range     [1e+00, 1e+00]\n",
      "  Objective range  [3e+00, 8e+00]\n",
      "  Bounds range     [0e+00, 0e+00]\n",
      "  RHS range        [8e+00, 1e+01]\n",
      "Found heuristic solution: objective 89.0000000\n",
      "Presolve removed 0 rows and 1 columns\n",
      "Presolve time: 0.00s\n",
      "Presolved: 3 rows, 3 columns, 6 nonzeros\n",
      "Variable types: 0 continuous, 3 integer (0 binary)\n",
      "\n",
      "Root relaxation: cutoff, 0 iterations, 0.00 seconds\n",
      "\n",
      "Explored 0 nodes (0 simplex iterations) in 0.02 seconds\n",
      "Thread count was 4 (of 4 available processors)\n",
      "\n",
      "Solution count 1: 89 \n",
      "\n",
      "Optimal solution found (tolerance 1.00e-04)\n",
      "Best objective 8.900000000000e+01, best bound 8.900000000000e+01, gap 0.0000%\n",
      "\n",
      "    Variable            X \n",
      "-------------------------\n",
      "          x1           10 \n",
      "          x2            3 \n"
     ]
    }
   ],
   "source": [
    "from gurobipy import GRB, Model\n",
    "\n",
    "m = Model()\n",
    "\n",
    "x1 = m.addVar(lb=0, ub=GRB.INFINITY, vtype=GRB.INTEGER, name=\"x1\")\n",
    "x2 = m.addVar(lb=0, ub=GRB.INFINITY, vtype=GRB.INTEGER, name=\"x2\")\n",
    "x3 = m.addVar(lb=0, ub=GRB.INFINITY, vtype=GRB.INTEGER, name=\"x3\")\n",
    "x4 = m.addVar(lb=0, ub=GRB.INFINITY, vtype=GRB.INTEGER, name=\"x4\")\n",
    "\n",
    "\n",
    "m.update()\n",
    "\n",
    "m.setObjective(8*x1 + 3*x2+ 5*x3+7*x4, GRB.MAXIMIZE)\n",
    "\n",
    "m.addConstr(x1 + x2 + x4 <= 13, name=\"R1\")\n",
    "m.addConstr(x1 + x3 + x4 <= 10, name=\"R1\")\n",
    "m.addConstr(x2 + x3 + x4 <= 8, name=\"R1\")\n",
    "\n",
    "m.optimize()\n",
    "\n",
    "m.printAttr(\"X\")\n",
    "\n"
   ]
  }
 ],
 "metadata": {
  "kernelspec": {
   "display_name": "Python 3",
   "language": "python",
   "name": "python3"
  },
  "language_info": {
   "codemirror_mode": {
    "name": "ipython",
    "version": 3
   },
   "file_extension": ".py",
   "mimetype": "text/x-python",
   "name": "python",
   "nbconvert_exporter": "python",
   "pygments_lexer": "ipython3",
   "version": "3.6.10"
  }
 },
 "nbformat": 4,
 "nbformat_minor": 2
}
