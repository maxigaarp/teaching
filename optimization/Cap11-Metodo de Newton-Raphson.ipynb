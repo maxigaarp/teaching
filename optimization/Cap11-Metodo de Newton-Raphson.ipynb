{
 "cells": [
  {
   "cell_type": "code",
   "execution_count": 3,
   "metadata": {},
   "outputs": [
    {
     "name": "stdout",
     "output_type": "stream",
     "text": [
      "Punto inicial: [6 6]\n",
      "Iteracion 1, x=[3.167 4.009], grad=[2244.000 3432.000]\n",
      "Iteracion 2, x=[0.821 2.687], grad=[727.852 1015.107]\n",
      "Iteracion 3, x=[-4.799 1.812], grad=[322.451 299.578]\n",
      "Iteracion 4, x=[42.658 1.240], grad=[548.823 87.959]\n",
      "Iteracion 5, x=[27.681 0.874], grad=[365392.406 25.513]\n",
      "Iteracion 6, x=[17.720 0.654], grad=[108122.648 7.178]\n",
      "Iteracion 7, x=[11.101 0.541], grad=[31977.104 1.857]\n",
      "Iteracion 8, x=[6.687 0.504], grad=[9469.882 0.374]\n",
      "Iteracion 9, x=[3.661 0.500], grad=[2837.104 0.035]\n",
      "Iteracion 10, x=[1.300 0.500], grad=[898.346 0.000]\n",
      "Iteracion 11, x=[-2.358 0.500], grad=[359.482 0.000]\n",
      "Iteracion 12, x=[3.185 0.500], grad=[414.362 0.000]\n",
      "Iteracion 13, x=[0.840 0.500], grad=[733.470 0.000]\n",
      "Iteracion 14, x=[-4.658 0.500], grad=[323.525 0.000]\n",
      "Iteracion 15, x=[23.924 0.500], grad=[546.648 0.000]\n",
      "Iteracion 16, x=[15.224 0.500], grad=[72240.555 0.000]\n",
      "Iteracion 17, x=[9.441 0.500], grad=[21365.963 0.000]\n",
      "Iteracion 18, x=[5.566 0.500], grad=[6339.392 0.000]\n",
      "Iteracion 19, x=[2.846 0.500], grad=[1918.866 0.000]\n",
      "Iteracion 20, x=[0.476 0.500], grad=[635.273 0.000]\n",
      "Iteracion 21, x=[-9.351 0.500], grad=[307.222 0.000]\n",
      "Iteracion 22, x=[-8.639 0.500], grad=[-347.426 0.000]\n",
      "Iteracion 23, x=[-8.533 0.500], grad=[-40.188 0.000]\n",
      "Iteracion 24, x=[-8.531 0.500], grad=[-0.831 0.000]\n",
      "Iteracion 25, x=[-8.531 0.500], grad=[-0.000 0.000]\n",
      "Optimo: [-8.531 0.500]\n"
     ]
    }
   ],
   "source": [
    "\n",
    "from sympy import diff, Symbol\n",
    "import numpy as np\n",
    "\n",
    "np.set_printoptions(formatter={'float': lambda x: \"{0:0.3f}\".format(x)})\n",
    "\n",
    "n = 2 # numero de variables\n",
    "z = [Symbol('z'+str(i+1)) for i in range(n)] # definicion de variables z1,z2,...,zn\n",
    "\n",
    "\n",
    "f = z[0]**4+4*z[1]**4+10*z[0]**3- 2*z[1]**2 +300*z[0] +3 #definicion de funcion f(z)\n",
    "#f = z[0]**2 + 2*z[1]**2 #definicion de funcion f(z)\n",
    "\n",
    "gradient=[f.diff(zi) for zi in z] # calculo del gradiente f'(z)\n",
    "hessian=[[f.diff(zi).diff(zj) for zi in z] for zj in z]\n",
    "\n",
    "\n",
    "\n",
    "x=[np.array([6,6])] #iteraciones del metodo del gradiente, valor inicial x[0]=(2,1)\n",
    "\n",
    "#t=0.1 #valor del paso fijo\n",
    "maxiter=1000 #numero maximo de iteraciones\n",
    "\n",
    "print(\"Punto inicial: \"+str(x[0]))\n",
    "\n",
    "for k in range(maxiter):\n",
    "    nablaf_xk=np.array([nf.evalf(subs = dict(zip(z,x[k]))) for nf in gradient],dtype=\"float32\") #evaluar x[k] en gradiente\n",
    "    hessianf_xk=np.matrix([[hij.evalf(subs = dict(zip(z,x[k]))) for hij in hi] for hi in hessian],dtype=\"float32\")\n",
    "\n",
    "    x.append(x[k]-np.tensordot(np.linalg.inv(hessianf_xk),nablaf_xk,1))\n",
    "    \n",
    "    if np.linalg.norm(nablaf_xk)<0.0001: # termino del algoritmo\n",
    "        print(\"Optimo: \"+str(x[k+1]))\n",
    "        break\n",
    "    else:\n",
    "        print(\"Iteracion \"+str(k+1)+\", x=\"+str(x[k+1])+\", grad=\"+str(nablaf_xk))\n",
    "\n",
    "    \n",
    "    \n",
    "\n"
   ]
  },
  {
   "cell_type": "code",
   "execution_count": 4,
   "metadata": {},
   "outputs": [
    {
     "data": {
      "application/vnd.jupyter.widget-view+json": {
       "model_id": "82828774c1954585b28cb694b833f2d2",
       "version_major": 2,
       "version_minor": 0
      },
      "text/plain": [
       "Canvas(toolbar=Toolbar(toolitems=[('Home', 'Reset original view', 'home', 'home'), ('Back', 'Back to previous …"
      ]
     },
     "metadata": {},
     "output_type": "display_data"
    },
    {
     "data": {
      "text/plain": [
       "[<mpl_toolkits.mplot3d.art3d.Line3D at 0x7f3d0e0e7518>]"
      ]
     },
     "execution_count": 4,
     "metadata": {},
     "output_type": "execute_result"
    }
   ],
   "source": [
    "import matplotlib.pyplot as plt\n",
    "from mpl_toolkits.mplot3d import Axes3D\n",
    "\n",
    "%matplotlib widget\n",
    "fig = plt.figure(figsize=(20, 10))\n",
    "fig.canvas.layout.width = '9in'\n",
    "fig.canvas.layout.height = '9in'\n",
    "\n",
    "ax = fig.gca(projection='3d')\n",
    "\n",
    "xd=np.linspace(-40,40,101)\n",
    "yd=np.linspace(-40,40,101)\n",
    "X,Y=np.meshgrid(xd,yd)\n",
    "Z=np.array([[f.evalf(subs = dict(zip(z,[x,y]))) for x in xd] for y in yd],dtype=\"float32\")\n",
    "\n",
    "xp=[p[0] for p in x]\n",
    "yp=[p[1] for p in x]\n",
    "zp=[f.evalf(subs = dict(zip(z,[p[0],p[1]]))) for p in x]\n",
    "plt.contour(X,Y,Z)\n",
    "\n",
    "ax.plot_surface(X,Y,Z, alpha = .3 )\n",
    "ax.plot(xp,yp,zp, marker = '*', color = 'r', alpha = .6, label = 'Newton-Raphson')\n",
    "\n"
   ]
  }
 ],
 "metadata": {
  "kernelspec": {
   "display_name": "Python 3",
   "language": "python",
   "name": "python3"
  },
  "language_info": {
   "codemirror_mode": {
    "name": "ipython",
    "version": 3
   },
   "file_extension": ".py",
   "mimetype": "text/x-python",
   "name": "python",
   "nbconvert_exporter": "python",
   "pygments_lexer": "ipython3",
   "version": "3.6.10"
  }
 },
 "nbformat": 4,
 "nbformat_minor": 2
}
