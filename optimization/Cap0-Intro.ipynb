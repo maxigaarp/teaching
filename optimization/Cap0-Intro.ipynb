{
 "cells": [
  {
   "cell_type": "code",
   "execution_count": 4,
   "metadata": {},
   "outputs": [],
   "source": [
    "import pulp\n",
    "import pandas\n",
    "import numpy as np"
   ]
  },
  {
   "cell_type": "code",
   "execution_count": 5,
   "metadata": {},
   "outputs": [],
   "source": [
    "Insumos={\"Damasco\",\"Durazno\",\"Azucar\"}\n",
    "Mermeladas={\"tipo1\",\"tipo2\",\"tipo3\"}\n",
    "         \n",
    "Disponibilidad={\"Damasco\":7,\"Durazno\":6,\"Azucar\":99}\n",
    "Costo={\"Damasco\":1000,\"Durazno\":1200,\"Azucar\":400}\n",
    "Req={\"tipo1\":{\"Damasco\":0.7,\"Durazno\":0,\"Azucar\":0.3},\n",
    "                \"tipo2\":{\"Damasco\":0.1,\"Durazno\":0.5,\"Azucar\":0.4},\n",
    "                \"tipo3\":{\"Damasco\":0.5,\"Durazno\":0.5,\"Azucar\":0}}\n",
    "Precio={\"tipo1\":2000,\"tipo2\":2200,\"tipo3\":3000}\n",
    "Demanda={\"tipo1\":5,\"tipo2\":7,\"tipo3\":10}"
   ]
  },
  {
   "cell_type": "code",
   "execution_count": 6,
   "metadata": {},
   "outputs": [],
   "source": [
    "prob = pulp.LpProblem(\"Ejemplo1\", pulp.LpMaximize)\n",
    "\n",
    "x = pulp.LpVariable.dicts(\"CantidadMermelada\", (m for m in Mermeladas), lowBound=0, cat='Integer')\n",
    "a = pulp.LpVariable.dicts(\"Insumos\", (i for i in Insumos), lowBound=0, cat='Integer')\n"
   ]
  },
  {
   "cell_type": "code",
   "execution_count": 7,
   "metadata": {},
   "outputs": [],
   "source": [
    "prob += pulp.lpSum([x[m]*Precio[m] for m in Mermeladas]) - pulp.lpSum([a[i]*Costo[i] for i in Insumos])\n"
   ]
  },
  {
   "cell_type": "code",
   "execution_count": 8,
   "metadata": {},
   "outputs": [],
   "source": [
    "for i in Insumos:\n",
    "    prob += pulp.lpSum([x[m]*Req[m][i] for m in Mermeladas])== a[i]\n",
    "\n",
    "for i in Insumos:\n",
    "    prob += a[i]<= Disponibilidad[i]\n",
    "\n",
    "for m in Mermeladas:\n",
    "    prob += x[m]<= Demanda[m]\n"
   ]
  },
  {
   "cell_type": "code",
   "execution_count": 9,
   "metadata": {},
   "outputs": [
    {
     "name": "stdout",
     "output_type": "stream",
     "text": [
      "Using license file /home/maxi/anaconda3/gurobi.lic\n",
      "Academic license - for non-commercial use only\n",
      "Gurobi Optimizer version 9.0.1 build v9.0.1rc0 (linux64)\n",
      "Optimize a model with 9 rows, 6 columns and 16 nonzeros\n",
      "Model fingerprint: 0x266adb8c\n",
      "Variable types: 0 continuous, 6 integer (0 binary)\n",
      "Coefficient statistics:\n",
      "  Matrix range     [1e-01, 1e+00]\n",
      "  Objective range  [4e+02, 3e+03]\n",
      "  Bounds range     [0e+00, 0e+00]\n",
      "  RHS range        [5e+00, 1e+02]\n",
      "Found heuristic solution: objective -0.0000000\n",
      "Presolve removed 6 rows and 0 columns\n",
      "Presolve time: 0.01s\n",
      "Presolved: 3 rows, 6 columns, 10 nonzeros\n",
      "Variable types: 0 continuous, 6 integer (0 binary)\n",
      "\n",
      "Root relaxation: objective 2.500000e+04, 4 iterations, 0.00 seconds\n",
      "\n",
      "    Nodes    |    Current Node    |     Objective Bounds      |     Work\n",
      " Expl Unexpl |  Obj  Depth IntInf | Incumbent    BestBd   Gap | It/Node Time\n",
      "\n",
      "     0     0 25000.0000    0    2   -0.00000 25000.0000      -     -    0s\n",
      "H    0     0                    20000.000000 25000.0000  25.0%     -    0s\n",
      "H    0     0                    23600.000000 25000.0000  5.93%     -    0s\n",
      "     0     0 25000.0000    0    2 23600.0000 25000.0000  5.93%     -    0s\n",
      "\n",
      "Explored 1 nodes (4 simplex iterations) in 0.04 seconds\n",
      "Thread count was 4 (of 4 available processors)\n",
      "\n",
      "Solution count 3: 23600 20000 -0 \n",
      "\n",
      "Optimal solution found (tolerance 1.00e-04)\n",
      "Best objective 2.360000000000e+04, best bound 2.360000000000e+04, gap 0.0000%\n",
      "Gurobi status= 2\n"
     ]
    },
    {
     "data": {
      "text/plain": [
       "1"
      ]
     },
     "execution_count": 9,
     "metadata": {},
     "output_type": "execute_result"
    }
   ],
   "source": [
    "# Choose solver, and set it to problem, and build the Gurobi model\n",
    "solver = pulp.GUROBI()\n",
    "prob.setSolver(solver)\n",
    "prob.solver.buildSolverModel(prob)\n",
    "\n",
    "# Solve model\n",
    "prob.solve()\n"
   ]
  },
  {
   "cell_type": "code",
   "execution_count": 11,
   "metadata": {},
   "outputs": [
    {
     "name": "stdout",
     "output_type": "stream",
     "text": [
      "CantidadMermelada_tipo1 4.0\n",
      "CantidadMermelada_tipo2 7.0\n",
      "CantidadMermelada_tipo3 5.0\n",
      "Insumos_Azucar 4.0\n",
      "Insumos_Damasco 6.0\n",
      "Insumos_Durazno 6.0\n"
     ]
    }
   ],
   "source": [
    "for i in prob.variables():\n",
    "    print(i, i.varValue)"
   ]
  },
  {
   "cell_type": "code",
   "execution_count": 12,
   "metadata": {},
   "outputs": [],
   "source": [
    "%matplotlib widget\n",
    "\n",
    "from mpl_toolkits.mplot3d import axes3d\n",
    "import matplotlib.pyplot as plt\n",
    "\n",
    "def plot_implicit(ax, fn, bbox=(-2.5,2.5)):\n",
    "    ''' create a plot of an implicit function\n",
    "    fn  ...implicit function (plot where fn==0)\n",
    "    bbox ..the x,y,and z limits of plotted interval'''\n",
    "    xmin, xmax, ymin, ymax, zmin, zmax = bbox*3\n",
    "\n",
    "\n",
    "    A = np.linspace(xmin, xmax, 100) # resolution of the contour\n",
    "    B = np.linspace(xmin, xmax, 15) # number of slices\n",
    "    A1,A2 = np.meshgrid(A,A) # grid on which the contour is plotted\n",
    "    try:\n",
    "        for z in B: # plot contours in the XY plane\n",
    "            X,Y = A1,A2\n",
    "            Z = fn(X,Y,z)\n",
    "            cset = ax.contour(X, Y, Z+z, [z], zdir='z')\n",
    "            # [z] defines the only level to plot for this contour for this value of z\n",
    "    except TypeError:\n",
    "        pass\n",
    "    \n",
    "    try:\n",
    "        for y in B: # plot contours in the XZ plane\n",
    "            X,Z = A1,A2\n",
    "            Y = fn(X,y,Z)\n",
    "            cset = ax.contour(X, Y+y, Z, [y], zdir='y')\n",
    "    except TypeError:\n",
    "        pass    \n",
    "    try:\n",
    "        for x in B: # plot contours in the YZ plane\n",
    "            Y,Z = A1,A2\n",
    "            X = fn(x,Y,Z)\n",
    "            cset = ax.contour(X+x, Y, Z, [x], zdir='x')\n",
    "    except TypeError:\n",
    "        pass\n",
    "\n",
    "    # must set plot limits because the contour will likely extend\n",
    "    # way beyond the displayed level.  Otherwise matplotlib extends the plot limits\n",
    "    # to encompass all values in the contour.\n",
    "    ax.set_zlim3d(zmin,zmax)\n",
    "    ax.set_xlim3d(xmin,xmax)\n",
    "    ax.set_ylim3d(ymin,ymax)\n",
    "    return ax\n",
    "    "
   ]
  },
  {
   "cell_type": "code",
   "execution_count": 13,
   "metadata": {},
   "outputs": [
    {
     "data": {
      "application/vnd.jupyter.widget-view+json": {
       "model_id": "d395d5920489425d9867b305962589ea",
       "version_major": 2,
       "version_minor": 0
      },
      "text/plain": [
       "Canvas(toolbar=Toolbar(toolitems=[('Home', 'Reset original view', 'home', 'home'), ('Back', 'Back to previous …"
      ]
     },
     "metadata": {},
     "output_type": "display_data"
    }
   ],
   "source": [
    "fig = plt.figure()\n",
    "fig.canvas.layout.width = '7in'\n",
    "ax = fig.add_subplot(111, projection='3d')\n",
    "bbox=(0,0.75)\n",
    "\n",
    "def demand(x,y,z):\n",
    "    c=1\n",
    "    return x+y+z-c\n",
    "\n",
    "def R1(x,y,z):\n",
    "    \n",
    "    return x-0.7\n",
    "\n",
    "\n",
    "def R2(x,y,z):\n",
    "    \n",
    "    return y-0.1\n",
    "\n",
    "\n",
    "def R3(x,y,z):\n",
    "    \n",
    "    return z-0.5\n",
    "\n",
    "ax=plot_implicit(ax,R1,bbox)\n",
    "ax=plot_implicit(ax,R2,bbox)\n",
    "ax=plot_implicit(ax,R3,bbox)\n",
    "ax=plot_implicit(ax,demand,bbox)\n",
    "\n",
    "fig.show()"
   ]
  },
  {
   "cell_type": "code",
   "execution_count": null,
   "metadata": {},
   "outputs": [],
   "source": []
  }
 ],
 "metadata": {
  "kernelspec": {
   "display_name": "Python 3",
   "language": "python",
   "name": "python3"
  },
  "language_info": {
   "codemirror_mode": {
    "name": "ipython",
    "version": 3
   },
   "file_extension": ".py",
   "mimetype": "text/x-python",
   "name": "python",
   "nbconvert_exporter": "python",
   "pygments_lexer": "ipython3",
   "version": "3.6.10"
  }
 },
 "nbformat": 4,
 "nbformat_minor": 2
}
