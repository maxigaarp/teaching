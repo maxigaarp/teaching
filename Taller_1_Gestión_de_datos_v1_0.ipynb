{
  "nbformat": 4,
  "nbformat_minor": 0,
  "metadata": {
    "colab": {
      "name": "Taller 1 - Gestión de datos v1.0",
      "provenance": [],
      "collapsed_sections": [],
      "toc_visible": true,
      "include_colab_link": true
    },
    "kernelspec": {
      "name": "ir",
      "display_name": "R"
    },
    "language_info": {
      "name": "R"
    }
  },
  "cells": [
    {
      "cell_type": "markdown",
      "metadata": {
        "id": "view-in-github",
        "colab_type": "text"
      },
      "source": [
        "<a href=\"https://colab.research.google.com/github/maxigaarp/teaching/blob/master/Taller_1_Gesti%C3%B3n_de_datos_v1_0.ipynb\" target=\"_parent\"><img src=\"https://colab.research.google.com/assets/colab-badge.svg\" alt=\"Open In Colab\"/></a>"
      ]
    },
    {
      "cell_type": "markdown",
      "metadata": {
        "id": "81ftIadHMr2y"
      },
      "source": [
        "#Instrucciones\n",
        "\n",
        "El taller lo dividiremos así:\n",
        "\n",
        "*   Básico de R programming\n",
        "*   Formas y tipos para la carga de datos\n",
        "\n",
        "\n"
      ]
    },
    {
      "cell_type": "markdown",
      "metadata": {
        "id": "lUHryrrLRhUa"
      },
      "source": [
        "# Básico de R programming\n",
        "\n",
        "No todo el codigo tiene que ser correr de una, en el caso de un notebook de R, cada celda es una forma de correr un trozo de codigo de R. Similar a correr codigo en la consola pero guardando lo que se hace cada ejecución. \n",
        "\n",
        "Las operaciones basicas se pueden correr de manera directa con los comandos basicos. Tambien podemos comentar con el simbolo \"#\""
      ]
    },
    {
      "cell_type": "code",
      "metadata": {
        "colab": {
          "base_uri": "https://localhost:8080/",
          "height": 104
        },
        "id": "ZZXsPSNJWljh",
        "outputId": "8392c62f-5452-4799-b067-57646085997a"
      },
      "source": [
        "5 + 3 # => 8\n",
        "5 - 3 # => 2\n",
        "5 / 2 # => 2.5\n",
        "5 * 2 # => 10\n"
      ],
      "execution_count": null,
      "outputs": [
        {
          "output_type": "display_data",
          "data": {
            "text/plain": [
              "[1] 8"
            ],
            "text/latex": "8",
            "text/markdown": "8",
            "text/html": [
              "8"
            ]
          },
          "metadata": {
            "tags": []
          }
        },
        {
          "output_type": "display_data",
          "data": {
            "text/plain": [
              "[1] 2"
            ],
            "text/latex": "2",
            "text/markdown": "2",
            "text/html": [
              "2"
            ]
          },
          "metadata": {
            "tags": []
          }
        },
        {
          "output_type": "display_data",
          "data": {
            "text/plain": [
              "[1] 2.5"
            ],
            "text/latex": "2.5",
            "text/markdown": "2.5",
            "text/html": [
              "2.5"
            ]
          },
          "metadata": {
            "tags": []
          }
        },
        {
          "output_type": "display_data",
          "data": {
            "text/plain": [
              "[1] 10"
            ],
            "text/latex": "10",
            "text/markdown": "10",
            "text/html": [
              "10"
            ]
          },
          "metadata": {
            "tags": []
          }
        },
        {
          "output_type": "display_data",
          "data": {
            "text/plain": [
              "[1] 25"
            ],
            "text/latex": "25",
            "text/markdown": "25",
            "text/html": [
              "25"
            ]
          },
          "metadata": {
            "tags": []
          }
        }
      ]
    },
    {
      "cell_type": "markdown",
      "metadata": {
        "id": "uG8-IlVbb2sP"
      },
      "source": [
        "¿Que casos darian a error?"
      ]
    },
    {
      "cell_type": "markdown",
      "metadata": {
        "id": "h2CRJu5kXhwY"
      },
      "source": [
        "Tambien tenemos otras operaciones basicas \n",
        "\n",
        "*   Logaritmos y exponenciales: **log2**(x), **log10**(x), **exp**(x)\n",
        "*   Funciones trigonometricas: **cos**(x), **sin**(x), **tan**(x), **acos**(x), **asin**(x), **atan**(x)\n",
        "*   Otras funciones matematicas: Factorial (**factorial**(x)), numero combinatorio $\\begin{pmatrix}k\\\\n\\end{pmatrix}$ (**choose**(n,k)), valor absoluto (**abs**(x)), elevar a \"n\" (x\\*\\*n o x^n), raiz cuadrada (**sqrt**(x))\n",
        "\n",
        "\n",
        "\n"
      ]
    },
    {
      "cell_type": "code",
      "metadata": {
        "colab": {
          "base_uri": "https://localhost:8080/",
          "height": 221
        },
        "id": "LO-amXlcXM9V",
        "outputId": "851e48b7-8b94-4254-a443-2777e01996af"
      },
      "source": [
        "log2(32) # => 5\n",
        "log10(1000) # => 3\n",
        "exp(1) # e=2.718...\n",
        "\n",
        "pi # =>3.1415...\n",
        "cos(pi) # => -1\n",
        "acos(-1) # arccos(-1) => pi\n",
        "\n",
        "abs(-1) # valor absoluto => -1\n",
        "5**2 # 5^2 => 25\n",
        "sqrt(25) # raiz(25) => 5\n",
        "25^(1/2) # = raiz(25) =>5, mas efectivo\n",
        "factorial(5) # el factorial, 5!\n",
        "choose(5,3) # número combinatorio (5 sobre 3)"
      ],
      "execution_count": null,
      "outputs": [
        {
          "output_type": "display_data",
          "data": {
            "text/plain": [
              "[1] 5"
            ],
            "text/latex": "5",
            "text/markdown": "5",
            "text/html": [
              "5"
            ]
          },
          "metadata": {
            "tags": []
          }
        },
        {
          "output_type": "display_data",
          "data": {
            "text/plain": [
              "[1] 3"
            ],
            "text/latex": "3",
            "text/markdown": "3",
            "text/html": [
              "3"
            ]
          },
          "metadata": {
            "tags": []
          }
        },
        {
          "output_type": "display_data",
          "data": {
            "text/plain": [
              "[1] 2.718282"
            ],
            "text/latex": "2.71828182845905",
            "text/markdown": "2.71828182845905",
            "text/html": [
              "2.71828182845905"
            ]
          },
          "metadata": {
            "tags": []
          }
        },
        {
          "output_type": "display_data",
          "data": {
            "text/plain": [
              "[1] 3.141593"
            ],
            "text/latex": "3.14159265358979",
            "text/markdown": "3.14159265358979",
            "text/html": [
              "3.14159265358979"
            ]
          },
          "metadata": {
            "tags": []
          }
        },
        {
          "output_type": "display_data",
          "data": {
            "text/plain": [
              "[1] -1"
            ],
            "text/latex": "-1",
            "text/markdown": "-1",
            "text/html": [
              "-1"
            ]
          },
          "metadata": {
            "tags": []
          }
        },
        {
          "output_type": "display_data",
          "data": {
            "text/plain": [
              "[1] 3.141593"
            ],
            "text/latex": "3.14159265358979",
            "text/markdown": "3.14159265358979",
            "text/html": [
              "3.14159265358979"
            ]
          },
          "metadata": {
            "tags": []
          }
        },
        {
          "output_type": "display_data",
          "data": {
            "text/plain": [
              "[1] 1"
            ],
            "text/latex": "1",
            "text/markdown": "1",
            "text/html": [
              "1"
            ]
          },
          "metadata": {
            "tags": []
          }
        },
        {
          "output_type": "display_data",
          "data": {
            "text/plain": [
              "[1] 25"
            ],
            "text/latex": "25",
            "text/markdown": "25",
            "text/html": [
              "25"
            ]
          },
          "metadata": {
            "tags": []
          }
        },
        {
          "output_type": "display_data",
          "data": {
            "text/plain": [
              "[1] 5"
            ],
            "text/latex": "5",
            "text/markdown": "5",
            "text/html": [
              "5"
            ]
          },
          "metadata": {
            "tags": []
          }
        },
        {
          "output_type": "display_data",
          "data": {
            "text/plain": [
              "[1] 5"
            ],
            "text/latex": "5",
            "text/markdown": "5",
            "text/html": [
              "5"
            ]
          },
          "metadata": {
            "tags": []
          }
        },
        {
          "output_type": "display_data",
          "data": {
            "text/plain": [
              "[1] 120"
            ],
            "text/latex": "120",
            "text/markdown": "120",
            "text/html": [
              "120"
            ]
          },
          "metadata": {
            "tags": []
          }
        },
        {
          "output_type": "display_data",
          "data": {
            "text/plain": [
              "[1] 10"
            ],
            "text/latex": "10",
            "text/markdown": "10",
            "text/html": [
              "10"
            ]
          },
          "metadata": {
            "tags": []
          }
        }
      ]
    },
    {
      "cell_type": "markdown",
      "metadata": {
        "id": "bGtnvDqfcBqm"
      },
      "source": [
        "En R asignamos variables con los simbolos \"<-\""
      ]
    },
    {
      "cell_type": "code",
      "metadata": {
        "id": "hAHlpNiHYJ7-"
      },
      "source": [
        "a <- 4"
      ],
      "execution_count": null,
      "outputs": []
    },
    {
      "cell_type": "code",
      "metadata": {
        "colab": {
          "base_uri": "https://localhost:8080/",
          "height": 35
        },
        "id": "ndbtQ-HbcUhT",
        "outputId": "620819a9-1b9c-4830-9711-3fb4b33c957b"
      },
      "source": [
        "a"
      ],
      "execution_count": null,
      "outputs": [
        {
          "output_type": "display_data",
          "data": {
            "text/plain": [
              "[1] 4"
            ],
            "text/latex": "4",
            "text/markdown": "4",
            "text/html": [
              "4"
            ]
          },
          "metadata": {
            "tags": []
          }
        }
      ]
    },
    {
      "cell_type": "markdown",
      "metadata": {
        "id": "WoFfjFpLcbcN"
      },
      "source": [
        "Existen distintos tipos de datos, numericos, caracteres, y logicos"
      ]
    },
    {
      "cell_type": "code",
      "metadata": {
        "id": "0g77hueJcbAv"
      },
      "source": [
        "mi_edad <- 28 # numerico\n",
        "mi_nombre <- \"Maximiliano\" # caracteres\n",
        "#  ¿Eres un cientifico de datos?: (Si/No) <=> (TRUE/FALSE)\n",
        "es_datascientist <- TRUE # logica"
      ],
      "execution_count": null,
      "outputs": []
    },
    {
      "cell_type": "markdown",
      "metadata": {
        "id": "bKHoqI0DgqWP"
      },
      "source": [
        "**Pregunta!**: Puede un dato depender de otro? \n",
        "\n",
        "Construyan un dato de cada tipo que dependa de los ya definidos arriba."
      ]
    },
    {
      "cell_type": "markdown",
      "metadata": {
        "id": "0zE6tZ5amgFQ"
      },
      "source": [
        "##Vectores\n",
        "\n",
        "Combinacion de multiples datos, numericos, caracteres o logicos.\n",
        "\n",
        "*   Es el tipo de variable más básico del lenguaje R.\n",
        "*   Es una lista ordenada de constantes (números, cadenas de texto entrecomilladas, o lógicos TRUE/FALSE).\n",
        "*   Ideal para albergar muestras univariantes (cuantitativas o cualitativas).\n",
        "*   Si se invoca en la línea de comandos, se imprime en pantalla, por filas, con un indicador de la posición de la componente más a la izquierda de cada fila.\n",
        "*   Indices de un vector x parten del numero 1 hasta el numero length(x)\n",
        "\n",
        "\n",
        "\n",
        "\n",
        "\n",
        "\n",
        "\n"
      ]
    },
    {
      "cell_type": "code",
      "metadata": {
        "colab": {
          "base_uri": "https://localhost:8080/",
          "height": 86
        },
        "id": "VmC7PrIDmfZV",
        "outputId": "aa7bcc35-6a92-4390-a498-332fe32f5414"
      },
      "source": [
        "# Create a numeric vector\n",
        "friend_ages <- c(27, 25, 29, 26)\n",
        "mean(friend_ages) # => 26.75\n",
        "max(friend_ages) # => 29\n",
        "friend_ages[1]\n",
        "friend_ages[length(friend_ages)]"
      ],
      "execution_count": null,
      "outputs": [
        {
          "output_type": "display_data",
          "data": {
            "text/plain": [
              "[1] 26.75"
            ],
            "text/latex": "26.75",
            "text/markdown": "26.75",
            "text/html": [
              "26.75"
            ]
          },
          "metadata": {
            "tags": []
          }
        },
        {
          "output_type": "display_data",
          "data": {
            "text/plain": [
              "[1] 29"
            ],
            "text/latex": "29",
            "text/markdown": "29",
            "text/html": [
              "29"
            ]
          },
          "metadata": {
            "tags": []
          }
        },
        {
          "output_type": "display_data",
          "data": {
            "text/plain": [
              "[1] 27"
            ],
            "text/latex": "27",
            "text/markdown": "27",
            "text/html": [
              "27"
            ]
          },
          "metadata": {
            "tags": []
          }
        },
        {
          "output_type": "display_data",
          "data": {
            "text/plain": [
              "[1] 26"
            ],
            "text/latex": "26",
            "text/markdown": "26",
            "text/html": [
              "26"
            ]
          },
          "metadata": {
            "tags": []
          }
        }
      ]
    },
    {
      "cell_type": "code",
      "metadata": {
        "id": "FQdkBHC23Dxo"
      },
      "source": [
        "1:4"
      ],
      "execution_count": null,
      "outputs": []
    },
    {
      "cell_type": "code",
      "metadata": {
        "colab": {
          "base_uri": "https://localhost:8080/",
          "height": 35
        },
        "id": "TavR-1IL3FK0",
        "outputId": "7681461b-d8f1-4605-8073-1556adc88609"
      },
      "source": [
        "2017:2020"
      ],
      "execution_count": null,
      "outputs": [
        {
          "output_type": "display_data",
          "data": {
            "text/plain": [
              "[1] 2017 2018 2019 2020 2021"
            ],
            "text/latex": "\\begin{enumerate*}\n\\item 2017\n\\item 2018\n\\item 2019\n\\item 2020\n\\item 2021\n\\end{enumerate*}\n",
            "text/markdown": "1. 2017\n2. 2018\n3. 2019\n4. 2020\n5. 2021\n\n\n",
            "text/html": [
              "<style>\n",
              ".list-inline {list-style: none; margin:0; padding: 0}\n",
              ".list-inline>li {display: inline-block}\n",
              ".list-inline>li:not(:last-child)::after {content: \"\\00b7\"; padding: 0 .5ex}\n",
              "</style>\n",
              "<ol class=list-inline><li>2017</li><li>2018</li><li>2019</li><li>2020</li><li>2021</li></ol>\n"
            ]
          },
          "metadata": {
            "tags": []
          }
        }
      ]
    },
    {
      "cell_type": "markdown",
      "metadata": {
        "id": "sV3pHdp4pd_k"
      },
      "source": [
        "### Comandos básicos\n",
        "\n",
        "*   Crear un vector: c() para concatenar\n",
        "*   Valores faltantes o nulos: NA (not available) y NaN (not a number).\n",
        "*   Obtener valor en vector: mi_vector[i] para extraer el i-esimo elemento\n",
        "*   Se pueden hacer distintos calculos con vectores: **max**(x), **min**(x), **range**(x):rango de datos (min-max), **length**(x): largo del vector, **sum**(x), **mean**(x), **prod**(x): productoria, **sd**(x): desviacion estandar, **var**(x): varianza, **sort**(x): ordenar.\n",
        "\n",
        "\n",
        "\n",
        "\n",
        "\n",
        "\n"
      ]
    },
    {
      "cell_type": "code",
      "metadata": {
        "id": "hc4U_TTJpbdN"
      },
      "source": [
        ""
      ],
      "execution_count": null,
      "outputs": []
    },
    {
      "cell_type": "markdown",
      "metadata": {
        "id": "znIWDoL4si2D"
      },
      "source": [
        "Prueben las demas funciones sobre los vectores."
      ]
    },
    {
      "cell_type": "markdown",
      "metadata": {
        "id": "-LSbhzIXs1xq"
      },
      "source": [
        "## Matrices: \n",
        "\n",
        "Contiene filas y columnas como excel. Combinacion de vectores con el mismo tipo de datos\n",
        "\n",
        "\n",
        "*   matrix(data, nrow, ncol, byrow): define una matriz\n",
        "  *   data: vector de entradas de la matriz\n",
        "  *   nrow, ncol: número de filas, columnas\n",
        "  *   byrow: ¿se rellena por filas? Por defecto no (FALSE).\n",
        "\n",
        "\n",
        "\n",
        "*   Las operaciones aritméticas, matemáticas, de comparación, las aplica entrada por entrada (como si fuesen vectores) R trata las matrices como vectores para las operaciones aritméticas, funciones matemáticas, operadores de comparación, etc. Actuán componente a componente\n",
        "*   El producto matricial se escribe %*%\n",
        "\n",
        "\n",
        "\n",
        "\n"
      ]
    },
    {
      "cell_type": "code",
      "metadata": {
        "colab": {
          "base_uri": "https://localhost:8080/",
          "height": 172
        },
        "id": "eKzE5mh72nxe",
        "outputId": "44e9bd0e-e620-4df9-dde6-b4a427fa5fd0"
      },
      "source": [
        "data<-sample(1:30,20,replace=F) # vector aleatorio de largo 10 con los elementos del 1 al 30 sin reemplazo\n",
        "nrow<-4\n",
        "ncol<-5\n",
        "byrow<-T\n",
        "matrix(data, nrow, ncol, byrow)"
      ],
      "execution_count": null,
      "outputs": [
        {
          "output_type": "display_data",
          "data": {
            "text/plain": [
              "     [,1] [,2] [,3] [,4] [,5]\n",
              "[1,] 29   10   17   24    1  \n",
              "[2,] 22   18   27   26   16  \n",
              "[3,] 12   28    2    9    5  \n",
              "[4,] 20   30    8   23   15  "
            ],
            "text/latex": "A matrix: 4 × 5 of type int\n\\begin{tabular}{lllll}\n\t 29 & 10 & 17 & 24 &  1\\\\\n\t 22 & 18 & 27 & 26 & 16\\\\\n\t 12 & 28 &  2 &  9 &  5\\\\\n\t 20 & 30 &  8 & 23 & 15\\\\\n\\end{tabular}\n",
            "text/markdown": "\nA matrix: 4 × 5 of type int\n\n| 29 | 10 | 17 | 24 |  1 |\n| 22 | 18 | 27 | 26 | 16 |\n| 12 | 28 |  2 |  9 |  5 |\n| 20 | 30 |  8 | 23 | 15 |\n\n",
            "text/html": [
              "<table class=\"dataframe\">\n",
              "<caption>A matrix: 4 × 5 of type int</caption>\n",
              "<tbody>\n",
              "\t<tr><td>29</td><td>10</td><td>17</td><td>24</td><td> 1</td></tr>\n",
              "\t<tr><td>22</td><td>18</td><td>27</td><td>26</td><td>16</td></tr>\n",
              "\t<tr><td>12</td><td>28</td><td> 2</td><td> 9</td><td> 5</td></tr>\n",
              "\t<tr><td>20</td><td>30</td><td> 8</td><td>23</td><td>15</td></tr>\n",
              "</tbody>\n",
              "</table>\n"
            ]
          },
          "metadata": {
            "tags": []
          }
        }
      ]
    },
    {
      "cell_type": "markdown",
      "metadata": {
        "id": "ooq5B0Lmz9gw"
      },
      "source": [
        "### Comandos básicos:\n",
        "\n",
        "*   Crear y nombrar una matriz: **matrix**(), **cbind**(), **rbind**(), **rownames**(), **colnames**()\n",
        "*   Chequear y convertir en matriz: **is.matrix**(), **as.matrix**()\n",
        "*   Transponer una matriz: **t**()\n",
        "*   Dimensiones de una matriz: **ncol**(), **nrow**(), **dim**()\n",
        "*   Muestra o subgrupo de una matriz: mis_datos[fila, columna]\n",
        "*   Calculos con matrices numericas: **rowSums**(), **colSums**(), **rowMeans**(), **colMeans**(), **apply**()"
      ]
    },
    {
      "cell_type": "code",
      "metadata": {
        "id": "abPDmSDGz8oj"
      },
      "source": [
        ""
      ],
      "execution_count": null,
      "outputs": []
    },
    {
      "cell_type": "markdown",
      "metadata": {
        "id": "7T0VsPwZ6Khp"
      },
      "source": [
        "Tarea: Averiguar sobre Factor"
      ]
    },
    {
      "cell_type": "markdown",
      "metadata": {
        "id": "l4RNcSr26bsK"
      },
      "source": [
        "## Data frames: \n",
        "\n",
        "Es la estructura ideada para las muestras multivariantes: vectores de datos en columnas. Es decir, como una matriz pero las columnas pueden tener tipos de datos distintos\n",
        "\n",
        "* Cada columna representa una “variable estadística”, y tiene los datos de todos los individuos en dicha “variable estadística”\n",
        "* Cada fila representa un “individuo” u “observación”, y tiene los datos de dicho “individuo” en todas las “variables estadísticas”\n"
      ]
    },
    {
      "cell_type": "code",
      "metadata": {
        "colab": {
          "base_uri": "https://localhost:8080/",
          "height": 245
        },
        "id": "LWxewIst6bFb",
        "outputId": "4c0e0819-d838-413d-b29c-82edea5a70da"
      },
      "source": [
        "# Crear dataframe\n",
        "emp.data <- data.frame(\n",
        "   emp_id = c (1:5), \n",
        "   emp_name = c(\"Patricio\",\"Eduardo\",\"Ricardo\",\"Michelle\",\"Sebastian\"),\n",
        "   salary = c(623.3,515.2,611.0,729.0,843.25), \n",
        "   \n",
        "   start_date = as.Date(c(\"1990-03-11\", \"1994-03-11\", \"2000-03-11\", \"2006-03-11\",\n",
        "      \"2010-03-11\")),\n",
        "   stringsAsFactors = FALSE\n",
        ")\n",
        "\n",
        "emp.data\n"
      ],
      "execution_count": null,
      "outputs": [
        {
          "output_type": "display_data",
          "data": {
            "text/plain": [
              "  emp_id emp_name  salary start_date\n",
              "1 1      Patricio  623.30 1990-03-11\n",
              "2 2      Eduardo   515.20 1994-03-11\n",
              "3 3      Ricardo   611.00 2000-03-11\n",
              "4 4      Michelle  729.00 2006-03-11\n",
              "5 5      Sebastian 843.25 2010-03-11"
            ],
            "text/latex": "A data.frame: 5 × 4\n\\begin{tabular}{llll}\n emp\\_id & emp\\_name & salary & start\\_date\\\\\n <int> & <chr> & <dbl> & <date>\\\\\n\\hline\n\t 1 & Patricio  & 623.30 & 1990-03-11\\\\\n\t 2 & Eduardo   & 515.20 & 1994-03-11\\\\\n\t 3 & Ricardo   & 611.00 & 2000-03-11\\\\\n\t 4 & Michelle  & 729.00 & 2006-03-11\\\\\n\t 5 & Sebastian & 843.25 & 2010-03-11\\\\\n\\end{tabular}\n",
            "text/markdown": "\nA data.frame: 5 × 4\n\n| emp_id &lt;int&gt; | emp_name &lt;chr&gt; | salary &lt;dbl&gt; | start_date &lt;date&gt; |\n|---|---|---|---|\n| 1 | Patricio  | 623.30 | 1990-03-11 |\n| 2 | Eduardo   | 515.20 | 1994-03-11 |\n| 3 | Ricardo   | 611.00 | 2000-03-11 |\n| 4 | Michelle  | 729.00 | 2006-03-11 |\n| 5 | Sebastian | 843.25 | 2010-03-11 |\n\n",
            "text/html": [
              "<table class=\"dataframe\">\n",
              "<caption>A data.frame: 5 × 4</caption>\n",
              "<thead>\n",
              "\t<tr><th scope=col>emp_id</th><th scope=col>emp_name</th><th scope=col>salary</th><th scope=col>start_date</th></tr>\n",
              "\t<tr><th scope=col>&lt;int&gt;</th><th scope=col>&lt;chr&gt;</th><th scope=col>&lt;dbl&gt;</th><th scope=col>&lt;date&gt;</th></tr>\n",
              "</thead>\n",
              "<tbody>\n",
              "\t<tr><td>1</td><td>Patricio </td><td>623.30</td><td>1990-03-11</td></tr>\n",
              "\t<tr><td>2</td><td>Eduardo  </td><td>515.20</td><td>1994-03-11</td></tr>\n",
              "\t<tr><td>3</td><td>Ricardo  </td><td>611.00</td><td>2000-03-11</td></tr>\n",
              "\t<tr><td>4</td><td>Michelle </td><td>729.00</td><td>2006-03-11</td></tr>\n",
              "\t<tr><td>5</td><td>Sebastian</td><td>843.25</td><td>2010-03-11</td></tr>\n",
              "</tbody>\n",
              "</table>\n"
            ]
          },
          "metadata": {
            "tags": []
          }
        }
      ]
    },
    {
      "cell_type": "markdown",
      "metadata": {
        "id": "GPYCZF4JBwM2"
      },
      "source": [
        "Por lo general no vamos a crear una base de datos desde 0, preo no esta de mas saber como se componen."
      ]
    },
    {
      "cell_type": "markdown",
      "metadata": {
        "id": "vRDj_SSY-XFL"
      },
      "source": [
        "### Comandos básicos\n",
        "\n",
        "*   Crear y nombrar un data frame: **data.frame**()\n",
        "*   Chequear y convertir en data frame: **is.data.frame**(), **as.data.frame**()\n",
        "*   Transponer un data frame: **t**()\n",
        "*   Dimensiones de dataframe: **ncol**(), **nrow**(), **dim**()\n",
        "*   Muestra o subgrupo de dataframe: mis_datos[fila, columna], **subset**(), **attach**() y **detach**()\n",
        "*   Extend a data frame: $, **cbind**(), **rbind**()\n",
        "*   Calculos con dataframes numericos: **rowSums**(), **colSums**(), **rowMeans**(), **colMeans**(), **apply**()\n"
      ]
    },
    {
      "cell_type": "code",
      "metadata": {
        "colab": {
          "base_uri": "https://localhost:8080/",
          "height": 305
        },
        "id": "adK3J2rJ-Wah",
        "outputId": "1ad48b31-dfd9-42d6-c5ee-c8e33a241565"
      },
      "source": [
        "\n",
        "# Agregar la caracteristica del departamento\n",
        "emp.data$dept <- c(\"IT\",\"Operaciones\",\"IT\",\"RH\",\"Finanzas\")\n",
        "v <- emp.data\n",
        "\n",
        "\n",
        "# Crear segunda dataframe\n",
        "emp.newdata <- \tdata.frame(\n",
        "   emp_id = c (6:7), \n",
        "   emp_name = c(\"Michelle\",\"Sebastian\"),\n",
        "   salary = c(722.5,NaN), \n",
        "   start_date = as.Date(c(\"2014-03-11\",\"2018-03-11\")),\n",
        "   dept = c(\"Operaciones\",\"Finanzas\"),\n",
        "   stringsAsFactors = FALSE\n",
        ")\n",
        "\n",
        "# Unir dos dataframes\n",
        "emp.finaldata <- rbind(emp.data,emp.newdata)\n",
        "emp.finaldata"
      ],
      "execution_count": null,
      "outputs": [
        {
          "output_type": "display_data",
          "data": {
            "text/plain": [
              "  emp_id emp_name  salary start_date dept       \n",
              "1 1      Patricio  623.30 1990-03-11 IT         \n",
              "2 2      Eduardo   515.20 1994-03-11 Operaciones\n",
              "3 3      Ricardo   611.00 2000-03-11 IT         \n",
              "4 4      Michelle  729.00 2006-03-11 RH         \n",
              "5 5      Sebastian 843.25 2010-03-11 Finanzas   \n",
              "6 6      Michelle  722.50 2014-03-11 Operaciones\n",
              "7 7      Sebastian    NaN 2018-03-11 Finanzas   "
            ],
            "text/latex": "A data.frame: 7 × 5\n\\begin{tabular}{lllll}\n emp\\_id & emp\\_name & salary & start\\_date & dept\\\\\n <int> & <chr> & <dbl> & <date> & <chr>\\\\\n\\hline\n\t 1 & Patricio  & 623.30 & 1990-03-11 & IT         \\\\\n\t 2 & Eduardo   & 515.20 & 1994-03-11 & Operaciones\\\\\n\t 3 & Ricardo   & 611.00 & 2000-03-11 & IT         \\\\\n\t 4 & Michelle  & 729.00 & 2006-03-11 & RH         \\\\\n\t 5 & Sebastian & 843.25 & 2010-03-11 & Finanzas   \\\\\n\t 6 & Michelle  & 722.50 & 2014-03-11 & Operaciones\\\\\n\t 7 & Sebastian &    NaN & 2018-03-11 & Finanzas   \\\\\n\\end{tabular}\n",
            "text/markdown": "\nA data.frame: 7 × 5\n\n| emp_id &lt;int&gt; | emp_name &lt;chr&gt; | salary &lt;dbl&gt; | start_date &lt;date&gt; | dept &lt;chr&gt; |\n|---|---|---|---|---|\n| 1 | Patricio  | 623.30 | 1990-03-11 | IT          |\n| 2 | Eduardo   | 515.20 | 1994-03-11 | Operaciones |\n| 3 | Ricardo   | 611.00 | 2000-03-11 | IT          |\n| 4 | Michelle  | 729.00 | 2006-03-11 | RH          |\n| 5 | Sebastian | 843.25 | 2010-03-11 | Finanzas    |\n| 6 | Michelle  | 722.50 | 2014-03-11 | Operaciones |\n| 7 | Sebastian |    NaN | 2018-03-11 | Finanzas    |\n\n",
            "text/html": [
              "<table class=\"dataframe\">\n",
              "<caption>A data.frame: 7 × 5</caption>\n",
              "<thead>\n",
              "\t<tr><th scope=col>emp_id</th><th scope=col>emp_name</th><th scope=col>salary</th><th scope=col>start_date</th><th scope=col>dept</th></tr>\n",
              "\t<tr><th scope=col>&lt;int&gt;</th><th scope=col>&lt;chr&gt;</th><th scope=col>&lt;dbl&gt;</th><th scope=col>&lt;date&gt;</th><th scope=col>&lt;chr&gt;</th></tr>\n",
              "</thead>\n",
              "<tbody>\n",
              "\t<tr><td>1</td><td>Patricio </td><td>623.30</td><td>1990-03-11</td><td>IT         </td></tr>\n",
              "\t<tr><td>2</td><td>Eduardo  </td><td>515.20</td><td>1994-03-11</td><td>Operaciones</td></tr>\n",
              "\t<tr><td>3</td><td>Ricardo  </td><td>611.00</td><td>2000-03-11</td><td>IT         </td></tr>\n",
              "\t<tr><td>4</td><td>Michelle </td><td>729.00</td><td>2006-03-11</td><td>RH         </td></tr>\n",
              "\t<tr><td>5</td><td>Sebastian</td><td>843.25</td><td>2010-03-11</td><td>Finanzas   </td></tr>\n",
              "\t<tr><td>6</td><td>Michelle </td><td>722.50</td><td>2014-03-11</td><td>Operaciones</td></tr>\n",
              "\t<tr><td>7</td><td>Sebastian</td><td>   NaN</td><td>2018-03-11</td><td>Finanzas   </td></tr>\n",
              "</tbody>\n",
              "</table>\n"
            ]
          },
          "metadata": {
            "tags": []
          }
        }
      ]
    },
    {
      "cell_type": "markdown",
      "metadata": {
        "id": "Va-DOuBvGajQ"
      },
      "source": [
        "### Otros comandos\n",
        "\n",
        "*   **str**(df): estructura de la tabla\n",
        "*   **names**(df): nombre de las columnas de la tabla\n",
        "*   **rows.name**(df): nombre de las filas, si es que tienen\n",
        "*   **summary**(df): datos basicos de la tabla \n",
        "*   df[ df$dat=='x', ]: filtrar filas segun columna \"dat\" que sea igual a x\n",
        "\n",
        "\n"
      ]
    },
    {
      "cell_type": "code",
      "metadata": {
        "colab": {
          "base_uri": "https://localhost:8080/",
          "height": 272
        },
        "id": "QfbgMyLtHX2V",
        "outputId": "ec4634cd-bb9d-4a28-8c5f-4761ec97ed72"
      },
      "source": [
        "summary(emp.finaldata)"
      ],
      "execution_count": null,
      "outputs": [
        {
          "output_type": "display_data",
          "data": {
            "text/plain": [
              "     emp_id      emp_name             salary        start_date        \n",
              " Min.   :1.0   Length:7           Min.   :515.2   Min.   :1990-03-11  \n",
              " 1st Qu.:2.5   Class :character   1st Qu.:617.1   1st Qu.:1997-03-11  \n",
              " Median :4.0   Mode  :character   Median :722.5   Median :2006-03-11  \n",
              " Mean   :4.0                      Mean   :711.0   Mean   :2004-10-05  \n",
              " 3rd Qu.:5.5                      3rd Qu.:786.1   3rd Qu.:2012-03-10  \n",
              " Max.   :7.0                      Max.   :932.8   Max.   :2018-03-11  \n",
              "     dept          \n",
              " Length:7          \n",
              " Class :character  \n",
              " Mode  :character  \n",
              "                   \n",
              "                   \n",
              "                   "
            ]
          },
          "metadata": {
            "tags": []
          }
        }
      ]
    },
    {
      "cell_type": "code",
      "metadata": {
        "colab": {
          "base_uri": "https://localhost:8080/",
          "height": 155
        },
        "id": "JyIG4aCIILc7",
        "outputId": "696f5954-fd02-44ac-c8f1-450a6e34d64b"
      },
      "source": [
        "emp.finaldata[emp.finaldata$emp_name==\"Michelle\",]"
      ],
      "execution_count": null,
      "outputs": [
        {
          "output_type": "display_data",
          "data": {
            "text/plain": [
              "  emp_id emp_name salary start_date dept       \n",
              "4 4      Michelle 729.0  2006-03-11 RH         \n",
              "6 6      Michelle 722.5  2014-03-11 Operaciones"
            ],
            "text/latex": "A data.frame: 2 × 5\n\\begin{tabular}{r|lllll}\n  & emp\\_id & emp\\_name & salary & start\\_date & dept\\\\\n  & <int> & <chr> & <dbl> & <date> & <chr>\\\\\n\\hline\n\t4 & 4 & Michelle & 729.0 & 2006-03-11 & RH         \\\\\n\t6 & 6 & Michelle & 722.5 & 2014-03-11 & Operaciones\\\\\n\\end{tabular}\n",
            "text/markdown": "\nA data.frame: 2 × 5\n\n| <!--/--> | emp_id &lt;int&gt; | emp_name &lt;chr&gt; | salary &lt;dbl&gt; | start_date &lt;date&gt; | dept &lt;chr&gt; |\n|---|---|---|---|---|---|\n| 4 | 4 | Michelle | 729.0 | 2006-03-11 | RH          |\n| 6 | 6 | Michelle | 722.5 | 2014-03-11 | Operaciones |\n\n",
            "text/html": [
              "<table class=\"dataframe\">\n",
              "<caption>A data.frame: 2 × 5</caption>\n",
              "<thead>\n",
              "\t<tr><th></th><th scope=col>emp_id</th><th scope=col>emp_name</th><th scope=col>salary</th><th scope=col>start_date</th><th scope=col>dept</th></tr>\n",
              "\t<tr><th></th><th scope=col>&lt;int&gt;</th><th scope=col>&lt;chr&gt;</th><th scope=col>&lt;dbl&gt;</th><th scope=col>&lt;date&gt;</th><th scope=col>&lt;chr&gt;</th></tr>\n",
              "</thead>\n",
              "<tbody>\n",
              "\t<tr><th scope=row>4</th><td>4</td><td>Michelle</td><td>729.0</td><td>2006-03-11</td><td>RH         </td></tr>\n",
              "\t<tr><th scope=row>6</th><td>6</td><td>Michelle</td><td>722.5</td><td>2014-03-11</td><td>Operaciones</td></tr>\n",
              "</tbody>\n",
              "</table>\n"
            ]
          },
          "metadata": {
            "tags": []
          }
        }
      ]
    },
    {
      "cell_type": "markdown",
      "metadata": {
        "id": "6zYtKuJlCszN"
      },
      "source": [
        "## Listas\n",
        "\n",
        "Coleccion de objetos que pueden ser vectores matrices o dataframes\n",
        "* Crear una lista: **list**()\n",
        "* Extender o unir listas: **merge.list**()\n"
      ]
    },
    {
      "cell_type": "code",
      "metadata": {
        "colab": {
          "base_uri": "https://localhost:8080/",
          "height": 148
        },
        "id": "yMKY2NF4CsUC",
        "outputId": "bbcf7e9d-4f3c-4712-fb3e-bbec299b4537"
      },
      "source": [
        "x<-list(\"a\" = 2.5, \"b\" = TRUE, \"c\" = 1:3)\n",
        "x"
      ],
      "execution_count": null,
      "outputs": [
        {
          "output_type": "display_data",
          "data": {
            "text/plain": [
              "$a\n",
              "[1] 2.5\n",
              "\n",
              "$b\n",
              "[1] TRUE\n",
              "\n",
              "$c\n",
              "[1] 1 2 3\n"
            ],
            "text/latex": "\\begin{description}\n\\item[\\$a] 2.5\n\\item[\\$b] TRUE\n\\item[\\$c] \\begin{enumerate*}\n\\item 1\n\\item 2\n\\item 3\n\\end{enumerate*}\n\n\\end{description}\n",
            "text/markdown": "$a\n:   2.5\n$b\n:   TRUE\n$c\n:   1. 1\n2. 2\n3. 3\n\n\n\n\n\n",
            "text/html": [
              "<dl>\n",
              "\t<dt>$a</dt>\n",
              "\t\t<dd>2.5</dd>\n",
              "\t<dt>$b</dt>\n",
              "\t\t<dd>TRUE</dd>\n",
              "\t<dt>$c</dt>\n",
              "\t\t<dd><style>\n",
              ".list-inline {list-style: none; margin:0; padding: 0}\n",
              ".list-inline>li {display: inline-block}\n",
              ".list-inline>li:not(:last-child)::after {content: \"\\00b7\"; padding: 0 .5ex}\n",
              "</style>\n",
              "<ol class=list-inline><li>1</li><li>2</li><li>3</li></ol>\n",
              "</dd>\n",
              "</dl>\n"
            ]
          },
          "metadata": {
            "tags": []
          }
        }
      ]
    },
    {
      "cell_type": "markdown",
      "metadata": {
        "id": "aFEFW0umEXaN"
      },
      "source": [
        "En este caso a, b y c se llaman etiquetas, si no se especifican los indices quedan asignados por defecto"
      ]
    },
    {
      "cell_type": "code",
      "metadata": {
        "colab": {
          "base_uri": "https://localhost:8080/",
          "height": 96
        },
        "id": "4Wgm2w1BB_Gf",
        "outputId": "290e3664-b776-4a86-c4ed-0b1a02e62660"
      },
      "source": [
        "list(2.5,TRUE,1:3)"
      ],
      "execution_count": null,
      "outputs": [
        {
          "output_type": "display_data",
          "data": {
            "text/plain": [
              "[[1]]\n",
              "[1] 2.5\n",
              "\n",
              "[[2]]\n",
              "[1] TRUE\n",
              "\n",
              "[[3]]\n",
              "[1] 1 2 3\n"
            ],
            "text/latex": "\\begin{enumerate}\n\\item 2.5\n\\item TRUE\n\\item \\begin{enumerate*}\n\\item 1\n\\item 2\n\\item 3\n\\end{enumerate*}\n\n\\end{enumerate}\n",
            "text/markdown": "1. 2.5\n2. TRUE\n3. 1. 1\n2. 2\n3. 3\n\n\n\n\n\n",
            "text/html": [
              "<ol>\n",
              "\t<li>2.5</li>\n",
              "\t<li>TRUE</li>\n",
              "\t<li><style>\n",
              ".list-inline {list-style: none; margin:0; padding: 0}\n",
              ".list-inline>li {display: inline-block}\n",
              ".list-inline>li:not(:last-child)::after {content: \"\\00b7\"; padding: 0 .5ex}\n",
              "</style>\n",
              "<ol class=list-inline><li>1</li><li>2</li><li>3</li></ol>\n",
              "</li>\n",
              "</ol>\n"
            ]
          },
          "metadata": {
            "tags": []
          }
        }
      ]
    },
    {
      "cell_type": "markdown",
      "metadata": {
        "id": "T5b4LtTGFS-3"
      },
      "source": [
        "* Para modificar y agregar usamos el doble corchete. \n",
        "* Notese que es lo mismo especificar la etiqueta que el indice de la etiqueta. \n",
        "* Borramos registro asignando a null"
      ]
    },
    {
      "cell_type": "code",
      "metadata": {
        "colab": {
          "base_uri": "https://localhost:8080/",
          "height": 114
        },
        "id": "xeJ1RunfFSgV",
        "outputId": "eef367cf-5650-47e4-bfe8-9566106c755e"
      },
      "source": [
        "x[[\"a\"]]<-3\n",
        "x[[2]]<-F\n",
        "x[[3]]<-NULL\n",
        "x"
      ],
      "execution_count": null,
      "outputs": [
        {
          "output_type": "display_data",
          "data": {
            "text/plain": [
              "$a\n",
              "[1] 3\n",
              "\n",
              "$b\n",
              "[1] FALSE\n"
            ],
            "text/latex": "\\begin{description}\n\\item[\\$a] 3\n\\item[\\$b] FALSE\n\\end{description}\n",
            "text/markdown": "$a\n:   3\n$b\n:   FALSE\n\n\n",
            "text/html": [
              "<dl>\n",
              "\t<dt>$a</dt>\n",
              "\t\t<dd>3</dd>\n",
              "\t<dt>$b</dt>\n",
              "\t\t<dd>FALSE</dd>\n",
              "</dl>\n"
            ]
          },
          "metadata": {
            "tags": []
          }
        }
      ]
    },
    {
      "cell_type": "markdown",
      "metadata": {
        "id": "kjrLE56RI-lK"
      },
      "source": [
        "#"
      ]
    },
    {
      "cell_type": "markdown",
      "metadata": {
        "id": "pTe5UwF-JWSN"
      },
      "source": [
        "## Estructuras condicionales (if-else, for, while)\n",
        "\n",
        "Ya lo saben?"
      ]
    },
    {
      "cell_type": "markdown",
      "metadata": {
        "id": "JPQ7K5UNeqf9"
      },
      "source": [
        "### If-Else\n",
        "La sintaxis de if y else:\n",
        "\n",
        "```\n",
        "if (test_expression) {\n",
        "statement\n",
        "}\n",
        "```\n",
        "\n"
      ]
    },
    {
      "cell_type": "markdown",
      "metadata": {
        "id": "6U41wz9Eeusr"
      },
      "source": [
        "![image.png](data:image/png;base64,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)"
      ]
    },
    {
      "cell_type": "code",
      "metadata": {
        "id": "ldvjd9E3fXaF"
      },
      "source": [
        "x <- -5\n",
        "if(x > 0){\n",
        "  print(\"Non-negative number\")\n",
        "} else {\n",
        "  print(\"Negative number\")\n",
        "}"
      ],
      "execution_count": null,
      "outputs": []
    },
    {
      "cell_type": "markdown",
      "metadata": {
        "id": "1nX-hZGfL0ZR"
      },
      "source": [
        "### For\n",
        "Esquema basico del for:"
      ]
    },
    {
      "cell_type": "markdown",
      "metadata": {
        "id": "NaxwDLGsKyFZ"
      },
      "source": [
        "![r-for-loop.jpg](data:image/jpeg;base64,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)\n"
      ]
    },
    {
      "cell_type": "code",
      "metadata": {
        "id": "qYpDR2pxFJ5-",
        "colab": {
          "base_uri": "https://localhost:8080/"
        },
        "outputId": "302cfba4-09fb-40e3-89d1-06ff505b9c03"
      },
      "source": [
        "for (i in 1:10){\n",
        "  if (i%%2==0){\n",
        "    s=sprintf(\"hola numero: %d\",i)\n",
        "    print(s)\n",
        "  }\n",
        "}"
      ],
      "execution_count": null,
      "outputs": [
        {
          "output_type": "stream",
          "text": [
            "[1] \"hola numero: 2\"\n",
            "[1] \"hola numero: 4\"\n",
            "[1] \"hola numero: 6\"\n",
            "[1] \"hola numero: 8\"\n",
            "[1] \"hola numero: 10\"\n"
          ],
          "name": "stdout"
        }
      ]
    },
    {
      "cell_type": "markdown",
      "metadata": {
        "id": "bJrZlGMKMe-n"
      },
      "source": [
        "### While\n",
        "Esquema basico del while"
      ]
    },
    {
      "cell_type": "markdown",
      "metadata": {
        "id": "DdXLrzw2MbbY"
      },
      "source": [
        "![image.png](data:image/png;base64,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)"
      ]
    },
    {
      "cell_type": "code",
      "metadata": {
        "id": "DKOJNAq6I9vo"
      },
      "source": [
        "i <- 1\n",
        "while (i < 6) {\n",
        "  print(i)\n",
        "  i = i+1\n",
        "}"
      ],
      "execution_count": null,
      "outputs": []
    },
    {
      "cell_type": "markdown",
      "metadata": {
        "id": "Iw73l2OnM_n9"
      },
      "source": [
        "### Break\n",
        "\n",
        "Sintaxis basica del break \n",
        "\n",
        "```\n",
        "for/while (...){\n",
        "  if (test_expression) {\n",
        "    break\n",
        "  }\n",
        "}\n",
        "```\n",
        "\n"
      ]
    },
    {
      "cell_type": "markdown",
      "metadata": {
        "id": "vGBoKUo5OPWD"
      },
      "source": [
        "![image.png](data:image/png;base64,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)"
      ]
    },
    {
      "cell_type": "code",
      "metadata": {
        "id": "Mi5GX9gcOOq1"
      },
      "source": [
        "x <- 1:5\n",
        "for (val in x) {\n",
        "  if (val == 3){\n",
        "    break\n",
        "  }\n",
        "  print(val)\n",
        "}"
      ],
      "execution_count": null,
      "outputs": []
    },
    {
      "cell_type": "markdown",
      "metadata": {
        "id": "MaKMm8dJNJNP"
      },
      "source": [
        "### Next\n",
        "\n",
        "\n",
        "Sintaxis basica del next \n",
        "\n",
        "```\n",
        "for/while (...){\n",
        "  if (test_expression) {\n",
        "    next\n",
        "  }\n",
        "}\n",
        "```\n"
      ]
    },
    {
      "cell_type": "markdown",
      "metadata": {
        "id": "uvIkqmjjOd8M"
      },
      "source": [
        "![image.png](data:image/png;base64,iVBORw0KGgoAAAANSUhEUgAAAZAAAAHUCAIAAACbFOnhAAAgAElEQVR4Aey9iXsUVfY+/v1rfjOkq+69VR1USDq9d2eBGRcWHUXJCiqygzOyqp9RAXUYliSA7NuMo2wuIwJhEUjSnQRCFsK+ZGfJ3mst9/ecezsNIwSJIiSh8vAkTXV11a1zq94+59z3vOf/UePHsIBhAcMCg8QC/2+QjNMYpmEBwwKGBagBWMZNYFjAsMCgsYABWINmqoyBGhYwLGAAlnEPGBYwLDBoLGAA1qCZKmOghgUMCxiAZdwDhgUMCwwaCxiANWimyhioYQHDAgZgGfeAYQHDAoPGAgZgDZqpMgZqWMCwgAFYxj1gWMCwwKCxgAFYg2aqjIEaFjAsYACWcQ8YFjAsMGgsYADWoJkqY6CGBQwLGIBl3AOGBQwLDBoLGIA1aKbKGKhhAcMCBmA9vfeApsG167ququrTawXjygeVBQzAGlTT9agHq2m6ruuUUlVVdQ1eGD+GBQayBQzAGsiz8zuOTeP+FfOwNC3uYRmY9Tva3Dj0b7eAAVi/3YaD8giaptw9bu5nUWoA1t1WMV4POAsYgDXgpuTxDEjXwavSNF2JQiqLx4Y6ZWmtxzMC4yyGBfpvAQOw+m+zofIJlryip09VryncwLPv1ACsoTK5Q/U6DMAaqjP7y9el61TX6No1mzF6xogFf9lexh4DwAIGYA2ASXgSQ1DVWPS3etWG4YkpsYyWkcJ6EnNhnPPhLWAA1sPbaojtCeCkUS0/fwfBVj3mYhmINcRmeahdjgFYQ21GH/p6DMB6aFMZOw4YCxiANWCm4nEPxACsx21x43y/3QIGYP12Gw7SIxiANUgn7qketgFYT+30G4D11E79IL5wA7AG8eT9tqEbgPXb7Gd8+klYwACsJ2H1AXFOA7AGxDQYg+iXBQzA6pe5htLOBmANpdl8Wq7FAKynZabvc50AWfrq1dtk2a5TDYjvUGCo8bpoXrjDygzho5rK9oZfsIeu63G9By728D87xNUf7nPWX9ikKPDhaPR/arN/4TPG20+NBQzAemqm+ucXqisKYNSKFZsxTlF1DhA6F2zQdVYR3cuGj2MTqGfFkYwdUNcBvFgp4m/VeoifRVViLPyfnevnV2D8/+mzgAFYT9+c916xrlFVV+fO/Sgt7RWN3nGKuAApxyz2G1BMB78qtk80GuXHUFXwy7jPBb85zMFubGvviR7uL4AUd6x0nSoKACiXlHi4jxt7PRUWMADrqZjm+10kYIqqq5kTp+fkzKJUV5U7KKMoUQZPelw2i2EH+8j99JRVVWEgpWlalL+43xkftE2n/AhUUeKelmaoRzzIZE/lewZgPZXTDhcN6KNTPTd3dlbWDPYStsaFSAHCVPCk4iGgrtN4yXTcG9JUvgOPJbVoNHz3Rx7euBywmItGFebAMecuFhs+/HGMPYe2BQzAGtrz+6CrY66Snp09KzNzxl05LIj9KKWKEqGU1p29UFFeU3zydGnJqfKyqjL/aZ+vorOj+2fH1TRVUSPxbD3HnZ/t80v/1XkYWJi/IdE8sqSkjKFnLPb8pc8a7z8tFjAA62mZ6Xuvk+fKX3/9nby8ub05LJ65urNvTtZboum5Z8xus5RC0EiMnhuemFReVqmwvLiiRHuzVTqksNgR9+35oSB/051DPNyrGNhptDB/k4RH+H2VDPXuRKkPdxhjryFuAQOwhvgE93V5PJ+t6uqkSe9OnDidBYCxfVlOnaWrFJqXM81M7L6TF/0l5/yldWW+s76SM12dIRb3xZYUWWip8RhTU+mkvOkStvR13gdv11S6tnCbWbL4Sk6zPQ3AerDBnrp3DcB66qa894J5DkvLzp6VnT2rV82dA4TGyVCKquRkzyTIrYFclqpRCBKBsUXDtbWXc7Lm+HyVixYsz8matmDe5223oU3Y0mXLk5JGE2LPy/7r3r3fU6pqOt2372BW9jt5k2bs3n2QZfojdWcv52X/1Vda8/7ij9eu2cpjUJ5BW1OwjSCX31+p04hGqa+0evq0xTnZs5Z8sqa5MaQC3auHUtrQ0D1/3ue5udMWzFvuK62lNKqq9Pz5S3l5s3bvLlq44POszFkF+du7uzld484aaO/lG38HpQUMwBqU0/YoBn1/wILMugbApDASVnbWDLPkjfs5qsqz8np5+VmCHFar5+VxuePGvmGWHHm5cwCwPl1uSf4zxvbM12fv23uAUvrpsrUY2dPTXnnpxWyJeD75eDmlekV5DUHO0RnjEUpcuWItuxyFZ75Wr9ogIafPd0ajSlHRSbOckpyUlpv7jig+lzxydHPLLZ1G6htaLZZRkmzJznk7OTlDIilHjh7TdVpaWi4IyeZE25gxb2RkjJdIyrx5HzGQNQDrUdwyA+AYBmANgEl4MkO4P2Cxsagaa6qqamp21gwsOon0LBJTCLEMT3Tls/xU8ckzBDm3bf8Pp2SNHZMtEauigT+Vl/uuRFz8mhoaWgm25OXNYghIs7NmJZqtmq75fVVYcMyauYBTU6NKlCfPNE1fu2azaLKWldVQSlO94yzJaW3tIZ1qpytrRJNtwfwlmk4XLVwiy45in49S2t4eTrGMSksdS8Edq8DI8fk/1mjg2tGc7Olm2d7UeMugRzyZW+x3OKsBWL+DUQfHIe8PWCwYBH+EMxhysmdi0bV23eZ1a3euXLkuP3+Lv6yKUt3nq0qU3T4/ZJo0jebmzCQ4haex3nh9OkZOSoOaHvb5ThFsmTjxrfzCgjVfbMjJmYnEpIpTp/2+agm7Cgs295oqRl9QVXVN4UaC7GX+mqvXGs2Se8GCpXAKGlA0xWEblzURsC8t9WWv92WNRlTmlc2YtljCrkhEqaiokog3v2Ajwyt9545vRFNKackZA7B67Tzo/xqANein8NdewP0Bix1NVVXmLFHKc1iKCokrDX7xn4jfXykKlrLySqgy1NQ3J78rmpJ1qDjUcnPnEOzSGXW+3H9+uJyBBFvi8BSMRyLRJUvWUp+/vKxWTLBywNJ0quoRXdM5kb6wcINZchafPF1WXomRo6BgO/PCwhrVxr70Zk7WXEopRim5uXN1qkSUqKbTJZ+skRD4dCUlFTJJ/eeKdZRqUSXq952Vicvvq+aD+bWGMj43gCxgANYAmozHO5T7AxYLBntLcFQlN2eWhD0cqDQgo1NFi2o0WFZ2xiw7/f7TqgZM0bycd4UEC4W2YWpW1gzM4INSWlpSSZBj2dIvogrwH3hjMZ3SkuLTiZJn/RfbFYUVVff2Q9Q0vSB/AxJsfn+VqumSZBs3LhtIqkqkvb1HJp6szGkUYHSaJDlu3m7nFhs/Ng+JSYqiV5RXiYJj3bqdUcbaX7a0kCCr33dGi1VKPl4DG2f7HSxgANbvYNTBccj7A5YO4ASrhJzgnpM9EwnOgsINq1dvLCjYkJ+/qXDNxuaWptLSKiw6SkpPU+ZJvf7azETZq1FV0SPz5y8l2LVn93edXQAoo0aNTUpK3ffNj+WnzmzctPOzTwtUTamsPCcMs6xeBQ1cIeLTFV2PcpL9msItibLH56vUqbpgwd8lKWXd2n/7fNUzpi8wS+5vvvlR0cN79/6AkW3OnA/LK2qXf75JluwffPiRrtEyf6UkOcaMyT582L9796HkpAxLclpXF5AwjJ+hYQEDsIbGPP6Kq7g/YDH4iPHLdapnZ80gyE2kZyXklbATiy6J2Hz+U77ScwS5y8pqdKqoKp2Us0BCHkaXV33+swS7ZOwuyN9IKa2taUhPfV0iTlEcKcvWJUtWUKqXlp42k1gOi5U5gxfFAWvVio0ydvv9lSoNd3YHs7OmwXmRVcKOTz5ay2JSAKClS9ch0UlIsky8Odmz2tpvUkr9/tMYp7w8fjJGDgk7LUmj+Eolr8r+FTYyPjLQLGAA1kCbkcc2nj4Bq78jiBcrc6a7oiitra1lZWXd3bEKHl3Xz5075/f741se/hT8sz6fr7GxkX+Ki0lQnTY3t/h8ZefPX+RyNLpGy8sqzMS1euXWpsa2ivLTbW23+TrAw5/O2HOAW8AArAE+Qb/f8B4ZYMVVq+LIxasCNfbzO11AXC+Q6Q7GTlJa6pdQypqCbWyVk12grjIlid9pFMZhH7cFDMB63BYfMOd79IDVW68Tu8Q4kMV8Iki6w0n79RP/LONPxNgP/Dg/O5iq6hUVpyU8Yk3hRr7gqIGAKrvM+PJmv85t7DzwLGAA1sCbk8c0okcJWHcj0c8ElPnV6Dq4Or/6yuLHj0ueqiqcJ37AuMPFQDN2TibmHFs9iO9pvBjUFjAAa1BP328Z/CMDLO5YxePB+Jg4SMWxJr69Xy84/PFT3PdQvOwxznRlbhcozsezV2wYhq5Wv6w+cHc2AGvgzs3vPLJHCVj3Asq9+PUbL+dutGLJsTtdMPiR794hjla/8aTGxweaBQzAGmgz8tjG82gA626Y4PEab6gT3x5HrviL/l5h/FDMjVLj/1VV9efyXYybGgsVe+NFUJroVe3q76mN/QeaBQzAGmgz8tjG82gAi/tW9x20Am15YrDxq9HqvkdmmBjPiN1xtfhZYr0y2JnZAKCDxn2PY2wcdBYwAGvQTVl/B9zradzRa4cjcC0Xjao5uTOyc6areq8YMdudczh7cUGnrCinvyc29jcs8MgtYADWIzfpwDqgpsViKK23ySDjB0DrCGAwUS0zc1pWFiiOwriZQ8RZVPwyePY63jtnYF2bMZqnzwIGYD1Fc64BtSDK2zuDQh/osutZWTOzsmaCywWIFs8K6Zqmqppyb5LoKbKXcakDzwIGYA28Ofl9RsS8JEAoLQZDUZac1rOzZmVlQV9ClgBSWDtCzgmA36p6Jw/1+4zLOKphgX5YwACsfhhrkO7KEs8cfXh7VH4dkIfWdDUrc2Z29uzekJAroFMGagrv9BUvcxmkl28MeyhZwACsoTSb978WxpyEhsy8qs5XWgFafCrLYOlaXt7c3NzZUTXWsEtTaUvzzV4Seewj9z+usdWwwGO3gAFYj93kj/eEvbyCWBtnSml21jszpy1sbW5nfZ1pZubUNya+A4PSaVd7aNGCJWPHTOBriPHOzzGiwOMduXE2wwL3WsAArHttMvS2sLxVLxfpmz2HZWy3jPSsW7OtraM9K2vqpMmzo6qybcvXNkuajK17dkG3m2gUiE4spTX0DGJc0WC1gAFYg3Xm+jVuvjLI2QmaSm0pqURyYeJIS38tNe3VtPTX0jMmIOxA2GFJcvd0R3TQb1cBr3SjeLhfljZ2/n0tYADW72vfJ350HhIy9GFaK4xulb96g0mwSrJbRHYiuYnkEkQb+6/tg8VLohHONQWtZCZ4wIpbnviVGAMwLECpAVhPyV0AmXcI8VjPh+am25jYieSUJLcoOkXoPOjGxCEi6/VrLZxAqmnKHb4oR7CnxFTGZQ5gCxiANYAn5xENrXfJj7OrOJudTpu+SJIcCQlWQryynCoIdlG05ubNYaAWO/EdwHpEIzEOY1jgN1rAAKzfaMAB/3FoFshLf7lKFFQR6jotOuyTJJssuUXBhZHbLHtMwsh93xRBIy+Wbo9fWO86Y3yD8cKwwBOzgAFYT8z0j/PETPg8FtexRl5QOuhyPy9JToI8GLkxttvtoyPxCmj9jgRCb4nh4xyvcS7DAve3gAFY97fL0NvKHSUmWRXTWilcsxmjFAl7CHKLQnJ+wUad0nA4xLTXYUfeRSIuETP0bGJc0aCzgAFYg27K+j3ge8TUgUSqaFp9ww2JWLHoxMgpSbbr9a0RULBSdV3lgg1xjLvnCP0eg/EBwwKPxAIGYD0SMw70g/SKLvA0lq5qiqqqmk6nTZ8vIqskO6dOfU/VKLTEUlRNY/wraPMAG1RNgaJDI5U10Cf5qRifAVhDfJrjUp8ccXRdY/wGUA2ORrWDB09Kko0Q248/HldVGgz2KIoaDoeDwWA4HFZiP1EVkIu1qWFxYhy84i+GuBGNyxswFjAAa8BMxe82EC4cGpMP1tRoNAKwpUXDobCqUq93jNv1Qk+PEugJBAOd3d1dPT3dwWAwFAoFgyGGXFFFgSCRY1a8jc3vNl7jwIYF+rSAAVh9mmZovMFcopj8OUccVVGVqBIJ9YRD4UCPsmrVxi++2BkMqJ0dnZ0dtzs62jo7O7q7u7q7e7q7e4KBUCgUCfSEIpHIvZhleFhD4yYZRFdhANYgmqxfN9RYnU2U/egaVRQ1EAgGA4FISLl2tfWtt+ZOmzbv4oWGWzfaWptbWltbW1paWltab7TeuHnzVtvt9q6unmAgFiTygyiKwhcQ4/HmrxuZ8SnDAv21gAFY/bXYINufSYZqvRCjh4LhQE8oGAx3dYZ27/rB4fgzQlZBtFgsGV/959vLlxouXrx8+fLVq1evNzQ0Nje3NDc3t7beaG9v7+rqCgQC4XA4EolEo9F4Sou39hpkRjGGO2gtYADWoJ26hx04eFg8ex4KhUOhSDAQuXa14cMP/iFJNhHZEHYRyUMkpygmT3jtzWNHi6ur6i5euHKu7sL58xeuXr3a1NRw82br7du3Ozo6enp6eD4+jlk8pWXA1sPOhrHfb7OAAVi/zX4D/tPRaFjVlGg0Eg6He7oDPd3BQwePZKT/iRC7INoQdovYi0iqiFyEuBCyJo10fPLx58Un/VVnaiorK2tqqy9ePHft2qWmpqYbN260tbV1dnb29PRAZou5WvHY0MCsAX8vDIUBGoA1FGYRZNe1WOWNooIuuxJlvyO6Gg2HQj2BQFd7R8f1+ubF73+KsJ0QL8bO+/4TsVNE9pfG5mzfsefIkZPHjv1UUeGvqqo4V1d79cqVhvqm1pbbt252dncFO7u6wpFQNBqNJ+MNzBoiN9MAvgwDsAbw5PRzaLquR5UII1hFKKWRcERT9FAw1N3VHegJFR36yZv6giTbELaLyHFftMLYKWInkVwIWzGxzJmz8Ntv9x8/frK0pPT0qVM11dVXr1yrv97Y0NDU2dkF3lZXRygUCofDHLbiyGUk4/s5dcbuD2sBA7Ae1lIDfz9OCo0qYVWNxMPAYE+0sz302bICiVjNslMUrZLkFJGtL8BC2IWwE2E7xlaCLRnp49at3XbsqK+0pKy8/FRVVdWFC+evXr3c3Nx442ZrVzdk4oPBYJz0oKqxvq0D31zGCAejBQzAGoyz9j9j5oGYpsFSINTQUDUcCYYioWAIorbik2fGvJgpEYeE3YLJQQgIM0jy/eNBQDHilmQvwk5BsJrNbkLsBFlnTFv8ny+/OXLkxMni4tOV5TW1lXXnahoarjc0NNy+fbu9vb27O8Y1jSOXUTj9P5Nk/OcRWcAArEdkyCd3GC6rADEgcDujoXAwFA53dnV3dAVWrCokxCYRp5Bgk0kaFj3PDM8wmVIw7tPDEpFTFB0IORMTU00mmyR5ZMmDRIfNNnrlqvWHio4dKjpUVu6rPVtdV3f28uXLzc3Ndyfjf7aGaGS1ntx9MTTPbADW4J5XjlYxCjsrXe7uCQSC0bLy6rHjJprEEYQ4ZclDsFsUnBLxmBJsiWYvwX3msAhxSbJHkjzDhqUQ4ubgRYhbNjtNwsip097bu2//iZOlJSWlladPX7p48fr1601NTTdv3mxvb797ATGez+KYZSDX4L7PBszoDcAaMFPRn4HEUYBHglGgLUQCPYGurp7OzuCatVtFlEQkB5HcCDkRciBsl2UXZK9EG8EuJPYdEmJnQkIK66njlM0ehB1EdiHsEJFDNntMpmSb7c//XL7u0MGfjhQd9ft81dXVdXV1V65caWhoaGlpuXXrVkdHB48Q48l4qJzurZ3uz1Ua+xoW+LkFDMD6uUUG+P85VGlM+YWpwSiRSCQElcqhzo6umppzEydOwjjZbHabTA6M0zBxI+yQZAcmKYKYJEtOCbsx8vSVdMfYaQZgSuFNdBC2I2IXsZUl492EuAl2YpTyl1eyv/rProMHDpw8ebKsrKyqqur8+fNXr15tbGy8efMmp2v9DLaMqukBfmsNiuEZgDVwpyleWtwrpwdMKzXKmOvRiKZFotFgOBIIhgIgsRDUV67aaHc8L4o2hJwYiKBuQlwPAKZ+vSWKNowdkuQSRTvBTlG0JyX9+ZNP1h06dPT48ZMlpSXV1ZXnz9devHCuubHxRuuNtraO9nZYRQwGwuEQVPOwIFGJ+4bxq2MSzDES2cCdDGNkA8MCBmANjHm4ZxT3Upl4PSBgFqwG0kCgOxIBDlRnZ3dd3cVXX5v03AjPH/7wHMZOWfZi5ESig6HMg6K/h8csibgkgD8HQnaMnZLkShhmGT487eXxE3fu/PrggcPFxSUV5WVVVZUXzp+7fu1afX19W1t7e1tHZ2dXEJgPIUVRotFofPXwbsC65+qNDYYF7m8BA7Dub5cnvpUDFnQTZNkfPh545iPhaDQcDgNU9fSEOjtDu3f/kJTkgVIbwYqxQ5a9BEPqCtLn0iPzsBDjmiLRLktu7mrJskcQbARZRzzr+dtfP9y///Chg4ePHz9eVXWmurrq6tXLly9fampquHXrFuc9BHoCoVBMFDBegfjE7WwMYHBZwACsgTtfcSV1oLD3VsCoaiQcDgYCwa7uUGPj7by8WcMTXRjZCHZLkpdgD2uM6gC0Yg7Rw/tQD96TEEBAk8kKOSzsNJmsGMFZCHJLxI2R9aUX39i5c/eBA4dPniw5c+bMqVPlV69dvnb9SkPD9Rs3Wm/dutnV1R0IAM7eq/cwcOfAGNkAs4ABWANsQu4aDmeNx7njXIsqGAp2dHZ3d4d37frBYsmQJIco2BlrwUWwh2APxi6JZa9gcZCFbw9Good8VxTtPCpE7IUsuTmEEZyKRLcsef7w/z1nsWTMmPHe998fPHbspM/nKy8vrz1bffHS+ev1V2/caL19u62jo/tuvQdOfTAYD3fNufHyFyxgANYvGOhJvR3nAUQiEVVVo9FokP10dAbr629MmfIuIVaM7Qg5JMmDkItgrwQlzS4MsZsDIjjEkll9FDk/JE7d2Q05BMFmNntE0S6YrDxCxNghCE6MPbKcKssejOyCaWR6+rh167b/8N9DJ44X+/3+05UVdXW1ly5frK9vaGxsjktrcb0Hnpi7OxNv5Lae1C03KM5rANaAm6a4x8FxiseDXV1d0Wi0o6OjqKg0KTmVEBvBTgTtuTys9A+46QxcHERyyLKTEHgXiY8shwWtoU0pBMORJeZeQaW0YBOQTYK3bJLkFUyQ4ZKIQxQtc2cv+u7bg8eOHi8pKa6ugazWtWvX6+sbW1tbOcs0TnqIU0yNfPyAuxcH3oAMwBpYcxL3NXjSPRIBHSteYHzt2rWPP/6YOVY2ibgEk50QDyZuTFyYAHOdECcmNoRSELYCrBAPwX3KyNxxnR7OBRMEmyS5JMktCFDWAwRU4oKzmO0mMQWDlhZ4ebKUKgB4uQhKdtpHFeSv+/HHHw8fPlRZebq8vOL8+Yv19fVxZnwcs7gcIHcqDbrWwLojB9hoDMAaEBMSWxPUNKpTTdHVKOhYhUM9wWB3OBy6dbv9wMETqWkvm0Rrf4Hmie0vuUVkF5E1L2/29m27ioqOHjp4oLy8pKaq7sK5yxfOXW5tudnScuPmzZvdPZ09gc54hMhzdvECyQExPcYgBowFDMB6wlMRZ0xGImFFiVJdj4SjSlSNMD3j9rb2xsbW//u/TyU5BWGbJLufGAA9nCMWH56InOB2YTvCKW73C59/tvqHHw4cOnjIV+qrOnPm/PnzdXVnG+Gnqb29o7MTkvFxaS1eynM3n+MJT5Jx+gFjAQOwHtNU9JVLhgbMuq6oUUo1VYtGo+FolJfahLs6g2X+arfrBbPZgUQrQvZHuOoXR5bf6wVxE8nDaqftGFkTzfZXXs7eveu/J04cP3nyuL+s5OKlc1evXb567dqNG23tbT1cMJ77WfHaQ06Cjyf1HtNUGacZwBYwAGtATE4oHNB0JaqEwxHQM+7o7Lx1s+sfnxcmmh2QXBedouBITExFfass/F6400/HKj4MWApgy5SS5BUFu0ScWLQ+96x36dLl3//3xyPHjpb4TpaVl9bUVl+6eLmhAdrz/Kxwmi+P3p2JN5BrQNysT3QQBmA9MfPzx09VlEgkrKpKINgTjka6egKd3cFS36kxYyZinCIKVozcSPSYpTQkOjlpMw4KA/mFLHsQcpoSQD8e+BYoVoQoCMkTJry5c+euoqIjxSUny8p91TVnLl2Cwunm5mZeOM1bit0tZBpnxhuY9cTu14FxYgOwnsw8xHWsdE3jKp3BULijM9Ddo3y+fA0myYSwABA5ZMlrllORCH4WcMp/rcvzmD8oijZgZmE3hjohF8ZuBmEOtsU5YkTaggUfHzhw5PjxE5VA1Dpz4cKF+vr61tbWO6U897RBjMPWk5kz46wDwAIGYD3uSYg5ViC2B8XAalThOlYdHYFSX9WYsVkI21jG2m0yWRlR0zpsWJLZ7MHISdCgASxCHJhzwZBTkr2YuATRSiQHY41xjpj9xeff2Lr5y0MHi44dO1JWVlZTU3Px4kWuUXPjxo27OyHyap44Y4vbsK+04OOeUeN8j9ECBmA9JmPHnzHuW3G0ikQiXZ1dPd2Bjo6eNWs2JSWnIhAv9ojIK4guc2JagilZku1EsiFkNcveR0gE/b0dLkLsCSaL2cyhyoYlB4hqESuG7q3AICPYiwTHyGe98/72wY8/HCgqKiouLj516lRNTc2FCxeuXbvW1NTU2tra0dFhNJ1+TPfoYDiNAViPeJbuloWJuwDwQmNSVjrVVEVjq4GhUKgHMlbhqppLmVnToemDnMrLX6DL1iAJ/fo9TmDnu0H9hulJiKI90Zzqdv9l/fptBw8dKfUVl5UXV1VXXLx4/vLFa80NbTdu3Gxr6+js6AqHooGeYCQS09WKJ+N/4/xpWuwAGg1SqqjsvzoNabpKoaUHUx9T4LcKG+BHUdgrndIYJ0XVaZRSVdfV+OzrusYagsB2dpg4fQWOxP7Fjmb86ZcFDMDql7kedme+MM/35tkcX24AACAASURBVKIL7P6nOmBVOBQCuYVgMNLe3p1fuCnFmiGI4IwIAhQGMhI5aE4NyX9IBI0HDBKDgFxMtAswCyPLjBnzf/ih6FDR4VJf8enTFZWVpy9eBGZ8a2vrjRs3O9o7Qe/hLo2aeFn4w85KH/vpGmX4EtUoCI0xzFI1HYgmHG4o1dhbqqZHFCagCG8xCGKARnU+u+z4fEvsVLoehzC+hYMdVzTrYzjG5gdZwACsB1nnV7z3s2UsXdf58ryuK5FIKBDo1nWtJxBqb+9paLg1YcIk2WwXRajRw8gtCg6Mod6FkCELWKyECDJxCDkIXKyLY5aEPRJ2pXrHr1q54YcfDh776VhZecmp0yVn62ovXbrY0FDf0gLteTo6OiKRaE9PgMvU8Npp7m3x379mysCr0ilDq2gUDqAyv0thjpUOb+kMv7gnpXMgUzXY9cL5a6UlFeCLafAPPGn2Wa23EXd8PFF2aNh+t7MVf9t48XAWMADr4ezUn73iX6pc2pjdzVpUCSpqOBgMBAKhtvbAd98dHvGcR5YYMCEXRi6JLf/LkleW3SZT8pB0r9hFce1mHhUCZrFSahdC7oRhNlnySsT55ptzdu365vCRohLfT1VVZ86erT137uy1a1du377Z2trS3tbR0wPKFeEwyAHeXYEYj8H7M11UUQCxGCTRb785snr1lvyC9fmrt61euXnd2u2FBRsbGloZhZUfVVXUiA7opmo6zXzjbbNkib2hAhRB8M8xjuHXXQ4XDxJhn3h02a9xGjtTSg3AevS3Qe93rMZjlmg0GgqFokq4q7urJxCKi8NIEuhVCSaHRKBmOCHBjpkYXkKCBdYEh2hIGAsGibs3kwUyOCA1QRwgYWqyM7qZw+N+6bPPV3//3wPFJ0v9/rLKytPnz5+7fOXilSuXb926DVmtzs54NU+8e2u8DvHhJ5UFg5SF7VoopORkzxQFS2KiRSYOmViR+JzZnFRcXMZxh9V6xlJZESVAKc2aOG242amqDKLA9VIpuFmqqkF0yX0pXsZAqRaKBJizdo/39fDDfer3NADrEd8CPGPFu9pAzY2iAFpFox1dPV3dob37frTaRglCsiQ5EbITyZ1oTmfBoBOcC1C2AqdjyKIVdrImYyCGw1QGGUuD5bMEbBGx1ZwIAoSsJaJTlp0TJ0776stvDh049tOxExUVFZVnTp89W3v9en1zUwvXqOnq6uKKgByz4hHizwLzB88x5MfBwwKImZQ3R5bs0SjV7qTYYTv/4bAVhYpPnjunmW/MkLAjjk08Z88BiSfso1B0FYsx+UEU9c4Bew9s/H1YCxiA9bCWesj9uHvFG3BxXWNFUTo6Ohoa296Z+h7GKRjbmSCMi/2GNsuiADJS4G2BhIubpbGGrIfFua9IBMeK9fWB1j6S5JbMThGDuhYmruHD04cNs0BKHjmSRqR+/mnh998eOHGiuLS0pKrqTF1dHdMCbLxx40a8e+vdTlZc+/AhI0SOTRywcrJnDBv2HJ9rXafMOdI1ENbXV69aO3rUWEJGjB71+ubNX0Ptp65lZ82WJRdfNrx1u3vGjHmyZMUoefbsRbVnL3L8qqk9P2nS9ISEZxz20atWraeURo2Y8CEfp3t2MwDrHpP8tg3cq+K5lQDjare3tx89ejQ1dTzGNlG0gUwV8TBqKDyiLMXOtYxjy2dIBLHjIetkcd8KlFGdoI8KlZIsKsQuETsRcSLC2r6aPYJokySPhOwSsrw8fuKuXXuLig4dP37s1KlTdWfrLrKm0y0tMVeL+1mhEPTmiddOPyRgUT3mMemUZk6cOjzRUVJaUeavLC0tP3Wq8tr1Bl2n+/YdkIktO3N2QcG29NSJBNt8ZaUa1XOy5mLRDhl7lU6ePItg+9JPNi5bsmnkiIyMjHGU0vaOnhRranJSxrIlG6ZN/VAitoKCTb/tFnuqP20A1q+d/t5AAsIBTdc1XVGiGggu0EhYiUYi3T1dPcHg9YYbixZ/jkBKGNo3iGJMZRjiQQLldVwplCmmu1mRMPR0gGe4jxyWJLkQssuyWxRsrIENyH6CdF8f+z/B7bLsTkhIkVi/e+h6LzgkAgWGZnNqwrAU8KoI+FBIBFP0NU4JuwhyiSb7s8+kz5714Z49+w8dPnKi5LjP76upramrq7t69VpLS0trS0tH++3urnZoKMZ+eHj44KzW3YgG7pRGc7NnmyEwTyYIqrUlYiks3KRT2th8s6yiqr0zqFHq89Vh7MgvWK9TLStzhllOVSkksZJHjB6d8WpHZwel9OCPxYUFOyilO/71L5Np5N69RRqNqjSSmjZm3PhsY6Xw1z51RtL9V1uOpT2oTlUeD1A9Gg0rSiQajgYDwUBPoLs7sP/Ho+kZL5sEKyFegp1mqAcGZ6q3AZcjMRFU2HnPCFnyQH4HOYb90fKAmkHWJ9XO6/IEAbTVzVCy1yfA9QUEj2E7Ky3ywjogwyyJeASTDSPgMUiSR5a9pgRr7xJhnzQOUbA/k5iORadZ8mBkfeGF17Zs/dfBosPHjh/zl/nO1tWerau9fPlyS3NLc1NLZ3sspRUMBrmKqaLcad3a11RzahUjf9LsrJkycfn9db7SmlMVdT7f6cbGVlUHctbuvd/Pmj0/M/ut8eNzJOJatfoLndKsrJkS9mhU12h03boNQsJzw2Xv2Jcmrf/i37dvt1MaXbFis4xHvzJ+dlbWtLy8mUkjXiIo1ci69zUXv7jd8LB+0UQP3EHTNVXVVIWxnNVgKBAIdIdCofr65g8+WCpJIGIlQoiXxoDGAaUq2MEaZDkxcjDnyMWz7KIIDy1oyCDHAwBLloFZmpBgYV4JuCcAPaxp4GPAoIc/hSjYhg9PYy6kgy0IwiIgqCpDGMjbhblkCSLfB7iT0BRWcgOuYTfUfkPf6eSRI93z5v/fD/sPHD9xvKzcf6bq9Lnz4Gc1Nba2Nt3mTS56enp4Vou3buXlUHf7U/FJjdMOdKpoGs3JnomRldPfmU6Zwr2hpZ8uNycme1PHTJo846UXJxLsLCzcolGamzNHSLDHj1ZXd23pkvxxY7JkKWncuNcopWvXbSXI9fyf8rKzp2VlT8nL/Wtm5rT4/saL/lrAAKz+Wiy2v8rIO5wNGFUiwWAgGAr2BALd3cGTJ8teHp8tETs8kEyoQBSdZrOHye+Bh8X7m7Kksp1J3MEjzdwQQB+CXaLQp8cBrUxlD2sGAX2YJRZXDkTZGbb2R7BLhhYVoDHPm92znJ0TYFewQdd7xnonfatQiKIVFOKxi2A3Mya02BDF5Beef7WgYOOBA0VHjh72+UsqTpXX1NRevVLf2Ah9Lm7dusUrEAOBwIPbIHIHmS2VAK8qJ3s6ISk6oFRU0yKM6a4rqm6xeDIyXtFUGo3SoiIfwfbVqzcDrSFzOhYdOqVtbd2F+Tsqys8xIUZlycf5ZuI+W3N189ZNspz07TeHNZ2qOtV02tXTrdKuX3nbPfUfMwCr37dAfMk8GlF0TQsE4Ms8Eol2dgY6O4NLluQPH+4C1wm7BZODuQ92Wbb3PpwOSXKZzV6TKUUE6AE6EkcoQmKYJUueB3hY3LFiTHHQn5EkN+S/Hl2H54f3oR68JyStGB4JAiAOxnZCHEDmgOpuO/vnMJtZ7+iY23X/NByRnBjAzsHQChi2HN2gu7VonTvn/e+++/HIkSP+stLq6sozZ05duXKlvr6+ubm5ra2ts7Ozq6srrrx8b0sxPvcqTCOwOlVNz8mZLknJLGQDRruiRPg+Y8dOlIh92ZINn31a+Kc/jUViUkHBVk2jebnTJWJjHpmenjreMnL00iX/XLtmqzX5xaQRozSNdndHUiwZSSPTP/t0zepVm16fMHnVqrWMK9/vG8/4gEEc7fc9wIMLEGbSaCQMdzNrbBPt6AhWVl544fkJLCnjJtgrmKBvjSy7CbFhYuGOFc+Om0wpsuROTPSKIgAZc8SckHEHTgM0WObh4X0RgbtUkHpnnwXeFoG8+313fqIbXUxx1MNy6g6z2S2IKVlZs8a/PFkQLJLE4zsY9vDh6b09yu6HWaBRE2u/yDswMnUtFxKAwkawY1TGK2vXbj720/EjR4uqa06fO3fu8uXL169fb21tvX0bIkTOL403uYjX8fAIkRNHGVUKZnPp0lXZ2VN0SsGD5rxPSpWofvFCg9czhmBbZuZb585dyMp884svdiiq9smSz3JzYiFeVVXdnFmLzcRhGpY0KW/22bOX+e1VXXV5xvQFspRCcNLUd/56/vy1ft92xgd6LWB4WL2W6OPv3bIwcWUYJg6jKIrS3d3d1dXd1t792WcFBFtloBR5BLb2l2hOS0iwyhLEPhLr886zV9wnSkz0/uEPSQy2YMksnnHnKeoHAI0I3UwhESaYrM88kw7Yx3JDD/jIk3kLYmG+DAoOoAl0chy6TktLz5nNTkGwEOI0JaQkmlNNJhs4UH2scjKpZZDWEsQYKCeYbLI5lTU6s8F6BXaaJcdbb876+us9Bw4eLC0traioqK6uvnjx4rVr1xoaGu6mmMZhK87VUtWoykpqVAgAOb+BqqC+QHlFs6apMVDrxS9Nj0LlICwMAuVUVanWSzNVejmh/IWigGI/W56JFRey9eTeA/VxyxmbH2ABA7AeYBx4627A0jQtrmMVCEBZYHt7+9m6c1lZkzFOlogLix4BWTFxEMkpInicRMEpkTQspoKOSqJXFGwxUgI4Vu781f/+218/S0yEdxmQMSoWrBXez9dgj3Tc/8rL/ds//7ntT6MzH21L+r6Ao7/bRdEhSx5BYAwMyENBd9XsnFnjX54kihbW6tUhy9DlkGCXWU7t+/iMq4XBpKwHj0OS4StBkq0YWyGFL7pl4hESklyuP/3jH6sPHDhw9OjRkpKSysrKs2fPXrhwoaGhgXtbHR0d8U6IcaKpzgjuwH6gUOvcm4NXGBbRaISnsRRNj/IiQbZDVAfdDeaW6QzmYBUx2It3CuV4B7dPD0Mrrv3AC4DYTcW49b9w5xlv388CQxmwekvnWdEppClit4kaq40ALIrb5O7X8Y3sha5BUSBUakQVNaqooXAoEAr2hMKtNzu+WP/vpOTRouhITEyHZ+8BfCjiEJFLkrwmFhAxcRWLRjWfv4pIFozsWHQmyqls3dABag2iQ0JeGWdIOI0gJ8E2jKwS9KC3yAT03QsYPygr+21Yc0ReFht6mHq6E+MUSbIQnEKQDQtuCdbaXMjkkADykgi2SWgUwiOBZiE4hye6MU5hq41WSR5JUKqEvTJJFRLsZuggnSTLVgjrULJZchB4YYMxyHYk2rDowdhCpCSogsTpCFlE0WKW0xGyEeQmACh2GAYeIWMPEdMJScLkWSKmyyQdYwsGVUKXICQT7AGuA/YKCc5nhmeIggMJHgnDZWJkJ9hNcCoSXRAIA9UWBJf7Ari3p7y7a/f3hw4fLvGdPFVZdqaq8uLFq40NN5tbmltaWrrgp7unJ6AoaiQSjkTDPEKM5yX/d+qN/w04CwxZwIKvTAZHTIktBlVa78a750GDPlt3NvzPf1gug7/b3dOtaWp3T3cgFGzraK+quZCV846IkhlIQR9mFpr16RlJslOAhflUWXYh0SZLnuLiao1q7Z3dpf7KV1+dhJAFoaTFi5eWlJ7x+asWLVrKHnU7ElOmTn3v8OFSn696x459GRnjJeJaMH95Y9NNlap1569s2/Yd12kh2MOaPjis1lH5+Zt8pbVHiirycmeKpuSU5D8fLio/fNgnkWSJWFet3Obz106YME2WnMUlVUuWrvrXzv+Wlp7dtef79LRXMbIJJsuOHd9v2bpr+oy/+ny1GRmvSaI3N+u9I0Vn/L6zK1eut1r/hMVUCb1otYzdsvVLn//UD/uPLVr8iSy5sOiVJNv0aQsOHTrp99Vt37YnLe0FggB//f7Krdu/QiavaHKmWFPz87eUlFYXHT65YMFSjJPNsgtja6mvav6C/1v3xY5SX9WhomNjx2RjZJclL7QOEm2Y2Jnycp+AhZB15EjvJ0uW7//x0E/Hfyr1lVbXVFdX11y6dLGpqZH3uWCw1RUIBJhOdUzvwcCsO8/AAH41ZAGL++eM6MzlPijPInD04WkLpmH0cz8rDlg8Y8WSFHooDN/GPUHQNWlr71yzbmNSsheTFCKBghUGF4Dny/vMxWBoKuEymexmM5QNItFZWlpLKe3sDvr8VWPHZhEpZfuOXRqlLa1tNbUXdapt2bpDkp6bM2deVNFbWlv9ZeWaRts7QkkjMxYt+seVaw061erOX9q0aRd4NLAq5yTYLUn2yjMXKKXV1RcbGzt1qs+csZBg+yefrFBUunjRUq/3BUqpz39WhsFbdChto/UN7bW1DTqlDY23EBphNttKSs80Nd/WdBqJUgCg6bMopTdvdpaVVVJKz9ZdwGSEJFlra6+pOi0rr2pp7dCovmr1eoLd06a+r1Pa3HLD76/WVNrdEx05IkPCTp3SktJTEtBo7TW153VKa2ovN7XcUDS6ddvXopgsm20RRQ+EQlevN/v8FTpVurtViyUjYZiFBc42sB4UDPTNjAeVHhcSUyZMePNf/969/8cDPx0/eqrSf+bM6bpzZ69dv9rQUN96o7W9vb2jo7O7uyeuq/VgTvwAfoSfrqENWcCKVc6wbCjEgCD5cceP4uDVmyvVo2z1+u7vWJ6uUqAHlxIG0kK4u6ers6v7ytWmt96eK8sOlpRhxW6Eka0QVMyw1fr7O1kiskqS12xOG5aQDAR35DKb7eFo1OerJsSGREdG+gSNPfmYPCfJFn9Zpa5TJCb7Sut0nWZkjCE4aeaMRadOnx0zJheJ1g0bt6lUy8yejLEVanRgvd8jy54FC5fplOYXrJPk51Is3o6utvLyWonYJGIpK6upr79ZVPQTpTQ9/VVgbxGLotHzFy/JskWW7CtXblJ1umDhxxgnVZyqCUf1V1/Lk2UHQikNDQ1dnSG7LQOjpIKCLVGF5uRMy8ycqlO6e+9uhJIIsR84dGz7jq8xtpeXA2KmpqUh9Oy0afMqKs6+8vLbMnHqVPOXn8LINn/BEp3SVas3EClZMj/nL6vRKU1LnSAKVp3Sg0XHELIQkrJ563bgRuVMNYNbCklAQbSKsDDq7SskFAUHZ2wh0ZaUlPbBh8sOHDx0svhEWZmfadTUXb58saHhOm9y0dXVzUt5OC2ed+V5ugBgsF3tkAWs3omADBQkPjW98nTVsqWf1zc0K4quAYWPCa1TLaqGf6axretQng+rgIoSVcOBYHcg2NPe0bVn7w8pKaOR6EAQ9XjMkHJyCiaHWU6VJLfJlGI29xmqyGaXKDoFwSlJwGBAgotgK/N0qjGyEezJyZ7LHJCyteu2rFixyV/m13Sam/vOsmUrNY02NLbu2fP94sWfYDKCJa1cq1ZvVHU6adJMtl4G7bMQcomCtbBwm6rRPXu/KSxcX1i4ubEJxOcE00iZeMaPm8QLigoK10nEI5qchNh0Sv3lp02mEQQ7Xx7/pk7pmjXbRTHZX3ZGp1QULKIJiooopfXXb6xevW7t2vVffb2Lwm47JOLu6tZVqvvKKvPzt6eljRcFq1mCiEyntL6h+fvvjy1c8FlCwnBWEggeVmmZ32y27917IBxVRo9+lRHfrR9/VKBTmpM9FyMgYeYXbJBwKhI8a9Zu0ynNznkH6sZj+XtbYmLqA3JYRLJjIHzBt4hgspll5/PPv7Z9+9eHDh796aeTp06drq6punDhXEMDcLVu3rzV3d3Na9TvZmn13jzG3wFngSELWDz044n2WBio0Iz0P0vSyOzst48cORnbGOMI3lm24VJWvOJfUZSeYFd3T3d9Q/OUKXMgOQ16ValITAWpOSaQwlTY7Yxr3lsoc78VekRsGOK1VITtEnBEUwm2UUqLS/2yOcUsuyZOnKKA4weSJMADYgPLyZlKyIip0+YcPXaCwS7EUDbrSwR5Cgq26pS+8cYUglwyHM0DIxFSCtds5aVqoEPOlJtUjcqSjSBvmvfVW7c7KaVLlvyTYLdZSsfIrmq0pPS0JNlhHYA4oppaWLiTEEdxySmdUrPsJSgNI2dUYatg7AaG4el0dcF6IiUnJ/1px85d9Q23dEojCv3gg8+x6MbYPmvWggMHfoKVf5VevNiUPPJPBLkopaX+crPZfuJkhU6pRBxY9CLRNmf2x1E9lJs7S5LsGtVXrMqX2dLq6vwNoKCQ+fbwRK8pwcaJXSaTFfUtGSaIySKyAhlCdA03Zwgmu0Rczz2bNv+9j374/vBPx4p9pb7q6jOVlaeuXr3S3BTjl3JCvIFZAw6f7hnQkAUs1t0EWDGxNUEWDvp9pxNlYEjLkt3jeamgYEtDw23udHDL3C0OE4lEenp62tq6v/++yJIMHEUkOtkCPCRQYnrkUMkMyWCJgDw58xf6CglTMHELAvA8ochZ8EjErun01JkzgvgcEu2TJ89RNG3Hv7cR+RkkWmTiQSa3GY/OyVzw8rh3RJPVLHnyV36pUzpv3qdm2bNi5XrwSnKnQzU1doFQJ4zB/s8VX1BKp8+YazINH57olqQRGI1MlJ2mhOTDh8t6eqIHDx3t6o4kJY0yy16TCVjdZeVVBNQ1rdOnL9CoumrVVrPsKj91RtUoVCmKXkIAW8/VXceiDQlOM6TAbbLsTPW+kp0905LiFYXkjIxXmlqb6hubBSFlUt57L72YmZiYAmoHBVs0nS6YvyzR7AGpA/8ZUUj5Yv12ndKpUxcysZ3kLVu/0qmamTkTAFRX161fj5EHi578gnWqRvPyZiLRYZbSJeI1CVYEpPk+c1gy6NLYZdkL6TwWrUOHC9EhY8eYFzK3bPr30aM/nTx54ty5sxcunL927Vq8jifeaNoIDO9BiQG0YcgC1t0eFrc3J/dlT5yHBQ9BHlARAf0Q24zpCw8eLIntw5hWPBjs6em5efPmu3M/BB4A8SDBY5YyBMGOobleMtTxgdKLTZKcvNCEixD0lVshsl2EPjFeqOAV7Bh5JWJvbLrR0RnKzZmLxVQkOlpaO263dy5cuCw7c96SJcu3b9tNsOXggeKu7siixR9OzMz59tv9OqXTps0n2L5w0UeqTrdt/zot7WVC4BlmpTC29IyxlNLas5fmzH4/a+Lsbdv/PX/eMllyTZ/+nqbRgoKNGRkvajotOuxjjHMICTu6gvPmfTxjxqLas5c1Gpk0aY5gSvZXlOuUImSTSSrCSXv3fqeptLBgc27O1Pnz/15UVEKIbeyYtzSNHiw6mjdp2jvvzOvsilbXXJXllANFBzs76KJFn2Rmvv3Ntz9qVJ85cz4SLZTqpaW1ieZUl3u0TmldXcO0aQsXLHy/s7uzvrFVAg5HBoSEhV8gwSuTjMI1oIiQlzebCUmni4ILE6ckuxAU99z/i8FkcktSukkAUVOonQaB/BSJOGXkQaaURNkyf96io0ePlJQWV5wqv3DhPK89jBPi48msAfSMGkO5ywKPELAgKRSLs6BFEs96Q3TzRP6BRBGTpoWSMJ1GezPujU0tmDwriiOZmJTHJDix5EXEPWrUuK3bvrx1u03RoxElFAyHj/1U4k39s4CtktmFYDXdgbEDYXCRfoWcS1/EUR5e5eZOF4XkV16eXN/QHgsJVbp9+x5CRo5/eeLVay3sWmDeNm/9mhCbLLuTkjK6eoAeVuqrIhJQpTDT2yLEMW/+0s5uPRIFy3d0KgsXLUmyeBsa22+3R5ItXiIl7d57QNPo9OmLZRkAq76hubOTmUunmzfvk2WQJ/b5LkSjlBC7wHielpRRxSWQ1YqyBYvjJytSUv4kEfeW7eD0RZio+ZVrLeNfzhZR8iuvvFXf0MwCWwhxd+zYg1ASQslUpyXFtWazTZZTFi78pKMzzG/F+obmsWPzJLaUEVVoQcG/ZNlpMiUXFv5bVWlO7hxGlIcKJCb84HxADgtjryC4CBObBs9X4kwumDtg88IWwDsE0qYwlYB9TDIQ5pe94PPLMBG28HmP1z/GtvDtv8NvCTtk4saig2C7LNtEIQn8WcGbkz2TBQkwTfADT9rTKKv1KAGLJ1kYx1LXdG3vvu8zs6YUFm5+Qv82rVi5bs2arQWFW/LzN3/xxY78/E2rV2/MX7197Jg8VmDsFYGL6Cayw4RGitAMwmk229977+///e/Rjz5aiUQrMDYlFxSFMEYoQlAjwlap+gxJ+vrmjxUtIxBm4ODFS3PGjXs9Lw8kTWTwvGyy7Bg7NjM7Z0py0ihGvLTKks1stj3//GtvvjnH43mBSPDQCoJTljwjk9Kyst8ZNfpVDE9g7MjsebNJsi07Z1p2zlTozwo1xrwCGZ5bxk11EmKViBMjS0ShlWdqR4xw5+bMTE8fQ4hDFK0I2KE2WXYR4khM9CQkJBPiEMTk9Ixx2blTPakvPvMMiPMh0S3J1udGuHPzZk7MnCKbbQilmM2ehAQrQiPGj8/OyZkxetRfBFNSotklCikSdiSaPQnDkoAEK9kslvS8vFlvvPGWLFsQsomiFWM4nSCkcJEGjO2SDBT54cM9MAABSp146rAvOzNAcbJiTCiTgh5igg0jx3MjXBMmTM6bNDM3d/pbb8+dNWvh3Lnvz5//yf/9ffknn6xauiz/H/9Yt2LF+pUrN+YXbMkv2LI6f3N+wZYC9o9v4b/5lt/1N7TtWb2lcM3W/Pz1hYWbCgu2p3lfNQCLA/UjAyyNtQnprU4Ap2bNmi3wyCFQjHz8/2TiBRElwcFy0m7RZEOCLRGW9jyi4DBLacP+aJMIW90TLFiyJkqjkOCSsDNpZPqihZ9/+P5Ks+QlogeDKqZTkjygpiC5uQjBA0pn+nqQ+ip+hvIUkxUS3tgjS17BxHREkV0iXlGAbqPQeZQpXhEIQoFpJQouBLlqKKNDyCYIVozdZrMXFh9FqLiWJM8f/5iUONwN8CGnmhLssCYI6TOPxBiYhLCaZOCOAY3gZEmZKCYBp5yAgJccU4CIyYFyNQh++TzIEgACV0S48QAAIABJREFUXGY5A6NUJAJ0sujYzhxPF+v9k8o1cNiQ4OwYQZcNoLCzEQKt35w27I8WhJhOFovdgE+PnYLJmmj2sswgP6CNYVaKILDujeBFggp+X3bGkhUTm2z2mEx2kcG6LLmcjpdmzJj92efLV6xYXVC49ssvv96//2BR0ZHS0rLz5y9dvVrf1NTa1tbZDd3DIoqiQ3lgTDeZPyZP5jdvV6EodFLeTAOwHjFgQQzISU9MykBRaUHBNllyP5F4kJ8U0LP3TuPecyQaaW9X/zR6Ajz8xCOR1IQ/2ocnjkKiWxSSRmWM37Xr+5s3O3oC0Y6O0A//Per1vARf6QAZMQ1yJl8F3RP6fGD6yK30JS+DEdTTMCY306IBIEgjGPAICS5ZSsVQ4wL5Y1FwsCJhkIIA14Z4zTLQkSB3RjwJCSmwokc8pgSHRFLNchpDBweBSNYWl3YxmSyy7BJFK8jGI68suxSNFpeeGj4cmFxs6QAAGiMXqzeC9UGGznD5TDDHiUSPLKUj0UMIlMtg5BUFl2AC+Ree5EaiEwGlwEmQR8JejNyylDrsjymwAyj2xZStkOgcnpghCrDEKZqcIKAMq5x25hY5GXCznWH8QHCD1mfIIYATCojcl/1FBFIQrJ2HR4JadPvzz786ddrcv/313Q8/fH/ZsiVrCgu2bd2yZ/euAz/uLy0prjtbe+XypabGhva22z09XaFgQAWpa0WP1TzHmgw+tsSGqoNkYC/nBtrcU0onvjHZAKxHD1i8HjSu17GmcCcSnL2I8bj/8ja8bAUQUAsk2Rh6FRbuYOwEK0Y28CmQkyDHvPc+r6g4E42qUSUSCge6uts7u9qbm5trampnzfhAJlAfw5LrDgLhmF1iSNHXM3Pf7X0L+Llk2fuHPyZJsjNxOIj8MSeOq3Gy5Ujm4nHZGZal4upXdkGwQlN75pswVioADSvKc8tSminBwYkOBDI1EOVxzGJoZWMrBqmmBDi+nGjB0kiTKQUjKH9hB3HzxdCEBGuiOa03BIPsD5M5dspSGrQmA4kFYGki5i6x0hlYiIAkt+SUpVTG/odCbuZGuWWovImpYkE2kInGQDaKlVhyRAZPlpUN8Be8HIdJ9EC8jHFMthSWPvr4YuCsUVZ3nTJyhPeVVya+9faUOXNn/fXddz/84IPl//jHurVrN23cuGf37qJDh0qKT56rq7t29UpLc1NHe3ugpzsUDKrA01PhZuZ5otide9d33++elYVT8pIy3t8wJ3uqAVh8Hh5ZSAiHi80ptEXSdJq/eisWXaxyPfokfkOqXadhSsM6Dal6iFKtvv56ctILLD9tM5vtXu8LO3fu6uoChpES1VRVV1QlGAp0drZ3dABgXblypbb60sYN/3rxhQmimCRJdugikZgq9C2H0teD1JdEsswU2ROHewXRAj3rWWqfp8/hI5DEcSWYQE5LBkkp6GSBkFUQkxKHu4BzAHBgkyCxxVcJ3QxKIIZleRyHIDgJ9jLaF5foSsXIQzBIcZnlDFF0ijgZ4WSEXDIULYM6syg6hg2zABsAceU8aG9jNrtMJgvDLAgVAaoACgGAWMILpBfYOoadOXRWproH4SrLXtsl2ZnAFGYQtA5KwcTOxPxAy0GAywQfNgZDvJsOcoLPaE7t7dUIpA2O19zJ6svOLPC0IdGSljbmtdeyMrOypk57e+r0t+a9N++jv3/0+WefF+QXbNu67btvvys6VFRaUnqu7tyVK1ebGpvabrd1d3UHA0ElqqiqBtziOEbFMOtx/NGprrLuYGwFC6IVSmlO1nQDsB49YGmsfxtzYsHk+fmbZcn9u38b9RVzsnVK7lVFI4zsrtDFCz4VxZRnn/VMeedvJSWnuAk0TVG1sKoAxTESiYaCoUgk0tLScqP1xpUrVytPV/p8ZYcOHZs69V1zos0kWIjsgiZdfXzD97W9ryYUCNuhS4XkhjaF2MWEU9wIOyTZRSRXgikFnCCzV5I9fDcoxCP2xESQlMIgasqbZVkTEizDh6f2djZ0stDPIcu8XQVw60XRwUTWYb0flIvNoB4him5YA4WcvYcQr4it0N5CtJvNIP/ArgUyaJCigsptCLJEETw7WWYVkcgBzHIM/xVFh8nE4zVY4OMrbuZENyYOk5BCJJcEYjKgvQPpPNktIpuIAJH5uht00zB7zbJn2DAL79bBtZXBJgIQzTgE87WFvozMhFitI5O8zz8/fmJmdt6k3Elv5k2dNnX+/PkLFy1aumzZ6vz8TZs3/+err77//r8HDx4sLy+/cOHCtevXm1ta2js6enoCwVDoZ8XQsfurt26rr9vtUW0H14rftXfBowFYcWM8Mg8rxmKAA6sUXBtaWLiFNcV9VFPZv+MwjjtbWAdhNrgH/KVnMtLGFqzdwMqGAUgZEYOZggWMqqqFw+FoNNLV1dnR0dbc3HT9+rUzleXl5b4jR47u3fff5f9c5/GOSzClEHCL+odZfbX5YuJZULcsSWkiqLV4MGEIgp0IgxwwgpYNdknyCoITQ7Ic8laEQItDgtNkMgrYSQBw3NVywXZw06xLlxWWlFbv3nNQNltFlCTJVpMwIjdv1qrVm9Mzxos4CYPgejrCDoaVqRh7EEnhwvM8ZONcM9bhAvj9BIPXxqAKojOoXsQeQUiGWA/SXozHL0IMCHL12CFCcSX4aObEVBMEcWwH2M0LddqSG9ZbgWTA94TlPC4WxiJNJyFOho+Qnoe4UnSwxquwsPsAhVW35/m/vDoxMzsrd1LWW1Pypk57Z957Cz/8YMmSZUtWrlqxfuP6HTt37N67+whQsUqqqqsuX7nc0NjQerO1s6szEAqEIiEFvsBA1uMuF4tnFPiW/t2H/U1+6RTYziyJFZNF0qH5mOFhxSDrkQHWHe2zmE9FCwq2YAJdvJ/UD/+m4lJWuq63trbe+90VHxvXRYpGo+FwuKenp729/ebNm/X19Wfrqisq/CdOHP/22+927dq7Yf3WvNwpzz6TYpZBrYmt/TkEiHEAXxBmy4ix7DiEMKy/sfMRNokgjO1NJDtnY8FKoujGopuFZnaMPDJJR6K9sHCLqtKGhrbNW/ax5xwefiS4Cgo2Ukqzs6YjaLeVilEaBr1AEHsAcjn4WcCBAKAU02RplElIYUxXLybJREph52VyVCAoChxaZgF3fJWQ8VfB4eovoPe1P8hgweKmm0ArM4hA+ZXKZvDsQOhd9GDRhUXryBGu558fP2HChIkTJ+bk5EyZMmX69Olz5sx5//33ly5dunz58nXr1u3cuXPXrl0//vjjiRMnysrKampq6uvrW1pa2trauLYfF/aLS6fFb4/H9wJCwN6EK5wVCIQ52cYqYWwGhixg3YtN4XCMpnjfm4+LyUSj0UgkEggEOjo6bt261djYWHu2urLylN/v37//x317v929a19BwRcf/X2Zx/OiKCYlmmHFCoIpxtiC2Iqt2fHkC38ICYFug309kP3f7pYgHLMlmJIJhqaEMuTCwaWSJAcoDic4BJOlrKxK16nNlsZ8MWC6suqWtIKCjaqm5ubMghU97DGbUxG2isiCMChPQAW1CNlxlvv3gl6o2Y5willOl2UvsBnAufOIopuFkNBwjBDo2YVEKNnj7ctYv9g+k+L9vd7elUfojRb3+8CkbOlWlrwYqnYcHs/zr7wyISsrOycnZ/LkyVOmTJkzZ868efMWL1782Wef5efnf/HFFzt37ty3b9/+/fuPHz/OZZQvXbrEFbI6Ozt5CXS8Ldh9b5LHsdEArAdaeYgDFoete8HrXpvwHAVXQA4Gg11dXe3t7S0tLZcvX66rO1ddXXP8pxP79//47Tffbd26/Yt1G5avWDH5zWnQDgey2qmSlGqCBI2VPZCAUIysFOsw+IAQpr8PsIhsnMv6zLPpkE4SktPSxmdnT88Y9ReERyJkMcveSZPm1p49R6Fs+K1Ro1+Drg1A7HIR5F6zdrOma6z7HjhlJtOI8S9nT54822obJQjAimJCFHYRJWVkvJaVPXPU6HFEShZMVlFw26wvZWXPGJmUlpb2l5zsd0eOzJBlKAniJPvYC+SQJUhv9fe6+toftDFAT4ZRfBn0c/SXcJqEUzGyPzPc+ec/j3tjYtbEzDdy87LeeeedGTNmvPvuu++///7HH3/82WefrV27duvWrV9++eW33357+PDhEydOVFRU1NXVXbp0qbGx8datWx2QvQJhrHhdzsPcMPfeQo9miwFYD7TjkAUsftX8zuPhHrjXTOn4vgbhgMVVZXhU2NXVdevWrfr6xosXLtXW1vl8/uM/HS8qKvr666+2bt36xfo1y/+5YuHCv2ekvwyceJaZjsVl4IZAopp3weFLb309kP3dLpt5OwaotUYo5V//+pb17oE4/ERJudWWhpFdg7boUB2l63Tlyq1mOZV1A3SJJmd+wQa26jTDlGC32UeX+iu5QEQkSnf+6xtCbBIG8eLNW/6tU6qoIMBQXlFjtY7CyJmbN0OjtLbuvMoaynR0hqfNmIUQMKSAjivakGgHV0tyPcKQkDHm2MWKTijwhrwefB9I2CNhh9Px53HjXnv9jTdycrInT8576+3Js2fP/tvf/rZo0aIlS5YsX748Pz9/69atX3311TfffHPo0KGTJ0/6/f6amppLly5duwY97uNC73GV9ydc/GwA1n2fz96NQxmwOFo95LdlHLBUVY1EIsEg9Jjo6Ohoab5RX994+fLVM2eq/P6y4uKT+/f/sGfv7n//68v169evWr16+fIVb0+ZMXy4HQlWGZbwINXCSEZxLyPWSq+/2HTf/REBxgAEoaJ90eJPVY0ePlKcnf3OipWbdEr3ffsDRrbMzGmXrpxXdSU3Z+aoUa8JJjtTRncmymkrV61j7T+nDTen/eerbyhT0cvJmXH4cLFO6fz5nxDkXbhwKaX0xwM/vfnm7MI1m6IK3bN3v0Tc2TlTNaqfv3hh+ox3F7+/tKMz2NDUIBEX1OiASwXxKRvzg2R27ntRD9gY43kwLisTdwUeLMbWZ56xjxo15tVX33j9jddz83LefHPy229NeXfue4sXL/773//+6aefFhQUbNiwYdu2bXv27Nm/f/+RI0dKS0vPnDlTW1t75cqVpqam1lbQHY23pVCUO8uDvU/Hk/hrANYDrT6UAatXDAtuAVbneEf06l6b3O2L8dR7OBzu7u6+eePWjdabLS0tV65cOXfuXHV1VXHxyUOHDn7/7f69e/Zu27Zpw8Y1BYWrP/nks+f/PEEEFoKNM8v5kwZ9qEBVJg5e/VtbvM+TDF0Ogc1AiMPnr4qq1OEYhVGKLDtqztUxkSm3RGy+smJKdSI6TEISY4FCpSESnKtXr6eUTsqbjUWQ06s5W0twChLsKSmpqkb9/iokwGFVnVosIBojSckXL12PKlTC6ZkTp1NKCwo3SMQmmqxbNn/NxKpmD09MhewVEMQcbBkRcuT3GXk/11X5EUSRN4h2y0DWdQhCcuJwu82R8fIrr054/Y1Jkye9+eakt96aPHfO3AXz318478NPP/10xYoVa9as2b59+1dffbVv377Dhw8XFxeXl5dzx+rq1as8y97R0REIBOKNv7hj9ZBfb/feP49siwFYDzTl0wJY3IH6xdsx7mdFo1FFUYLBYEdH+61bt1pa/n/23sMviqv7H/9vvp9f3J26aBKlbAcsT0wzxkq3g2JvseVRo8aOgIqKYq/YkV6k96L0uvS2vc/O73XvxcnG6CTk0biQ2Rfi7N7Z3ZlzZ96cc+77vE9fR0dHS0tLQ0NjeXlFfn5+Tlbu0ydP7t+/c/160uXLl2Jizhw/HrM2avPUaWoM98VBcS/sAApz8DylJOO9saEalBrHVRQttTuBWChF+YL2Ypj0yrVrThcLS3kURSUFLMuSmD9Fyz77zE8s8gWwgqnOnr0MUCYoKjR4IxAXPRtPkyoan01TfnWv6ktLq2hSwTBsWXklSfhShJrE/ZKSbrMsi01Rrli2CQrUJNKkmsT8N23cx7JseNgW2A4WMFdRG/o3Xen/Z2iGADf2mWApE/hWn3+pnDn7m4WLg5YsXRIWHrp8xbJVq1dt3LBh+7Ydu3/a8+vho7GxsQkJCcixevbsWXp6Omr5VVdX19zc3NUFetkPDQ3p4MNkMqGJ9hS0GmNfC6uE7wWtyQ9Y6NQRVP0pYKGdkaC70+m0Wq0Wi8lg0Gu1I4ODAz09PR0dnQ31jTU1dWWlxQX5L9PT0p8/S7l9++61a9cuXDh/OubE3n0nv/0ujKZBT3ak1QcZA5Di8LdcjLcQDQPt6QMAKYHw7u7t7+ruA0woYg5JqtKzsoCCFaamCFVJeQnwtrCZoLaOBCuJoKiYnhkTk8CwrvCw9bMCFzsZZ/Kjh4TYnxLPJXFfvcFYXFJO4L7dPQOa7j6SkJJYoIRSp6bmMi6WpuTBwUBh+cyZBBIHHcm2bt3rYu3BwRtQRhwD7WPlgDwBm1G/ddj/w1MoAgNa1cu9feZ8/e2iJcGhQaHB4RERK1aujI5ev2XL1l0/7Tp44MCxo7/Gnjl99erVW7duJScnp6Wl5ebmFhYW1tTUNDU1oTBwaGhoeHjYYDBYLBaz2YzQimuqiv5cvfde+WcGBA+L186TGbB4T5xvEF24KFVvgw+LxWIwGLRa7fDwcG9vb0dHR3Nz8+vXr8vLy4uKirKzs1NSUh4+fHjz5s3z587Hnonfsnmnr28ghvkAfjauwolAnPCHFYgygCA0kJFBvXPGfScDXWYFCDxJv+RHGTYHG7E8Eqem+fjMHNVpuwDQqAlMVVJayQD5PR+C8EfqUTjhR5A+p2Muulg2KGQ5RUq7ukZ1evsMHyktmRYSttzJsI8epVOk9MGDNLDCGBJBS6b5+MpHtZbunlGKkKEe7lev3iEJX5qUFhWVu1jbd98tl9BAZAJSpcaydTzKq+8/3wAcVxEggobtPMCypgIK7ykJsc9UL985s+cuWbIkOCR42bKI1avBUuDWrVvRUuDx48fPnj176dKlmzdvIq8KERfq6uoaGho6Ozv7+vpQ/+e3MlZcp5y/+JeM76L5UGMCYPFaUgCsd5sH0bIYhrHDh9VqNZlMCLMGBwd7eno6OztbWlrq6uqqqqoQZqWmpj58+PD6tWuJly7HxZ4/cODYggXLQHgIqeSgQwSsQEQKpYCrSSio8as+0FCoAAoSeM+es0BvcNkdbFnFK50OKKJEr98qniIncXVxCRA49gJNUpGwDCw8pvzi4q9a7WxYRBSO+UWv2+1wsCYzU1RcyTCs3sD4+39L4H6zZv6o0zkcTrasvHZkFBRaRkVtl1DK0JDVoOjSyTY09Gg69SzLlpaVAp3lKYDMQYLG9IBuho+/0JIg4NInIN8CEgOU8YFsCdDN0E/uN+fbbxYELQ0JDg4ODQXEhQ0bNm7ZsmX37t2IEXr27NmkpKRbt249evQoKysLkUJfvXqFHKve3t7h4eHR0VG9Xm82mxF9AaXYBcB699Xvwa8KgPXeyeHyWRzXwWKxmEwmnU6HsloajQZmtRpqampKSkpevnyZnp6enJx8/dr1a1dvnD4df+Jk/PoNO6d7qwnSG7LJgS4N4Mcj9jZoZA+omOP6EU2RAXo3oQCyfJiPf8D3Dx9lFhTWpKeVhYSuhD111HCl75e4+EQcA40bUAYNckFl4eGbYuOuB878ERTTELIVK7Y8fZZbUvr64aPM2bMXEARQ5qJpZUDAvMdPsvPzq7KyyoKD10okClwsXbYsmmXZpKs3Hz5MLylujI+75u2jEovAKUgkY323aFR0Pf5aS8lUhQgQwWRgiQBXYqB5hMKLVs6Z9f0P85YsWRwcEhISHh66atXKjRs3bt26fdeuXQcPHjx58mRcXNyVK1fu3r376NGjtLS0oqIijhTa2dnpzrRC+XUuaYU8aI8IA92vQcHDcrfGH7YFwPqDSX7/ArqsUVYL8eARrdRgMIyOjg4MDKAIsbGxsa6urry8/GUe4Go9evz49p27SVevJ1xI/PXYyUVLQmgK6MdDNRs1RQLFKwIU9I57NU0imUkQKpEIdWwHegk4aEwPZCRICgSbJFCLDxSJplO0H9R+AZXMiKQOVvHEUgmtFotBYzHgCuEykG6DqwRA9YFUomb3Uz7zpigZjFuBLg0q7gsOjmRcbGx8AkFOJ3C/KZ/N+HwaUEBEASAS/AJrkRhwkcaFwsDDEvtIJGqoPqYEViKkPj4B33+/eMmSkODgsPDw8NVrVq2LXrtp08Y9e0Bl4MmTJ8+dO4eWAp8+fZqVlZWfn19eXt7Q0NDa2trV1TUwMDAyMqLValF3CY4XymWsQIL7D2XGv5/8T/FMACxeqwuAxWseeE1zKS3katlsNovFYjQadTrd8PAwihDb2tqamprq6upKSorz81/m5eU+fPTwzt07125cj4uPP3nq5NYte9Sqr8Uib6DPCcI0pAI47pIdsQgIXYGSFLhwBnmbKigorMJhdQ50wdReXv5A6RiUIgNWFKjLATKeQAsQNlIMpEh/wIAnAIvKyysAiSUAaQSRnKb8p06dKQalyIBiDiT3gNqqMiRkHRCSPXuZonwoUvblF3P+7//5cJEg2BOp/cHi5/ECFuqrCMWw5F5eCn//rxYsXLw0aElYWFhERARwrDat37Zt686fdh46dCgm5sy5c+eSkpLu3bv35MmTzMxM5Fi9evUKoRUKA3U6nV6vt1gsVquVo1lxLOI/mfhPNSwAFq/lBcDiNc+bQQ6zOFcLLTPp9XoEW729vd3d3W1tbXV1tSWlJQWFBekZaSkpz5OTHyRdvRIfHxcfl3Dol+MLF4RRpC8GvAkV0on/Wzc2kJTBMVA5CPBCjLwthUgEckk4rpBIAqdM8SNJNdTwQ7JZABmhkhTEKRxotmCYnILqnUCUBnA+gdACDTjr8ilT/GCNJBBUgLoucpHId9asRbFx14KCoygKKL6j4kQkvgpVkqGCIPDRgJM17vMCKl2gxfz06f7ffrdg8eKlCxctCA5ZvGr1qsjINWvXRm3esnnXrp8OHNh/+vSp8+fPJyUl3b179/nz5witqqqqEFqh2sDh4WG9Xm8ymdBSoHvNzScmsr+5ot77vwBY7zUNGBAAi9c8fxhEyXjkaiF+KfK2tFotihDb2tuAt9XcVFZW9vLly5zs7PS09Ht3712/ev1iwqW42LM7duydNes7DJ8BVECpcdMdQJ9n1DwGaI2qxSIpELei1cBF8gqEcjRyMahJ9odKNSoCIM7Yt8DGhbBsmFRStJIASqQyCfDFZDihgLWQCtBaBpehhQIxJiOBUIwCNNeiwOokwkTItPKDqXEQ+oFGD9CJg61YgfL93yr2lk2bpvT3n/vjgsVBISC/Hh4esWZNZHQ0Wg3ce/jw4ePHj8fGxl67dvXBg3tPnz5FUFVRUVFfX9/W1tbZCRrQo1IbrjYQFTO7p6s8Lmn11jUmANZbBvn9UwGwfm8Pt2fvu7I5b8vpdKI1RIRZRqNRq9X29/drNJqurq6mxqaGhsbKiqrc7Ny0F+nPnjy9c/t2YuKlixcvHT8RExIW+eX0mUgxalzOCMydI1kb4FtRlAr6RDISKI4qREC+GchpAbQi/HEgGQroUYgbheMg1QW1Sf1wwg8npLREJRL7Ark+2MEMQBjuS0kUUH4PkuNx0NmMAF3OQKdr2E4xAAaJCtDkBjaFBccPw0CUwEJ9JcZ1UgShmDHD/5tvFwQFhwSHLg1fFrJq9aq1URs2btj5876f9+8/cOTwr/FxZxMTE69du/roUXJGRmpeXl5ZWRlaCkTEhYGBAZ1OZzQaLfDBcazQfHHpKm5DyGG5XewTZlMArL85VVwynltDRLyH4eHhoaGht7haL1++zM7Jevbsya1bN2/cuJGQcCEm5szu3XsCAmYShC8UGgYtHghCLcbklEQtxmH3GiiCjkjzULMFCKiPFwg+3f4g+QXlaJCYMmx5TSoIygdQPUDvnEASNLCQTpumVKvnLly4cOnSpaGhoREREWvWrImOjt60adOuXbsQceHMmTNJSUk3b95MTk5OT08vKCgoLy9H5PWOjg4UBqLCQKvVarPZuBjQgyjsf/FCEzwsXkMJgMVrHt5Bd1fL4XBwyXjkag0MAGZ8Z2dnY2Mj5GoV5OZmv3iR8vTpk+vXr1+8eOnSpcRjx45HLFsn8ZJBNSvAY8IJJQacGhB/AWcKbmAY6KwHQ63xcSA+HVrBXj4UCg+BWwc14AGEYWBdcqxLEEFIZ8wI+GruvKDgMKS6t3LlysjIyE2bNu3YsWPPnj1HjhyJi4tDNczJycnPnj3LyMgoKiqqqalBYSDq2zwyMoIyVgiquPy6uzPFO5OeNCgAFu9sCIDFa54/G+Qwi2EYJ3zAah6whoho8QMDA11dXc3NzQ0N9ZWVFQUF+bm5uS9evLh///6NGzcBZh2POXToxJw58z/77AuJBKSrQbIcNhAEGsRgA7UOBZotsK/ExMAsALiYDHEdaNr/jQ4f0A4DjiRo7OqnVM6e/+Oi4NCQkNDgZcuWrVmzZv369Vu2bNmzZw8Shzl79uy1a9dQDbM7I7S1tRWFgcPDw0jNCnGs0BR4elqd/6ISAIvXPgJg8ZqHd5BLjnAbDMPYbDar1Wo2mw0Gg06nGx0d7e/v7+rqam1tef36dWVlZVFRUU5OTmpqavKD5Js3b547f+74iZMnT8YuXx49fbo/DoJB0G0UtiMF/QehQCBo4/pGbX2iABZaKARdCCHLH/Q6pGl/SA2TfvGFau7X85YGBS9ZuiQoeOmq1cCx2rBhA3KsDh06dOrUKcRfv3///pMnT1JTUwsLC8vKympra1ENc19f3/DwsE6n46SN3woDeafOgwcFwOKdHAGweM3zZ4MIqtBeaBv9kXc4HMjVQqJag4ODAwODXZ1dra2tkKtVUlhYiCoQ7967ff36tbNnz50+Hbdnz6HZs+cThB9JoGBQBdudAi1juBInJckPJ1MFRtWMAAAgAElEQVQzTob9eKPLNzRUFeCCQeE9KA7jSxAz1P5fzV+wePGSxUuWLg4LD1u9OjJ63catW7fu3r374MGDR48ejYuLS0xMRIrGXA1zbW1tfX19a2trd3e3e2GgxWL5Y379rWDwrad/NqufdFwALF7zC4DFa55xDrq7WiirhcRLdTqdVqvr6ent6tJ0dnY2NTW9elVXVlaam5vz7OmTh8kP7ty5ffHCxfj48zEx59av3zFjuoqiZVOmzIDdAwNBF2jQVgf2ffjIQDNeYHrf/rB7K1hYpCh/GNVKKcpv2ueKb779fv6CBUEhQcuWh69avQJkrDZu2b3r5337gJRVTEwM4q8jxyozM7O4uLiysrKurq69vZ1rGKHX69Fq4B/z6+OcMc/bXQAs3jkRAIvXPOMc5EqmEb/UPROv1xtHRrSDg0P9/f3t7e319a9ra6vLy0tzc3LTUlOfPXty8+a1xMSL8WfPHj16Yu/e/V9/u+jL6f4YiBAVoDUOoQK92gFfYWKEhBSQlABsfohWMpLykytn//DjksVLlwSFBIeFh61YuTwqKnLjxg07d+7c/9/9qFUEJC5cQxqhmZmZSBymoaGhubm5p6enr68PSVkhtEKOlcPh4JYCJ5In9b5LSwCs91kGvi4AFq95/mzQPSREvB7unkFDCLlgJx6LxWzVanVDQ8P9/f3d3ZqOjrb6+ldVFTWlxaW5OdnPnj1++OjerdvXEy9fOnX61PGTcctWrPfxnQMT7SqSBNRQHB93sfSnAjhI+AJt6MUi6bRpAbPnzF+wKGTR0qDQsLDwiGWrVq/ZsHHj9h3bd+/+6dCh/WfOnEClNvfv33/8+DEnvl5TU9PS0oJU95DiApexstlsqCqQa8n11lz82dR56rgAWLwzIwAWr3n+h0EOsBBji/O2EF0L9T3s7e1Feg+1tbXFxcV5eXmZmZmPHj26efNm0pWkhPMJBw8cXrQoDHScFvmQpL8YU+OEGrYUkxOUH4Z5g67LoPx43I1dPxSQ4YQax5UkpQaEeFh7iJpu0IQ/ELmnfORy/x/mzw8JDQkNC12xcuW6des2bNiwffv2/fv3Hzly5MSJExcuXLhx48a9e/eePXuWlZVVWFhYUVHBcawGBwdRct1dzth9NZD7C/E/zJUnvVUALN7ZEACL1zz/2yDCLPdqHsTVMplMer1+ZGRkaGhIo9G0t7c3NTVVV1eXlpYWFBSABcTk5Lt37l5OvJyQcDE27vymzbuVqm/FmC9FA2YpSaqmiHwxzM/LSw0IpWIZJh5/7d4HCi0xICUImPRisQx0PCXUYpGMJv0xke+MLwPnzJn344LFIaEhYeFh4RERkVFRmzdv3r59+969e48ePRoTE3P27Nnr168jjhWHVq9evWpubu7s7Ozt7UWKCygG5BQXONbuZEMr4KXDf7/JSAiNVH93EwqA9TtzfIwnnKvFVSByFFO9Xu/OL62rq6usrES6Ws+ePn3w4MHly5fjz56LP3vhl8MnFy9ZTlA+JAWI414SwGwSTQFdEQFMjF8I8EN5WJREiuGgRgdwF8RKmgqgQY8MX5Vy7rffLFy6NCw4OBT04FqxPDIyasvWbbt27dq3b9/hw4e5rjbJyckvXrzIzs4uLi6urq5GS4Eovz40NOSeX3dnhE6SAPCPF5wAWH+0idsrAmC5GeNjbnKwhSimqHDabDYjmZqRkZHe3t6uri6o91BXUVFRBHgPWS9epDx8lHztxvWLiZdPxcTt2LlXrf5GLJouFvlKKNBJlCIDAGnrA7lLf+NzMMwXlnCrSBzgJibymTZNPnfujwsXBoWERCxbtmL58mVRUZFbtmzeufOnn3/eDyhnsbEXL168ffv2w4cPnz9/jqoCq6qqGhoa2tvb/8hamIRLgTxXmgBYPMYR1Bp4jfMhB7nwkIsQkRwgCg+1Wi3SAtRoNJD08Kq6urqoqDA7JzMt/cWD5Hs3b9+8dv06WEP89fSK5dGfTwNqpTTlLxbJoRDguFUf/gY2vfMtEDGVBK4CEqa4r4+P+rvv5weHBgcHAfJ6ZOSadevWbt0K5Ix//vm/vx45isTXr1+//ujRoxcvXmRlZZWUlKBSm9bWVo1G8xYj1AEfb8ktfMiJ8bTPEgCLd0YED4vXPB9hkHO1ODlArmkrkgNEflZ9fX1NTU1hUcHLlzmZmWkPHyXfvn0rKSkp9kz8saOndv20X6X8WiSa/vnngWJYqfdONPkHXsTFapoKwMR+Eol01qxvFi5avDR4SXDI4uXLl61Zs3r9+ujNm0EN84H9B47+ejQ+Lh6Jrz98+DA9PT0vL6+4uLi2trapqQnVMA8NDaEaZi7F7g5VH2E2PO8jBcDinRMBsHjN89EG3RlbnEYNp/cAKxA13d09TU2NNTXVZWUloBNidi5oKXbr5rWrVxMSLpw4ERMeETntcyVKIf0D2PTur8AVFCnz8wv8Yf6i4JDQoOCg5cuXR0WtXR8dvW3r1r179v5y4ODpk6cTzidcSbx85/btP3a1QemqwcFB967xyCYOh4PzTD/aVHjYBwuAxTshAmDxmudjDnKuFop6UD8x1G5aq9WOjGh7ens7Ozu6NF0NDQ2VFZUVZVW52fnPnz1+9OjBnTs3z58/d/Zcwv4Dx+d8tfjvipd+gOSXl5di9uwfFi4KCg4NDosIWbFixfroTVAc9KeDBw6ePH4yNib20oXEmzdu3b93//mzZ8irqqysROLrSHVvdHQU9WFG4jBcSxuuq8375mESwpkAWO+bbPi6AFi85vn4g1xKC8GW3W7nMvHDw8NoDbG9vb2xsbG2tra8vDw7Ozs1NfXp06e3bt26dOnShQsXjhw5sm7duqlTVSTgwSshLV5N0QEYLgcCe4BxPqZIhWReYIeI9+a8YNtXoGwDWfXoN5Syon1wwhdIXOH+JB5A4kqaks+Y7r9gwYLFixcHBwcvX7589erVUVFR27Zt27t37/79+0+cOBEfH3/x4sWbN28+fPgwJSUlKyurvLy8uroa5dd7enpQqwgkDsN1jef6RExC1sKfXlECYPGaSAAsXvP8I4Pu4aHT6USkB9SbB2nUIBXTtra2xsZGsIBYVJSXl/f8+fN79+7duXPn0qVLx48fP3Dg5OzZP2IY6D0DekmI5RKvAIJUAml20DFQRhBymlaRQNFYxkODAELvpArtCYmgCiSFjKGOYaSawJU4JvWSyFSqOYsWoe5b4StWrFi3bt2mTZu2bdv23//+9+jRo6dPn7548eL169fv3r2LGKFIdQ/V2XR2dvb393PiMFb44BpwIb/pH7G9532JAFi8cyIAFq95/sFBLkJEyXik94C8La1Wi1RMkRxgbW1tZWVlfn5+Wlras2fP7ty5k5SUdO78xWPHY6LWbvXxnSUSedO0SgzFkTExEKuBsAWag+GYHDLj3xsMghJroG8jJ0EXMiBrA70qJUnMpMhAAmgue/v4+n8/b0FQcFBIWNCKFSuQQOj27dv37Nmzfz8gLpw7d+7y5ct3795FyjB5eXmlpaUouY7qbAYGBrjkOmppg8LAfzVUoYtNACzem04ALF7z/IODXDqGo3FzTS5Qx+nh4eG+vr6Ojo7m5ubXr18jVysnJ+fx48d37ty5eu3K+YRzp07H7j9w9Mcfw2haRgGKKYAqsViGY0oJHUhT/rAgUQYjvndjFlLdIgmgY0XgQBwG6giqcMwfx+TTpilV6jk/zP8xOCQoJDQoYlloVFTU+vXrt27dum/fPiRnfP78+WvXrt2+fRv1iUA0K24pcGBggFsKNJvNXBjIrQb+gyb3yK8SAIt3WgTA4jXPPzvIYRYKErmsFlIERCqmg4ODSDC+vr4eMePz8vJSU1MfP7l///7txMuXYs7EnToVHxW1dfr0AIqSEoRMAlt4iUUyAECgdaAMNBl7D9d0rEM1iCKR5J4aNa2gSKmPT+Dcr39YvGRpaFhIeETY8uXL161bv3379t27d6OMVVxcHGKEPn78+MWLFy9fviwrK+MyVogRqtVquVYRnKKxgFa/XWgCYP1mi3dsCYD1DqN4yEucq8UVThuNxtHR0ZGRkYGBgc7OzpaWFpTVKiwsfPky+8mTh7dv3wTSWhcTY2PPHzx4/Mf5IbTEVyyejuNSmlJDFVM1RalEIp/3ARZNg4QXzGSBeBC0xiF8vKbJ/ANm/zB/QWhYWHBocMSy8Ojo9Zs3bd2yeQeqYT516tSFCxeQY/X8+fOsrKyCgoKqqqr6+nokENrf34+UYVCvQK6z6b86v/7O60wArHea5c2LAmC9sYTn/c85XO4UU6S8jJjx3d3dHR0dSHm5sKAwNycnPS314cP7N25cS0xMjIs7e/Lkmci1G9UBXxOkL0i34wocU8Cmp+9dJSQI0Caaovynes3EcZlI9OV0b+Xcb35YuHjR0qCl4csiVq5cERkVtWHDxu3bdx7Yf/DYsWMxMTEJCQk3b9588ODB06dPs7Ozi4qKULtATnwdhYF6vZ7Lr3PiMP/GpUCei00ALB7jCKU5vMb5JwY5VPrjl6EhJLPFVSDa7XaTyYQqEBEzHkmY1r9qqiyvzs/Ly87OePbs0d17t2/evHE+4fyJ0zEHDx3/cWEEScph90B/sUhKgQb0785hEQRoz0PgShFo/qxQKOfOm78Y5KtCgsLCw1etXrMuev22bdv27Nlz4MD+Y8eOJiQkXLly5TZkhGZmZubl5VVUVLx+/bqxsZFjhOp0OuRYoRgQia//6Ylzp/9Hy0zmVwTA4p1dwcPiNY8HDKL7lgsPOW/LYrGgOkSUjNdoNK2tra9evYItxYqysrJSUlKSk5OTkq6eP38+Ni5uy9ZtavVsgvAmcQWJq3ESyMKATq4g7pOTtAonZRQtJ4lAsUiKYTNmeCvnfv3t4iVLQ0LDly1buXr16ujo6G3btu3evfuXX345efJkXFzc5cuXkVeVnp5eWFhYXl6OJPdQSSCKAZHkHhcDcifyL8WjP72iBMDiNZEAWLzm8YxBzhlBdzvqOM01udDpdENDQwMDA93d3UgOEGFWTk7Oixcv7t69d+PGzYQLCXHx8ceOnw4Pj/r8c3+KUGC4lCSVBGAt+BOEP4aDDvUYLhWL/KZOVfn7f/PjgqXBIaFLg4LCwiPWro1evx44Vvv27fvll19OnTp1/vz5K1eu3L17NyUlJTMzMz8/v6qq6vXr101NTRqNZnBwcGhoCDXgMpvNb+lYcafjGdb1sKMQAIt3QgTA4jWPJw1y9zkKDx0Oh7vew/AwUF5GhdMNDQ1VVVWlpaV5eXnPnj6/d+/+vXv3Ei8nnjx5+tTp+C1b9qqUX9O0QoxJMUwhFisl9EwMk0NmqWL6dPV//vPD4iWhQcEhIaEhy5YvWxMZuW5d9NatW/fs2XPo0KETJ4Cc8dWrV+/cufP06dPc3FyUsUKlNh0dHf39/Vxn07f6MHOn4El29bBjEQCLd0IEwOI1j+cNonuec7UQMx7pPRgMBqRi2tPTg1RMa2trS4rL8l8WpKWlPXhw/86d2zdu3Io/m3D06KngkDWff66aOlWNiWU0pSIIKYbPmDX7h/BlK5evXLVy9arVa1ZFrV2zYUP0jh07/vvf/YcPHz516lRCQkJSUtL9+/eRY8U1iWhtbUV1NkhyzwwfNpuNqwrk+kR4nkU97IgEwOKdEAGweM3jeYNoTc29mocjPZhMJthPTDs4ONjd3Y2S8dWV1eVl5YUFBWlpqU+ePH7w4H7S1aTzCQmx8ed27Ng7Z858mvb77P+b5uPjHxq2MnJtdOTayMi1a6LWRa7fsHbT5g3btm3Zt3fv0V+PojDw2rVrqNQmOzu7oKCgsrKysbGxra1No9GgqkBUw/wWHXRit2L+h68BAbB4DS4AFq95PG+QIwFw4ZV7SzFOWmtwcBBFiM2NTbU1teWlZS/z8rIyM54/f3b7zq2kq1fOJcTHnz3366+nfvghePqXis2bf9r50671G9etWx+1acvGrds2b9u+ddeunfv3g8LAmNMxiL/OERdKSkoqKyvr6+s7OjqQb4XEYUwmE0cH5bQWuGP2PHN63hEJgMU7JwJg8ZrH8wbdb353zOJ4DzabDRVOo2R8b3d3Z3t7W2vr61egmqesrCwvL/d5ytNHTx7cvHUrMfH6svB1U738Dh86cfjwkSO//nLoyKH9B/bvP3Dg2NFjMadjzsScuZBw4c6t2ygMzM3NLSwsRHLGqAkzqgpExAWUsXqLYIUO0vMM6alHJAAW78wIgMVrnokzyFXzoDVEC3wYjcbhwYHhwcH+3r72tvbWltaG+oYy0JvnZWZWekpK6sMHKZGrt9Gk76WLN86fvxAXf+bMmTPA9Tp7/vz5C4mXrty4fvPB/QfPnz7LyMhAMWBtbS0ir/f09AwPD+v1elQSyLU1RUfiDqwTx4oecKQCYPFOggBYvOaZOIMIJlDDPnfeg16v12pBVqunpwetISJmfElxUU52Xmp66vr1+8TiGbfu3Lpx/VbSlcuJiYmXLl26cuXKjRs37ty58+DBg+fPn2dnZxcWFqIYEHU2RU2YR0dH3dHKvV3gxLGchx2pAFi8EyIAFq95JtSge4Tozi9FESKixaPC6cbGxtev6iorq4tKCnfsOEzTspTU58+fv3j86OHjx48fPXr05MmTlJSU9PR0Dqqqq6uR8np3d/db4jCIuY4WLoUA8H+9ZATA4rWgAFi85pmwg1yEyAnGoyLEkZERJAfY0d7W3Nxa96p29+7jNC3LL3xZkF+Uk52Vk5OTnZ2dm5tbUFBQXFxcVlaGlGFaWlo0Gg1S3XOXW3DXsRLQ6gNcLwJg8RpRACxe80y0QS5zhADLfQGRK+UZGRkBGjU93V1dPS2tzfv2nSIIv4qqisrKmrLSktLS0pKSkrKyssrKypqamrq6Os6xGhwcHB0d5dDKnb/OOXcCZv2vl4wAWLwWFACL1zwTeRBhB0cxfat1q3Z0ZHBwpLev5/ChsyQpbWppampqbWpsQI/GxsaWlpa2tjbEWhgcHBweHkZQZTKZEFQ5HA704QIp9ENeJgJg8VpTACxe80z8Qc734XgPSA7QbDLodIYR7fDx4xcpUtrT19Ot6e3p1qBHd3d3b29vX18fooPqdDpUw8wxQt11rDi3buJbywPOQAAs3kkQAIvXPBN/kAMsbhkRVSBaLWaj0aI36k+cuITjviPa4aGhkeGhQe4xPDw8MjIyOjqq1+uNRiOqYUakUHfHauJbyMPOQAAs3gkRAIvXPJNlkHOCXC7XWJMLu81qdZit5pMnL+O4r9FsNOhNBr1O/+ZhMBiMRiPXgRkVBrqn2BmGmSzm8aTzEACLdzYEwOI1z6Qb5Bwu1sU4HC4H4zh9OokipVa7xWZz2u1Wm81htdohPNmtNrPVZnGxLoBTDpZxwpvJ5XC57CzrZFnwlGUZp9MGVAYZhnW5GKcTbjtZFrDBWBYgJNiJYVwM2v9tm3Jg+vbAv/O5AFi88y4AFq95Jt3gb4DFupwOF8MyyMOy2q0uhrXbrYzTZbFYLRaLwwkEbBwOkK1CZnC5QB7M4bBDAPod+tht9jH4cnvZBbftdgfjBlVcht4dp9y3J53Jx3lCAmDxGkwALF7zTMbBN5gFHR/WuXHjfwMC5jtdTtbFMk6H0wFeRw8H3Aao5mCdTgBd4HUX63KxXDjogmiGsMnFsOiHBf4V3BdiFvS90Lt+wzN0GGPfJPzHWUAALM4U79oQAOtdVvkXvOZiAKI4GMeSJZHBwetASAeCPAA/iL3FsmxnR3dJcWVJcU1pcV1ZaXVZaU1xcVVRYUVvzxB4L3C1wIdwGMcwDmQ5Lr2FgAzs7HTAEPI3wBqLE7k9/gU2/0unKAAWr5kEwOI1z2QeBHcGwzJhYRuCg9YCnwn4R04U98HOF+zZ+AQJ/SWBfeFF+5GErxctFU35/IsvZKdPx9vsCK3syMNiWcbFOgAuMTbwqdAPs9lBbotlXXaQ5HK5WCf4gV/A2VXwszhTjG0IgPW2RX73XACs35nj3/TEhfLj4eEbQ0PXOxiQmWJdDEonIRdJ09VTWlJVUlyzc/t+ApMmXX5UVdmSm1vS0zsAIelN1p1hGeAouSBUjX0Cwiwn9OOAFwZjSC6X5Z60ct/+N9n/PecqANZ7DINeFgCL1zyTeZAB+SbWtXRp1PLlWxgY3EHQAefMvAEaZIDYmAs0JSspec24xkDqyJGTBw+eTE8vCQ9b160ZDQ1defDgYScEpFevmsPD1yQ/fAxuPZbt0vTv2n0gPDxyx4793T1ah+OPYSPaEX3Vv/63AFi8l4AAWLzmmcyDIHBzMI6IiE1Ll0aBkA2mz1FqCZ43vHUgmMTFJlDUjKLiSgRJjIsNClr1n9nBuEhNYDKWYWnKJzR0FXwvW1xUR5G+sXEXGYbt7h7x9QkkSZ+w0PW+Pv/x8f5Pf38/wizOseISXpPZ2H/93ATA4rWVAFi85pnMg+jOYEJD14eGrnfBxBOkTUGIGnOkxlYD42IvEpiyuKTSBdLyDqfLtTxiKy6W1Te+hqkrlsQU4aEboLVcxUUVFC4FgMWy27cfJAi/ktI6hmXKKioIckbcmUvIqPAbGSfjENLuv7vKBMD6nTnefiIA1tsW+dc8fzdgvTl9QBZF2w47ezb+Ek36Aw8LsEDBG4OWRpOEEm7bnU6WxKVhoetAEsvlLCmpoknZqZjTDsa5bEUUjvvEnLkcG38hLv4yJpaHha5mXazTwcD3AoIE8svefO+//n8BsHgvAQGweM0zmQffDViodgekzAFr3YncnzMx5yWUf0FBObIH42JDgzd40QGQvW5lWZYifSPCo1FyvbysjsT8zp69xrJsSHA0gflTRACByzCRzIv6eln4GhR72h02xgUw0Q4WHIXHGwsIgPXGEu/8XwCsd5rl3/DiuwEL+juA3IByWghcYs+cJ3FZWVkNGAXvY8NC15O4HJoJgM633wTNnjkfWa0gv5rAZLGxiSzLLl0aQZI+Wi2AJBdik8K3I+47lzZDRT//BqP/+TkKgMVrIwGweM0zmQffDViI3Q6BCcEW2C0u7jxF+BQVlYOFRYg4YSFrKVzmZJwMqNdht2z6L4H5XLp4u6S4bsP6vRSuiIkBuaonT1Nw/Ivo6B1FxaUZmRnrojdqND3IqFBOC9CywFP4azIb+6+fGzAFLCYYewso4AwLjQ4LjYZGggUE0AGGu/31z50kewqANUkmcvynge6Mt5Pu8F5A+AE4niBkszni485R5PSyskr0LYzLERayZpqXwonYWyz7qrbdz3eWhPYhiS8f3E8jcd+42CRAFXWyh385RxP+JC6nSUWgelF9fT23Pog2uKfjP4XJ+A4BsHhnVQAsXvNM5kEewEI8LJAXR4SsMTcIIhhkaDldDAs1GpzAGYD4ptNZystqOjq6gc3gKwxrYlmQ4dJpHaUlNa/qGpE5XS4G5a3QO7ns/mQ29l8/NwGweG0lABaveSbzIA9ggSEGCGeB3BMqFYTBIMQhYBNYkQNIpHZIawB5Lfgz9kYWSEGgfJfNbof1hkDyweFkLDDRDnZDpdQI7Cazmcd7bsA2Qkj4XqsJgPVe00z2AXRnvCMknOwn7tnnJwAW7/wIgMVrnsk8KACWR86uAFi80yIAFq95JvOgAFgeObsCYPFOiwBYvOaZzIMCYHnk7AqAxTstAmDxmmcyDwqA5ZGzKwAW77QIgMVrnsk8KACWR86uAFi80yIAFq95JvOgAFgeObsCYPFOiwBYvOaZzIMCYHnk7AqAxTstAmDxmmcyDII7AD24VjeAmwjl+hjWGRa+LjRsrRO0GoQPuDvaE+qvIz2ZMamZsX2E/z6eBQTA4rWtAFi85pn4gwzoKwFuAuZNe0GwzThBRQ2gqjPBwVEhIWvHqmngnu61MrCc0MW1w5n49vD4MxAAi3eKBMDiNc/kGkTVNrAVMyyUgSp6ISHRISHRwOUCiAYUGuBJgypCKAeKnk4uQ3jy2QiAxTs7AmDxmmcSDUIvCdUzOyAq2aEolSs0ZH1IyHpY5wxQDFY7IzlQ8NvpdIwVN08iU3j0qQiAxTs9AmDxmmdSDELEQehjd2uHA1wnxuUMCY4OBXLs4EZhoQQojBkdLiCSjBoLsk4gyiQ8/hELCIDFa2YBsHjNMykGoeqxHblLLMsWF5WDBqpAGIZlXExExKbw8A12p31ME8bJ9vUOIkVQ7i2TwgwT5CQEwOKdKAGweM0z8Qff6Le4kFYMy7KhIWuio37q7x2F4jFscHDk0qA14ERdrH7UsmvnL99/txglstBbQKOINzqXE98eHn8GAmDxTpEAWLzmmSSDYJnvTSMv9tGDTJqQ+UxXn4tPGtGOhoRELlu+we50JF2+K/UJpAm/B/dSYW8IgFJuIeQksYWnn4YAWLwzJAAWr3kmyyBaGUTsBMbJSn0DSEpJkPLAmYsCAhcGzlw0c9ZinJDjhNxnhsposLlA93knwCvXWOOcyWIJjz8PAbB4p0gALF7zTPxBFBJC9IEUUHA/sGdiLojEfhStwnAZSalISinGpPCpdO/uX+w2uBPIaTEAs7j+9BPfGhPgDATA4p0kAbB4zTN5BkHmHYR4cL2vt2eYIGUkpaAoFYYpMExBUiqClGO4X2dHH0hnuViGcfzGF0UINnms4cFnIgAW7+QIgMVrnkkx+GbJD7Grxvp0Ra3dRVHyKVP8SNKfpgPEYhmG+YVHbISgNnbavwHWpLDDxDgJAbB450kALF7zTIJBsMY3Rl5HLHbUWzAjs5iipDSlwsRKAldJaLVIPP3howyWZR2wbQR36m/WGbkXhI2PaQEBsHitKwAWr3kmyyAoG3wDPC7Yu9nFskrVXIpSkLiawFUEIZPJ5ti4CmgX7I/65vTfvPXNc+H/j2cBAbB4bSsAFq95JtEgAh1Q8jxWLcjGxScSuC9FqElchYm9z8RedLGs1WoBKSy0HwMeHNJNImN48KkIgMU7ORpIjXwAACAASURBVAJg8ZpnUgyiDoBupwJIpA6G6dIMUKQfgSkIXEFR0s6ufpvD4QI8BicSbOAw7g+f4PZhwuaHtYAAWLz2FACL1zyTZfCNV4XcK5eTcTidTsbFRq3dgeF+FK2IjNzmZEBzU4fDyTCQf+V0AsEGp8PJOEDRoRAW/jMXgwBYvHYWAIvXPBN/kHmj2ocQx+ViIL8B9Gm225m0tHyKkpKk9MWLPKeTNZuNDofTarWazWar1eoYe9idALmcKDx0DxIFFPvwF4gAWLw2FQCL1zyTYhAJhyLkYhin3W4DsMXYrRar08n6+3+nUn5tNDpMRpPZpDMY9EajwWw2WywWs9kCkcvucIAgEWGWO2BNCvN42EkIgMU7IQJg8Zpn4g/C5b6x2mWEOE6H02F32CxGq8VqMjpOn754/vx1s8mp0+p02mGtdkSn0xoMeoPBaDAYzSaLxWIzGS02m+2PmCV4WB/+AhEAi9emAmDxmmcyDII7AAaAdrvd7mJYh8NpMpnNJpPN4uho71+5clNU1PbmJs3QwEh/b19/f39fX19/X/9A/8Dg4NDI8KhebzSbxoJE8BF2u8PhgOuH4NdksJBHnYMAWLzTIQAWr3km/iCUDGXeQIzLYraajBaz2arXWe7fey6Xf4XjfmLMx8dn1p3bj1tbNM3Nra2t7e3tnRpNd29vX29vb3//wOjoqF6vN5lMVqvVZrPZ7XYupYUIEBPfTh5zBgJg8U6FAFi85pkMg+AOQNlzi8VqsdjMJltHu2bf3mMUJcVwKU4oSUpNUgoM8168aEVOdkFtTX1zU1tDfVNjY1N7e3tPj2ZwsH94eFir1RqNRpSP5zALpbQE2PpgV4oAWLymFACL1zwTf9ButzoZh91us1qtRoPJaDCnp2XNmvkfkpSJMSlOqDDCHycDMFxJkkoc95sxXX7wwNGC/JKa6rqqqqq6V7XNzQ0dHS09PT0DAwMjIyM6nc5oNILMFnS1uNhQwKwPc7EIgMVrRwGweM0zcQYBqwo+HE7QQ9Bhh79tLqfdarEYTSb9qFbb2dW7e88RnJCRpD9BKN75gxEKDJd9+33Y1WsPsrLyc3Jyy8tLamrKG+pftbe1abp6+vuGhwZ1Br1Zp9dbbRaU0nKPECeOzTzySAXA4p0WAbB4zTOhBl0ulx20jXDZ7aB5hM1qYxwui9li0BtMRktGeq5/wNcULcUJGYbL34lWBKHACAVJKXHCjyB9Nm786fHjlLy8/KLCosqKirra2va2jq7Obo2mR6fTA29Lr7VYLFarFcGW+zLihLKcJx2sAFi8syEAFq95JtQgIoXaHVan08aFgWajXTdq+fVwLEX6SWgFhvlRlALDpe8DLJxQ4oQCJ2QE4UcSPrNmzjt3Niknu7iosLSsrKKmpqapqbG9vbW3t3tgsF9vAJl4s9nMkR6czrG+rRPKcp50sAJg8c6GAFi85pkIgyh5xDBgKRDU0LBOq81ssVnMFhC1FeRXf/dNMEXKKUIlFslJEggzUPS740GAYqSKov1xQiEW+0kkKpKUkbjfuqjdt289ysp6mV9QUFlVVveqqr6hTqPp1Gg0w8PDo6OjBsMY15RDLpTbEoha476CBMDiNZkAWLzmmQiDkMgO+FAQLOwWq9liter0Bq3edPJ0HElKKVIhniKlyUACU0+bOksk8iWI93pYGK7AMDmOK7y8AkQiKUWpaUqNY3KpdM6p0wnpGTnpGemlZcWvXtfW179ubW3t7e11T8a/tYYoZOLHfQUJgMVrMgGweM3j8YMIrcYo7LB02WA0mcz20rLa7+cFibAvSVJBU2qSUGFiBUWqRVOkXhJ/knhvDosklRStpij1Z5/5kqQKgRdJqmiJQiSeHhm1Lflhysv8osLCoqrKypbm5s7Ozp6ensHBwdHRUfcFRC6fhTBLQK6/eikJgMVrKQGweM3jqYMcCqBI0A5oCzaT0aTXG3U6c/zZKxg+g6TkJKXCcQWOy3FCRtNKkL3CpCShxLH3h4SEYsoUX9hTR0FL1DghJ2klTsgxXE5L1CKRt1T61Ynj59LTcrMyskuKi2tra+vr69va2jQaTV9f39DQkFarRREil4wHldNvaqc91aIec1wCYPFOhQBYvObxvEEEVQxUfoFqMA6bzWYBlcoWnVZfV9cQFLSMILwlEpVIJCeIQIJU4YScouUE6SvGZtCUgiJUBK5+X9KdIBQSAEy+qIkOTshwUoYRfjAZryJJFUkoCNx3wY+hd27fS0tNzc/PLy0trampaWxsbG9v7+7uHhwcRHStt2BLqJr+S1eTAFi8ZhIAi9c8n3SQy1i/kdMD17LTDn477DaGsdntZqvNZLaYgMSC2XXq9EWZfC6GSXFcQQAiqIoklTzANK4hDJMShJyilBgmIwkFhslmzPjq4MFz6enZeXn5hUWFtbVVjY2vmpsaeru7B/oHRka0o6NgFdFsslotoJoHBokOzjfkzg426QEnJTyABQTA4r0OBMDiNc+nG/xjXTGqBwSYBVYDWZPJYLMBDpROZ6ivb164aNkXX6r/7/++IAgFTfsTuALH5BBl+KK/v45ZFKmkAPzJcVxGEAqKUk75zGfq1MD5PwRdv343LTWzoKCwvKy0pqaqqbGhs6Ojq6trZGR0dESr0+nNgPlgcTgcdrudWz10B6xPZ2bP+2YBsHjnRAAsXvN8ukEEWKCbIMz+oAMB97zNardbrVYAVUajRaez3L//fMYMNSi1EfsRhJym/UkCpK5A+pz6YB4WDrmmOCajKRVytWhaLRZLSdzvy8/VW7fsS0nJTE/LzMvLq6mprq2taW9vbW1t6enRDA0NId6DyWiyWMZEAbkKxE9nYE/9ZgGweGdGACxe83zSQU5JHVDYx0Iqp9Nps1rNJpNZb7B0dw9HRKyf6qUkcClJqCjKnyTUsDGqHKAVdIj+ug/FvydJAgQUifxADotQiER+BA6+hcRVFKkicL9vv1l6/fr91NTM/PzC6urqioqy9o7Wjs42jaZzYKB/aGhQrzeYTABn/6j38EnN7GFfLgAW74QIgMVrnk86iFjjHHccaVGZLWatzmAwWO/de+7jM4ui5JhYBlkLSpJQk4SaIJQUzF6BxUEYvvEj0V8cxTAZigpxuEFTKgRhJBGAYyqaUv/f//vCx2fWunXbnj5Ny8nJLy4uLisre/W6trmlsbOrfWCgf3h4RKs1uOs9IOqDwHj43VUmANbvzPH2EwGw3raIhzzneAA2m83pdNrtdjN8aHXmrq6B1as3k6QfQchwXE5RahxXkoQ/BUqalQSI3eQggsNhMus9Rc5/Ead+2w2Xi8VSiUSNYTKxyA9FiAQhF4sVBKGm6QCaVhO4TCyaPnPmvHPnrj5/lv4yr6CkpKSyqry+/lVLa3NXl6a7u5eT1kJ6Dygx556J/7fntgTA4r0DBcDiNc+nGOQ8DoRTKB7U6/V2u12r1WZkFM3wDiBJKUkocNCeSw1L/wA3HYKLnKTkNK0gSTCKYx8shwVaQ4t8SQJ8MgXdK1ApLZaKcSkFhqQU5S8WgQwXRcoxzGfThl1PHqflZOcVFhbU1oGsVkdHZ1dXd39/P2KZcqQHjmIq5OPB5SYAFu9NJwAWr3n+8UHO10BJd5sN6FihAuOOjo4DBw5Ax0pKkUqxSEaSaoJUEaSSIAFznSQVBCnFcV+c8AOwQqpJ4r0yMr+5Tn/NBROLpRSlpCiVWAzKegABlVSCb5HIRJgvAbS0gJdHUwFiAF5KEvdWyGbHnjn34sWLzMz0qqrKsrLyxsbmrq4ujhnPYRaSA0RO5b+driUAFu9NJwAWr3n+qcGxNUGGYV0s43A57UDHymoxms0Gq9UyNDyamvYyIHC+CPMbL9B8sv0pFYbLMNwvImLD1aR7GRnZ6WmpZWWFdTX1TQ2tTQ2t/X2DfX0Dg4ODBqPOaNJxESLK2XEFkv/UDHjM9wiAxTsVAmDxmufjD4LrEz5sNqvDYWddLpvV7rA7bVDPeHRktLu7/+efj1C0L05IKVr1yQDorzli3OFhuAK4XYQMJ3xVqq+P/hrz/Hlqelp6cVFxTXV1Y2Njff3rbvDoGR3V6nQgGc9Ja6FSHnc+xxsj/Qv+FwCLd5IFwOI1z4cbfF8uGTRgdrkcTjvLMk7Gbrdb7XZUamPV68ylJbUq5dcSiRzH/HBc9gFX/Thk+VgbpIqk1LB2Wkbgfl4S2Y/zQ+/fe/byZV5+fl5JaWFzS0N7R2t7R8fAwMjoiBEJxiM/i6s9RCR4Lqn34WbDgz9JACzeyREAi9c8/9SgxWpiXA67w2q1AT1jrU43NKg/djTOSyIHyXVMgYnlXl4B+PtVFj4W7ozTseIOAywFwGVKivLHxDKKVBCY3xef+x86dPzpsxdZOdmFxfmlZUV1r2pbmls1GtCe563CabQ86p6J/1cglwBYvDedAFi85vmYg+j2czocNpvV6XSYzEar3aY3mnQGc1FxxXffBRGELyb2I3AVjqklVCCOKRBpkwMFT96gaTWOK0RTgH484FvgY0WIYrH34sUrrl+/l5GRVVCYX1pWXFtX3dICCqd7e3tR4TRqKeYuZMox4yc/ZgmAxXvTCYDFa56PNsjpWLkYBql0mi1Wrc5kMDqOHo8nSG+ShAEgLqcpfwkdgGPAzwKc8r/r8vzDb8QwKWBmESoC1AkpCUIFIUwOX1F8+WXgzp0HUlOz8vJeVgGiVnVTU1NXV1d/f/9vpTx/aIPIwdZHmxYP+GABsHgnQQAsXvN8hMExxwqI7YFiYKfdgXSstFpTUXHNd9+H4IQUZqxVIpEfJGr6ffbZDIlETeAKEp8wgEWScgJxwXAFRfsTpFKM+ZGUHLLGEEdM9s3cpVcSb6WnZeTkZJWWltbV1TU3NyONmoGBAfdOiKiah2NsIRu+Ly34ESbtH/xIAbB4jS0AFq95Ptwgd48h3wqhlc1m0+v0RoNJqzXGx1+a4R2AA/FiNYb7izGlxCtwisibomUkJcVxPwnt/wGJoB/b4SJJ2RSRj0SCoEpKUHIgqkX6EaB7K2CQkYQ/LpZP/9x/+9a9L56nZmRkFBQUVFRU1NXVNTU1dXR09PT09Pf3a7Xaf1fTaQGweG86AbB4zTP+QXdZGM4FABsMlLJysYzTwcDVQIvFYgQZK2tNXUtwyFrQ9IEOQOUvoMvWBAn9xn2cgJ2vAuo3UE8Cw2RekgCVakFCQlJaelZRcUFpWUFNbXlzc2Nrc0evZmRgYHBkRKvT6q0Wu8lottnGdLW4ZPz4p8iz3yEAFu/8CIDFa56/O4gW5tG7keiCywmeuQBWWS0WILdgNttGRw1n4i75+s0SY8AZEYtBYSAkkQPNqUn5g2NA44EAEoMAuaBoF8AsAvdZt27H8+cZ6RmZRcUFlZXlVVWVzc2AGd/f3z8wMKgd1QG9BzeNGq4s/O/Okke+TwAs3mkRAIvXPOMffGsZy+VyoeV5l8ths1lMJoPLxRhNltFRo0YztHjxMloiwzBQo0fgKkwsJwhQ70KSkxawYAkRyMThuJwEJ6tEmEURaopQBvj/cPrUhefP03Jyc0rLCisqC1/Xv2ppadZouvr6QHserVZrs9mNRhOSqUG108jbQr/HP2Me9g4BsHgnRAAsXvP8rUEuKkTSxizLMgxjd5gdTqvZbDKZLCOjpidPMr/8Qk1TEJhwJYErKbj8T1P+NK0SibwnpXsFTwppN6OoEGAWLKVW4rhqymdSmvKnSMWKFRvv3XuUmZVRWJxbU1P9+vWrhobXHR1tw8OD/f19oyNaoxEoV1itQA7QvQKRi8H/1rx5xpsEwOKdBwGweM3ztwYRYKE+EUhrwWKx2B1WvUFvNFk4cRiKAnpVYpGcIkHN8JQpMgKK4U2Z4gPWBCdpSDgWDJKqN5ksIIMDpCZIOZAwFckg3UyuVn3769GYp89SC/KLSkpKq6oqGxsbWtua29pah4aGQVZLp+OqebjurVwd4t+aN894kwBYvPMgABavecY/iDJWHFo5HA6AVna7Vm/UGyzJD1/4SWeLxd4UpcBxGUmpvCQzYTCoAM4FULYCTsekRStCAZuMATEcqDIIWRownyUmfDDCT+IFBAhhS0QFTSuCgqLu3HqUnpqTm/OyvLy8qrry9etXnZ1dvT19SKNGr9cjRUCEWVyE+FZgPv5p/HTvEACL1/YCYPGaZ/yDyL1CDbiQrrHD4dBqtZrukTWR2wjClyBkUBBGCX+DNsuYGMhIAW8LSLioYBpr0npYiPuKY8Cxgn19QGsfilJREgVGAHUtglROnTrzs898QEoel8/4MuDokbinj1NfviwoKiqsqamur6+HWoDdAwMDXPdWdyeL0z6ckBGiAFi8N50AWLzmGf8gqGSGD6fTaYJc7dHR0ezs7ICAHwhCimFSIFNFqiE1FNyiMMWOtIzHls9wDIgdT1onC/lWQBlVAfRRQaUkjAoJJUYocFKBk7Dtq0QtxqQUpaZwGYX7zP8h6N695IyM9Ly8nIqKivrX9c2w6XRf35irhfwsiwX05uFqpwXAGv/16+nv8EDAguv/LOsCf2pYh9MGfjNgm2FcLMu4XFYXa3c6Qasr8HCx3CagDbic6DJlGMQjAJ+DPmrslbG3/c//udAxwT+IjMvFuBwOOwMEF1ib1WG32QxGvdFs7tQM7Np9dAIVLXsaUFKEksSVmEj2+bSZG9bve/AgJT0z62VhXnFJcd2ruvr6+vb2jr6+vv6+Pu3osEE/ChqKwQcKD/mzWp6IaIKHxXtreiBgsVy3GHTkdscYhAHM+m2ThZj15pJzsRCPGIYBAOd0AjThVutcrrHPdCGU4bXIOAYZF4RLdEwuu93qcNjsVrvZZDYZTQaDKeVF9sxZ80ViPxKorU9OXtXHPi9MLJvmNZPAFBJKTeB+X3+96PKVG2kZmTl5OSWlxa/rX72uf9Xa2trX29fb06cbHUtpmc1mpGLqcPzWunUcM/sJdxUAi9f4HgdYQHQTwIpr3dqNOPZlaWm9C3hRDhfrKCmukFDS9Wt3MQzrZBxI/hr+djqcFpZ1AlfM5YDaUmMnbbMB/PqID8bFOJ2M0+FyORnGabaYTCaDxWLp6urdu/cQRQERKwyEeIEf+8aerJ9PUyrRFD+KUIHab9B32nv6dNX2HT8/T0nNe5lXWlZSXVPZ0Aj8rJ7u/v6eYdTkwmg0oqwWat2KyqHe/HH7iJfDB/hoAbB4jehxgAV9IBfLOnp7hkhcGh66yeFkXaydZdmQoFW42Levx8QA/8nlcDpdDOtwOlmWYVkn4wL7oIfT+TtfDARsMCzkfK43O/79/50wTLXbwZfaHTaz2WS2mI0mk8Fgzs8vnf9DKEXKaOAUAKECDBPcq79pAQzzAwrxhJIkVNCYoMUGhnl/PXdhbOzF1NSMrOzM4pLC8oqyurpX7W1d3d2gz8XQ0BCqQDSZTBOsDaIAWLw3pccBFjxal9VmYln28C/nJJS6uLjWxboKC+qmeiliTl8GAMWyeoP+6tU7Z+NulJXWgYgPYpjDwWZlFsfHXb569U63ZoCLDe2OD+lncUvmdpvDxTAmE/hjbrPZdTqTTmf+5ZczU6cqMTHobCoWyUFGmZDR9GRmrn9U546kFAQJ1lIhWgGGLQk1dkB3a8xv08Y9T568yMrKKiktqq2tqq6uaGtr6+rq6u3tHRkZ0el0er2eU15GWS33KnTeW+MTDQqAxWt4TwQsB8AXxulkjUZ2xvSZoaFRjIsNC9ns4z1rZMTIsmx9Q4O3t4wkvDGxL0XKdu06iNJcP+08hIMyFx+amk6TX2Zm5MGMOwgwXbCWD8Iarz3+bBAFF0CYiWFtVoCDsLGNXas1V1U1fT13MeRtq0jCXywCfWtoWkWSUoL0+ah39WT+cKBRM9Z+EXVghOpaSlwMKGwkIZ8968ezZxNzcvOysjNq6yobGhpaW1s7Ozv7+/uHh0GEiPilXJMLro7HQyNEAbB470FPBCyYPgfzxrJsTMwFicQvJuYKicvPnr3iArEfExy8UkLLi4saWJZdG7kPx7989bqxvqGVIn2jInezLrZL0+/jrQoLXQmdLLvLBRJeb+Xyec3y26D7H2ROGQaKwwDygsFg0OsNI6OGX3+NJQk/GlCK1GJMhuMKL0nglCl+NKXGxFIgECwk3f+WBaDUMpDWEmOgvRhBKKaIpLQkADY6kwL2KaGQUPKVK9bfvfsgNS2tqKiovLy8tra2ubm5o6NDo9G4U0w52HLnankWcgmA9dvN944tjwMs5AoBoAErgi6jyTp9upoiFD7es4dH9IDWwLIUIZ/37erSksbC4pIric8kEt9r12+Oao0k6e3rM+dM7KXS8grYkBJyGkCGi2FAkv5Nmv4ddnjvS+6ABT4Fqu7ZbDaTCZQFjo6Ovq5vCAlZThDeFKkkMLUY9yNIOUkpMBzcTphYQZGBBBYgANbftQDkahHApLAHj5yiwZ8EivYjCD9QFYCpaFItnjJDqfzPsWMxqamp2dnZhYWFVVVVr1+/bmpq0mg0yNvSarVcJ0SOaMrN73uvgH94QAAsXoN7HGCBo4XrguB/GMfFnrlC4oqHyS8ACwssF7IE7ksSagpkN2ZQeABJSGNjL7pYtrikZv4Py3CxjCbVMwMWv37VidLzIOkOgA7B3bvt8f4/sy6GAVREmFx32h1Oi9VispiNFmv/oPZ8ws0Z3nMwTO7lNVMsBizQv3tbeu4bAwMXhoZGBwYuRKc2b15EfX0zMmJGRp6391cedcqrVm++d/9pemZmYXF+RVVpdU1Vc3N7t2awt6+3r69PDx4Go9HkcDhtNqvNbuV0td5/Abz7gvlYrwqAxWtZTwQsF4M4omNc0dgzl2lSUVJcDU+EcTKshJZ983VEWWlLUXFNUUlpaXlpV0+nCzpfThfb2z9w78F9X++vvv8uCKHeGGBBpievNcDgWxeu08Eg3qnBaGAYp8FoMFnMI9rRmrqmkLA1GO4NQQr0YaZp9aQErNjYRJZlY2MTCULh7f2VXg+i4KSkuxkZeSzLZmTkeRRg4bjf9On+B385nvIiPTcvt6i4qLautra2rqWluaenG/W5gLClN5lMUKd6TO8BuVp/enl89B0EwOI1secBFvSEYO7JwTDAnzobfwXHfIqLKuGJuBxOV2ho1LSp/gUFdS6W7evTJl6+Bu+cXJr2jj2T6HKxWp0pQP3DV1/NdzicMBgc+1CAdrwP96sWZazgkbgsVvDX2GgGuiYjo7r4cxdnePsTpC9JAQUrglCBRXfQLB60jPeQn3nzIkJDowlCgVykP7pCoaHRaAd0wO98Om9eRHJyCsuyyckp8+ZFzJsXUVJSuXPnIfQW5Gp5yPmiw4AqPUoc8128eMWNm/dTXqTm5mVXVJVUV1fWN7zu6GzXaLr6B/pHR0e1Wp3BYOR0tfg58bxXzQcdFACL15weB1gutJI3hjCAjhkff4kifSvKqwF/FBIUXr9qmzEjQCLxIakvCEzlPX2WyQTeN/+HUEzk7UWBnBdN+d298xieO/wsF+u0u9Hk32UUd7RC6SoH6MHlsALSgtVg1Ov0hrb2npWrNtG0nKLkoDCQUlMkJFvhStjl1IPoCyUlAOIR3AAiiN6wdu1P6K5eu/Ynvd6AbNDd3TdvXgRBKNw9qUOHYpBXhT4E7VlSUumOTcjb6u7uc3/xk29jYjlibOGYdMaMwL37DqempecXvCwtLYEaNfWtrc0aTSdqcqHXG1ApD6LFo64877o0/sHXBMDiNbbHARY4WsBDAP87GQfjYjTd/aUldTqtHp0IpMKzBoPj7r3HcXEJyfdTdTozwzhdrNPlYvPyik+fOh975kJP96iTYUHtDOuy27nCwzEg5LUJJEGgaMHhsDutJrPBZDaOavUPkp/7+s7BMTmOASkYCR2AiRVikVxCB1CUSiTylUg8qKsNwpqMjLzQ0GgEQAhxAgMXorBu7dqfdu48pNcbONDp7u7T6w1oh+7uPm/vr97ysDg88vb+CrlXHAhyQ592g6RkBAmUpglcKRZJJbRi7txFV6/eTU/Lzs3Nr6iorK2raWpq0GgAV2twcMhgMKAadXeWFv/l8XFHBcDita9HApaLfVPzNwZdyOsC1Cz4cK8oZBg7qB2ENdIgL25HkGRDiSdYQ829600ZNK9FkJQVqvh3OBxGs95gNHRpelev3kgQvlCvKgDHAoDUHBRIgSrsMtjiVI5jHudhcZEgcrI4T4oDmqSkuyzLIicrNDSaZdnu7j7AF3njjrl7XhwYoQQWFxtyr3/yDTHmjeF+gAyBKadKZolFMopUfvF54I5t+58/zczNKSguKq6tra6qqmhvb+vtGeOXIkK8R2CWAFi8t6fHAdZYSAjXCuEqIYAbuMQ3ln5CSXHoOiE/DC4mQphy/VaR40QrjVDsAV4Cf5K8GjOSuziMzWYzGo0jI4anTzN8vAFHEccUEjoAiaKM6ZGDjlUKKBoD5Mk9SnsPeVgcgqAzJAgFwpr6+uaSksqSkkoET1wyC426R39/BKzAwIUo2OQ+3HM2aKBLI6Npf5JQoWgddLjA5DQh/+7r4MuXbmZn5+bnv2xoeN3U1NjR0cHV8XCNpj9xYCgA1sQCLHC0yMNCOAM4n5BOxRGp4OsuUOoM9x1DIruLtaJIEnlnoF4HbL1hYLEszOCjN733N5e6Ar6V0Tg4OLh50z6SACJWuFgtoWaJxTICNNfzJgg5RSlxXArYFYSMAHAGIxGPSbrzA1ZyckpsbCL3g1gLKC2FfDGOx/BOwIqNTeQwznPQiiAUIpGKomaKxEDUlCAUUCDflyIVNK7GRb5etM+O7buys7MKiwrKK8qamhpR7SFHiOeSWe+9RD72gABYvBb+6B4W8nQ89jcDok/wAzj0LpedsdudVpvDZjRZcvNK/P2/ERN+lESJkyAzAlCJkEPuggetBr4PL94HWCifdehQDPdGFA8ShAJl6NEOHF/hj4BFEIp58yK4YJP7BWASmwAAIABJREFUHM/Y8BeLlSQUm4arIgoCl5GEfCqtEn32xbdfLzh1MubJk8cZGWn5+flVldWo9nBgYAAVS1sslk9cuyMA1qcFrLi4RM/8iY1LBD+xl8Z+zlyNjU2Ki7sSE3Px+PFzO7YfwjEpRahJSgmKQiAjFMdBjQiGQ2lQj/Gk3gcT7wMszo1CThZKtHt7f4USWAinEHKhNBZ6vb6+mctYoVeSk1Pe99Wf8nUSzhFIJoIyKdBDTCwlcLmEkkaEr409c/7atet379559uxpTk5ORXllS0tLRweQAHQHrE8pRyMA1qcFLBIHipEe+oMpSUyBfghMiot9pnopRFO+oElp0JJ1JK4kxCqCVIGOCZSahI1eSFKFwVLBT3lP/jWsTEq6656KQhkrdNiBgQtRropl2ZKSShTcJSenlJRUcrFhSUklB0kI+7hPQ2/n8MuzTEH5EaSUlqhFIhkmVtCUmqaUCvm3mzbs/OXgsVMnY2Jjz9y6dTMl5XlGRmZJSVljY2NbW1tvby/Xhse9bxjvvfNxBgXA4rXrvz0k/C1WBSQv1mIFqTGDwToyYkxLzfP3/4aGf6VBNh1qkGMYSI4ghRPPulH/GopN+mPGcB+KUsB2HmoK1KLL5s5dGBm1afOmrXv37jt27Fhc3JkrVxLv37+XkvKiIL8IqTv09PSgSkOTyYQk+T9Z6l0ArE8LWLzf/ukHkeI75EA4rTaj3Wk2mrQG4+jwyODQ8GBNTfX6dXtpUoZjvjC5LicplVgso2hB8thTCP1vQTBijdKUWiz2nf6l/48/Bq1ctXrjpvXbtm3du3fPseNH4+LOXL6cmJycnJmRVVRUUl9f39LS0t3dPTo6ijhZAmB9+tvy/Ufw0T0sFoiFeuyPjWVtLvhjtZlZ1mWzWywWk8VqHhjs7+nt7uzseFXbcvHCjW++XoxhMyhKhmFSiVeAGMjyeegd+y8/MJryx8RSHPMJDPxu0aKQ4JCQyKhVkWtX7tix7eef9/7665HYuNhr167dv//g+fOUoqJid8BCrXeEkPD9cPHpRz4+YP0WdL2RYfCYV4B79dsyIWjPZQOIZRsd1em0+r7e/ra29qrKquLi0vT0nMjIzRIvqUjsQ9JK0KRLACyPtAAofp7hP3fuD0HBoRHLwpetiIiMityxY8dPP+08cuTImTNnzp9LuHPn7osXQIWmtLS0ubm5vb29r69PyGF9ejT6C0fw8QELFsd4HFZBkSxYBAS4WrB7GOjV5bA7bFa70WgaGR7p6+trb2+rriorKyvOyspOfvjs+Ilzav95U0S+JD15+wZ6JAz99T8PKvXcBQuDgkNDwpeFrFwdERm1Zvu2n/bt/eXw4SMnT56+eDHx5s3bjx49SUtLf/nyZU0NoDVoNBqO1mA2mz9xW0Mhh8ULW/8AYPF+v8cMIvaN3W63Wq1Go3F0dHRwcLCrq+t1fW15ecnLl3mPHz+5dy/5QsKViPDVn0/zldCBOPb/s/cdblEk29t/zvdbZ7qruwfduwiTA6i7d8NddYMKMwNiRsQcUPeuAQwYyEFFxKyAijmjZEQEJAlKlpxhUtf3VBW0rKvDsnfVUbufUXq6enqqT1W/c86pc96D2HtZVi2l5IDR0EBLAx1aRpSqEQc5qTiPPPQanLgjKmV/RwI0pWUZPSKeBogdn2HUDIPqznIyFQBKRPRO6QGlBZTC/Svtt9/OmjNnjo+Pj9lsXrx4cWBg4MqVK7ds2RIaGhoeHh4XF3f8+PFz585du3btwYMH+fn5paWl9fX1LS0tnZ2dhNuPEPv9g8VKJjzBRcByKjIRsEbEQ0JvrFYrZhMd6O7ubm9vb2xsLHta8vjxo7y8vKtXr6WnXTx/Lj0qKn7b72F6/fcUNdVNpscRDwaK1jCsFlFiUmqW0ctkXij/FmsrDKNFAVwfuebyofpP0mtwdWgcuEujpAIkUkrNAC3HGgCllrFqvf7bn36aYzSazGZzQEDA4sWLV65cuX79+s2bN+/evRtZgvHxx48fT09Pv3r1amZmJqFRfvbsGWHI6unpISnQQlkwp0/Nu2wUAcupdEXAegVYJJHQarUODg729vZ2dXW1tLTU1NSUl1eUlJRm3n9w9eq1ixcuHT16LD4uMXz//oAFyzgOBfswwItlvSRSBcraQcCEEEqK4xVZXOIFxS6KgPW3JIC4MXCkLq7ugQRL0J8F3izwArRqymTNv/89c56P0cd3np+/ccmSJcuXL1+9evWWLVu2b9++e/fu2NjYo0ePnjp16uLFi7dv337w4EFhYaHga29vb+/u7u7vR8RYQl7OaySOTp+gf7pRBCynEhUB6w+AZcesMsQq7O3tbW9vr69vrK56VlZWnpubl3k/89atW2fPnjl69Gh8Qkz4vv2bNv0+fdpsmlIwAJX5JNYKZvJDb1kWsc3QtJrAlohZf0MCDFCzDEosRwY4pRnNOVezQM8CtUb975kzf507b57ZbAoI8F+4KCA4OHjt2rUhISE7d+4MDw+PjIw8evTomTNnLly4cPPmzYcPH+bl5ZWWlgoB7gLRu8Dy/sEisMhMFAFLBCynEngdsBBVjcUyOIhqTHR3d7c0t9bXN9bUPC8ufpKXl5+V9fDq1SupaedPnjiVkJBwMCIiPHz/osXLJ09W0VIFxxgw6agKV6YSqGZGSun9jcdV/AiWpxpF7aKStFqAPFlKABRTpqhmzPjPL7/Mmztvrp+/ecGCgEULF69etW7z5s2///77rl27oqKiEhMTk5OTU1NTr169eufOnZycnOLi4rKystra2qamppcvEe+oUJbCZnvFlfxXJsy7OkcELKeSFTWsV4CFOeSR85243oeHh/v6+tpa21tftrW0tNTW1lZUVJSUPMnKenjz5o2Mi1fTUtOSkw8nHoqJio7YsWP3t/+eQ0nk+HFSEt8wYnRgkBsecTz8LYNI/BRFKSlKxTA6DgXrqqVSD7fJKqV6+uyffpkzd978gPkLFsxfuDBg1cpVGzds2bT+t127du3fvz8mJubYsWNnzpxJT0+/fft2VlZWQUEBUaxIEENnZ2d3d/fAwIBQ+IsoVh/SGCQzUQQsEbCcSuAPjYQl2W63W61Wm802ODjY3d3V3t7e0tLy4sWLZ8+eVVRUFhY+evjw4b079zMuXTp//szx48lJSYcjIiLDwyMCl62ePEVP0XKaVrAsrgCKffCCA14EoIlKAK2xomVWsnCh/PIr7bQZ3/8yx2fuvLlmP1PAgvmLFi9aGRy8ft2GzZu27A7bExUVlZCQQBSry5cv37x5k5T8Ki0tra6urq9Htezb29t78DYwMEAG2lXQCnMrYX4lhFt4Q8xuZlOQ2RSED42wKmF6EUIKN3ri5/FX1LDeMM6EFctutw8PDw8NDfT19XZ3d7a1tTY1Nb14UVdRXvnkSWlBfm7Wwwc3b9y8cvnq6dNnU1JSEhPjD0bs2/rb/h/+Y+Y4DQ1Q1S/sc9Fhc+bvLOpP9PH+FM9HfD5kldDD8+vvfvh1rq/Jx+Tr5++/YOHCoKAVa9asDdkUsmP79r17dkdFHjx27NipU6fS0tJu3Lhx//797OzsJ0+eVFVVETOwvb29o6Ojr69vaGhocHCQoJVrFVUVNaw3PJGvDomA9UoWwh7Rs0hklgVvQ0NDfX193d3dHR0dzc3NL168qK6ufvr0aWFhYU5Ozt27d69evZqenn7y5Mn4uPioyJg1qzfK5d4U5YkIlGkdDbxpYMAZiCqUncspOQ4FE9GUiGKCBLxoGnFj4CgQFaBVLKPBxHtagFg05F/P+Hbu3Lm+Rt/58/0XL0ZLgWvXriVLgeHh4bGxsYcPHz558iTRqkjgQmlpaUVFRV1dXUtLC6n//JrHSqiU8+EtwVeTb4Rsd/SAqGGNSgL/FQHrD+IQ3pCwLOLPIi6tgYEBglltbW1NTU11dXXPnj0rLS19/Pgxwazr16+np6cfT0k5cjgpOip++/a9P/88H5mHQA1QKJYWR5NqCEMpTSvRwiIOevgU1SIBhv7qDiEdowGKWhiJYKBUgFaztEKt+PqH73/2mWf09fU1mVDgQnDwyjVr1mzevJlEhMbGxiYnJ586derChQt37twhQaFlZWVEsWpubu7o6Ojq6urt7R0cHCThC8TFLgKWMOE/lh0RsN46UoI/S4h1QInRAwM9PT3Eq9XQ0IC9WhVPnjzJy8t78ODBzZs309LSjqccTzl24uDBmH37Y1YEb3T30APGAyEUcsfo8PI8jt5GMfFifNYIoskmayRST5pWIdZ8Wkuh4hEaN0779fQfZ82cO3eOr9Fo9PMzLVq0cOXKlWvXrg8JCdmxY8f+/fujo6OPHj169uzZCxcu3LhxIycnRwgKraurIx4rEmlF/OuC04po0GNru711KrzPBtEkdCptEbCcigdzwpOZbbPZSBw8CSvt6+vr6upqbW0lFmJlZWVpaWlhYeGDTBSrdeHixdNnziYfO56QeGT33v2/zjVyrIJllAytYWg9y3gzwIApMV2oLNiHVfSkUk+ZTI/Zx7RISkDp6en1449z5s41+vqa/fz8Fi9ZtDwocNWqlVu2bN25M2z//v1xcXFkKTAjI+POnTsPHz4sLCwk/Fb19fWtra1kKZBUlxDiQgWPFa4VIPi2x5kG769ZBCynshYBy6l4cOV6waVFVC2LxTI0NNTf39/T09PR0UEsxNra2qqqqtLS0ry83IcPH2Rm3k+/kH7m7JmUE8ejY2L2H9i/ds0Wve47qcSDQ3Ve9Sg+HtmDYsqOYDPqaFrLoBraajc3jcHw759/mTPPZ67ZbPb390eKFea02rhpY2hoaEREZFxcXHJy8rlz5y5dunT79m2iWJWVldXU1NTXo5qDHR0dPT09vb29Q0NDw8PDQpgV+fkZZ9Q/YLMIWE6FLwKWU/GMNgqYRRYQrVbEm0VULQJbzc3NjY2NtbW1paUlefl5WdlZN2/duHr1SlpaavKxozEx0THRCaE7w3/52cwycgppEzrCE/9h9RoX+nZaj2IXKLm7u+GH//w8Z868X3792dc4Z9HiRUuXLgkMXLZ6zeqQkE3bt287ePBAfHx8cnLy2bNnr1y5QtDq8ePHBK1IbmBHRwfhaCdLgWNzbj5wIPvojHrrXxGw3ioa1CACllPx/KmROOOJqkWc8UTb6u7uJhZi7fNapG1VVxUUFDx48ODe3bs3b9w8d/bc8WPHDyUcjo6K3bBh6/Tp/6HoqRSlYFitC0HGBw5tVU2ZojUYvv3p5zk+RuRf9/PzX7JkaVAQWQ3cGhYWFh4eHhUVlZJyLDX1XEZGBoGqR48elZeX19bW1tWhAvQk1UbIDSTJzGPdVS7ntHptjomA9ZpA/vhWBKw/ymPMu7fNbEHbIvGlRNvqx1t3d/fLly8bGhrq6+urKqsqKiqLHj2+f/f+jWs3L1/KOHP69JEjhw8dOhy+L8JoXvqV+zQKcQ8INtFnvTN1quH7H3728TX6mub5zTcuWrwocFnwyuCN//3tv9u2bd8VtjsmOvbIkSMpKccuXEi7det6ZmZmQUEBWQokgQutra0CCd/Q0JAQY0XGSwhcEHZEH9aYyf7R7IqA9TeHivxok7r2NptteHiYxD10dHS0t7e/Fqv14MGDu/fuXL586dSpkydOnEhISIyIiNy8eYuX1zQA5AyDykcjMnKgl1JqVqaX0gpE+cRpAVCRoHkGaChEqPIROelJ6p+GZCnh/1HMOmA9UagHpUErDzSiM54yRavXf/vLL7/MmzfPZDL5+/svWbIkKCho1apVISEhJHAhMjIyOTn55MmTaWlpN2/ezMrKKiwsJMHrL168IGYgSQwcHh62WCyCDehCIex/caKJGpZTQYmA5VQ8ThvHqlqYXnnEGd/f39/d3d3aiiLj6+rqKisrcaxW1v37d69du5qRcen48eOHDh0+fPjI3r3h/vOXy9xUAChYFgVq0UBL0WoaoGebRhVA0Q5Focp6LIsKjn0sGhmug63DfUZE+ITECqC7Q3XkOdaAgteBcupUr39/O9PH10xY9xYuXLh06dJVq1Zt2LBhy5Ytu3btio6OJjnMaWlply9fvnXrVk5OzpMnT4gZSOo2d3Z2Eo8VgSrBvz5WmXI6kq7UKAKW09EQAcupeMZrFDCLqFqj2TxoDZGExbe2ttbX11dXV1dUlBcVPcrKenj//v1r166dP3/+xImTCLPCI0JD93399ewvvviXTKZDvHSMnkEcmwZAa/GOHhcW03IcKon4sQAWzqdR4bxlLccZRnn4EHcYUiSlCpZVaLUzZv/0q6/JaDT5zp8/f8mSJStWrFizZs2WLVsIOUxsbGxKSgrJYR4bEVpTU0PMwI6OjrExVh+Y3Xi82fKX2kXAciomEbCcisdpo+AcEXYcDofFYhkeHh4cHOzr6+vp6enq6nr58mV9fX1NzbOnT58WFRXl5OTcu3fv+vXraalpJ0+ejIuPC9+3f//+qICAIHd3A42MQTVK2aF1LGOgKR0mCERlXGlMtvnxABaJ2ECRCjjKH/HDcJwBvaWU//qX7tvvZs7z8Z07b66P77xFi5FiFRwcTBSr0NDQAwcOkPj18+fPX7p06fr169nZ2QUFBSUlJSSHuaWlhQQuCNTGr5mBTofOhRtFwHI6OCJgORXPeI0EqshZZJ/8yBOvFomM7+7ubmtra21tq6+rr6mpwbFaednZ2SQD8ey508ePp8TGxh08GL1lS+iMGbMBUDCAGIM6BugBrQcAl1ynlAzz0WhYNK1EdUxRZD/i3kOVaBE5jByAqXrDv2f/PGfO3Dlz580x+5kXL14atHzl2rVrN2/evGPHjj179kRHRx85coQwGgs5zCUlJeXl5TU1NY2NjWMTA9/oX3/NGHzt7Xij+kHbRcByKn4RsJyKZ4KNY1Ut4tUi5KU9PT3d3T1NTc319Q11dXVVVVVlZaUFBfn379+7nHEpPS31zJnThxIPxcTER0TErVixYaq7juVUkyZNpSgVrnaBEnpYFAPx0QAWw6gpSkXTGpY1sKwe4RermPKl5vsffpz9888+Rp/5AX6LFi9AHquVazaH/Pe33xCVVUREBIlfJ4rV7du3c3Nzi4qKSktLnz9/LhSM6O3t7e/vF1JtPnAlwQlOknFOFwHLqYBEwHIqngk2CinTJL50rCe+t7e/s7O7ra395cuXz58/Ly9/WlJSXFiYf//e/RvXr1++fOnkyZQjRw7FxMbu2bNv69Zt3/3w61fuBgpZiBpKqgFAJ5PpPyLAYhm0PsAwOoxWKoZVqLUzZv00d868uT5GX7OfecHCgGXLlq5cGbxx48Ztv28jpSJw4EIK4Qi9ffs2IYepqKiorq5uampqaWkhVFYErUjggs1mE5YCPyZN6m1TSwSst0kGHxcBy6l4xmscaxKSuB7hmSFNBLlwJZ6hocHh7u6e9vaOly9fNjY2vHhRW15e9vjRk/zc/Pv37l6+fDH9wrlTp48fSTp84OCB8P3R8xes8JR/jR3tOobR4/oLH02yNEUpEaU9rZVKlFOmeM34evbPvxp/nedjMpv9/OcvWrwkeOXK9RvWb968KTR0W2TkPpJqc/78+YsXLwrk60+ePHn27Blh3SOMC4LHymKxCIoVGaXXxmK8oXPVdhGwnI6MCFhOxfM/NAqAJeROkyREEq5F6h42NzcTvoeSkpLc3NzMzMzbt29fuHDh5MmTyUeTE+ITdmwP+/VXM6o4LfFkGIOU0tNAj0uKqQGroCgPAJQcqtn3wQq70kCPcgBZPQ00AJe3IUU3OGBAJPesp1ptmDV7ttFkNJlNCxYuXL58eXBw8Pr167dt27Zr1659+/YlJiaeOHHi3Llzly9fvnPnTnZ29qNHj4QYq7a2NuJcH0tnPHY1UPiF+B/GypU+KgKW09EQAcupeP63RoJZY7N5BMzq7e3t7Oxsb29vaGh4/vx5VVVVcXFxfn5+VlYWWkBMSzt75mzSkaSEhENR0fGrVm/W6n6QUnKWQ5GlDKObJJFTlMLNTY8CSqUqSvrBkqgpoASosqlaKlWhiqdAL5WoOMZASeRTv/L++uuZP/08x2gymv3Mfv7+S5ctW7169fr167du3bpnz56IiIjY2Njjx4+TGCsBrcrKyqqrq+vq6pqbmwnjArEBBcYFIWr3U0MrpKXjfzz6gzeRwG9UEvivCFh/EMe7eCOoWkIGosD30NvbOza+tLS0tKioiPBqXc7ISE1NTUpKiomNi4lN3Bm2f87cAMB6MiwqfewmQ5FNkkmoKiKCiQ9HBMjKlBStQIWvaS0l1XKsF8fopBK5TvvtD9//Mm+e2dfXhGpwLQhYunTZmrXrQkJCfvvtt7CwMKGqTVpa2rVr1+7evZubm1tcXEyWAol/vb29fax/fWxE6CdiAP55womA9WeZjDkiAtYYYbzLXQG2SIgpSZweHBwkNDWdnZ3Nzc319fWY76H00aNHOSju4c61a1fTL6SlnDh+6EjSgYjoDRu36vXfSyXuUolcxqJKoizj9WF5lilKjlO4dZjnS0dJPKdMUX/77U+//OJjNPrPn78gIGD+smVL16xZvXHjpv/+dxsKOYuKOnTo0OnTp9PT069cuUKyAh8/flxRUfH8+fM/Ry38OdXmXQ7Uh762CFhOR0AELKfi+ecaBfNQsBAJHeDAwEBvby9J5Wlubm5oaMBBD2XFxcU5Odl3792+cfNaatq5k6dPphw/jtYQdx9cEBD05RTEVsqxBqlEjYkAPxjrA0ZMLaB1uHSg3NNT/58fZ/uafH19UPD60qVLli8PXLsW0Rn/97+/7961h5CvHz9+/MKFC9euXbtz505eXh5JtampqWloaHgtItSGt9foFv65YXG9K4mA5XRMRMByKp530CioWgIdoFC0ldABEj2rvLz8yZMn2TlZDx7cu337RvqFtNOnTyUnJ0dFxuzdcyBk0zad9juJxP3LL70RG/qHIwKkpXqO9aKkCplMOX3697/8Omee71xf45yAgPlLlixesSJo9WqUw7x92/Y9u/fERMcQ8vX09PSbN29mZmbm5uaWlJRUVVWRHOb29naSwyy42MdC1TsYDde7pAhYTsdEBCyn4nlnjWMjtqx4I2HxfX19HR0dOAOxobGxqaqq8smT4oKCPFQJ8e59VFLs1MmUY8cSEhL37Yvw81865UstcSF9sJQdWsMyKoXCe9bsX32NJh9fn4CAgGXLAlcEBa1bu3brlq07t+84uP9gQnzC0SNJZ06f/nNVG+KuamtrG1s1nsjEZrMJmuk7GwoXu7AIWE4HRAQsp+J5l42CqkWsHlJPjJSb7u7u7uzsbmpurqt7Ud9QX1FRUfSo6FHB4/t3H165fPHChdQzZ07Gx8fFxiVs2x7+9b/nfEDyUjc3zYwZs3751cfX5Gv2Ny5YsGBF0CpMDrppx/Yd+8P3R0VEHU48cvLEqfPnzl+5fJloVUVFRYR8nbDudXV1kTrMhBxGKGkjVLV52zh8gnAmAtbbBhsfFwHLqXjefaPg0iKwZbVaBU88UbWampqeP39eWVlZUlJSWFh49+7d69evZ2RknDp16vDhw4mJibt27Vq+fPnkyToGJe5ocVi8nuW8KFoNcNlkTO2C1hYJzQuK50SZfW9mqkFM8zRitsFR9eR/VMqU4TxpIEcfpA0M7cXQWo5VT3U3/Pzzz3PmzPH19Q0ICFi8ePGyZcvWrVu3devWbdu27du3LyYm5tChQydPnkxPT7969eqdO3cKCwuLi4uJf72pqYmUiiDkMELVeKFOxCcYtTDujBIBy6mIRMByKp730jjWPLTb7STogRDGE44awmJaW1tbWVmJFhBzcjIzM69cuXLu3LkzZ84cPnw4PDx8+/b9M2b8RFGo9gwAWqlULXPzAoyWZRFXOg6XV3OcjgEamlI5CYOgKDXL6MiZOBBUg6sE6ihKiRIDGT2gtTSldJOpdLqvf/2VVN/yW7BgwfLly1etWrVu3brff/99z549Bw8ePHTo0PHjx8+ePUsiQgnrHsmzqaure/nypUAOM4w3oQAX0Zvei+xd70tEwHI6JiJgORXPe2wULETijCd8D0Tb6u7uJiymhA6wpKSkqKjo4cOHN27cuHz58pkzZ5KTk+PiD+0Nj1gWuNZTPl0i8eA4nRTlHqspKSKrwbClk0iUNKXGkfFvVq8AwCnWiN9GzQAMdijCS4uYucA0lvEGtIaiPDzlhh9n/uzj62M0+yxYsIAQhK5fv37Lli3btqHAhbi4uKSkpLNnzxJmmMzMzPz8fOJcJ3k2ra2tgnOdlLQhZuBnDVVksomA5fShEwHLqXjeY6PgjhHCuIUiF6TidEdHR0tLy4sXL6qrq58+fUpUrXv37l28ePHMmTPHUo7GJ8QdOBi1bfuen34yc5yKRSGmCKqkUhVNaWWcN+L5pNU0rcIW35sxi7BuMQDxWAEakcNgHkEdTSGO0ClTtDr917Nm/+Rr9DGafPznm5YtW7ZixYq1a9f+9ttvhM44Pj4+JSXl9OnTpE4ECbMSlgJbW1uFpcDBwUHBDBRWA9+jyF3yq0TAcjosImA5Fc/7bRQwixiJgleLMAISFtO2tjZCGF9eXk4i4zMzM69fv37x0vnz508fSTocERl94EDMsmVr3d29WFYJgErGYSNRokIAhP1TqMjYW3xYIxWqkRVJKPf0mLsZVYH19PT+9rtZc+bOM5mNfv7mgICA5ctXrF+/fvPmzcRjFR0dTSJCL168eO3atQcPHhQUFAgeKxIR2t3dLZSKEBiNRbR6NdFEwHolizfsiYD1BqG4yCFB1RpLU9PV1dXZ2dna2lpXV/fs2TPi1crOzn7w4O6lS+mnT59E1FqHjkRFxe/YEf7TbCMnk0ul7jSt5Fg9ZjHVs6xOIvF8G2BxHHJ4YU8WojmlKAUAnm5TVAavGbNm/2wym31Nvv7z/YKCVqxetXbN6g0kh/nAgQOJiYlEsbpy5cqdO3eysrLj0cRnAAAgAElEQVQeP35cXl5OCEJfvnxJmGEGBgYGBweFyqaftX/9jfNMBKw3imX0oAhYo5Jwvb+CwjU2xJQwL5PI+MbGxhcvXhDm5eys7Pv37t28cT09/fyJEylHjhyJjo7dvz9yaeBKvdd3gJEjdzutoSkNKj3trB6iCtePMEx2m0bTKonkK3cP7bffz/plzq/zfOb5zfdfuHDB0mXLgoNXrl+/cfu2HXv37o2IiEhISDh58mRqampGRsbdu3dzcnJIuUCBfJ2Ygb29vYJ/XSCH+RyXAp1MNhGwnAhHLKTqVDjvo1FApT9/GWkiNFtCBqLVah0YGCAZiCQynlCYlpdVFRUWP8zMvHv31uXLF86eO33y5In4hPh9ByN2hIb/9Is/w6gB5v+UShB58ds0LABQeR5AayWTFCyr0Wi/nTl7DvJXGX3Mfn6LFi9ZHrRi3bp1W7Zs2b592969exISEo4ePXoaR4Tevn07MzPz0aNHT58+raysFCJCe3p6iGJFbEBCvj7ujQu3/2fJfMpHRMByOrqihuVUPC7QSJ5bwTwUtC0SGd/b20uc8Q0NDTU1NWVlZbikWM6dO3euXr2alpaWnHwsPj4+Kjp6zdp1ev0MADwYWsPQesBoAaOR0gqZm05KyWlGRdEqBlFreUslSoqaOtVD++13P8yZO89o8ps/f+HixYuDgoLWrVu3efPmnTt37t+/Pzo6OikpiWhVN2/ezM7OLiwsJJR7JCWQ2ICEck+wAYUb+UzxaNwZJQKWUxGJgOVUPK7RKCgj5GknFaeHh4cJZvX09LS3t7e2tjY2NhI6QIJZ9+7du3bt2tmz506cOJmQmBAdE7M3/KCf37IvvzSwQAMYDY4s1VGUWkqp3SZ7oxgIWiWVKCZP1hkM3//08zxfo2mej4/Zzz8wMGjFCqRY/fbbbzt37jxw4EB8fPzRo0fPnj179erV27dvP3z48PHjx0+fPq2qqmpoaGhra2tvbycFuIjH6rWSNiJavXVmiYD1VtGgBhGwnIrHlRrHwhbRs8byPXR0IOZlkjhdUVHx+PHj/Pz8zMzMyxlXzp07f+7cuSNJR/bvP3jgYMyaNVt12u8Ao6AoBcd5M8CbYbxpGvnXGVbp7q7/5ptZc+aafHyNRpNxfsD8JUuXLl8etHbt2i1btoSGhu7bh+iMjx07dubMmYyMjPv37xOPFUm1efHixcuXL4XKpq/VYRZuwZXk6mJ9EQHL6YCIgOVUPK7XSJ55QdUikfGE76Gvr4+wmJJsnqqqqpKSkrzcgocPsm7cuJGaev7MmdMnTpyKiU3Ys+eAybzoK3c9il+ndCzwkkjknEzx9b9n+s1fGLBw0cLFixYvWbQscElwcNCGDRt+/31bWFjYgQMHEhISkpOTz58/TxQroUhETU0NybMhlHuDeLNYLEJWoFAnwvUk6mI9EgHL6YCIgOVUPK7XSNbUxmbzCEEPAwMDuJ4YKoPY2NhInPHFRcWFBYXZWVk3bly/dOliaur55GPJ8QkJEVGRGzZuMeh/mDLZIJnk4e6uR6Uhli5ZGrh0aeCSZcuXrggOXLU6eN26Nb9t3bpn9x5iBqakpJBUm7t372ZlZRUVFVVWVtbW1jY0NJCsQJLD/Fo4KEEr15OlS/ZIBCynwyICllPxuF6jEAQgmFdjS4oJ1FptbW3EQqyurCp5UlKYX/AgM/PO7VtXrlw+feZU8rGj8YkxsXFxe/dG/vgfH5bxWLVq44aNG1euDlq+YtmqNSvXrlu9bv3akJCN27ahxMCIgxEkfl0IXMjLyysqKiovL3/x4gXRrQg5zMDAgBAOKnAtCH12PXG6Xo9EwHI6JiJgORWP6zWOffjHYpYQ92CxWEjiNHHGNzc21j1/XltT87QMZfMUFBRkZt6/cjXjwsX0lJTjR44c9zMvkXFT9+2LCg0NCw3bEbordNv2bdu2b9+7Z2/EwYjIiMjEhMQzp04TM/D+/fvZ2dmEzpgUYSZZgSRwgXisXguwIp10PUG6ao9EwHI6MiJgORXPx9MoZPOQNcQhvPX393e0tXa0tb1sbnle+7zmWU1FeUUBqs3z4O6de1ev3kw9n7E8cC0D/pWYkBwXmxgTExsZGRkTExsXGx8fn3jk8NETx0+mnk+9knH51q1bxAYsKSkhwetNTU0dHR29vb0kJVAoa0p6MhZYPx4pukBPRcByOggiYDkVz8fTSGCCFOwbG/dACOPb2tqamprIGiKJjM/Lzbl//+H1m9dWrNjKMIrTZ08lJx8/mnTk6NGkI0cOHz2adPr0qZMnT6Smnr9y5fK9e8hjVVxcXFJS8uzZs4aGhpcvX7a0tPT09IxFq7HlAj8eyblYT0XAcjogImA5Fc9H1TjWQhwbX0osRBIWTxKnKysrK8qfFhUVZ+dmbdiwCwDFlauXr1y5dunihdTU8xkZl9LT0y5fzrh16+aDhw+ys7MKCguePHlCmNcbGxubm5tJjFVfX99rtQJFA/B/nTIiYDmVoAhYTsXz0TYKFqJAGE+SEDs7Owkd4IvntdVVNU9Ki7du3QeA4mH2w4cPc+7fu3sPve7du3c3Ly83NzcHF4l4Ul1dTTxWpA5zX18fKRdIzMCxznXREvxfp4wIWE4lKAKWU/F8bI0CXhDAGruAKKTydHZ2IguxsaGxobmyuuK//z3AMIrikuLCwqKC/Ly8vLyCgoL8/PzHj4seP35cUlJSW1tTW1vb1NREGBc6OztJkP3YbBtBuRM1rP91yoiA5VSCImA5Fc/H3EiwQwgxfa10a3d3Z0d7V1NLU2hoLMMoqmuqq6pqqiornj5FhDCEyPjFixeksmlr60iqDfHlDw0NWa1WnuetViu5vohT/9hMEQHLqShFwHIqno+/UdB9hLgHQgc4ONDf1dnT09cTHn6YYZT1jfXNza0N9XUtLS11dfWNjY1NTc0tLS/b2tp6enp7enr7+/uJjmaxWIgNaLPZCJOEoNZ9/NJygTsQAcvpIIiA5VQ8H3+jAFjCMiLJQBwaHOjrHegf7A8NjXFz07Z3tHW0d7W1vWxrbW9ubmlv72hra+/t6evq7O7o6BwYGOzv7ydUVhDCwcFBCCFBwI9fQi52ByJgOR0QEbCciudTaRSUIJ7nRxOnh+122DfQt2nTHnd37/7B/q6u3oH+vt6evr6+/t7evoGBwZ7u3jNnzkZGRtXW1BL/Os/ztbW1iYmJ2dnZwjU/FSG5xn2IgOV0HETAciqeT67xlcLlQIadzWE1Gpf7+gYOW5EP3WIZsgzb0f8Wy9DQkJ23zZu7hKG9jMYlVpuNh7wDWrKzCzngHRV5jIdWCO0OaME7DgdvJ2oX0r3g8Ccnufd1QyJgOZW0CFhOxfPJNQqABXm7ww5tDpvRGOTru9xis1itdpvVYrdBBFjYpz44NODvt5IFXjT46tbtTLsDQmgvKCwBlC46+pidt0CIHy8eOtDfkc1u58nx0QPi34lIQAQsp9ISAcupeD7FRoJZEDp4Htp5u8kUZDQG2Rw2ux06HAiyHA7ECgMhtFiHzaYgQOlMpkXTpv3Y3Y30ppycR7RUHRt7DGlSPCwrqTP6LpLJpnp66DaHhLW3IfcW+finKLx3f08iYDmVsQhYTsXzKTfykIcOiADLZAqy83beAZHNhx8Yu81hs9kRnBmXT5Z51ze0MkCxKywaA1bRl1OmRUQkQsj39Ax7uH+jkM/4/ffdv23dRVPuAfODrdZPWWrv/N5EwHIqYhGwnIrnU24kgOUggOWA9hHzjod2uwXHK0Ae8iZjoOQLOYQwNuakVOJeUfE8L6+UlioPHkzgIZ+SksoBbXraDQeyFmHIpp005V5eXiOahH9/4oiA5VR2ImA5Fc+n3IieDAcUAAtDDgYtCO08D3nkmeL9/VZwjBZZeVb43bdzfH0X5uY8ZYEuOvoIhDAwcD3HaLo6B5FuxjvOn7/CsfLCwhKLbehTltw7vTcRsJyKVwQsp+L5lBsRQvGjgIWsQ7Q57Mi1jtxbZDMZAxmgIu+ysx6z7NTNIeHSL9TR0Ud4CAOXrQdSZW/vMA9tEPLpaTcAJc/PKx35sPjnb0hABCynQhMBy6l4PuXGkSfDZFphMq1A9iECMIxivI1oWBBCsymQZdR42Q+tBC5fvh7QSg54R0YetvP2lGOpHKNLS7tCAGvjhp0c0Dwtqxfw7lOW3zu6NxGwnApWBCyn4vmUG8mT4RgFLMEkRKuI5L7tNjjfbwnHuPN2yGMUa6xv95zqzTHy2OgjPA97e7s8pn6jVPywY1v8po37Aa3w8wt0oMXHkSt8yvJ7R/c2QcAikubRL42FhzbiTIQoRA5vPHQ47OiHCP0/sjl4pA477OTnCdn+WNcmraMDNzodkHMTuyTxp/A56JRh5OBEqzToiMViGXmLTxUGH2vrI9fHp9pxx6x2BwqI4VE3UHYX2cisG13CHj36p78iYP1JJJ/LATTXsElINKzRGYpvHwUs4C10515/v8WCSBx2eDH9hp95adr5DLsNfeTp0xdG49LJbmqp9KuQkNDW1m7sGnv1eAifFXf+kgTIsAgPPURRbWZTkNkUhIdkVLDohLFqMcTBujwBLKvdYkMrJw4MCoizg0ALCmSxo30eR/nyDlhRUZmbm0/QDIfTYXTDEXc8ngNo+Rj3G+2M/pbxEPkoySSxjlkVttlGfqpIHhiaYPhGEHJhryjJPyVyECCUgJRjFGuFT71RXCJgvVEsn8NB8mT8WcOCdjt6KgTMwvuQ/FoiufAQzfkx2+gsJY14vo355Rxzorj7FyQwQcDiUUonuazd7nCUl9dnZRUXPirOzyvKzUGluHNzCvp6B9Ag8nasJaGfGUGJNhrNMm4KbnVg/CNBv8iPCRGoIbxpbOrIyno0MEhAauS7RsASEgSEVtuITocTHsiCDfoiFN33xw3HFUOblcDgq56Qswj8Cd3740fROxGw/iyTz+TImwFLmCtkZ/RpQCejBwL9DJJ9PBHRtEXTGrU6eCsON7Wj33Oir30mkvxHb5MMy0Q0LPIT4eARBsz3X+kmU9NgCgvULFAxtIJj5Pl5JciKswxhE2xkhB1ofcVeXl6dn19EUOrCxSsHDqBQOzzWI2kMdp6Pjk6a7KbMySkc0eow4uF14VdIOUYEjtEFnJEfOfLL54BD2NGJTsSghiaSfVSrIiRFYy7y1l0RsN4qmk+9gTwZb9CwyI1jtwjvQK4r2xjnCA8RQqHZNhrOjq4z1i4QHPafugDfzf1NGLCIxjSiNhl9gwCtzM8vy88vy80pKch/mpNd3NMzktppR+AxYnvZ7FgnQu+RNmWzQz+/5V9O0dqsI14nhwNBGw9hbOyxSV/869GjV4u/Dju+Dl6iGTFCscaEJgePLks8CqNwhH7MILSQbFPUUYxZ+OBob7DSR3rmvIqlCFjvZtp9BFcdF7DQCXh2oQmGZiGegA6HDXtASCua3CNPADoBvX2lHHwEQnC9Lk4YsJD7HGMEMtTNpmAGqO12aOeHILQ60As5obZv32U2L2ls6OIhf+9uwdy5C48dT3HwjrDQSLM5kIf87j0x//rSSzJJ7u+34tz5C0Qu5MoREUdYoMrLK+Yhj7TsEd0anVJf/3Lz5h1G46KQkG15+Y9H5gSEHR29cXFH/f0Dly9fd/JkKp5GKFbGz7Ti8KHzu3dHBQQsW7Nma0N9rzCvhB1Bx3/j2IiA9UaxfA4HyZPxBg0L+2WRBHgeUToQWYx6RoU5SVxdr2aXcCb+5OcgwHdzjxMELDIAyJuOfkigvzkY0Aqi4Axb8GIcXuYrr6jlOMXG9bt5CPW6H9Wq73r6+hzYnQ9oTwhhaFiEx9QZk2XePj5Lr1y7bnMMo+R4CG0O68GDh7+c7JWT85ho1mhiIKUMPn/R5OGhB8DD3z/Y/Ss9w7jfvpONU1D5X34xS6VfzZrl5+01UyaTb98ejj8BAa3mGJ2X148//PDrZDf1dO85RDcXfvPwrHs1x/4sYhGw/iyTz+TImwFr1GmF9CZBV8J6k2B6jGhSWEzoIqNQhexEsmROvFqfiRz/4ducIGAh+duIVsvbbNDPvALQcpb7iqGmc8AglbrHxiYRd/rBg0c4Vh22ey/HaM6euY0+yEOT7wqWUTkwT5CfXzAlVZKUeAiHMWsQ0ntiYo7RUmV+fgl2k9l4PDF4CEM272AZz7zcSocd9vZAuXy6l9cPPIRp6VdY1jMq8jjCNTs0GQNZ1qOhudbBQwYoZ/7oTyQWFXWIpjwzMjLGYtarH8C3iFUErLcI5tM//GbA+vTv28XvcMKAhT6AHdtIITKbljNAHh1zKDrqSFTkkeiow9nZ+cSn3ts7PN17JpB6+fkF2hxWwgnkM2+xm0yBTUibn2kNBww4Cb5/9CcH/WhFRhydzOlzs8uwZUeiJZCXysswe/q0X/CC4rDNYQ8K2sQAld0BQ0LCGOD5srXLYh+C0H40+TRDa/LyH9t5K8doTKZlxEqtqKgB4KvYmEMo4x79GqJNUBhH3v/pjwhYfxLJ53JABCyXHOkJAxZ0oAAphFp2B5zvt5JllKNhT9Bqxbz7SJdCkDBrppEF2mXL1mObkbc74MIFayjpVxiJHEafFSzQY4fl4OgqCloCjoxIYGiP3JxijHHDECLb08FDGacyGYPJZyGEYaHRlNSTh9DfP5CSuiN7FNmQ/M1bWSzQZOcUQsjTUqWfeQX+CGqVTPoyKjKeDMPoGs44gyIC1jgC+nSbRcByybGdMGCNWFHDFsRE5uuDcj/xjY0oLSQmCkJ45NBpGaNet/Z3N06Vn/8Er+1CBFKMAoOUzc+8gpaQz6JO4A3hXcTBeBmnLMh/iqxIh42s7vHQYfRdwtDK7u6RCKz/fG+UcWoHD6OjD3Os4vatPOJS2LnjgIzV5uU/hpBnaK2faSW5+tWrmVPcdDHRCchXhuLm8Z3j2FTBFzHajVd/RcB6JYvPbI88GW9wun9mcnCx2yXD8uqRHSfSnWTMYDciQqj5/qsYWhkZeTgiIi4+7tjBA4ciIw41NLQ31HeoFP82zlsJIfT2mjnN+8funh4IoZ9xtZtMbectDmjdsmUXQ6vS02/09SHss9twlAIPY6JTGFq1acOeyIikmOijsdEpEQeOQWhPT7tOU/Lg4M0PHxRGHExyk2k2btgBIWxobKWpqbN+9LtzO+/smQylYrqXYRa+lk3Gesk9vj137sK9u4WzZ5tpSl6QXySsLPO8AwfTjNqjbxoZEbDeJJXP4pgIWC45zBMELBR+icKrkN/cYrX7mYMA7cmy/5Jx8i/+3+TJMo2M9SwoKFm8OIhj3XNzSnlov3ThNi39KmzXLgRYpmDJF1NwQKnj/v1cGScH4F9RUQk4FhhrVA4YHZXE0J4co+QYBaCncoyCoeU4bALuCo1mwFcybqqMVZqNgb09FrsDKVyp568qPKczwINlPKZ5/1BZ0YCzfRyURD3Ne46npxoAdwDcw0JjiPcKq1con4cMySu4/tMQiYD1J5F8LgdEwHLJkZ4gYJGsQJxdMJIw9drTbrORyHI7jvjlETahr8C5fSQwFL+z4nyrpub27OzCnh5Sxo0461FGIlGChCvjgLyRr6uvb87JKXxW1SQkbJHTOjsG8nNLCvJLsbmHvsNqH5axBn+/NX39Q7m5xY1NbeTM0f9HkyhwvsTbxkYErLdJ5pM/LgKWSw7xBAELcyvigBI45IDIirMh7liUKEVuD6OTw+YYdIwUDXEg5zxajyMQ9op0weZApNhjg1mQzsNb8aVG0ARHv+OFQUg4tbFjHUIrdrHzPKoHjlctR8L37IjnA3UEZ+HYpJMUJmMQ6RiJ8xJSVpEfH+XqvPr+Nw6PCFhvFMvncJA8GaIPy8XGmgwLecpR18bxYRFfNb4HCwIrbFQ5UBQVKsuGgelV7gEKIMApzZi/AVmRI8FWeNUPM8nYiFMM25hYDcOXJkoWkRSGNMIAAe0ov8fi4FHqD+7yCEqi3BuEmBirUNQFUsfs/NAUNy+jbyDCU9Rkx4moKOKPcEigOD6svJEEafJ1r/0vAtZrAvmU3+JfMx7noKKfYuIy8Dev8jMhX+xoyCj54R3xJozUox+deZ+ydFzk3kaecdQbq82GwnJ5lHBjNgVjnhc7Pjja1zEnjx76xP+KgPWJDzD6ZcPpNcPD5GcQIZEdrQA5SPa877wlRp+lWAooWoecLCzc4OMjvoxPX1IucIfY7zyWbw/ZVkbfQKNvIBkj0kf86yI4qV2g3++rCyJgvS9Jf6jvwT/CNkRXhD0SDthQ30JsBbRybbfP9w+aPz8I8xbZScJXQ32zYJEIuvqH6v5n+L14oY0fHkbmlZ238BCaTIEmUyA2opCvCDfxZD3uc5OPCFif+IgLycu4eBdCL3/z0tDtEV3d/eTOjb5LfX2WkP3e3sGYqCOzfpwrmIBj8gQ/cUG5yO1hs33EQ4Rzj4cdo4DlQKnII0QxxAkleKxdpPPvoRsiYL0HIX/gr7BZCSfISFTeuTMZbqxSpfzm7NlLdgf0M6/2M6/ieZiefs3baybHeKYknyM9Rlzd2Lc1Npn+A9/MZ/D1PG9Dii022pH4EWAtwyl4eDSwgY6MesSJ/tltImB94kM+mmg24lMnoXkKTy+a0lCUx0+z53sZ5kzznjd3zmKOVXKMHlBf9fZYBQ0LrYHjhZtPXEwuc3s4pW4k24YY5mNNwtHFOIGeYSR6wGW6/847IgLWOxfxh/0CgXub5MES8AnduZsFXgxQAqCgKQ0DdBynZhgVTelCNqHsCrKu7EBRy8iKHI1A/rC38rl8u9VqLSwsrnvRjhQq7II0GgONRuR0J2/rXrQXFhaP5id/LmIh9ykC1ic/3jz2uKPbHMEdHjY1NTG0gablDEq2UANazTAK9JY2PC19Rk7DPi87iaARFK5PXlgf/gYxQlWUPwO0u9m8NP1ChgOFNaCqOQ4epl/IMJuXAtq9ovwZHtEP39/33AMRsP6mwAkD59/8sAt8zGRaxrEGAAw0q6AYOcMYWKCfOdPoAl37B7pARmfEsvrj9Vx/4Aj3udG0mKY1AHh7ec/zkH/jIf/Gy3seAN40rTGaUOE1gSL9j/f3ib8TAeudDLDwwLjsTnr6dckkhFMMp6GAkqZ1NKVKTb3qsh3+ix3DXp5X576T0X2XFyUBVsMWy6VLtwCtYoBBSmloRkkzSiky3g2AVl26dIvQH4/G+r7LDrnYtUXAeicD8uqJcdU9Bw/l8q+lUjVgdIDVAaDz9JzR0zPoqv39O/16J0P7Pi6KgnutVqhUfiuRKGlaw7DoRdMaiUSpVH47Wrp0JBvhffTIZb5DBKy/ORTOHyBSZ82V/7c7HKGhBxhGA4CBonQAqMPCImyk9KAr93sifXM+RqT1bw7/O/zYSGVUux1GRSVJpZ5uk71oGqGV22QvqdQzKiqJxNZh9eqzwywRsCY29d74DIx9iOyjm821N7vD/vxFo0ymJoDFsIra5w02u2t3+i/0zmq1vvGssWM0dhAnNvzv4ezRFVkeMeG1sawnTSsBQCowTStZ1rOhsQ375XFXRk9+D/1yka8QAWsCA/HaRCdvca45Qqmxz4kVbxYX3oaHhweHhufMDeA4Lze3ab7GxRarbWhoyIW7/He6RgZCQDH7qAopDOUEhv89ncrbrFabdSTAav363wBQANqAXkCxfv1vpBc2q92GLMNX2PWeevehv0YErAmMgDDLx0KVzWazWCzDw8NDQ0ODo9sA3vpdeOvrHRgaHrqUcQMAjUSiOHvuYm9fb3/fgAt3+S91rW906+/vHxgYGBwcHBrdhoeHLRaL1WodC1sTGP73cqodZX2iDfOsO/IKilDECWWgKQPDKPIKihwjwVjoHOFk8pHP4X8RsCYwymMBiyhWVqsVqSqDgwMDA319fb29vV146+zs7Pjj1u5iW0d7d1t7a3tnj143S6+f3d7R09be2tnR42Ld/Pvd6ejo6Ozs7Orq6sGbgF/Dw8NE4SKwNYHhf0+nYqUJUUbZSaDojz+aGdqbob1//NGM2xyoaUS1EjWsvz8qQob/CBtJVFQSYNR//3qu8UkhloegFVk1x2g17HDYhgYHhoaGBgYGuru6urs7u7s72tvb2tpaW1+2tLQ0NTc1NjU1NDWiV3NTo0u9WppfNjY0NTW2hIXuDgvd3dTY0tjQ1NL80qU6+Tc609j8vOVlc119Q3NzS8vLxpaX9d097a2tLQS5iOY7PDxss9msVitxbAlD7DIzzopoGggBHg8vpN1gaTlLyy+k3cA4xeOm0RNco9PvrReihjWOqIXZLKhXo04r2N9vsVpgT/dQZ8dAe3tfU2NbU1Pr8xcvap8/r6mtfVbzrPrZs2qyPauurKpyqVdFZXVl5bNnNc/vZz68n/nwWc3zyspn6KCL9fNt/al6y1ZR9ayquq66uvFZdUN9fWN9Q11tbU1Lc8vLly/b2tq6u7t7enoGBgaIP4woWcIQjzMV3lMzj7MLkHpFvrCrY1ClmKFSzOjqQFTreMOlmhGNp6hhjYpk4n8/TQ1LkIMAWHa73Wq17t+fKJMpKcqDYZQ4x0UJgJxh5ByrZxkdy2gZ8IcXoDWu9aI0LKOXSpQy1iBjDVKJkkWZzy7WyYkLjWXlHKsCFCrxErJpe3FxaUVFVXVVbW1tbV1dXUtLS2tra3d3N3FvWSwWF8QsDKA8To2CNhuCrdAd+0J37ENsM/gtYQpyMZwVHpR3uyNqWH9VvgSwEFORzTY8PLz/wFEpJccRfTqG1dO0RipVcjI9ABoaqNGLxv8DNQAawLjciwYqltVStJKiVfilZFktDVQu2NUJdYmmlAzQsUAPaOWG9dsePSp+9OhxaenTioqKZ8+eNTQ0NDc3d3R0EJcWsQ3t9pHSyX91KrzL84SffRLFjsqgOmBjQ0tjQ4sDMbKj7xYC3IWT32WPXOvaImD91fFAfJ2ILd9usVgGBwf3H0wCrBIwaqlUCRgdyxkYVhaqwSQAACAASURBVCeRKl8BFoYtAa1GUIxgmQv8Dxg1RSsZVgMYNWDUDKuhaHQ7rtbPt/UHCfZNL5bRUlINJVVzrGb16pDrN27cvnMrJzensLCwpKSkurr6+fPnLS0tPT09fX19g4OoJrvNZsPFWlzCvCJ0GoSZT2DaGDtHyUFywmdI/CMC1tjJ4GxfAKzh4eGBgYH9Bw5LpO4UrZDJ9DStniRRsKyOYbQAZXv98QVQjvHrB1875/2/BQaa0tOUnnRsZN8F+zlByUgpJYutcoZRBCxYduLUifQL5y9fvXT79u2srKzHjx8/ffr0+fPnra2tnZ2dfX19QqCD61hYJBqUzDe8yIOKymDGPmQeCtj6+QWNosdTBCxnIDW2jUwgmw1FV/b19e3ZGz95spai5BSFvD/YH6RCXirsyWIQ/4FizOu1t2ObPsw+AHKWVY7poYJliRvuw/RnbE/+l32W1QKglUrUDKOcHxB4OCnp+MmUc6nnMjIy7ty5k5+f/+TJk2fPnrW0tBDAIlEOLmUVEsZEgTfxbTvC8bGz9JPfFwHrrw6xAFiDg4O9vb3hexNZRgVolYw1UBINCwyAQq4ThtaNvvQMrcdH0M7oQaH1A++wwEBLdQxtYAF6IXosqQ7vfOCO/Y+ComkNy3qxjBegVT6+iyKjYuMTEk+eOp2amnr9+vXs7OxHjx5VVlY2Nja2t7f39PSQaFLXASxSFpCoe9iB9QdDFZUZxQfIH3LyX53Bn8R5ImD91WHkeZ7k3wwODnZ1de3eE8sgwNKiF/KsqwBQMyjn682+FUDrWcaLpnSYIUTHMgaa0jIAWZEUpQSMCgCFTKaVShX4uOGt13nb9d92nNbSlEYm85JIFAzQUpSKZXU0raYoFcchYxZ3QMUyOoDPnOj3YoDQ07SKYdQ42U3DMBqaxksNb+vSm48j0SHHPy1nWbVUKmcxh8RE+4N8iDQWLFD9/JNx27Ydu3fvjouLS0pKOn/+/M2bN7OyskpLS+vr64mSNTg4SFzvrmMS/tUZ+VmeJwLWXx32/xGwyDPMcXpKiiBDKkHueQZoEUkbrWEYNUUpAFBxnE7GeVGU9m88qG/8CMZQ7RdfyGUcAsFRR5ua43RSqRKDgoZhUDcQjQnzdsB9M8qgC6LrMFqMNSpMXopg8Y2dcXKQkiIAlUgUHKcDtJpjdQhhJ94f9BUjgKWcNXPeli2/7dy5IyoqMjEx8fTp09euXcvMzHzy5EldXR1ZLhwYGBAAS8Ssv/owfLjzRMAaX/ZCQAOJwBoYGOjs7Hxdw0IqkjMNi2FUUqknAEgTIeoYx+loGtGoyzgvhtExDNFNVBIJchs7ebYn1CSZhFYD3GReaDUTQZIWg4JeKlXKZAZKipAF6VlAyzI6THH5Fg3xLYCFXHhYZcOwpadxeJczTfMt1+FYHVb6DIiii9YBgCCbpicMfEjbxYAFaOX33/+ybt2GrVu37AsPj46OTklJIZ6soqKi58+fNzU1tbe3i4A1/gPgSmeIgDX+aAiARfI5BgYGOjo6du0eNQmRGYgqODgHLJpWMowav7DFRKuJRsMgOipkV8o4A3n4UXgUDo+YEDC97WSOQ1CITTatmwwFiCKcolQymQEFjnF6BiCgJPoR9lhPDLAAijhTMUDLsQaG0QOgk0rI4sPErkPTSo7TTZqkZICBZbykUjUKvkXgPsHrjAGsb76ZtWJF8IYN68PCwg4cOJCUlJSenn7z5s2CgoKamprGxsa2traBAZRcJUQ2iErW+M/DBz1DBKzxxT8WsCwWS39/PwasGOR4Qg6svwhY+JEGOqlUhVQqoKMoNcvokdVDa2gK6TiUVIWNKZVMNmHT7G0PNg2UHIdcYwyjwf9rkVUItIDWEPVKJjNIJHI3N/2oWToxgMCYgsAXAJ1kkopl9Rj+Jgw0ROuUyUj9MQ3WMdXIu/e3AQsoZ8z4cenSZWvWrNm+fXt4ePjhw4eJ6z0vL6+6urqhoaG1tVUErPEfAFc6QwSs8UfjrYAFlASwsJKidq5hAVoPaD1NaUlCDFZMlJibTUEDBXrsaTVxMDEoGNVzog/qW89nlO7u083mVdOnz0UWFvZV4bUCDcciwxArXxoPj298fYOmT//1rdd5K3AgvxXHGaQSFYfQSk3THjRwn+h1cAibmqIVNK3gOA0NlAyj+Ru+MGISAlrHANX06f9ZtGjJqlUrf//vf/fs2ZOYmHj+/PmrV6/m5uZWV1fX19e3trb29/cPDQ2RRGgy0ONPCPGMDycBEbDGl/0bAStsVwzAgIVX+pDXHDvRnWhGyC/DoMdeZTKvMJkDTX7LTH5LjaYlcsV0wCgoCsWgSlAAqharGxPTdN4KEIzSbA7GfLsnaRr7+6WqyW7TaJw2iBIeGY2bm97HdznPw6io42+9zlsAC7vetJRU7ebmLZUq/PyDbQ4YHXt4oteh8WLr/IBVNgeMik6SUlNlMh22MScoB0T6jExslkGAtWDBopUrg3/bunXXrl0JCQnnzp27cuVKTk5OVVUV0bBEwBr/AXClM0TAGn803gJY0RMCLLwSpwKMEjAedh7aeZSMb8M7NgdMTk5jWRVFKUdOIxmIb8GICWEBDeSenl+bzMF6/WyW1UqlysmTp0mQq0iHwx0MUinCSqXyO6MxyMtr1oQujjCaQfYsxyL/vUym9fFdwkMYER0z8esYaFpl9gtEgBVziJMppFIFUksnKASsqRHAUiPAClgYHBy8dcuWsLAwEbDGn+suf4YIWOMP0Z8Bq729HWlYDDIJ8YrYyMIf9me9WSPgWD1glAxATm4IYXlFjdEn2Oy7enngb2VlNRDCdeu2c4yGZRQyTs0iv9hUivLkOCXH6miJF8MopbSMAWoWqAGloqUqhtbJGG8g1XEo7FNDU3oU4YVhiGUMgNLTUg3HGBiAVu44TkFJ5Sw9g6ZULDcVIJe/J7K86Kkso2GoGcgwZKcCSgeo6QwwcDI5oAwMkDNAQ1FTGdobe+UVLKNk0V2oGFrFAjWDwq+UOL9HDYBcxhpMuEBxVFQiDb5yc1Oj1QMaRXgxWFAoxIzxZBkvCtmPWlqqx551TwYpRGoGqIymxTyEkVEJgFZxOPiTA9NoqQr1llUyQI08+kCLQh+cAZmOmITTvL8PCFi4YsWKrVu27Nq1Kz4+/uzZs5cvXxY1rPEnvaueIQLW+CPzjwAWCnRCdeG1Mk5nczhy8wrdOC2DnEpyP79FFisfF3tChtYHp3p7/Zh67k5ObknGpUyd7jsGKBna69ixC8kpp5YHbsnJeVxYWLoieL1C7nX+3PXCgsro6CQPDy1glDKZzt19+q7dEVm52QWPCkNDI2iJhgGan2YvfJj1aPPm3agSfcie7NzCmTP97tzJz80tj4o+TNMeLEBsljm5RSEh4Syj2bBhR1Zuzo8/mm/deZCTWxIbn0gDD6RAcVovr5lpqTfzcp9GRx3dFRZRkP+EouUybjoOnZVLvlAYjcsghMeOnU1Pv5OV/SQqOmnqVC8UTkFrWVa1YeOOrOzHhYXPduzc5z5VCyiUAACAx6aNu7Kzy65dy969J8Jqt0dGxfn5BedkV+4MPUhLdDJWN2uW+eHD4p07o2UyA8cZJDiK7e2YJQLW+LP6Iz1DBKzxB+4fASyK0rAcMp2kErkD8vmFhSyQM7QnA6aG7Qp38DBk0x7JJPm/v/m1u9sCIczNK+7qsnX3WKZPn80CfXbOk+6+voaG3vz8x1ZMilRSWlFR8aK+HtVQOX4C+Z6+mPRlfmGxnXeUlZc1NDZDCNPSrnKcymhcZudhfEKyVKKIjDzMQ9jT48jKLn7xAn02IjKBptR+foFoP+IIxykPRsTz0N7dbcsrKKpvaLfYrTGxh2WcwcNjRm1tKw9haWlNc3NHd08vhHaZm0YyCSmVkydrOUbv47MEJ+jCsrKmuvoOHsLbdx6g6DOgOZp8hoewuaXnSckzB3SUV1VhzUu/M/QAD2F9Q8ejR5V2B6Kki4lLZBiPnl57U8tLGdKzFIcOnYQQLlmyFi9lqscLKH0DYIWFhQkaVnZ2dlVVleh0H3/qu94ZImCNPyb/CGABWieT6SipmqYVEPKd3Z25uWV5uWXl5S94CJOPnWIZJcdoU1Nv8Dw0mgJY2Vdmv2U8hPsPJLCM9mH2Ix5Cd3cDy8ijog7zPLx48SYDPFlG0dTUVVffCGi9m5v2YMShzZvD3DgNTXmWlVVD6JBKpgYErHQgYIpnGXVM7FEb75g508QwCrlimtVuzysoZoDGz2+51W6Pij5CSVUxsSk8hN9/Z2ZZuVLxHQ9hdk6xVCIP2byLhzAu/ijHeVLSKVVVNRDapZQHx04DtFoqnUpJ1QHzVw5bbCkp5xiUaaTOzi3kIdTrZ06f/pMDwuzcPJqeCoBnVEycnYfr1oaxjOpFXVNP37Cn3EDTU5cHrbfzMDrmEAAeR4+etUPHD9/5sYy8uaWzvuElDb7C2Uuq8ZzxImCNP6s/0jNEwBp/4P4RwKKkGpx7qJNxWgj57t7u/LynebllZWW1ECFCgUL+DQPUOTklPITRMfERUYkRkYccED4qKmeAKi8fqU4cp2RoTcD8YJ6HkZFHAK0ElCovtwxCyDIaSopaly3ZEhWRHBV5uKmpDfKQZbRG36BRTUoZG3vMZoccp+YYPU178hDm5RcDSms0LndAGBV1BNC6gweTeAg51gt5oCidzQ7z8ktoWn78RLrNDg2G7zhW7cbpsh4+hhBStCfLTONYHcuqGFrr67sUQhgZmcAwcpYxbNt20AGh0bg8ZPNOHsKQkJ0MUHEMskAdPIyNPT59xg88hGfPX2IYOaCVZvMKHsKDBw8xQDVzJqq5sHdPgpfX9zyER5NPAcYDoIVOPV5SfLOvENuJImCNP6s/0jNEwBp/4P4RwGKAnqIVbjJvmlJY7ba8ggLs0pazjDwsLBxCGBYaDWhFbm4xKlNuQ9ySDszV9jCrCNDKvPwnPIQU5cnQGpMRrcRFRx/iWBXHqvPzn9j4YYbWT3WfVl6O/PeE6RuVVuEhxxhMxpVWG0TuKkoVH3/SZoeAVlESg4zTOiDMKyimpFp/v9XYJEx0k+miog9ZHRYGqDlWywI9D2FOfp6bm/Zh1iMIIcNMZYGOlmgL8yshRNiHnO5ATVEebpyXyYRMy+joQywrl07S+futckAYFhZ3MCLBzjvM5mDkZaemuX/1DT4teZ6vnx06omOSZByK7zeZVtgdMCY2BcWISRQNDV0lJdW7dh+AEP4404fjNJJJSgBQ7OvbHVgohPXPTndiEp45c+by5cvZ2dmVlZX19fUvX74UwxrGfwBc6QwRsMYfjX8EsFhGT1FynIKjc0BYUPiYoZUsUFNSxYIFy4ctfFTUUY5VIPSxQ7lCR6FAJDXDfgWAO02p8vPLbA4o43Qc0BuNS7B6clgqmSrjtPn5xTy0sLT3xo3bILQdTkoA9JcM7ZmfVwShBdAaH5/leOktnmXV+/bF8wh01BzztVTigcy93AIW6H3mIaA5GBlH0/LIqAQe2tCKJFq1NNgcjrzCHEqqOJaSarHxP/1sApSapXX5eSUOaGHQoiFKVByrYUVFHaLpqRwz7WBEAg/h3LnL5ges4CGfnJwGgJJj9EuXrsH4mCRXePEQ3ryVJZnkOdnN4Ou7lIfwwIF4Gad347wjIpIdPKx+9ry2tlnGoRxDGTsdRZAB5xHwbwasuLg4EbDGn+6ufYYIWOOPzz8CWCh5hVFgVhkVtgELOYAW+2Wswei7GJlREYdYxnPTpt8dPLx1K8vPL3jZ0pAbNx9Omz6LY/Q5OaV2B0Reauk0sykYIrspcbLMi5Ko83JLeehgGc+QkJ08D9PTbs43r4yOPIYZKa0MUJtNQTYeRkbHAuAZHYOc7iyjBNQ0hpHz0J6dmyPjdEZjoAPyUTFxgNbExB61OqyYl8oAqGkOCPML8xmgN5sDIYQlJdVmY3DIxr3d3T0Q9gG09Ik0LAZdU2MyBTp4WF7+fPnykKVLtvYO9Pb0t8k9vwW0Z2NLQ1fP0IYNOwMDN5RXPeWh3dt7FqAVBY/Qre0Ki583b9ntOzlWuz0u4cgX/zeVZQzeXj+hygt2PmxXBEOrAeWFFEOZN03L/4aGJQLW+HPd5c/4BwFr5F5xRKTDZudjY48BWoWrFTk+6v8dOMyThw67w2qxDvf197Z3tIbtikM1xAHJIkYpL+PZKUqO00hRaJXG4YDZ2RU0+riSBh4yN2Vnl63saT3DegLGM/lYGg+hDa+XPa9r+XWu/yTp5PyCpzY7xCd4+PkHWazwYESS22QVRbvnF1TYHahpqoe+rLzGjg3JG7fupF3IsEM4bfrseT6L8NJbEgWmxMQeHbZAmZsKMB4sJ7c7YH5BBWA8fXyX2lGIeTJgPCKjjvIQolAG2t1tssrugNk5pYg3BihOnEiz4+pTnV0dTU1NEEKAkiKROwkn5cj9/FcMW2BySqoDG6Y2O9y8eS9WiJT/+Y+xsanXDhGQdnYPb9oUBhgFDTxn/+TX2W0l5x+MRApgVNQJTFlhAED/tOKZA0LvabNQ1KtEhQpMIHII5ywOb9aw4uPjz5w5k5GRQeKwxFVCl0enN3TwHwSssYnuPPJERB9jaBQk+bFvpHKJ3Q4tFvvQkLW3d6C9vWtnaDTLoXhRVB2HRnl5OPHNSdKvSiLxxOGXSpZFjzfHaTEHllIi9ZC5aaVSz8mT9RQtp2i5h+c3AQtWfv/DPJmbcpLkXzI3DUD5hiqGUdFAMWnSVDc3HU0rCPwROEABorSG43Q+PoGzZs+ngRwA/EVAR6HASyU1QoynwJxcahoopVJPmUwrkXjQtIJl1SyLVjBJKp9UioCVYVQSiQfHaThOg+JLgUYySfHNDF+jT5Ba+XXRozKbjSehqoj1AaX+yaVSj8mTtVJqqvf07318FyuV30qlCkxcgzK6aVpu8lvsa1wsV3yDYx1QYhBNKxhWafZbZvD6gZMpkRefVaOOSVEJtcbm9qycYoZFyds44QbJebzkcBGwPvZn7q39/8cAi+ft5EuQdmC3QQhjolMoqQpC+0f94qHNwY+k0NjslmHLYF9/T0dn697wQwhcKPT805Qa56+pndKzqN3cvHD6MSq0wzBaFlWsQBRamJgFZRpSlFoqVU2ZPJ2SqiUSOb6amsakDiMsUbSORat7GsT0gEot6KUSFUWh3GNAezEAMZpyrJdUokYMLRItA7ylEo2b23RCL4VZA7UMY0Av/L0SiRLHNKFcllG6G5LzqJNMUk6ZMh3QWqmUkFKoGaCMiUlJS7sWERGfmpphs8EL6VcF4j0WEVohJj9MkqOlaDnHoTQAQrJKU+jucOIhKi+GneJeKDofdQZ9UDJJybEGgBgNUe43xylDNoddv/GAh3D9hu0U5UFJ0Qnolv9/e1fCFdWxrf/Ne4E+82lzNdLd9EQDmty77ruJGk1uBGJMQBFBjQmJQa9oHHPzFJCIyqAkwQEVnCBGEZUZEVAUZFBkhmZq6On0eWtXQV+TPD1CUJq1qlYtPQ3Vpw+7qr7ee9fe3wbunRd8MSg43YmG9VwwmAu/mDHAkmWP5JbcbmCclhDtdHJSlsjDGdOc7pLHI3mASVvyeJwu17jdPjIy0j/Qn7gjSRCAJpQDnjngDp1MA/z/j9t5Pkjlr1OrQzjOjA7mgd0FVA/EeMfQRoAkBCI0UEEB7QzayQaOC0IRBqZJkmUjpp2aIIrggkQxROWPiR/0gmDy81uIOLCAQIZjzWp1kL9/ANIEA0XRxHKgbbGsnqYmsBLfh6aN89ShiMoKKJV53gJQpUIRT4gGGnErB+7Y+e8nT7tlWbbZHOfOFWgCglFuDZSMRZgIwIdviP80hjYjenVID0JZfnqGMdGUiWUsIr8I4ylNGUTRohYWoxQf+GNRwURNSWm95JEzMk+LaoMoIjI/xMODExin4cMiJuFcQCSFZ5wxwHqWD9+NECs5OYOmNB+Hxc3pvipiY0RYXERYXPjK2LCP1od9tH7lP2M+XLE2NHQZy+oEAQg8sfeKoSGe+3kbCfMZ0ECnibc0wgVQl7DGYRChCKuBoTFbC+bYAosJZfMBtCGuKMSWB4QEcOHtSHPRsRwYiaJomjQ29djkBGMKxSjQlI7njWCQ8qDs8LxJpdLix+Y4I9bp0K0AHWgaGPXQXwSaIyKANwp8CCLJMcNBIdwTHl6l0mLqZ1AVIXXRxHPBggCqkFoMpmm9SoWLoQGRDgNpg8Bnj/IKgQsM2ZI6f3+dKIRwHLwdyt5MPKpeEPR+fgtYXPYVmJfhiwH9Rc8V9YvDGoiGpQAJvv3rGQMs5FafiB5CkUTulJQjoqgND4uZ0z0ibH34ynXhK2NQh4uwj6I/XBFlCV6C/DtgwiBVCNzALzIJGVwJIhCVewB1g0OUxMhVhDQ14CzV8wAleooCYxOloYA2hLhrAH0EwSQIRqRDmRhG9+abFlz3AXxPtB6xHoewjPm//0sjCsHwQeALD2IZsMt4LoRSQdlEKIEFnnItxxmQNw3urFZDmBguJAGfi6553oAdZAwKI0AUxoCkCP6AeR2lJU/ANCJ3B0BRiyEoRRkgFeEO4AtFabAPbpIxIhjdB3mjOHgAXoAaFqCFIUQThRAe6Lr0/v6aefMs+ENBmwPKdsUiF8SH5duo8yeebiYBC2oQoSMkdFAIl/hE6U88nk+8dcKk9cgut9vucIyMjPb19UMirhq85mAJgg8Ll2PQPU/D4nmzv58GRYQDWzlN6xFmmbCWhPURlgVdBvuAMLUxChcwUhSAC0YThoFzyWc1LKQKQfC3KIT4++lpyvzmm+8wNN7VoIWhDwoCogjOghS9YFztgqKg4gMyaYHpFB0IgOaFjhHgpb8/nBJgVxrHm1kuUEXPV7+pYbj5LBsA54aMBZOXIsJ4qMSDFS61GgpeYE88uoOZ50woFhTQjaYCaRqIAxlGj9S6ICjGgVgMUQkfwFMIEGWMogCpzv5+QBqB/H1G5MAygs/u+cos0bB8Ytu8moeYMcD6j9MdjtXdkuxEodqv5qlf710ljySBg05yupx2u314ZLi3r2/v3sMMON1xCQbwYQEGPX8XTVhYcJQGPmNspoFdBkYQOJsmjsAoA/YfYd8WipYIAg89qtGATvTBk02p9GoxBMKyUA1XyKzmgQEZV+7CVDABmtDMrDOl5XW7diexrAbODTkdLwRu/mJ7ckoGcM7wFpo2IvKZYA7iWkEdwxdQuYcyCEIwrv3FcUEUreeAUNRCQ/nCUJYORt2CascCGCHgg3NJ5CbTsQwkTmIuPYh7AMJVC8eGgJMe7gPMXOi8YuJXSFXEjnkzQxvUagv6MgB/P49OYEWwMTHCgnuOANbr3QS+8mkzBli+8ge9gueYkcDRF26wF2+/3/yW5xYzXCAEZKFqC1Bfiw1i6VAI8vK3cEwIHMxRZrUYWFpWLsvyvXvtW7bspRkty4FNStPayop6WZZR0QcLpTLyfAgU8oPTPQMDZC8GVNcvGJHnoZqJQJQKZFsMq1PP01NUwIRVCHRagXCICR56OCUAM5NH7n+gD/3NY7/el8QkfAXbwDduSQBLeR58CrAolZkTDAyr4Xkc4qCjVBoo48wG8HwoD1ECRo4JoqkFEJVe/xB47zgdcAdCjVIjzxsqymslt4Q58JDyAmVcke8MSOWRFxwqZYBPCgAIPGjItRSKQhPABAbvOBuEfUlIVTSp/FGYhQDxYsDvTABLeVmREdORAAEsZan5FGCBUcYAjqj89RwbxPNajgt4992PwyLWBAT8jef1/v7z9YH/CA8HIr37DU0fR8QtWBDM8QaK1mPAKisFlgWGBl8SJADymrCwtWHh0Tyvo+kAhjEJkFqspZm3liwND49YF6AJZRgNy0Cgw6JFyyMi1qtUAe+992l4eCwv6GgaSjSjgz+gq0d1m/ExKNGwlJcWGTFVCRDAUpaYTwEWwxogwh7UnMWUKjBAY66qrnO7IXvILcmZWacEceHHERslyCeCExDJLa9atYlhAkUxmOctFKUpR4QQPGfhecO7733U0tqJYn1l66BzyzffoujNQI3GUlEJRDcuN1BHnDiRy3FaUdQfOHhEkuXGR21OJ4TXPW5vD120FLnnwOeFTjOh2g3KTyaApby0yIipSoAAlrLEfAyw9DQTiMIvoX5E/oUCh1NKTk5ftXpdQWGp0y1vSdgesPDtsJWgYd279yA8LC5g4dsMq/fz1wlCMM8bSktrZI8HBY5qn3b0W4fGvvo6MSbmy4YHbS5JDrGsoKgFFy9edbnlpKSjq1fHXiko9njkL+O3A3dgyjG3Ryq8+uvq1bEHDqTJsudMbgHP6ykKQkzRCSMcKfBQUZUAlvLSIiOmKgECWMoS8ynAYjkDyxkFIYRlgllWKyG7j4Ms4gCNZrFHlm+XVqCCDoEykPNVCRAngUuHmWkI19RVVYHTnWX0ERHr3JJ8/MQpSrVALRpiY+MhRzrlJ0HQuNxyfX0Ty2poKkCnC5U8ckVFg8pfm5KcLXnkiI+jGIiANdy73wRUf2KgCoV94iqHyBH2Yr6qV41lxOmuvKrn6AgCWMoT52OABcd5AD2MedUnsQ6XK+XQMZQJqOc4Y/39poqqu5AnxOgdTqmishqipXBFUhSywHH68vK7suzhWF1qapYsyxHh0SylFzjz/L9ApnpyUlZ4eKQsy4cPZ3OMUYDC8ZqGhqaysjqeMaUeyvHIcnh4JEdbRC40C9G0q6j5DK1H+UMQR8ZxJkSz96pR6QX3J4ClvKrn6AgCWMoT51OAhdiBIYGZYUzBIcAvnHv2MscEQzUt1mwdGi8tvwMlalAxsfLyKojk4iAcn+eDaUiaMZSX1ciyh+c0X8Vvd7vlLV/t5RkLSwUtW7bKLUkpyRmhoX+TZflkzhU1t4ilLCytGR4Zq6is5jld0sF0yeNa9clqiKWgjOfOX3B5ZF6EPG3ggGYhQBSlQwcTk1B5YZERD3OzQgAADOlJREFUU5cAASxlmfkUYGEVBhVANFGUtv3p0NCIfaFWx7IBqz6Jkjxy7tkrPGdkaYPHI5dXliOPEsRwCoKF4wwUvaCiqtbtkVnG+PbiD1wuxOnOqRlWTEk5Ksty/Jd7OChsMTI46AzQGAVxQXjEpx5ZPpt7lWPfSkk5JklyTMyXPLdQqzUPD9usgxLPB6pUGkGAMNRJzHpuxP9rATKiYSmv6jk6ggCW8sT5FGDRlA4SWYCByyII5nUxWyRZHhpxVFY0Ohzy0PD44sVLgLgGMZGVlJVBRVIhCAesq1RaUW24XVID/HzAWqM/fvys5JHbn/Y+bGyTJLmurlngjTynj4rcLEmybcxzu+SOLMvWwfFFocsZ+i0Mah5Jrq5+YLXaJeD8Ow4lLQTIT4Lai4yRBW2OBI4qrysyYhoSIIClLDSfAiycb0hRegpYaMw0rVsZtq6gsOT27fu5ZwvffmcJTS9E6S+WgwcztyQkIjIZUHxQEo+Z541ff70nKTmDg4xoPctq4+N3lpTWlpTUphw6rtMthtI7kN6si4z8/NLlm+Xl98/kFixavIRnzRyrO5gEHO179yVdunSjvPx+QsIeQTS88cZ8lAKpV4vBKGIemB5eiyb1PDcW0bCUV/UcHUEAS3nifAqwEKWBkefMghCMWP3ARcUBX6iJ43QU9ZYomnhIMLRAzQtuIc+jLGjgtAHM8vPTCgLAHAtcgGaWhTh4jtMKoh69XQNlMkQwHt94Y74oolo4aiNwqNMWnjMkpxxzuuXwiChRDKSpAIbW0rRWPS8IczAwjAFnLCsVOn0e0MzUzwlgKa/qOTqCAJbyxPkUYAEDl78WcSSYBD4YEqERI6hKpQMaFqBqCUQ8n8B1w/GYrg/n3EBKoCAEI6vNiMltGMYgiGbg86N1KpVGrbag5GcgkOEFoyiaaCBNRnwPTCjD6JNToGRhWNgamgbmiQkSBZTRPUmgakTpPi9mBJ0pYHrefQhgKa/qOTqCAJbyxPkUYDHIJ4WJiQGqIDPZDGQPrNHPT6NWB6tUOhbIlzHdDbC4IE4+FAwBTAkWoFfmgljEAAGEWYgHggOCQItKBSGpmD+P5QwMq+cFTHxqZGlgdAkLW3fgYHpo6DKOxTwTQAWD+ZdRUqEe5U4DGhKTUHlhkRFTlwABLGWZ+RRgIfotjEGgQzG0ngGudBPNwDkg4mU3MayB5YCdCtErT3C5oLI3UKUCoIQxMqyeYQ00Y0BU62bwlwOZpxnAjjMxrB5FqOIBRo6z8FwIC2TQWp43CEKQv79eFENoYA1EtSEg/VAP3DJQURVonQlgKS8sMmLqEiCApSwznwIsdN4HCIX4SHEIuwH0HcGMS2NBkjMU1wlkgRk5CJFSAQmXIJhYFrhMgU0BEA0gaZLCIQhXtWBYI8MaGBbsRBWl5YDcyoQKeUGUPK7lxfNmPz/9PPXbkH0NfF4hLHj0UTw9FNoxIg4somEprysyYhoSIIClLDTfAqzZzNF7ns/Il34OLPhgI3NsYEjI31ev/iw2dn3CN9/gUvWnTp26ePEirkvY3t7e09NDStUrbwBfGkEAS3k2CGDNqn03ZTT8HWDFxcUmJCR4AevSpUsEsJQXva+OIIClPDMEsOYmYOlDQ/7+6aefxcXFbiWApbzM58YIAljK80QAay4DVmRcXNzWrQl79uw5fPjwqVOniIalvOJ9eAQBLOXJIYA1VwEr9H8++yxyw4a4rVu37tmzJy0t7fTp05cuXSorK2tsbCQ+LOWl73sjCGApzwkBrLkEWHBMORE4unjxP6Ki1m7atPFf27bt27fv6NGjZ86cuXz5cllZWVNTEwEs5aXveyMIYCnPCQGsuQZYuBqr4Z133ouOjvnii807EhO/++679PT0s2fPFhQUlJeXP3r06OnTp+SUUHn1+9gIAljKE0IAa44BFiROmnje8Ne/Lo2JiY2Pj/92587vv/8+IyPj3LlzhYWFFRUVGLB6e3tJWIPyBvClEQSwlGdDgpLWHkmSXC6Xw+Gw2WxWq/XOndrLlwt/zM45fvzHH1KP7Pp279aE7fHx36yLjo2MjP44YvU/PwxbvvzDZcs+WLZ0xdKly5cumehLlixfsuR96O9B9/6cXExJAhNiRDJE8pyU8NJl77+/fMWKD1auDIuKWrN58xeJiTu+++7fqamp2dnZFy9evH79enV1dUtLS0dHR29vr81mGx8fd7lcHo9HeSmQEbMtAQJYyjOANSyPx+N2u51OJwasvr6B5ubW2tr6qqo7v169fjLndEZ6Vmrq4Z07d23btj0+/uuNGz9fHxMXHR2zds26NWuio6LWTvTItVGRayMj15D+ZyQQ9Vsxwksk4bVro6PXrouOXhe7Pnbz5i8SErbu3r3nwIGDaWlpP//885UrV4qLi2tqatra2rq6uvr7+202m91uJ4ClvA18YwQBrJedBy9gjY2NDQ0N9fT0PH785MGDhzV3aq5du37mTO6JE9lHjhzZv2//rl27t23711dffb35880bN26Ki9sQGxsXFxsX+/seC2096dOSwIQwkQzRdVxsHGobNmzYuGnTpvj4+K0JW3fs2LF///5DKYeysrJyc3OvXr1aUlJSV1f3+PHj7u7ugYGBsbExu93udruJhvWyO2FWxxHAelnxY8ByuVzj4+PDw8NWq7Wrq7O5+dG9e/WlpaWFhQV5eedPnsw5ciQtNfXQgQP/u2/fvt27d3377c4dO3Yk7kiEf1BP3JE42bYnJm73/pxcTEkCz8owMXH7MxLeuXPnzl27du3fv//AgQPJySlHjx796aef8PngrVu3qqqqHjx4gO3BwcHB8fFxh8NBAOtlt8FsjyOA9bIz4AUsu90+MjIyOGjt7u5qbW1pamqsrb1782bxL78UXriQn5Pzc3b2iYyM9CNH0n74IfXQoZSUlOTk5KSkpIOkvwoJHHxGsMnJSSkpySkpyYcOHUpLS0tPT8/KyszJycnPz79y5cqNGzeqqqrq6+tbWlp6enoGBgZGRkYcDofT6cRuypddCmTc7EmAAJay7LGx4AUs7HcfGhrq6+t9+rS9ra2toaGhrKysuPjGtWu/5uWdz83NPXky58cfs48fP56VlZmZmZGRkf7bdiw9faIfI21aEkDy/I8YsXgzMtIzMzMyMzOzsjKzs0/k5Px8+vTp/Py8q1d/KSoqKisrq6ure/jw4ZMnT/r6+gYHB202m9PpdLlckgRVsknzfQkQwFKeIy9gSZLkdruxVTg6ahsaHOru7nn6tKO5ubm2traqqrqiorKoqOjXX68VFBReunTpwoUL+fn5eXl556HlTXb06vz58+egnyN9WhKYECJ6L0gSWl7eeRB2fn7ehQv5Fy9euHLl8i+/FF6/fq2k5HZlZWVtbW1TU1Nra2tnZ6fVah0eHh4bG3O5XG63mwCW8jbwjREEsJTnweuOlVBzu912u3183G4bHRsYsPb29nV2dLW0tD582Fhff7+6uqaysqq0tPz27ZKbN2/fvHmruPhm8Y2bRUXFqN8oKiJ9RiVwfeJuN4qKb9woLrpRVHyz+ObN4lu3b5WVlVZWVty5U11fX9fQ0PDo0aP29vaurq6BgYHR0dGxsTGsXv3RgeWdceXFQUa8XgkQwJqCvHE0Flay7Hb76Ojo0NDQwMBAd3d3e3t7S0tLU1PT/fv36+vra2tra2pqqqurqyZbJWmvRQJemd+5c+fu3bv19fUNDQ2NjY3Nzc1Pnjzp7Ozs7e21Wq04XtThcOAvIYJQU9gGszqUANYUxO8FLC9m2Ww25IAf7Ovr6+rq6ujoePLkyePHj1tbW5ubmx89etQ02RpJey0SmJR3U3Nzc2tra1tbW3t7e0dHR1dXF4aq4eHh0dFRHHuFvVc4zm4K64AMnT0JEMCamuyfxSyn04lsw3GbzYYDHQYGBnp7e3t6erq7u7u6ujo7OztImyUJdHV1dXd39/T09PX19ff3W63WoaEhbAna7Xan0+lGjZwPTm0DzPZoAlhTmwFvXiFWshyojY8DZo2MjGDYslqtAwMD/f39faS9dgl4xd7f3z+AGoYqrFjhMFGHw+H1tRP1amobYLZHE8Ca8gx4M3XwoaEXucZRG0PNhtooaa9dAjabDX8mngKbzTY2Noanxm63/xGqiPdqyhtgVt9AAGua4se2oTcvGtsXGLxck81J2muXgMvl8n4mvsbKlHeC8JQRxWqa636230YAa5oz8CxgPXvt3Rjei0n4Iv+/Dgl4vzO8MSjec0DvhVdHnubck7fNngQIYE1f9t5v6WcB63e74nfbBr8k/75SCTwbCPrHOZr+fJN3+oAECGDN8CR4v73JxaxLYIanltzOByRAAGuGJ2HWdyl5ACyBGZ5XcjvfkAABLN+YB/IURAJEAi8hAQJYLyEkMoRIgEjANyTwfxeWRiflEXFuAAAAAElFTkSuQmCC)"
      ]
    },
    {
      "cell_type": "code",
      "metadata": {
        "id": "emQND3fHOh2Q",
        "colab": {
          "base_uri": "https://localhost:8080/"
        },
        "outputId": "762a618a-fea2-4e59-c54f-bc454313715f"
      },
      "source": [
        "x <- 1:5\n",
        "for (val in x) {\n",
        "  if (val == 3){\n",
        "    next\n",
        "  }\n",
        "  print(val)\n",
        "}\n"
      ],
      "execution_count": null,
      "outputs": [
        {
          "output_type": "stream",
          "text": [
            "[1] 1\n",
            "[1] 2\n",
            "[1] 4\n",
            "[1] 5\n"
          ],
          "name": "stdout"
        }
      ]
    },
    {
      "cell_type": "markdown",
      "metadata": {
        "id": "eRMSqV8GSJrq"
      },
      "source": [
        "**Pregunta!!**\n",
        "\n",
        "Que haria este codigo?\n",
        "\n",
        "\n",
        "```\n",
        "i <- 1\n",
        "while (i < 6) {\n",
        "  if (i == 3){\n",
        "    next\n",
        "  }\n",
        "  print(i)\n",
        "  i = i+1\n",
        "}\n",
        "```\n",
        "\n"
      ]
    },
    {
      "cell_type": "markdown",
      "metadata": {
        "id": "zIjOBHamchzu"
      },
      "source": [
        "### Repeat\n",
        "Sintaxis básica de repeat. Necesario el uso de break para terminar el ciclo.\n",
        "\n",
        "```\n",
        "repeat {\n",
        "statement\n",
        "}\n",
        "```\n",
        "\n"
      ]
    },
    {
      "cell_type": "markdown",
      "metadata": {
        "id": "xICvSyHvcmv-"
      },
      "source": [
        "![image.png](data:image/png;base64,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)"
      ]
    },
    {
      "cell_type": "code",
      "metadata": {
        "id": "RT8sKG8UeCRo"
      },
      "source": [
        "x <- 1\n",
        "repeat {\n",
        "  print(x)\n",
        "  x = x+1\n",
        "  if (x == 6){\n",
        "    break\n",
        "  }\n",
        "}"
      ],
      "execution_count": null,
      "outputs": []
    },
    {
      "cell_type": "markdown",
      "metadata": {
        "id": "Dc46RIDrdOSd"
      },
      "source": [
        "# **Trabajando con bases de datos**"
      ]
    },
    {
      "cell_type": "markdown",
      "metadata": {
        "id": "X81Z5MTiNUjb"
      },
      "source": [
        "## Importando bases de datos a R\n",
        "\n",
        "Partiremos descargando las bases de datos con las que trabajaremos. Esto se puede hacer de manera directa mediante la consola de R o descargarlo y subirlo a **Colab** (¿qué es más rápido? ¿por qué?)"
      ]
    },
    {
      "cell_type": "code",
      "metadata": {
        "id": "yjs-wTwao6Tr"
      },
      "source": [
        "system(\"gdown https://drive.google.com/uc?id=17zq3NBv39yNEIY2WvCp-eE2KWz81aelj\")\n"
      ],
      "execution_count": null,
      "outputs": []
    },
    {
      "cell_type": "code",
      "metadata": {
        "id": "koJhCNceq_6_"
      },
      "source": [
        "unzip(\"/content/notas_egresados.zip\")\n"
      ],
      "execution_count": null,
      "outputs": []
    },
    {
      "cell_type": "markdown",
      "metadata": {
        "id": "0nMwb7CZNNkW"
      },
      "source": [
        "Usaremos primero una libreria para poder medir el tiempo entre las ejecuciones de los codigos y hacer un rápido benchmark"
      ]
    },
    {
      "cell_type": "code",
      "metadata": {
        "colab": {
          "base_uri": "https://localhost:8080/"
        },
        "id": "vp4HPzDxK3Oy",
        "outputId": "97045ee0-098a-41cd-a93e-20d9da50ff06"
      },
      "source": [
        "install.packages(\"tictoc\")\n",
        "library(\"tictoc\")"
      ],
      "execution_count": null,
      "outputs": [
        {
          "output_type": "stream",
          "text": [
            "Installing package into ‘/usr/local/lib/R/site-library’\n",
            "(as ‘lib’ is unspecified)\n",
            "\n"
          ],
          "name": "stderr"
        }
      ]
    },
    {
      "cell_type": "markdown",
      "metadata": {
        "id": "s_NO2sAENSqE"
      },
      "source": [
        "Ahora vamos a importar las bases de datos con dos comandos distintos.\n",
        "\n",
        "\n",
        "\n",
        "*   **read.csv**: comando de r-base (se incluye dentro de las funciones basicas de R)\n",
        "*   **fread**: comando de data.table, es necesario descargar e importar la libreria\n",
        "\n"
      ]
    },
    {
      "cell_type": "code",
      "metadata": {
        "colab": {
          "base_uri": "https://localhost:8080/"
        },
        "id": "dfIUty_DJPFH",
        "outputId": "05006dc5-ed69-4be1-e24d-6627500cc356"
      },
      "source": [
        "tic()\n",
        "\n",
        "my_data <- list()\n",
        "years<-2007:2019\n",
        "for (i in 1:length(years)) {\n",
        "  my_data[[i]] <- read.csv(gsub(\"%\",years[i],\"content/notas_egresados/egresados%.csv\"))\n",
        "}\n",
        "\n",
        "toc()"
      ],
      "execution_count": null,
      "outputs": [
        {
          "output_type": "stream",
          "text": [
            "38.696 sec elapsed\n"
          ],
          "name": "stdout"
        }
      ]
    },
    {
      "cell_type": "markdown",
      "metadata": {
        "id": "xSiCFtfogi-o"
      },
      "source": [
        "**Pregunta**: ¿Que hace gsub?"
      ]
    },
    {
      "cell_type": "code",
      "metadata": {
        "colab": {
          "base_uri": "https://localhost:8080/"
        },
        "id": "ZO1dPdFILVuf",
        "outputId": "79d6d3f8-417f-485f-a252-cd371fe47d31"
      },
      "source": [
        "install.packages(\"data.table\")\n",
        "library(data.table)\n"
      ],
      "execution_count": null,
      "outputs": [
        {
          "output_type": "stream",
          "text": [
            "Installing package into ‘/usr/local/lib/R/site-library’\n",
            "(as ‘lib’ is unspecified)\n",
            "\n"
          ],
          "name": "stderr"
        }
      ]
    },
    {
      "cell_type": "code",
      "metadata": {
        "colab": {
          "base_uri": "https://localhost:8080/"
        },
        "id": "DeEmIU-FJ_gS",
        "outputId": "5fd27297-bfdc-4549-beb8-4758cb91a72a"
      },
      "source": [
        "tic()\n",
        "\n",
        "my_data <- list()\n",
        "years<-2007:2019\n",
        "for (i in 1:length(years)) {\n",
        "  my_data[[i]] <- fread(gsub(\"%\",years[i],\"content/notas_egresados/egresados%.csv\"))\n",
        "}\n",
        "\n",
        "toc()"
      ],
      "execution_count": null,
      "outputs": [
        {
          "output_type": "stream",
          "text": [
            "8.517 sec elapsed\n"
          ],
          "name": "stdout"
        }
      ]
    },
    {
      "cell_type": "markdown",
      "metadata": {
        "id": "_9dMFPYILmu1"
      },
      "source": [
        "Podemos concluir que data.table es mejor que R-base?"
      ]
    },
    {
      "cell_type": "markdown",
      "metadata": {
        "id": "TXV3kJorfCp0"
      },
      "source": [
        "## ¿Que contienen las bases de datos? (Actividad)\n",
        "\n",
        "Podemos resolver estas dudas con algunos comandos que ya vimos: names, summary, str y print(?)."
      ]
    },
    {
      "cell_type": "code",
      "metadata": {
        "colab": {
          "base_uri": "https://localhost:8080/",
          "height": 1000
        },
        "id": "mrYbQp1ThMbc",
        "outputId": "543f514c-4d32-4ce7-a3af-5caecc79769c"
      },
      "source": [
        "egreso2007 <- my_data[[1]]\n",
        "egreso2007"
      ],
      "execution_count": null,
      "outputs": [
        {
          "output_type": "display_data",
          "data": {
            "text/plain": [
              "       agno rbd   dgv_rbd cod_ense cod_grado mrun     prom_notas_alu\n",
              "1      2007 25591 2       410      4           3      6,2           \n",
              "2      2007 10666 6       310      4           4      5,5           \n",
              "3      2007 10452 3       310      2           5      4,7           \n",
              "4      2007  1517 2       310      4          41      5,6           \n",
              "5      2007 10635 6       310      3          42      5,1           \n",
              "6      2007  8892 7       310      3          43      6,6           \n",
              "7      2007  4555 1       310      3          79      5,3           \n",
              "8      2007 25487 8       310      3          80      6,2           \n",
              "9      2007 10220 2       310      2         118      4,9           \n",
              "10     2007  5465 8       310      4         201      5,7           \n",
              "11     2007 10697 6       610      4         202      4,8           \n",
              "12     2007  8656 8       410      1         291      4,8           \n",
              "13     2007 11885 0       510      3         324      4,9           \n",
              "14     2007 25753 2       361      4         337      5,2           \n",
              "15     2007 26087 8       361      4         340      5,1           \n",
              "16     2007  6051 8       610      1         353      5,7           \n",
              "17     2007 10686 0       310      2         369      4,8           \n",
              "18     2007  9906 6       310      4         370      5,3           \n",
              "19     2007  3247 6       310      2         410      5,2           \n",
              "20     2007  2486 4       510      2         411      5,3           \n",
              "21     2007   648 3       310      4         481      5,4           \n",
              "22     2007  1590 3       510      3         522      5,3           \n",
              "23     2007  1503 2       510      3         523      5             \n",
              "24     2007  4166 1       610      3         565      6,3           \n",
              "25     2007  9584 2       410      2         570      5,2           \n",
              "26     2007  9347 5       410      2         571      5,2           \n",
              "27     2007 10831 6       310      1         574      5,4           \n",
              "28     2007  8813 7       510      3         650      4,8           \n",
              "29     2007  4166 1       610      2         676      5,2           \n",
              "30     2007  4555 1       310      1         704      5,3           \n",
              "⋮      ⋮    ⋮     ⋮       ⋮        ⋮         ⋮        ⋮             \n",
              "966022 2007 0     0       310      3         26101860 0             \n",
              "966023 2007 0     0       310      4         26101860 0             \n",
              "966024 2007 0     0       310      1         26102488 0             \n",
              "966025 2007 0     0       310      2         26102488 0             \n",
              "966026 2007 0     0       310      3         26102488 0             \n",
              "966027 2007 0     0       310      4         26102488 0             \n",
              "966028 2007 0     0       310      1         26102595 0             \n",
              "966029 2007 0     0       310      2         26102595 0             \n",
              "966030 2007 0     0       310      3         26102595 0             \n",
              "966031 2007 0     0       310      4         26102595 0             \n",
              "966032 2007 0     0       310      1         26102694 0             \n",
              "966033 2007 0     0       310      2         26102694 0             \n",
              "966034 2007 0     0       310      3         26102694 0             \n",
              "966035 2007 0     0       310      4         26102694 0             \n",
              "966036 2007 0     0       310      1         26103004 0             \n",
              "966037 2007 0     0       310      2         26103004 0             \n",
              "966038 2007 0     0       310      3         26103004 0             \n",
              "966039 2007 0     0       310      4         26103004 0             \n",
              "966040 2007 0     0       310      1         26103006 0             \n",
              "966041 2007 0     0       310      2         26103006 0             \n",
              "966042 2007 0     0       310      3         26103006 0             \n",
              "966043 2007 0     0       310      4         26103006 0             \n",
              "966044 2007 0     0       310      1         26103421 0             \n",
              "966045 2007 0     0       310      2         26103421 0             \n",
              "966046 2007 0     0       310      3         26103421 0             \n",
              "966047 2007 0     0       310      4         26103421 0             \n",
              "966048 2007 0     0       310      1         26103433 0             \n",
              "966049 2007 0     0       310      2         26103433 0             \n",
              "966050 2007 0     0       310      3         26103433 0             \n",
              "966051 2007 0     0       310      4         26103433 0             \n",
              "       ense_completa marca_egreso\n",
              "1      1             1           \n",
              "2      1             1           \n",
              "3      1             0           \n",
              "4      1             1           \n",
              "5      1             0           \n",
              "6      1             0           \n",
              "7      1             0           \n",
              "8      1             0           \n",
              "9      1             0           \n",
              "10     1             1           \n",
              "11     1             1           \n",
              "12     1             0           \n",
              "13     1             0           \n",
              "14     1             1           \n",
              "15     1             1           \n",
              "16     1             0           \n",
              "17     1             0           \n",
              "18     1             1           \n",
              "19     1             0           \n",
              "20     1             0           \n",
              "21     1             1           \n",
              "22     1             0           \n",
              "23     1             0           \n",
              "24     1             0           \n",
              "25     1             0           \n",
              "26     1             0           \n",
              "27     1             0           \n",
              "28     1             0           \n",
              "29     1             0           \n",
              "30     1             0           \n",
              "⋮      ⋮             ⋮           \n",
              "966022 1             0           \n",
              "966023 1             1           \n",
              "966024 1             0           \n",
              "966025 1             0           \n",
              "966026 1             0           \n",
              "966027 1             1           \n",
              "966028 1             0           \n",
              "966029 1             0           \n",
              "966030 1             0           \n",
              "966031 1             1           \n",
              "966032 1             0           \n",
              "966033 1             0           \n",
              "966034 1             0           \n",
              "966035 1             1           \n",
              "966036 1             0           \n",
              "966037 1             0           \n",
              "966038 1             0           \n",
              "966039 1             1           \n",
              "966040 1             0           \n",
              "966041 1             0           \n",
              "966042 1             0           \n",
              "966043 1             1           \n",
              "966044 1             0           \n",
              "966045 1             0           \n",
              "966046 1             0           \n",
              "966047 1             1           \n",
              "966048 1             0           \n",
              "966049 1             0           \n",
              "966050 1             0           \n",
              "966051 1             1           "
            ],
            "text/latex": "A data.table: 966051 × 9\n\\begin{tabular}{lllllllll}\n agno & rbd & dgv\\_rbd & cod\\_ense & cod\\_grado & mrun & prom\\_notas\\_alu & ense\\_completa & marca\\_egreso\\\\\n <int> & <int> & <int> & <int> & <int> & <int> & <chr> & <int> & <int>\\\\\n\\hline\n\t 2007 & 25591 & 2 & 410 & 4 &   3 & 6,2 & 1 & 1\\\\\n\t 2007 & 10666 & 6 & 310 & 4 &   4 & 5,5 & 1 & 1\\\\\n\t 2007 & 10452 & 3 & 310 & 2 &   5 & 4,7 & 1 & 0\\\\\n\t 2007 &  1517 & 2 & 310 & 4 &  41 & 5,6 & 1 & 1\\\\\n\t 2007 & 10635 & 6 & 310 & 3 &  42 & 5,1 & 1 & 0\\\\\n\t 2007 &  8892 & 7 & 310 & 3 &  43 & 6,6 & 1 & 0\\\\\n\t 2007 &  4555 & 1 & 310 & 3 &  79 & 5,3 & 1 & 0\\\\\n\t 2007 & 25487 & 8 & 310 & 3 &  80 & 6,2 & 1 & 0\\\\\n\t 2007 & 10220 & 2 & 310 & 2 & 118 & 4,9 & 1 & 0\\\\\n\t 2007 &  5465 & 8 & 310 & 4 & 201 & 5,7 & 1 & 1\\\\\n\t 2007 & 10697 & 6 & 610 & 4 & 202 & 4,8 & 1 & 1\\\\\n\t 2007 &  8656 & 8 & 410 & 1 & 291 & 4,8 & 1 & 0\\\\\n\t 2007 & 11885 & 0 & 510 & 3 & 324 & 4,9 & 1 & 0\\\\\n\t 2007 & 25753 & 2 & 361 & 4 & 337 & 5,2 & 1 & 1\\\\\n\t 2007 & 26087 & 8 & 361 & 4 & 340 & 5,1 & 1 & 1\\\\\n\t 2007 &  6051 & 8 & 610 & 1 & 353 & 5,7 & 1 & 0\\\\\n\t 2007 & 10686 & 0 & 310 & 2 & 369 & 4,8 & 1 & 0\\\\\n\t 2007 &  9906 & 6 & 310 & 4 & 370 & 5,3 & 1 & 1\\\\\n\t 2007 &  3247 & 6 & 310 & 2 & 410 & 5,2 & 1 & 0\\\\\n\t 2007 &  2486 & 4 & 510 & 2 & 411 & 5,3 & 1 & 0\\\\\n\t 2007 &   648 & 3 & 310 & 4 & 481 & 5,4 & 1 & 1\\\\\n\t 2007 &  1590 & 3 & 510 & 3 & 522 & 5,3 & 1 & 0\\\\\n\t 2007 &  1503 & 2 & 510 & 3 & 523 & 5   & 1 & 0\\\\\n\t 2007 &  4166 & 1 & 610 & 3 & 565 & 6,3 & 1 & 0\\\\\n\t 2007 &  9584 & 2 & 410 & 2 & 570 & 5,2 & 1 & 0\\\\\n\t 2007 &  9347 & 5 & 410 & 2 & 571 & 5,2 & 1 & 0\\\\\n\t 2007 & 10831 & 6 & 310 & 1 & 574 & 5,4 & 1 & 0\\\\\n\t 2007 &  8813 & 7 & 510 & 3 & 650 & 4,8 & 1 & 0\\\\\n\t 2007 &  4166 & 1 & 610 & 2 & 676 & 5,2 & 1 & 0\\\\\n\t 2007 &  4555 & 1 & 310 & 1 & 704 & 5,3 & 1 & 0\\\\\n\t ⋮ & ⋮ & ⋮ & ⋮ & ⋮ & ⋮ & ⋮ & ⋮ & ⋮\\\\\n\t 2007 & 0 & 0 & 310 & 3 & 26101860 & 0 & 1 & 0\\\\\n\t 2007 & 0 & 0 & 310 & 4 & 26101860 & 0 & 1 & 1\\\\\n\t 2007 & 0 & 0 & 310 & 1 & 26102488 & 0 & 1 & 0\\\\\n\t 2007 & 0 & 0 & 310 & 2 & 26102488 & 0 & 1 & 0\\\\\n\t 2007 & 0 & 0 & 310 & 3 & 26102488 & 0 & 1 & 0\\\\\n\t 2007 & 0 & 0 & 310 & 4 & 26102488 & 0 & 1 & 1\\\\\n\t 2007 & 0 & 0 & 310 & 1 & 26102595 & 0 & 1 & 0\\\\\n\t 2007 & 0 & 0 & 310 & 2 & 26102595 & 0 & 1 & 0\\\\\n\t 2007 & 0 & 0 & 310 & 3 & 26102595 & 0 & 1 & 0\\\\\n\t 2007 & 0 & 0 & 310 & 4 & 26102595 & 0 & 1 & 1\\\\\n\t 2007 & 0 & 0 & 310 & 1 & 26102694 & 0 & 1 & 0\\\\\n\t 2007 & 0 & 0 & 310 & 2 & 26102694 & 0 & 1 & 0\\\\\n\t 2007 & 0 & 0 & 310 & 3 & 26102694 & 0 & 1 & 0\\\\\n\t 2007 & 0 & 0 & 310 & 4 & 26102694 & 0 & 1 & 1\\\\\n\t 2007 & 0 & 0 & 310 & 1 & 26103004 & 0 & 1 & 0\\\\\n\t 2007 & 0 & 0 & 310 & 2 & 26103004 & 0 & 1 & 0\\\\\n\t 2007 & 0 & 0 & 310 & 3 & 26103004 & 0 & 1 & 0\\\\\n\t 2007 & 0 & 0 & 310 & 4 & 26103004 & 0 & 1 & 1\\\\\n\t 2007 & 0 & 0 & 310 & 1 & 26103006 & 0 & 1 & 0\\\\\n\t 2007 & 0 & 0 & 310 & 2 & 26103006 & 0 & 1 & 0\\\\\n\t 2007 & 0 & 0 & 310 & 3 & 26103006 & 0 & 1 & 0\\\\\n\t 2007 & 0 & 0 & 310 & 4 & 26103006 & 0 & 1 & 1\\\\\n\t 2007 & 0 & 0 & 310 & 1 & 26103421 & 0 & 1 & 0\\\\\n\t 2007 & 0 & 0 & 310 & 2 & 26103421 & 0 & 1 & 0\\\\\n\t 2007 & 0 & 0 & 310 & 3 & 26103421 & 0 & 1 & 0\\\\\n\t 2007 & 0 & 0 & 310 & 4 & 26103421 & 0 & 1 & 1\\\\\n\t 2007 & 0 & 0 & 310 & 1 & 26103433 & 0 & 1 & 0\\\\\n\t 2007 & 0 & 0 & 310 & 2 & 26103433 & 0 & 1 & 0\\\\\n\t 2007 & 0 & 0 & 310 & 3 & 26103433 & 0 & 1 & 0\\\\\n\t 2007 & 0 & 0 & 310 & 4 & 26103433 & 0 & 1 & 1\\\\\n\\end{tabular}\n",
            "text/markdown": "\nA data.table: 966051 × 9\n\n| agno &lt;int&gt; | rbd &lt;int&gt; | dgv_rbd &lt;int&gt; | cod_ense &lt;int&gt; | cod_grado &lt;int&gt; | mrun &lt;int&gt; | prom_notas_alu &lt;chr&gt; | ense_completa &lt;int&gt; | marca_egreso &lt;int&gt; |\n|---|---|---|---|---|---|---|---|---|\n| 2007 | 25591 | 2 | 410 | 4 |   3 | 6,2 | 1 | 1 |\n| 2007 | 10666 | 6 | 310 | 4 |   4 | 5,5 | 1 | 1 |\n| 2007 | 10452 | 3 | 310 | 2 |   5 | 4,7 | 1 | 0 |\n| 2007 |  1517 | 2 | 310 | 4 |  41 | 5,6 | 1 | 1 |\n| 2007 | 10635 | 6 | 310 | 3 |  42 | 5,1 | 1 | 0 |\n| 2007 |  8892 | 7 | 310 | 3 |  43 | 6,6 | 1 | 0 |\n| 2007 |  4555 | 1 | 310 | 3 |  79 | 5,3 | 1 | 0 |\n| 2007 | 25487 | 8 | 310 | 3 |  80 | 6,2 | 1 | 0 |\n| 2007 | 10220 | 2 | 310 | 2 | 118 | 4,9 | 1 | 0 |\n| 2007 |  5465 | 8 | 310 | 4 | 201 | 5,7 | 1 | 1 |\n| 2007 | 10697 | 6 | 610 | 4 | 202 | 4,8 | 1 | 1 |\n| 2007 |  8656 | 8 | 410 | 1 | 291 | 4,8 | 1 | 0 |\n| 2007 | 11885 | 0 | 510 | 3 | 324 | 4,9 | 1 | 0 |\n| 2007 | 25753 | 2 | 361 | 4 | 337 | 5,2 | 1 | 1 |\n| 2007 | 26087 | 8 | 361 | 4 | 340 | 5,1 | 1 | 1 |\n| 2007 |  6051 | 8 | 610 | 1 | 353 | 5,7 | 1 | 0 |\n| 2007 | 10686 | 0 | 310 | 2 | 369 | 4,8 | 1 | 0 |\n| 2007 |  9906 | 6 | 310 | 4 | 370 | 5,3 | 1 | 1 |\n| 2007 |  3247 | 6 | 310 | 2 | 410 | 5,2 | 1 | 0 |\n| 2007 |  2486 | 4 | 510 | 2 | 411 | 5,3 | 1 | 0 |\n| 2007 |   648 | 3 | 310 | 4 | 481 | 5,4 | 1 | 1 |\n| 2007 |  1590 | 3 | 510 | 3 | 522 | 5,3 | 1 | 0 |\n| 2007 |  1503 | 2 | 510 | 3 | 523 | 5   | 1 | 0 |\n| 2007 |  4166 | 1 | 610 | 3 | 565 | 6,3 | 1 | 0 |\n| 2007 |  9584 | 2 | 410 | 2 | 570 | 5,2 | 1 | 0 |\n| 2007 |  9347 | 5 | 410 | 2 | 571 | 5,2 | 1 | 0 |\n| 2007 | 10831 | 6 | 310 | 1 | 574 | 5,4 | 1 | 0 |\n| 2007 |  8813 | 7 | 510 | 3 | 650 | 4,8 | 1 | 0 |\n| 2007 |  4166 | 1 | 610 | 2 | 676 | 5,2 | 1 | 0 |\n| 2007 |  4555 | 1 | 310 | 1 | 704 | 5,3 | 1 | 0 |\n| ⋮ | ⋮ | ⋮ | ⋮ | ⋮ | ⋮ | ⋮ | ⋮ | ⋮ |\n| 2007 | 0 | 0 | 310 | 3 | 26101860 | 0 | 1 | 0 |\n| 2007 | 0 | 0 | 310 | 4 | 26101860 | 0 | 1 | 1 |\n| 2007 | 0 | 0 | 310 | 1 | 26102488 | 0 | 1 | 0 |\n| 2007 | 0 | 0 | 310 | 2 | 26102488 | 0 | 1 | 0 |\n| 2007 | 0 | 0 | 310 | 3 | 26102488 | 0 | 1 | 0 |\n| 2007 | 0 | 0 | 310 | 4 | 26102488 | 0 | 1 | 1 |\n| 2007 | 0 | 0 | 310 | 1 | 26102595 | 0 | 1 | 0 |\n| 2007 | 0 | 0 | 310 | 2 | 26102595 | 0 | 1 | 0 |\n| 2007 | 0 | 0 | 310 | 3 | 26102595 | 0 | 1 | 0 |\n| 2007 | 0 | 0 | 310 | 4 | 26102595 | 0 | 1 | 1 |\n| 2007 | 0 | 0 | 310 | 1 | 26102694 | 0 | 1 | 0 |\n| 2007 | 0 | 0 | 310 | 2 | 26102694 | 0 | 1 | 0 |\n| 2007 | 0 | 0 | 310 | 3 | 26102694 | 0 | 1 | 0 |\n| 2007 | 0 | 0 | 310 | 4 | 26102694 | 0 | 1 | 1 |\n| 2007 | 0 | 0 | 310 | 1 | 26103004 | 0 | 1 | 0 |\n| 2007 | 0 | 0 | 310 | 2 | 26103004 | 0 | 1 | 0 |\n| 2007 | 0 | 0 | 310 | 3 | 26103004 | 0 | 1 | 0 |\n| 2007 | 0 | 0 | 310 | 4 | 26103004 | 0 | 1 | 1 |\n| 2007 | 0 | 0 | 310 | 1 | 26103006 | 0 | 1 | 0 |\n| 2007 | 0 | 0 | 310 | 2 | 26103006 | 0 | 1 | 0 |\n| 2007 | 0 | 0 | 310 | 3 | 26103006 | 0 | 1 | 0 |\n| 2007 | 0 | 0 | 310 | 4 | 26103006 | 0 | 1 | 1 |\n| 2007 | 0 | 0 | 310 | 1 | 26103421 | 0 | 1 | 0 |\n| 2007 | 0 | 0 | 310 | 2 | 26103421 | 0 | 1 | 0 |\n| 2007 | 0 | 0 | 310 | 3 | 26103421 | 0 | 1 | 0 |\n| 2007 | 0 | 0 | 310 | 4 | 26103421 | 0 | 1 | 1 |\n| 2007 | 0 | 0 | 310 | 1 | 26103433 | 0 | 1 | 0 |\n| 2007 | 0 | 0 | 310 | 2 | 26103433 | 0 | 1 | 0 |\n| 2007 | 0 | 0 | 310 | 3 | 26103433 | 0 | 1 | 0 |\n| 2007 | 0 | 0 | 310 | 4 | 26103433 | 0 | 1 | 1 |\n\n",
            "text/html": [
              "<table class=\"dataframe\">\n",
              "<caption>A data.table: 966051 × 9</caption>\n",
              "<thead>\n",
              "\t<tr><th scope=col>agno</th><th scope=col>rbd</th><th scope=col>dgv_rbd</th><th scope=col>cod_ense</th><th scope=col>cod_grado</th><th scope=col>mrun</th><th scope=col>prom_notas_alu</th><th scope=col>ense_completa</th><th scope=col>marca_egreso</th></tr>\n",
              "\t<tr><th scope=col>&lt;int&gt;</th><th scope=col>&lt;int&gt;</th><th scope=col>&lt;int&gt;</th><th scope=col>&lt;int&gt;</th><th scope=col>&lt;int&gt;</th><th scope=col>&lt;int&gt;</th><th scope=col>&lt;chr&gt;</th><th scope=col>&lt;int&gt;</th><th scope=col>&lt;int&gt;</th></tr>\n",
              "</thead>\n",
              "<tbody>\n",
              "\t<tr><td>2007</td><td>25591</td><td>2</td><td>410</td><td>4</td><td>  3</td><td>6,2</td><td>1</td><td>1</td></tr>\n",
              "\t<tr><td>2007</td><td>10666</td><td>6</td><td>310</td><td>4</td><td>  4</td><td>5,5</td><td>1</td><td>1</td></tr>\n",
              "\t<tr><td>2007</td><td>10452</td><td>3</td><td>310</td><td>2</td><td>  5</td><td>4,7</td><td>1</td><td>0</td></tr>\n",
              "\t<tr><td>2007</td><td> 1517</td><td>2</td><td>310</td><td>4</td><td> 41</td><td>5,6</td><td>1</td><td>1</td></tr>\n",
              "\t<tr><td>2007</td><td>10635</td><td>6</td><td>310</td><td>3</td><td> 42</td><td>5,1</td><td>1</td><td>0</td></tr>\n",
              "\t<tr><td>2007</td><td> 8892</td><td>7</td><td>310</td><td>3</td><td> 43</td><td>6,6</td><td>1</td><td>0</td></tr>\n",
              "\t<tr><td>2007</td><td> 4555</td><td>1</td><td>310</td><td>3</td><td> 79</td><td>5,3</td><td>1</td><td>0</td></tr>\n",
              "\t<tr><td>2007</td><td>25487</td><td>8</td><td>310</td><td>3</td><td> 80</td><td>6,2</td><td>1</td><td>0</td></tr>\n",
              "\t<tr><td>2007</td><td>10220</td><td>2</td><td>310</td><td>2</td><td>118</td><td>4,9</td><td>1</td><td>0</td></tr>\n",
              "\t<tr><td>2007</td><td> 5465</td><td>8</td><td>310</td><td>4</td><td>201</td><td>5,7</td><td>1</td><td>1</td></tr>\n",
              "\t<tr><td>2007</td><td>10697</td><td>6</td><td>610</td><td>4</td><td>202</td><td>4,8</td><td>1</td><td>1</td></tr>\n",
              "\t<tr><td>2007</td><td> 8656</td><td>8</td><td>410</td><td>1</td><td>291</td><td>4,8</td><td>1</td><td>0</td></tr>\n",
              "\t<tr><td>2007</td><td>11885</td><td>0</td><td>510</td><td>3</td><td>324</td><td>4,9</td><td>1</td><td>0</td></tr>\n",
              "\t<tr><td>2007</td><td>25753</td><td>2</td><td>361</td><td>4</td><td>337</td><td>5,2</td><td>1</td><td>1</td></tr>\n",
              "\t<tr><td>2007</td><td>26087</td><td>8</td><td>361</td><td>4</td><td>340</td><td>5,1</td><td>1</td><td>1</td></tr>\n",
              "\t<tr><td>2007</td><td> 6051</td><td>8</td><td>610</td><td>1</td><td>353</td><td>5,7</td><td>1</td><td>0</td></tr>\n",
              "\t<tr><td>2007</td><td>10686</td><td>0</td><td>310</td><td>2</td><td>369</td><td>4,8</td><td>1</td><td>0</td></tr>\n",
              "\t<tr><td>2007</td><td> 9906</td><td>6</td><td>310</td><td>4</td><td>370</td><td>5,3</td><td>1</td><td>1</td></tr>\n",
              "\t<tr><td>2007</td><td> 3247</td><td>6</td><td>310</td><td>2</td><td>410</td><td>5,2</td><td>1</td><td>0</td></tr>\n",
              "\t<tr><td>2007</td><td> 2486</td><td>4</td><td>510</td><td>2</td><td>411</td><td>5,3</td><td>1</td><td>0</td></tr>\n",
              "\t<tr><td>2007</td><td>  648</td><td>3</td><td>310</td><td>4</td><td>481</td><td>5,4</td><td>1</td><td>1</td></tr>\n",
              "\t<tr><td>2007</td><td> 1590</td><td>3</td><td>510</td><td>3</td><td>522</td><td>5,3</td><td>1</td><td>0</td></tr>\n",
              "\t<tr><td>2007</td><td> 1503</td><td>2</td><td>510</td><td>3</td><td>523</td><td>5  </td><td>1</td><td>0</td></tr>\n",
              "\t<tr><td>2007</td><td> 4166</td><td>1</td><td>610</td><td>3</td><td>565</td><td>6,3</td><td>1</td><td>0</td></tr>\n",
              "\t<tr><td>2007</td><td> 9584</td><td>2</td><td>410</td><td>2</td><td>570</td><td>5,2</td><td>1</td><td>0</td></tr>\n",
              "\t<tr><td>2007</td><td> 9347</td><td>5</td><td>410</td><td>2</td><td>571</td><td>5,2</td><td>1</td><td>0</td></tr>\n",
              "\t<tr><td>2007</td><td>10831</td><td>6</td><td>310</td><td>1</td><td>574</td><td>5,4</td><td>1</td><td>0</td></tr>\n",
              "\t<tr><td>2007</td><td> 8813</td><td>7</td><td>510</td><td>3</td><td>650</td><td>4,8</td><td>1</td><td>0</td></tr>\n",
              "\t<tr><td>2007</td><td> 4166</td><td>1</td><td>610</td><td>2</td><td>676</td><td>5,2</td><td>1</td><td>0</td></tr>\n",
              "\t<tr><td>2007</td><td> 4555</td><td>1</td><td>310</td><td>1</td><td>704</td><td>5,3</td><td>1</td><td>0</td></tr>\n",
              "\t<tr><td>⋮</td><td>⋮</td><td>⋮</td><td>⋮</td><td>⋮</td><td>⋮</td><td>⋮</td><td>⋮</td><td>⋮</td></tr>\n",
              "\t<tr><td>2007</td><td>0</td><td>0</td><td>310</td><td>3</td><td>26101860</td><td>0</td><td>1</td><td>0</td></tr>\n",
              "\t<tr><td>2007</td><td>0</td><td>0</td><td>310</td><td>4</td><td>26101860</td><td>0</td><td>1</td><td>1</td></tr>\n",
              "\t<tr><td>2007</td><td>0</td><td>0</td><td>310</td><td>1</td><td>26102488</td><td>0</td><td>1</td><td>0</td></tr>\n",
              "\t<tr><td>2007</td><td>0</td><td>0</td><td>310</td><td>2</td><td>26102488</td><td>0</td><td>1</td><td>0</td></tr>\n",
              "\t<tr><td>2007</td><td>0</td><td>0</td><td>310</td><td>3</td><td>26102488</td><td>0</td><td>1</td><td>0</td></tr>\n",
              "\t<tr><td>2007</td><td>0</td><td>0</td><td>310</td><td>4</td><td>26102488</td><td>0</td><td>1</td><td>1</td></tr>\n",
              "\t<tr><td>2007</td><td>0</td><td>0</td><td>310</td><td>1</td><td>26102595</td><td>0</td><td>1</td><td>0</td></tr>\n",
              "\t<tr><td>2007</td><td>0</td><td>0</td><td>310</td><td>2</td><td>26102595</td><td>0</td><td>1</td><td>0</td></tr>\n",
              "\t<tr><td>2007</td><td>0</td><td>0</td><td>310</td><td>3</td><td>26102595</td><td>0</td><td>1</td><td>0</td></tr>\n",
              "\t<tr><td>2007</td><td>0</td><td>0</td><td>310</td><td>4</td><td>26102595</td><td>0</td><td>1</td><td>1</td></tr>\n",
              "\t<tr><td>2007</td><td>0</td><td>0</td><td>310</td><td>1</td><td>26102694</td><td>0</td><td>1</td><td>0</td></tr>\n",
              "\t<tr><td>2007</td><td>0</td><td>0</td><td>310</td><td>2</td><td>26102694</td><td>0</td><td>1</td><td>0</td></tr>\n",
              "\t<tr><td>2007</td><td>0</td><td>0</td><td>310</td><td>3</td><td>26102694</td><td>0</td><td>1</td><td>0</td></tr>\n",
              "\t<tr><td>2007</td><td>0</td><td>0</td><td>310</td><td>4</td><td>26102694</td><td>0</td><td>1</td><td>1</td></tr>\n",
              "\t<tr><td>2007</td><td>0</td><td>0</td><td>310</td><td>1</td><td>26103004</td><td>0</td><td>1</td><td>0</td></tr>\n",
              "\t<tr><td>2007</td><td>0</td><td>0</td><td>310</td><td>2</td><td>26103004</td><td>0</td><td>1</td><td>0</td></tr>\n",
              "\t<tr><td>2007</td><td>0</td><td>0</td><td>310</td><td>3</td><td>26103004</td><td>0</td><td>1</td><td>0</td></tr>\n",
              "\t<tr><td>2007</td><td>0</td><td>0</td><td>310</td><td>4</td><td>26103004</td><td>0</td><td>1</td><td>1</td></tr>\n",
              "\t<tr><td>2007</td><td>0</td><td>0</td><td>310</td><td>1</td><td>26103006</td><td>0</td><td>1</td><td>0</td></tr>\n",
              "\t<tr><td>2007</td><td>0</td><td>0</td><td>310</td><td>2</td><td>26103006</td><td>0</td><td>1</td><td>0</td></tr>\n",
              "\t<tr><td>2007</td><td>0</td><td>0</td><td>310</td><td>3</td><td>26103006</td><td>0</td><td>1</td><td>0</td></tr>\n",
              "\t<tr><td>2007</td><td>0</td><td>0</td><td>310</td><td>4</td><td>26103006</td><td>0</td><td>1</td><td>1</td></tr>\n",
              "\t<tr><td>2007</td><td>0</td><td>0</td><td>310</td><td>1</td><td>26103421</td><td>0</td><td>1</td><td>0</td></tr>\n",
              "\t<tr><td>2007</td><td>0</td><td>0</td><td>310</td><td>2</td><td>26103421</td><td>0</td><td>1</td><td>0</td></tr>\n",
              "\t<tr><td>2007</td><td>0</td><td>0</td><td>310</td><td>3</td><td>26103421</td><td>0</td><td>1</td><td>0</td></tr>\n",
              "\t<tr><td>2007</td><td>0</td><td>0</td><td>310</td><td>4</td><td>26103421</td><td>0</td><td>1</td><td>1</td></tr>\n",
              "\t<tr><td>2007</td><td>0</td><td>0</td><td>310</td><td>1</td><td>26103433</td><td>0</td><td>1</td><td>0</td></tr>\n",
              "\t<tr><td>2007</td><td>0</td><td>0</td><td>310</td><td>2</td><td>26103433</td><td>0</td><td>1</td><td>0</td></tr>\n",
              "\t<tr><td>2007</td><td>0</td><td>0</td><td>310</td><td>3</td><td>26103433</td><td>0</td><td>1</td><td>0</td></tr>\n",
              "\t<tr><td>2007</td><td>0</td><td>0</td><td>310</td><td>4</td><td>26103433</td><td>0</td><td>1</td><td>1</td></tr>\n",
              "</tbody>\n",
              "</table>\n"
            ]
          },
          "metadata": {
            "tags": []
          }
        }
      ]
    },
    {
      "cell_type": "code",
      "metadata": {
        "colab": {
          "base_uri": "https://localhost:8080/"
        },
        "id": "-vhVLzdbo9_r",
        "outputId": "c9491b04-3efc-48ab-8795-2f1e7e79fd3a"
      },
      "source": [
        "str(egreso2007) # no muy distinto a lo que nos entrega Colab al pedir la DF"
      ],
      "execution_count": null,
      "outputs": [
        {
          "output_type": "stream",
          "text": [
            "Classes ‘data.table’ and 'data.frame':\t966051 obs. of  9 variables:\n",
            " $ agno          : int  2007 2007 2007 2007 2007 2007 2007 2007 2007 2007 ...\n",
            " $ rbd           : int  25591 10666 10452 1517 10635 8892 4555 25487 10220 5465 ...\n",
            " $ dgv_rbd       : int  2 6 3 2 6 7 1 8 2 8 ...\n",
            " $ cod_ense      : int  410 310 310 310 310 310 310 310 310 310 ...\n",
            " $ cod_grado     : int  4 4 2 4 3 3 3 3 2 4 ...\n",
            " $ mrun          : int  3 4 5 41 42 43 79 80 118 201 ...\n",
            " $ prom_notas_alu: chr  \"6,2\" \"5,5\" \"4,7\" \"5,6\" ...\n",
            " $ ense_completa : int  1 1 1 1 1 1 1 1 1 1 ...\n",
            " $ marca_egreso  : int  1 1 0 1 0 0 0 0 0 1 ...\n",
            " - attr(*, \".internal.selfref\")=<externalptr> \n"
          ],
          "name": "stdout"
        }
      ]
    },
    {
      "cell_type": "markdown",
      "metadata": {
        "id": "hs_IQGR2kdck"
      },
      "source": [
        "**Actividad**\n",
        "\n",
        "\n",
        "\n",
        "1.   ¿Que contiene especificamente esta dataframe? ¿son las dataframes de cada año iguales?\n",
        "2.   ¿Que tipo de informacion (analisis) podriamos estudiandola?\n",
        "3.   ¿Que columnas no nos sirven? ¿Que filas no nos sirven? Busquen como podriamos limpiar estas DF para ocuparlas en estudios posteriores.\n",
        "4.   Pensando en el objetivo de esta base de datos, ¿esta es la version más pequeña (MB) que se puede entregar? ¿como cree usted que se encuentran guardados estos datos en los servidores del Ministerio de Educacion?\n",
        "\n",
        "Pueden revisar el esquema relacional(ER) disponible en el sitio: \n",
        "http://datos.mineduc.cl/dashboards/21108/descarga-notas-y-egresados-de-ensenanza-media/\n"
      ]
    },
    {
      "cell_type": "markdown",
      "metadata": {
        "id": "OWDhXrm5zFct"
      },
      "source": [
        "## Usando los comandos de R\n",
        "\n",
        "Ahora haremos una comparativa entre funcion hecha a mano y otra de un package cualquiera. En particular analizaremos el comando filter."
      ]
    },
    {
      "cell_type": "code",
      "metadata": {
        "id": "ssHJFcq_VHWj"
      },
      "source": [
        "egreso2007$prom_notas_alu<-as.numeric(sub(\",\", \".\", egreso2007$prom_notas_alu, fixed = TRUE)) \n"
      ],
      "execution_count": null,
      "outputs": []
    },
    {
      "cell_type": "code",
      "metadata": {
        "colab": {
          "base_uri": "https://localhost:8080/",
          "height": 1000
        },
        "id": "c4NiGhPPVZa8",
        "outputId": "0c790aaa-2d0f-4470-b468-db5aee32882d"
      },
      "source": [
        "egreso2007"
      ],
      "execution_count": null,
      "outputs": [
        {
          "output_type": "display_data",
          "data": {
            "text/plain": [
              "       agno rbd   dgv_rbd cod_ense cod_grado mrun     prom_notas_alu\n",
              "1      2007 25591 2       410      4           3      6.2           \n",
              "2      2007 10666 6       310      4           4      5.5           \n",
              "3      2007 10452 3       310      2           5      4.7           \n",
              "4      2007  1517 2       310      4          41      5.6           \n",
              "5      2007 10635 6       310      3          42      5.1           \n",
              "6      2007  8892 7       310      3          43      6.6           \n",
              "7      2007  4555 1       310      3          79      5.3           \n",
              "8      2007 25487 8       310      3          80      6.2           \n",
              "9      2007 10220 2       310      2         118      4.9           \n",
              "10     2007  5465 8       310      4         201      5.7           \n",
              "11     2007 10697 6       610      4         202      4.8           \n",
              "12     2007  8656 8       410      1         291      4.8           \n",
              "13     2007 11885 0       510      3         324      4.9           \n",
              "14     2007 25753 2       361      4         337      5.2           \n",
              "15     2007 26087 8       361      4         340      5.1           \n",
              "16     2007  6051 8       610      1         353      5.7           \n",
              "17     2007 10686 0       310      2         369      4.8           \n",
              "18     2007  9906 6       310      4         370      5.3           \n",
              "19     2007  3247 6       310      2         410      5.2           \n",
              "20     2007  2486 4       510      2         411      5.3           \n",
              "21     2007   648 3       310      4         481      5.4           \n",
              "22     2007  1590 3       510      3         522      5.3           \n",
              "23     2007  1503 2       510      3         523      5.0           \n",
              "24     2007  4166 1       610      3         565      6.3           \n",
              "25     2007  9584 2       410      2         570      5.2           \n",
              "26     2007  9347 5       410      2         571      5.2           \n",
              "27     2007 10831 6       310      1         574      5.4           \n",
              "28     2007  8813 7       510      3         650      4.8           \n",
              "29     2007  4166 1       610      2         676      5.2           \n",
              "30     2007  4555 1       310      1         704      5.3           \n",
              "⋮      ⋮    ⋮     ⋮       ⋮        ⋮         ⋮        ⋮             \n",
              "966022 2007 0     0       310      3         26101860 0             \n",
              "966023 2007 0     0       310      4         26101860 0             \n",
              "966024 2007 0     0       310      1         26102488 0             \n",
              "966025 2007 0     0       310      2         26102488 0             \n",
              "966026 2007 0     0       310      3         26102488 0             \n",
              "966027 2007 0     0       310      4         26102488 0             \n",
              "966028 2007 0     0       310      1         26102595 0             \n",
              "966029 2007 0     0       310      2         26102595 0             \n",
              "966030 2007 0     0       310      3         26102595 0             \n",
              "966031 2007 0     0       310      4         26102595 0             \n",
              "966032 2007 0     0       310      1         26102694 0             \n",
              "966033 2007 0     0       310      2         26102694 0             \n",
              "966034 2007 0     0       310      3         26102694 0             \n",
              "966035 2007 0     0       310      4         26102694 0             \n",
              "966036 2007 0     0       310      1         26103004 0             \n",
              "966037 2007 0     0       310      2         26103004 0             \n",
              "966038 2007 0     0       310      3         26103004 0             \n",
              "966039 2007 0     0       310      4         26103004 0             \n",
              "966040 2007 0     0       310      1         26103006 0             \n",
              "966041 2007 0     0       310      2         26103006 0             \n",
              "966042 2007 0     0       310      3         26103006 0             \n",
              "966043 2007 0     0       310      4         26103006 0             \n",
              "966044 2007 0     0       310      1         26103421 0             \n",
              "966045 2007 0     0       310      2         26103421 0             \n",
              "966046 2007 0     0       310      3         26103421 0             \n",
              "966047 2007 0     0       310      4         26103421 0             \n",
              "966048 2007 0     0       310      1         26103433 0             \n",
              "966049 2007 0     0       310      2         26103433 0             \n",
              "966050 2007 0     0       310      3         26103433 0             \n",
              "966051 2007 0     0       310      4         26103433 0             \n",
              "       ense_completa marca_egreso\n",
              "1      1             1           \n",
              "2      1             1           \n",
              "3      1             0           \n",
              "4      1             1           \n",
              "5      1             0           \n",
              "6      1             0           \n",
              "7      1             0           \n",
              "8      1             0           \n",
              "9      1             0           \n",
              "10     1             1           \n",
              "11     1             1           \n",
              "12     1             0           \n",
              "13     1             0           \n",
              "14     1             1           \n",
              "15     1             1           \n",
              "16     1             0           \n",
              "17     1             0           \n",
              "18     1             1           \n",
              "19     1             0           \n",
              "20     1             0           \n",
              "21     1             1           \n",
              "22     1             0           \n",
              "23     1             0           \n",
              "24     1             0           \n",
              "25     1             0           \n",
              "26     1             0           \n",
              "27     1             0           \n",
              "28     1             0           \n",
              "29     1             0           \n",
              "30     1             0           \n",
              "⋮      ⋮             ⋮           \n",
              "966022 1             0           \n",
              "966023 1             1           \n",
              "966024 1             0           \n",
              "966025 1             0           \n",
              "966026 1             0           \n",
              "966027 1             1           \n",
              "966028 1             0           \n",
              "966029 1             0           \n",
              "966030 1             0           \n",
              "966031 1             1           \n",
              "966032 1             0           \n",
              "966033 1             0           \n",
              "966034 1             0           \n",
              "966035 1             1           \n",
              "966036 1             0           \n",
              "966037 1             0           \n",
              "966038 1             0           \n",
              "966039 1             1           \n",
              "966040 1             0           \n",
              "966041 1             0           \n",
              "966042 1             0           \n",
              "966043 1             1           \n",
              "966044 1             0           \n",
              "966045 1             0           \n",
              "966046 1             0           \n",
              "966047 1             1           \n",
              "966048 1             0           \n",
              "966049 1             0           \n",
              "966050 1             0           \n",
              "966051 1             1           "
            ],
            "text/latex": "A data.table: 966051 × 9\n\\begin{tabular}{lllllllll}\n agno & rbd & dgv\\_rbd & cod\\_ense & cod\\_grado & mrun & prom\\_notas\\_alu & ense\\_completa & marca\\_egreso\\\\\n <int> & <int> & <int> & <int> & <int> & <int> & <dbl> & <int> & <int>\\\\\n\\hline\n\t 2007 & 25591 & 2 & 410 & 4 &   3 & 6.2 & 1 & 1\\\\\n\t 2007 & 10666 & 6 & 310 & 4 &   4 & 5.5 & 1 & 1\\\\\n\t 2007 & 10452 & 3 & 310 & 2 &   5 & 4.7 & 1 & 0\\\\\n\t 2007 &  1517 & 2 & 310 & 4 &  41 & 5.6 & 1 & 1\\\\\n\t 2007 & 10635 & 6 & 310 & 3 &  42 & 5.1 & 1 & 0\\\\\n\t 2007 &  8892 & 7 & 310 & 3 &  43 & 6.6 & 1 & 0\\\\\n\t 2007 &  4555 & 1 & 310 & 3 &  79 & 5.3 & 1 & 0\\\\\n\t 2007 & 25487 & 8 & 310 & 3 &  80 & 6.2 & 1 & 0\\\\\n\t 2007 & 10220 & 2 & 310 & 2 & 118 & 4.9 & 1 & 0\\\\\n\t 2007 &  5465 & 8 & 310 & 4 & 201 & 5.7 & 1 & 1\\\\\n\t 2007 & 10697 & 6 & 610 & 4 & 202 & 4.8 & 1 & 1\\\\\n\t 2007 &  8656 & 8 & 410 & 1 & 291 & 4.8 & 1 & 0\\\\\n\t 2007 & 11885 & 0 & 510 & 3 & 324 & 4.9 & 1 & 0\\\\\n\t 2007 & 25753 & 2 & 361 & 4 & 337 & 5.2 & 1 & 1\\\\\n\t 2007 & 26087 & 8 & 361 & 4 & 340 & 5.1 & 1 & 1\\\\\n\t 2007 &  6051 & 8 & 610 & 1 & 353 & 5.7 & 1 & 0\\\\\n\t 2007 & 10686 & 0 & 310 & 2 & 369 & 4.8 & 1 & 0\\\\\n\t 2007 &  9906 & 6 & 310 & 4 & 370 & 5.3 & 1 & 1\\\\\n\t 2007 &  3247 & 6 & 310 & 2 & 410 & 5.2 & 1 & 0\\\\\n\t 2007 &  2486 & 4 & 510 & 2 & 411 & 5.3 & 1 & 0\\\\\n\t 2007 &   648 & 3 & 310 & 4 & 481 & 5.4 & 1 & 1\\\\\n\t 2007 &  1590 & 3 & 510 & 3 & 522 & 5.3 & 1 & 0\\\\\n\t 2007 &  1503 & 2 & 510 & 3 & 523 & 5.0 & 1 & 0\\\\\n\t 2007 &  4166 & 1 & 610 & 3 & 565 & 6.3 & 1 & 0\\\\\n\t 2007 &  9584 & 2 & 410 & 2 & 570 & 5.2 & 1 & 0\\\\\n\t 2007 &  9347 & 5 & 410 & 2 & 571 & 5.2 & 1 & 0\\\\\n\t 2007 & 10831 & 6 & 310 & 1 & 574 & 5.4 & 1 & 0\\\\\n\t 2007 &  8813 & 7 & 510 & 3 & 650 & 4.8 & 1 & 0\\\\\n\t 2007 &  4166 & 1 & 610 & 2 & 676 & 5.2 & 1 & 0\\\\\n\t 2007 &  4555 & 1 & 310 & 1 & 704 & 5.3 & 1 & 0\\\\\n\t ⋮ & ⋮ & ⋮ & ⋮ & ⋮ & ⋮ & ⋮ & ⋮ & ⋮\\\\\n\t 2007 & 0 & 0 & 310 & 3 & 26101860 & 0 & 1 & 0\\\\\n\t 2007 & 0 & 0 & 310 & 4 & 26101860 & 0 & 1 & 1\\\\\n\t 2007 & 0 & 0 & 310 & 1 & 26102488 & 0 & 1 & 0\\\\\n\t 2007 & 0 & 0 & 310 & 2 & 26102488 & 0 & 1 & 0\\\\\n\t 2007 & 0 & 0 & 310 & 3 & 26102488 & 0 & 1 & 0\\\\\n\t 2007 & 0 & 0 & 310 & 4 & 26102488 & 0 & 1 & 1\\\\\n\t 2007 & 0 & 0 & 310 & 1 & 26102595 & 0 & 1 & 0\\\\\n\t 2007 & 0 & 0 & 310 & 2 & 26102595 & 0 & 1 & 0\\\\\n\t 2007 & 0 & 0 & 310 & 3 & 26102595 & 0 & 1 & 0\\\\\n\t 2007 & 0 & 0 & 310 & 4 & 26102595 & 0 & 1 & 1\\\\\n\t 2007 & 0 & 0 & 310 & 1 & 26102694 & 0 & 1 & 0\\\\\n\t 2007 & 0 & 0 & 310 & 2 & 26102694 & 0 & 1 & 0\\\\\n\t 2007 & 0 & 0 & 310 & 3 & 26102694 & 0 & 1 & 0\\\\\n\t 2007 & 0 & 0 & 310 & 4 & 26102694 & 0 & 1 & 1\\\\\n\t 2007 & 0 & 0 & 310 & 1 & 26103004 & 0 & 1 & 0\\\\\n\t 2007 & 0 & 0 & 310 & 2 & 26103004 & 0 & 1 & 0\\\\\n\t 2007 & 0 & 0 & 310 & 3 & 26103004 & 0 & 1 & 0\\\\\n\t 2007 & 0 & 0 & 310 & 4 & 26103004 & 0 & 1 & 1\\\\\n\t 2007 & 0 & 0 & 310 & 1 & 26103006 & 0 & 1 & 0\\\\\n\t 2007 & 0 & 0 & 310 & 2 & 26103006 & 0 & 1 & 0\\\\\n\t 2007 & 0 & 0 & 310 & 3 & 26103006 & 0 & 1 & 0\\\\\n\t 2007 & 0 & 0 & 310 & 4 & 26103006 & 0 & 1 & 1\\\\\n\t 2007 & 0 & 0 & 310 & 1 & 26103421 & 0 & 1 & 0\\\\\n\t 2007 & 0 & 0 & 310 & 2 & 26103421 & 0 & 1 & 0\\\\\n\t 2007 & 0 & 0 & 310 & 3 & 26103421 & 0 & 1 & 0\\\\\n\t 2007 & 0 & 0 & 310 & 4 & 26103421 & 0 & 1 & 1\\\\\n\t 2007 & 0 & 0 & 310 & 1 & 26103433 & 0 & 1 & 0\\\\\n\t 2007 & 0 & 0 & 310 & 2 & 26103433 & 0 & 1 & 0\\\\\n\t 2007 & 0 & 0 & 310 & 3 & 26103433 & 0 & 1 & 0\\\\\n\t 2007 & 0 & 0 & 310 & 4 & 26103433 & 0 & 1 & 1\\\\\n\\end{tabular}\n",
            "text/markdown": "\nA data.table: 966051 × 9\n\n| agno &lt;int&gt; | rbd &lt;int&gt; | dgv_rbd &lt;int&gt; | cod_ense &lt;int&gt; | cod_grado &lt;int&gt; | mrun &lt;int&gt; | prom_notas_alu &lt;dbl&gt; | ense_completa &lt;int&gt; | marca_egreso &lt;int&gt; |\n|---|---|---|---|---|---|---|---|---|\n| 2007 | 25591 | 2 | 410 | 4 |   3 | 6.2 | 1 | 1 |\n| 2007 | 10666 | 6 | 310 | 4 |   4 | 5.5 | 1 | 1 |\n| 2007 | 10452 | 3 | 310 | 2 |   5 | 4.7 | 1 | 0 |\n| 2007 |  1517 | 2 | 310 | 4 |  41 | 5.6 | 1 | 1 |\n| 2007 | 10635 | 6 | 310 | 3 |  42 | 5.1 | 1 | 0 |\n| 2007 |  8892 | 7 | 310 | 3 |  43 | 6.6 | 1 | 0 |\n| 2007 |  4555 | 1 | 310 | 3 |  79 | 5.3 | 1 | 0 |\n| 2007 | 25487 | 8 | 310 | 3 |  80 | 6.2 | 1 | 0 |\n| 2007 | 10220 | 2 | 310 | 2 | 118 | 4.9 | 1 | 0 |\n| 2007 |  5465 | 8 | 310 | 4 | 201 | 5.7 | 1 | 1 |\n| 2007 | 10697 | 6 | 610 | 4 | 202 | 4.8 | 1 | 1 |\n| 2007 |  8656 | 8 | 410 | 1 | 291 | 4.8 | 1 | 0 |\n| 2007 | 11885 | 0 | 510 | 3 | 324 | 4.9 | 1 | 0 |\n| 2007 | 25753 | 2 | 361 | 4 | 337 | 5.2 | 1 | 1 |\n| 2007 | 26087 | 8 | 361 | 4 | 340 | 5.1 | 1 | 1 |\n| 2007 |  6051 | 8 | 610 | 1 | 353 | 5.7 | 1 | 0 |\n| 2007 | 10686 | 0 | 310 | 2 | 369 | 4.8 | 1 | 0 |\n| 2007 |  9906 | 6 | 310 | 4 | 370 | 5.3 | 1 | 1 |\n| 2007 |  3247 | 6 | 310 | 2 | 410 | 5.2 | 1 | 0 |\n| 2007 |  2486 | 4 | 510 | 2 | 411 | 5.3 | 1 | 0 |\n| 2007 |   648 | 3 | 310 | 4 | 481 | 5.4 | 1 | 1 |\n| 2007 |  1590 | 3 | 510 | 3 | 522 | 5.3 | 1 | 0 |\n| 2007 |  1503 | 2 | 510 | 3 | 523 | 5.0 | 1 | 0 |\n| 2007 |  4166 | 1 | 610 | 3 | 565 | 6.3 | 1 | 0 |\n| 2007 |  9584 | 2 | 410 | 2 | 570 | 5.2 | 1 | 0 |\n| 2007 |  9347 | 5 | 410 | 2 | 571 | 5.2 | 1 | 0 |\n| 2007 | 10831 | 6 | 310 | 1 | 574 | 5.4 | 1 | 0 |\n| 2007 |  8813 | 7 | 510 | 3 | 650 | 4.8 | 1 | 0 |\n| 2007 |  4166 | 1 | 610 | 2 | 676 | 5.2 | 1 | 0 |\n| 2007 |  4555 | 1 | 310 | 1 | 704 | 5.3 | 1 | 0 |\n| ⋮ | ⋮ | ⋮ | ⋮ | ⋮ | ⋮ | ⋮ | ⋮ | ⋮ |\n| 2007 | 0 | 0 | 310 | 3 | 26101860 | 0 | 1 | 0 |\n| 2007 | 0 | 0 | 310 | 4 | 26101860 | 0 | 1 | 1 |\n| 2007 | 0 | 0 | 310 | 1 | 26102488 | 0 | 1 | 0 |\n| 2007 | 0 | 0 | 310 | 2 | 26102488 | 0 | 1 | 0 |\n| 2007 | 0 | 0 | 310 | 3 | 26102488 | 0 | 1 | 0 |\n| 2007 | 0 | 0 | 310 | 4 | 26102488 | 0 | 1 | 1 |\n| 2007 | 0 | 0 | 310 | 1 | 26102595 | 0 | 1 | 0 |\n| 2007 | 0 | 0 | 310 | 2 | 26102595 | 0 | 1 | 0 |\n| 2007 | 0 | 0 | 310 | 3 | 26102595 | 0 | 1 | 0 |\n| 2007 | 0 | 0 | 310 | 4 | 26102595 | 0 | 1 | 1 |\n| 2007 | 0 | 0 | 310 | 1 | 26102694 | 0 | 1 | 0 |\n| 2007 | 0 | 0 | 310 | 2 | 26102694 | 0 | 1 | 0 |\n| 2007 | 0 | 0 | 310 | 3 | 26102694 | 0 | 1 | 0 |\n| 2007 | 0 | 0 | 310 | 4 | 26102694 | 0 | 1 | 1 |\n| 2007 | 0 | 0 | 310 | 1 | 26103004 | 0 | 1 | 0 |\n| 2007 | 0 | 0 | 310 | 2 | 26103004 | 0 | 1 | 0 |\n| 2007 | 0 | 0 | 310 | 3 | 26103004 | 0 | 1 | 0 |\n| 2007 | 0 | 0 | 310 | 4 | 26103004 | 0 | 1 | 1 |\n| 2007 | 0 | 0 | 310 | 1 | 26103006 | 0 | 1 | 0 |\n| 2007 | 0 | 0 | 310 | 2 | 26103006 | 0 | 1 | 0 |\n| 2007 | 0 | 0 | 310 | 3 | 26103006 | 0 | 1 | 0 |\n| 2007 | 0 | 0 | 310 | 4 | 26103006 | 0 | 1 | 1 |\n| 2007 | 0 | 0 | 310 | 1 | 26103421 | 0 | 1 | 0 |\n| 2007 | 0 | 0 | 310 | 2 | 26103421 | 0 | 1 | 0 |\n| 2007 | 0 | 0 | 310 | 3 | 26103421 | 0 | 1 | 0 |\n| 2007 | 0 | 0 | 310 | 4 | 26103421 | 0 | 1 | 1 |\n| 2007 | 0 | 0 | 310 | 1 | 26103433 | 0 | 1 | 0 |\n| 2007 | 0 | 0 | 310 | 2 | 26103433 | 0 | 1 | 0 |\n| 2007 | 0 | 0 | 310 | 3 | 26103433 | 0 | 1 | 0 |\n| 2007 | 0 | 0 | 310 | 4 | 26103433 | 0 | 1 | 1 |\n\n",
            "text/html": [
              "<table class=\"dataframe\">\n",
              "<caption>A data.table: 966051 × 9</caption>\n",
              "<thead>\n",
              "\t<tr><th scope=col>agno</th><th scope=col>rbd</th><th scope=col>dgv_rbd</th><th scope=col>cod_ense</th><th scope=col>cod_grado</th><th scope=col>mrun</th><th scope=col>prom_notas_alu</th><th scope=col>ense_completa</th><th scope=col>marca_egreso</th></tr>\n",
              "\t<tr><th scope=col>&lt;int&gt;</th><th scope=col>&lt;int&gt;</th><th scope=col>&lt;int&gt;</th><th scope=col>&lt;int&gt;</th><th scope=col>&lt;int&gt;</th><th scope=col>&lt;int&gt;</th><th scope=col>&lt;dbl&gt;</th><th scope=col>&lt;int&gt;</th><th scope=col>&lt;int&gt;</th></tr>\n",
              "</thead>\n",
              "<tbody>\n",
              "\t<tr><td>2007</td><td>25591</td><td>2</td><td>410</td><td>4</td><td>  3</td><td>6.2</td><td>1</td><td>1</td></tr>\n",
              "\t<tr><td>2007</td><td>10666</td><td>6</td><td>310</td><td>4</td><td>  4</td><td>5.5</td><td>1</td><td>1</td></tr>\n",
              "\t<tr><td>2007</td><td>10452</td><td>3</td><td>310</td><td>2</td><td>  5</td><td>4.7</td><td>1</td><td>0</td></tr>\n",
              "\t<tr><td>2007</td><td> 1517</td><td>2</td><td>310</td><td>4</td><td> 41</td><td>5.6</td><td>1</td><td>1</td></tr>\n",
              "\t<tr><td>2007</td><td>10635</td><td>6</td><td>310</td><td>3</td><td> 42</td><td>5.1</td><td>1</td><td>0</td></tr>\n",
              "\t<tr><td>2007</td><td> 8892</td><td>7</td><td>310</td><td>3</td><td> 43</td><td>6.6</td><td>1</td><td>0</td></tr>\n",
              "\t<tr><td>2007</td><td> 4555</td><td>1</td><td>310</td><td>3</td><td> 79</td><td>5.3</td><td>1</td><td>0</td></tr>\n",
              "\t<tr><td>2007</td><td>25487</td><td>8</td><td>310</td><td>3</td><td> 80</td><td>6.2</td><td>1</td><td>0</td></tr>\n",
              "\t<tr><td>2007</td><td>10220</td><td>2</td><td>310</td><td>2</td><td>118</td><td>4.9</td><td>1</td><td>0</td></tr>\n",
              "\t<tr><td>2007</td><td> 5465</td><td>8</td><td>310</td><td>4</td><td>201</td><td>5.7</td><td>1</td><td>1</td></tr>\n",
              "\t<tr><td>2007</td><td>10697</td><td>6</td><td>610</td><td>4</td><td>202</td><td>4.8</td><td>1</td><td>1</td></tr>\n",
              "\t<tr><td>2007</td><td> 8656</td><td>8</td><td>410</td><td>1</td><td>291</td><td>4.8</td><td>1</td><td>0</td></tr>\n",
              "\t<tr><td>2007</td><td>11885</td><td>0</td><td>510</td><td>3</td><td>324</td><td>4.9</td><td>1</td><td>0</td></tr>\n",
              "\t<tr><td>2007</td><td>25753</td><td>2</td><td>361</td><td>4</td><td>337</td><td>5.2</td><td>1</td><td>1</td></tr>\n",
              "\t<tr><td>2007</td><td>26087</td><td>8</td><td>361</td><td>4</td><td>340</td><td>5.1</td><td>1</td><td>1</td></tr>\n",
              "\t<tr><td>2007</td><td> 6051</td><td>8</td><td>610</td><td>1</td><td>353</td><td>5.7</td><td>1</td><td>0</td></tr>\n",
              "\t<tr><td>2007</td><td>10686</td><td>0</td><td>310</td><td>2</td><td>369</td><td>4.8</td><td>1</td><td>0</td></tr>\n",
              "\t<tr><td>2007</td><td> 9906</td><td>6</td><td>310</td><td>4</td><td>370</td><td>5.3</td><td>1</td><td>1</td></tr>\n",
              "\t<tr><td>2007</td><td> 3247</td><td>6</td><td>310</td><td>2</td><td>410</td><td>5.2</td><td>1</td><td>0</td></tr>\n",
              "\t<tr><td>2007</td><td> 2486</td><td>4</td><td>510</td><td>2</td><td>411</td><td>5.3</td><td>1</td><td>0</td></tr>\n",
              "\t<tr><td>2007</td><td>  648</td><td>3</td><td>310</td><td>4</td><td>481</td><td>5.4</td><td>1</td><td>1</td></tr>\n",
              "\t<tr><td>2007</td><td> 1590</td><td>3</td><td>510</td><td>3</td><td>522</td><td>5.3</td><td>1</td><td>0</td></tr>\n",
              "\t<tr><td>2007</td><td> 1503</td><td>2</td><td>510</td><td>3</td><td>523</td><td>5.0</td><td>1</td><td>0</td></tr>\n",
              "\t<tr><td>2007</td><td> 4166</td><td>1</td><td>610</td><td>3</td><td>565</td><td>6.3</td><td>1</td><td>0</td></tr>\n",
              "\t<tr><td>2007</td><td> 9584</td><td>2</td><td>410</td><td>2</td><td>570</td><td>5.2</td><td>1</td><td>0</td></tr>\n",
              "\t<tr><td>2007</td><td> 9347</td><td>5</td><td>410</td><td>2</td><td>571</td><td>5.2</td><td>1</td><td>0</td></tr>\n",
              "\t<tr><td>2007</td><td>10831</td><td>6</td><td>310</td><td>1</td><td>574</td><td>5.4</td><td>1</td><td>0</td></tr>\n",
              "\t<tr><td>2007</td><td> 8813</td><td>7</td><td>510</td><td>3</td><td>650</td><td>4.8</td><td>1</td><td>0</td></tr>\n",
              "\t<tr><td>2007</td><td> 4166</td><td>1</td><td>610</td><td>2</td><td>676</td><td>5.2</td><td>1</td><td>0</td></tr>\n",
              "\t<tr><td>2007</td><td> 4555</td><td>1</td><td>310</td><td>1</td><td>704</td><td>5.3</td><td>1</td><td>0</td></tr>\n",
              "\t<tr><td>⋮</td><td>⋮</td><td>⋮</td><td>⋮</td><td>⋮</td><td>⋮</td><td>⋮</td><td>⋮</td><td>⋮</td></tr>\n",
              "\t<tr><td>2007</td><td>0</td><td>0</td><td>310</td><td>3</td><td>26101860</td><td>0</td><td>1</td><td>0</td></tr>\n",
              "\t<tr><td>2007</td><td>0</td><td>0</td><td>310</td><td>4</td><td>26101860</td><td>0</td><td>1</td><td>1</td></tr>\n",
              "\t<tr><td>2007</td><td>0</td><td>0</td><td>310</td><td>1</td><td>26102488</td><td>0</td><td>1</td><td>0</td></tr>\n",
              "\t<tr><td>2007</td><td>0</td><td>0</td><td>310</td><td>2</td><td>26102488</td><td>0</td><td>1</td><td>0</td></tr>\n",
              "\t<tr><td>2007</td><td>0</td><td>0</td><td>310</td><td>3</td><td>26102488</td><td>0</td><td>1</td><td>0</td></tr>\n",
              "\t<tr><td>2007</td><td>0</td><td>0</td><td>310</td><td>4</td><td>26102488</td><td>0</td><td>1</td><td>1</td></tr>\n",
              "\t<tr><td>2007</td><td>0</td><td>0</td><td>310</td><td>1</td><td>26102595</td><td>0</td><td>1</td><td>0</td></tr>\n",
              "\t<tr><td>2007</td><td>0</td><td>0</td><td>310</td><td>2</td><td>26102595</td><td>0</td><td>1</td><td>0</td></tr>\n",
              "\t<tr><td>2007</td><td>0</td><td>0</td><td>310</td><td>3</td><td>26102595</td><td>0</td><td>1</td><td>0</td></tr>\n",
              "\t<tr><td>2007</td><td>0</td><td>0</td><td>310</td><td>4</td><td>26102595</td><td>0</td><td>1</td><td>1</td></tr>\n",
              "\t<tr><td>2007</td><td>0</td><td>0</td><td>310</td><td>1</td><td>26102694</td><td>0</td><td>1</td><td>0</td></tr>\n",
              "\t<tr><td>2007</td><td>0</td><td>0</td><td>310</td><td>2</td><td>26102694</td><td>0</td><td>1</td><td>0</td></tr>\n",
              "\t<tr><td>2007</td><td>0</td><td>0</td><td>310</td><td>3</td><td>26102694</td><td>0</td><td>1</td><td>0</td></tr>\n",
              "\t<tr><td>2007</td><td>0</td><td>0</td><td>310</td><td>4</td><td>26102694</td><td>0</td><td>1</td><td>1</td></tr>\n",
              "\t<tr><td>2007</td><td>0</td><td>0</td><td>310</td><td>1</td><td>26103004</td><td>0</td><td>1</td><td>0</td></tr>\n",
              "\t<tr><td>2007</td><td>0</td><td>0</td><td>310</td><td>2</td><td>26103004</td><td>0</td><td>1</td><td>0</td></tr>\n",
              "\t<tr><td>2007</td><td>0</td><td>0</td><td>310</td><td>3</td><td>26103004</td><td>0</td><td>1</td><td>0</td></tr>\n",
              "\t<tr><td>2007</td><td>0</td><td>0</td><td>310</td><td>4</td><td>26103004</td><td>0</td><td>1</td><td>1</td></tr>\n",
              "\t<tr><td>2007</td><td>0</td><td>0</td><td>310</td><td>1</td><td>26103006</td><td>0</td><td>1</td><td>0</td></tr>\n",
              "\t<tr><td>2007</td><td>0</td><td>0</td><td>310</td><td>2</td><td>26103006</td><td>0</td><td>1</td><td>0</td></tr>\n",
              "\t<tr><td>2007</td><td>0</td><td>0</td><td>310</td><td>3</td><td>26103006</td><td>0</td><td>1</td><td>0</td></tr>\n",
              "\t<tr><td>2007</td><td>0</td><td>0</td><td>310</td><td>4</td><td>26103006</td><td>0</td><td>1</td><td>1</td></tr>\n",
              "\t<tr><td>2007</td><td>0</td><td>0</td><td>310</td><td>1</td><td>26103421</td><td>0</td><td>1</td><td>0</td></tr>\n",
              "\t<tr><td>2007</td><td>0</td><td>0</td><td>310</td><td>2</td><td>26103421</td><td>0</td><td>1</td><td>0</td></tr>\n",
              "\t<tr><td>2007</td><td>0</td><td>0</td><td>310</td><td>3</td><td>26103421</td><td>0</td><td>1</td><td>0</td></tr>\n",
              "\t<tr><td>2007</td><td>0</td><td>0</td><td>310</td><td>4</td><td>26103421</td><td>0</td><td>1</td><td>1</td></tr>\n",
              "\t<tr><td>2007</td><td>0</td><td>0</td><td>310</td><td>1</td><td>26103433</td><td>0</td><td>1</td><td>0</td></tr>\n",
              "\t<tr><td>2007</td><td>0</td><td>0</td><td>310</td><td>2</td><td>26103433</td><td>0</td><td>1</td><td>0</td></tr>\n",
              "\t<tr><td>2007</td><td>0</td><td>0</td><td>310</td><td>3</td><td>26103433</td><td>0</td><td>1</td><td>0</td></tr>\n",
              "\t<tr><td>2007</td><td>0</td><td>0</td><td>310</td><td>4</td><td>26103433</td><td>0</td><td>1</td><td>1</td></tr>\n",
              "</tbody>\n",
              "</table>\n"
            ]
          },
          "metadata": {
            "tags": []
          }
        }
      ]
    },
    {
      "cell_type": "code",
      "metadata": {
        "id": "xR3S1Btg0igg"
      },
      "source": [
        "egreso2007_colnames <- names(egreso2007)\n",
        "\n",
        "egreso2007_1ero <- data.frame(matrix(ncol = length(egreso2007_colnames), nrow = 0))\n",
        "\n",
        "colnames(egreso2007_1ero) <- c(egreso2007_colnames)"
      ],
      "execution_count": null,
      "outputs": []
    },
    {
      "cell_type": "code",
      "metadata": {
        "id": "3teUJxjQzE8S",
        "colab": {
          "base_uri": "https://localhost:8080/"
        },
        "outputId": "92937638-0908-451f-ca95-4810afbe50ca"
      },
      "source": [
        "tic()\n",
        "\n",
        "ciclo1 <- 100000\n",
        "n <- 1\n",
        "\n",
        "for(i in 1:ciclo1){\n",
        "  cod <- egreso2007$cod_grado[i]\n",
        "  notas <- egreso2007$prom_notas_alu[i]\n",
        "\n",
        "  if(cod == 1 & notas>=5){\n",
        "    fila <- c(as.character(egreso2007[i,]))\n",
        "    egreso2007_1ero[n, ] <- fila\n",
        "    n <- n+1\n",
        "  }\n",
        "}\n",
        "\n",
        "toc()\n"
      ],
      "execution_count": null,
      "outputs": [
        {
          "output_type": "stream",
          "text": [
            "45.186 sec elapsed\n"
          ],
          "name": "stdout"
        }
      ]
    },
    {
      "cell_type": "code",
      "metadata": {
        "colab": {
          "base_uri": "https://localhost:8080/",
          "height": 35
        },
        "id": "gJB8NS-gR5fO",
        "outputId": "cf7d987b-3560-4e23-fedc-e9ab618151c0"
      },
      "source": [
        "45.186*966051/100000 # Segundos que tardaria en realizar el filtro aproximadamente"
      ],
      "execution_count": null,
      "outputs": [
        {
          "output_type": "display_data",
          "data": {
            "text/plain": [
              "[1] 436.5198"
            ],
            "text/latex": "436.51980486",
            "text/markdown": "436.51980486",
            "text/html": [
              "436.51980486"
            ]
          },
          "metadata": {
            "tags": []
          }
        }
      ]
    },
    {
      "cell_type": "markdown",
      "metadata": {
        "id": "rb8ZMH-5SSpm"
      },
      "source": [
        "Por otro lado existe una forma de lograr esto usando R-base."
      ]
    },
    {
      "cell_type": "code",
      "metadata": {
        "colab": {
          "base_uri": "https://localhost:8080/"
        },
        "id": "qwjFywr0SZg2",
        "outputId": "389fc3b4-0fca-426e-9720-52f3c530720d"
      },
      "source": [
        "tic()\n",
        "\n",
        "egreso2007_1ero_2=egreso2007[egreso2007$cod_grado==1 &egreso2007$prom_notas_alu>=5]\n",
        "\n",
        "toc()"
      ],
      "execution_count": null,
      "outputs": [
        {
          "output_type": "stream",
          "text": [
            "0.022 sec elapsed\n"
          ],
          "name": "stdout"
        }
      ]
    },
    {
      "cell_type": "markdown",
      "metadata": {
        "id": "64iqKl7TeMXF"
      },
      "source": [
        "Usando una libreria llamada dplyr"
      ]
    },
    {
      "cell_type": "code",
      "metadata": {
        "colab": {
          "base_uri": "https://localhost:8080/"
        },
        "id": "CvFEI5SFTiFE",
        "outputId": "17bf68ee-94c2-4cfa-bb49-5dfe91a4175a"
      },
      "source": [
        "library(dplyr)\n",
        "\n",
        "tic()\n",
        "\n",
        "egreso2007_1ero_2=filter(egreso2007, cod_grado==1& prom_notas_alu>=5)\n",
        "\n",
        "toc()"
      ],
      "execution_count": null,
      "outputs": [
        {
          "output_type": "stream",
          "text": [
            "0.027 sec elapsed\n"
          ],
          "name": "stdout"
        }
      ]
    },
    {
      "cell_type": "markdown",
      "metadata": {
        "id": "9NLnII59n8JX"
      },
      "source": [
        "## Segunda base de datos (Actividad)\n",
        "\n",
        "Tenemos tambien la base de datos de rendimiento de todos los niveles para un año especifico. Carguen esa base de datos y asignenla a \"rendim2020\""
      ]
    },
    {
      "cell_type": "code",
      "metadata": {
        "colab": {
          "base_uri": "https://localhost:8080/"
        },
        "id": "UInXjKFHpzA0",
        "outputId": "f3cc05cd-73cd-41e8-d3ee-1f4fe0bbb247"
      },
      "source": [
        "#vistazo rapido centrandose en las columnas\n",
        "str(rendim2020)"
      ],
      "execution_count": null,
      "outputs": [
        {
          "output_type": "stream",
          "text": [
            "Classes ‘data.table’ and 'data.frame':\t3164534 obs. of  37 variables:\n",
            " $ AGNO          : int  2020 2020 2020 2020 2020 2020 2020 2020 2020 2020 ...\n",
            " $ RBD           : int  1 1 1 1 1 1 1 1 1 1 ...\n",
            " $ DGV_RBD       : int  9 9 9 9 9 9 9 9 9 9 ...\n",
            " $ NOM_RBD       : chr  \"LICEO POLITECNICO ARICA\" \"LICEO POLITECNICO ARICA\" \"LICEO POLITECNICO ARICA\" \"LICEO POLITECNICO ARICA\" ...\n",
            " $ COD_REG_RBD   : int  15 15 15 15 15 15 15 15 15 15 ...\n",
            " $ NOM_REG_RBD_A : chr  \"AYP\" \"AYP\" \"AYP\" \"AYP\" ...\n",
            " $ COD_PRO_RBD   : int  151 151 151 151 151 151 151 151 151 151 ...\n",
            " $ COD_COM_RBD   : int  15101 15101 15101 15101 15101 15101 15101 15101 15101 15101 ...\n",
            " $ NOM_COM_RBD   : chr  \"ARICA\" \"ARICA\" \"ARICA\" \"ARICA\" ...\n",
            " $ COD_DEPROV_RBD: int  151 151 151 151 151 151 151 151 151 151 ...\n",
            " $ NOM_DEPROV_RBD: chr  \"ARICA\" \"ARICA\" \"ARICA\" \"ARICA\" ...\n",
            " $ COD_DEPE      : int  6 6 6 6 6 6 6 6 6 6 ...\n",
            " $ COD_DEPE2     : int  5 5 5 5 5 5 5 5 5 5 ...\n",
            " $ RURAL_RBD     : int  0 0 0 0 0 0 0 0 0 0 ...\n",
            " $ ESTADO_ESTAB  : int  1 1 1 1 1 1 1 1 1 1 ...\n",
            " $ COD_ENSE      : int  463 463 463 463 463 463 463 463 463 463 ...\n",
            " $ COD_ENSE2     : int  8 8 8 8 8 8 8 8 8 8 ...\n",
            " $ COD_GRADO     : int  3 3 3 3 3 3 3 3 4 4 ...\n",
            " $ LET_CUR       : chr  \"A\" \"A\" \"A\" \"A\" ...\n",
            " $ COD_JOR       : int  4 4 4 4 4 4 4 4 4 4 ...\n",
            " $ COD_TIP_CUR   : int  0 0 0 0 0 0 0 0 0 0 ...\n",
            " $ COD_DES_CUR   : int  1 1 1 1 1 1 1 1 1 1 ...\n",
            " $ MRUN          : int  8598804 14742873 15853074 16201389 19907825 20425606 21661661 25633567 1591930 2655917 ...\n",
            " $ GEN_ALU       : int  1 2 1 2 2 2 2 2 1 1 ...\n",
            " $ FEC_NAC_ALU   : int  197712 199212 200201 198404 200206 199108 199605 199210 196707 199509 ...\n",
            " $ EDAD_ALU      : int  42 27 18 36 18 28 24 27 52 24 ...\n",
            " $ COD_REG_ALU   : int  15 15 15 15 15 15 15 15 15 15 ...\n",
            " $ COD_COM_ALU   : int  15101 15101 15101 15101 15101 15101 15101 15101 15101 15101 ...\n",
            " $ NOM_COM_ALU   : chr  \"ARICA\" \"ARICA\" \"ARICA\" \"ARICA\" ...\n",
            " $ COD_RAMA      : int  400 400 400 400 400 400 400 400 400 400 ...\n",
            " $ COD_SEC       : int  410 410 410 410 410 410 410 410 410 410 ...\n",
            " $ COD_ESPE      : int  41001 41001 41001 41001 41001 41001 41001 41001 41001 41001 ...\n",
            " $ PROM_GRAL     : chr  \"6,7\" \"5,5\" \"0\" \"5,2\" ...\n",
            " $ ASISTENCIA    : int  100 100 0 100 100 100 0 0 0 30 ...\n",
            " $ SIT_FIN       : chr  \"P\" \"P\" \"Y\" \"P\" ...\n",
            " $ SIT_FIN_R     : chr  \"P\" \"P\" \"Y\" \"P\" ...\n",
            " $ COD_MEN       : int  0 0 0 0 0 0 0 0 0 0 ...\n",
            " - attr(*, \".internal.selfref\")=<externalptr> \n"
          ],
          "name": "stdout"
        }
      ]
    },
    {
      "cell_type": "markdown",
      "metadata": {
        "id": "wSELNevzsQmt"
      },
      "source": [
        "Mirando esta tabla\n",
        "* ¿Qué cosas no sabemos?\n",
        "* ¿Qué nos gustaria saber?\n",
        "* ¿Qué problemas podriamos encontrar?"
      ]
    },
    {
      "cell_type": "markdown",
      "metadata": {
        "id": "uWogJRVvl6AS"
      },
      "source": [
        "## Graficando en R"
      ]
    },
    {
      "cell_type": "markdown",
      "metadata": {
        "id": "ujaUPdAwmXVb"
      },
      "source": [
        "La librería más utilizada para graficar en R es ggplot, que entrega una gran cantidad de funcionalidades. Al igual que las otras librerías, hay que llamarla."
      ]
    },
    {
      "cell_type": "code",
      "metadata": {
        "id": "xtKUVHcMmrMS"
      },
      "source": [
        "library(ggplot2)"
      ],
      "execution_count": null,
      "outputs": []
    },
    {
      "cell_type": "markdown",
      "metadata": {
        "id": "sMMtas7TnuK9"
      },
      "source": [
        "Para utilizar la librería, se sigue la siguiente sintaxis\n",
        "\n",
        "\n",
        "\n",
        "```\n",
        "# ggplot(data = <DATA>) + \n",
        "  <GEOM_FUNCTION>(\n",
        "     mapping = aes(<MAPPINGS>, <STATS>),\n",
        "     position = <POSITION>\n",
        "  ) +\n",
        "  <COORDINATE_FUNCTION> +\n",
        "  <FACET_FUNCTION>\n",
        "```\n",
        "\n",
        "Siguiendo paso a paso, observemos que en primer lugar uno debe cargar los datos en el gráfico, con lo que se genera un cuadro en blanco que va a ser la base con la que vamos a trabajar.\n",
        "\n"
      ]
    },
    {
      "cell_type": "code",
      "metadata": {
        "colab": {
          "base_uri": "https://localhost:8080/",
          "height": 437
        },
        "id": "sv_q7Nk1m-n8",
        "outputId": "1a5c97b8-7bf2-446e-aeb1-249fe4c051ff"
      },
      "source": [
        "ggplot(data = rendim2020)"
      ],
      "execution_count": null,
      "outputs": [
        {
          "output_type": "display_data",
          "data": {
            "image/png": "[encoded data removed]",
            "text/plain": [
              "plot without title"
            ]
          },
          "metadata": {
            "tags": [],
            "image/png": {
              "width": 420,
              "height": 420
            }
          }
        }
      ]
    },
    {
      "cell_type": "markdown",
      "metadata": {
        "id": "90dTHTUbpKHp"
      },
      "source": [
        "Para obtener información, uno debe decidir que tipo de gráfico quiere hacer, usualmente asociado al tipo de dato con el que quiere trabajar. Esos son los geomas y los más importantes son los siguientes:\n",
        "\n",
        "*   **geom_bar()**, nos entrega un gráfico de barras.\n",
        "*   **geom_point()**, observamos un gráfico de puntos.\n",
        "*   **geom_line()**, nos entrega un gráfico de lineas.\n",
        "*   **geom_boxplot()**, un gráfico de cajas.\n",
        "*   Entre otros.\n",
        "\n",
        "Una vez seleccionado el  tipo de gráfico que queremos ver, mapeamos la variable que nos interesa.\n",
        "\n"
      ]
    },
    {
      "cell_type": "code",
      "metadata": {
        "colab": {
          "base_uri": "https://localhost:8080/",
          "height": 437
        },
        "id": "zfoDqSLEm-_I",
        "outputId": "ff2efd8a-1698-4b38-da22-005d758555b9"
      },
      "source": [
        "ggplot(data = rendim) + geom_bar( mapping = aes(x = GEN_ALU))"
      ],
      "execution_count": null,
      "outputs": [
        {
          "output_type": "display_data",
          "data": {
            "image/png": "[encoded data removed]",
            "text/plain": [
              "plot without title"
            ]
          },
          "metadata": {
            "tags": [],
            "image/png": {
              "width": 420,
              "height": 420
            }
          }
        }
      ]
    },
    {
      "cell_type": "markdown",
      "metadata": {
        "id": "CFJzc8pVuwHi"
      },
      "source": [
        "Como vemos, al seleccionar un gráfico de barras automaticamente obtengo la cantidad de alumnos que tiene cada variable. Pero, ¿Es necesariamente esta la forma en que queremos presentar esta variable?\n",
        "\n",
        "Ante la necesidad de decir más cosas con los gráficos, aparecen los estadísticos (stats). La modificación de estos, y su combinación con geomas, amplian nuestras opciones para graficar y visualizar la información de nuestra base de datos. Por ejemplo, podemos ver la proporción de cada sexo."
      ]
    },
    {
      "cell_type": "code",
      "metadata": {
        "colab": {
          "base_uri": "https://localhost:8080/",
          "height": 437
        },
        "id": "OPnGTk43m_MZ",
        "outputId": "ca6abbdf-6afe-41d7-b536-bc5c57448366"
      },
      "source": [
        "ggplot(data = rendim) + geom_bar( mapping = aes(x = GEN_ALU, y = after_stat(prop)))"
      ],
      "execution_count": null,
      "outputs": [
        {
          "output_type": "display_data",
          "data": {
            "image/png": "[encoded data removed]",
            "text/plain": [
              "plot without title"
            ]
          },
          "metadata": {
            "tags": [],
            "image/png": {
              "width": 420,
              "height": 420
            }
          }
        }
      ]
    },
    {
      "cell_type": "markdown",
      "metadata": {
        "id": "I2OJtmwfxS2U"
      },
      "source": [
        "Parte importante del trabajo de gráficos, es que el sistema de coordenadas sea el correcto para poder hacer un análisis o presentar la información. para lograrlo, en ggplot agregamos la capa de funciones de coordenadas.\n",
        "\n",
        "Dentro de las opciones que tienen estas funciones está el elegir los límites de los ejes, invertir el eje x y el eje y, seleccionar coordenadas polares o hasta trabajar con mapas de acuerdo a latitud y longitud.\n",
        "\n",
        "\n"
      ]
    },
    {
      "cell_type": "code",
      "metadata": {
        "colab": {
          "base_uri": "https://localhost:8080/",
          "height": 437
        },
        "id": "TgIznmAkxTtY",
        "outputId": "a37f5eee-336b-4e32-8902-3e4682bfbf0c"
      },
      "source": [
        "ggplot(data = rendim2020) + geom_bar( mapping = aes(x = GEN_ALU, y = after_stat(prop), ))+\n",
        "  coord_cartesian(xlim = c(0.5, 2.5))  "
      ],
      "execution_count": null,
      "outputs": [
        {
          "output_type": "display_data",
          "data": {
            "image/png": "[encoded data removed]",
            "text/plain": [
              "plot without title"
            ]
          },
          "metadata": {
            "tags": [],
            "image/png": {
              "width": 420,
              "height": 420
            }
          }
        }
      ]
    },
    {
      "cell_type": "markdown",
      "metadata": {
        "id": "iJchrn36xUag"
      },
      "source": [
        "Una vez obtenido el gráfico, podemos buscar tener más información. Por ejemplo, ¿Cómo sería la distribución de genero por tipo de establecimiento?\n",
        "\n",
        "Ante la necesidad de agregar una nueva variable, tenemos tres alternativas para lograr mejores visualizaciones, los comandos de posición, las estéticas (aes) y las facetas.\n",
        "\n",
        "Los comandos de posición y las estéticas son formas de incluir más información dentro del mismo gráfico, cambiando los tamaños, colores y formas de los geomas. Por ejemplo, podemos ver la proporción de hombres y mujeres de acuerdo al tipo de establecimiento."
      ]
    },
    {
      "cell_type": "code",
      "metadata": {
        "id": "eSMVQbdOF3GV"
      },
      "source": [
        "rendim2020$COD_DEPE2 <- as.character(rendim2020$COD_DEPE2)"
      ],
      "execution_count": null,
      "outputs": []
    },
    {
      "cell_type": "code",
      "metadata": {
        "colab": {
          "base_uri": "https://localhost:8080/",
          "height": 437
        },
        "id": "iLNSIcPuNiKe",
        "outputId": "8406cfda-6ed7-491b-84b8-61cdfe7e640f"
      },
      "source": [
        "ggplot(data = rendim2020) + geom_bar( mapping = aes(x = GEN_ALU, fill = COD_DEPE2))+\n",
        "  coord_cartesian(xlim = c(0.5, 2.5)) "
      ],
      "execution_count": null,
      "outputs": [
        {
          "output_type": "display_data",
          "data": {
            "image/png": "[encoded data removed]",
            "text/plain": [
              "plot without title"
            ]
          },
          "metadata": {
            "tags": [],
            "image/png": {
              "width": 420,
              "height": 420
            }
          }
        }
      ]
    },
    {
      "cell_type": "code",
      "metadata": {
        "colab": {
          "base_uri": "https://localhost:8080/",
          "height": 437
        },
        "id": "fQokpYz1xU7E",
        "outputId": "2a8f94c1-7417-4e59-8209-a277b3fe9021"
      },
      "source": [
        "ggplot(data = rendim2020) + geom_bar( mapping = aes(x = GEN_ALU, y = after_stat(prop), fill = COD_DEPE2))+\n",
        "  coord_cartesian(xlim = c(0.5, 2.5))  "
      ],
      "execution_count": null,
      "outputs": [
        {
          "output_type": "display_data",
          "data": {
            "image/png": "[encoded data removed]",
            "text/plain": [
              "plot without title"
            ]
          },
          "metadata": {
            "tags": [],
            "image/png": {
              "width": 420,
              "height": 420
            }
          }
        }
      ]
    },
    {
      "cell_type": "code",
      "metadata": {
        "colab": {
          "base_uri": "https://localhost:8080/",
          "height": 437
        },
        "id": "Sta4B7yFPNid",
        "outputId": "b9f63c79-6fb0-496a-8035-ca6cb002665a"
      },
      "source": [
        "ggplot(data = rendim2020) + geom_bar( mapping = aes(x = GEN_ALU, y = after_stat(prop), fill = COD_DEPE2), position = \"dodge\")+\n",
        "  coord_cartesian(xlim = c(0.5, 2.5))  "
      ],
      "execution_count": null,
      "outputs": [
        {
          "output_type": "display_data",
          "data": {
            "image/png": "[encoded data removed]",
            "text/plain": [
              "plot without title"
            ]
          },
          "metadata": {
            "tags": [],
            "image/png": {
              "width": 420,
              "height": 420
            }
          }
        }
      ]
    },
    {
      "cell_type": "markdown",
      "metadata": {
        "id": "NUa8NkTgNs9w"
      },
      "source": [
        "Ahora, las facetas implican generar subgráficos que entregan la información fijada respecto a un valor Con ello, podemos comparar valores de acuerdo a una variable de control."
      ]
    },
    {
      "cell_type": "code",
      "metadata": {
        "colab": {
          "base_uri": "https://localhost:8080/",
          "height": 437
        },
        "id": "NAohKFEXG43A",
        "outputId": "5186dc7d-7652-4d96-d362-28d34b376be0"
      },
      "source": [
        "ggplot(data = rendim2020) + geom_bar( mapping = aes(x = GEN_ALU, y = after_stat(prop), ))+\n",
        "  coord_cartesian(xlim = c(0.5, 2.5))  + facet_wrap(~ COD_DEPE2, nrow = 2)"
      ],
      "execution_count": null,
      "outputs": [
        {
          "output_type": "display_data",
          "data": {
            "image/png": "[encoded data removed]",
            "text/plain": [
              "plot without title"
            ]
          },
          "metadata": {
            "tags": [],
            "image/png": {
              "width": 420,
              "height": 420
            }
          }
        }
      ]
    },
    {
      "cell_type": "markdown",
      "metadata": {
        "id": "pjwkSsTJHxnu"
      },
      "source": [
        "## **Unir dos bases de datos (Actividad)**\n",
        "\n",
        "Para poder realizar un trabajo más completo, unir bases de datos es fundamental. Para ello uno busca identificadores (llaves) que permitan asociar las distintas bases de datos.\n",
        "\n",
        "Para esta sección deberán usar los comandos de R para programar un \"merge\" según el mrun para las bases de datos de rendimiento del año 2019 y 2020. En otras palabras, buscaremos escribir en una sola base de datos los atributos de \"rendim2019\" y \"rendim2020\" para los valores de mrun que se encuentren en ambas bases de datos. \n",
        "\n",
        "Para ello deberan seguir los siguientes pasos:\n",
        "\n",
        "1) Descargar y asignar las bases de datos de rendimiento escolar de los años 2019 y 2020 a las variables rendim2019 y rendim2020\n",
        "\n",
        "2) Crear un dataframe vacio \"rendim_19_20\" con las columnas de rendim2019 y rendim2020, notese que los atributos se llaman de la misma forma en las dos bases de datos asi que deberán poner un sufijo a cada uno (ej: COD_GRADO_2019, COD_GRADO_2020, etc). Para esto investiguen como se ocupa la funcion \"paste\".\n",
        "\n",
        "3) Elaboren un codigo para llenar la base de datos rendim_19_20 con los atributos de los años 2019 y 2020. Para la solución más sencilla será necesario que usen 2 for-loop y un if. En este codigo recorran solo las 3000 primeras filas de las bases de datos (por temas de tiempo de computo). Tomen el tiempo con la libreria tictoc.\n",
        "\n",
        "4) Busquen como utilizar la funcion \"merge\" de R-base y de dplyr, hagan lo mismo del los pasos 1-3 pero con estas librerias. Tomen el tiempo con la libreria tictoc.\n",
        "\n"
      ]
    },
    {
      "cell_type": "markdown",
      "metadata": {
        "id": "QkP-v_dxmGHt"
      },
      "source": [
        "## **Analizando datos (Actividad)**\n",
        "1.   Planteen al menos 3 hipotesis que ustedes crean acertadas en base a los datos de rendimiento escolar.\n",
        "2.   Limpien la base de datos de manera adecuada para cada una de las hipotesis.\n",
        "3.   Contrasten cada una de las hipotesis con datos y graficas adecuadas.\n",
        "\n"
      ]
    },
    {
      "cell_type": "markdown",
      "metadata": {
        "id": "eyEXMKIFJlga"
      },
      "source": [
        "### Ejemplo de hipotesis:\n",
        "\n",
        "1. El promedio general va bajando a lo largo de los años (incluyendo educación básica y media)\n",
        "\n",
        "Para probar esto necesitamos: notas generales, codigo de grado, codigo de enseñanza (2, es más fácil)"
      ]
    },
    {
      "cell_type": "code",
      "metadata": {
        "id": "pPd4_MdeRSZY",
        "colab": {
          "base_uri": "https://localhost:8080/"
        },
        "outputId": "1d30f9e2-8799-4c88-c6f2-10f0d1e2ab83"
      },
      "source": [
        "library(dplyr)"
      ],
      "execution_count": null,
      "outputs": [
        {
          "output_type": "stream",
          "text": [
            "\n",
            "Attaching package: ‘dplyr’\n",
            "\n",
            "\n",
            "The following objects are masked from ‘package:data.table’:\n",
            "\n",
            "    between, first, last\n",
            "\n",
            "\n",
            "The following objects are masked from ‘package:stats’:\n",
            "\n",
            "    filter, lag\n",
            "\n",
            "\n",
            "The following objects are masked from ‘package:base’:\n",
            "\n",
            "    intersect, setdiff, setequal, union\n",
            "\n",
            "\n"
          ],
          "name": "stderr"
        }
      ]
    },
    {
      "cell_type": "code",
      "metadata": {
        "id": "gxnyrfi8JkcY"
      },
      "source": [
        "db=filter(rendim[,c(\"COD_GRADO\",\"COD_ENSE2\", \"PROM_GRAL\")], COD_ENSE2==2 | COD_ENSE2==5 &PROM_GRAL!=0)"
      ],
      "execution_count": null,
      "outputs": []
    },
    {
      "cell_type": "code",
      "metadata": {
        "id": "_8u1RrhdVM7y"
      },
      "source": [
        "db$PROM_GRAL<-as.numeric(sub(\",\", \".\", db$PROM_GRAL, fixed = TRUE)) \n"
      ],
      "execution_count": null,
      "outputs": []
    },
    {
      "cell_type": "code",
      "metadata": {
        "colab": {
          "base_uri": "https://localhost:8080/"
        },
        "id": "_yrGsXK4WOee",
        "outputId": "6931ca60-1c0c-4ef0-d78c-ce696d3ac9c4"
      },
      "source": [
        "str(db)"
      ],
      "execution_count": null,
      "outputs": [
        {
          "output_type": "stream",
          "text": [
            "Classes ‘data.table’ and 'data.frame':\t2745255 obs. of  3 variables:\n",
            " $ COD_GRADO: int  1 1 1 1 1 1 1 1 1 1 ...\n",
            " $ COD_ENSE2: int  5 5 5 5 5 5 5 5 5 5 ...\n",
            " $ PROM_GRAL: num  6.7 6.4 6.9 6.5 6.6 6.8 6.8 6.6 6.9 6.7 ...\n",
            " - attr(*, \".internal.selfref\")=<externalptr> \n"
          ],
          "name": "stdout"
        }
      ]
    },
    {
      "cell_type": "code",
      "metadata": {
        "colab": {
          "base_uri": "https://localhost:8080/"
        },
        "id": "Y-M3JpwtJkaE",
        "outputId": "c7a4f72e-3de7-4086-d824-e7b274edb258"
      },
      "source": [
        "promedios <- db %>% group_by(COD_ENSE2,COD_GRADO) %>% summarise(pxn = mean(PROM_GRAL)) "
      ],
      "execution_count": null,
      "outputs": [
        {
          "output_type": "stream",
          "text": [
            "`summarise()` has grouped output by 'COD_ENSE2'. You can override using the `.groups` argument.\n",
            "\n"
          ],
          "name": "stderr"
        }
      ]
    },
    {
      "cell_type": "code",
      "metadata": {
        "colab": {
          "base_uri": "https://localhost:8080/",
          "height": 469
        },
        "id": "gqV9ovGrJkWr",
        "outputId": "b30794db-51e0-4f97-a098-2932371770bd"
      },
      "source": [
        "promedios"
      ],
      "execution_count": null,
      "outputs": [
        {
          "output_type": "display_data",
          "data": {
            "text/plain": [
              "   COD_ENSE2 COD_GRADO pxn     \n",
              "1  2         1         6.075021\n",
              "2  2         2         6.130174\n",
              "3  2         3         6.067432\n",
              "4  2         4         6.040168\n",
              "5  2         5         5.889979\n",
              "6  2         6         5.820602\n",
              "7  2         7         5.693939\n",
              "8  2         8         5.707942\n",
              "9  5         1         5.772608\n",
              "10 5         2         5.917634\n",
              "11 5         3         6.114703\n",
              "12 5         4         6.260179"
            ],
            "text/latex": "A grouped\\_df: 12 × 3\n\\begin{tabular}{lll}\n COD\\_ENSE2 & COD\\_GRADO & pxn\\\\\n <int> & <int> & <dbl>\\\\\n\\hline\n\t 2 & 1 & 6.075021\\\\\n\t 2 & 2 & 6.130174\\\\\n\t 2 & 3 & 6.067432\\\\\n\t 2 & 4 & 6.040168\\\\\n\t 2 & 5 & 5.889979\\\\\n\t 2 & 6 & 5.820602\\\\\n\t 2 & 7 & 5.693939\\\\\n\t 2 & 8 & 5.707942\\\\\n\t 5 & 1 & 5.772608\\\\\n\t 5 & 2 & 5.917634\\\\\n\t 5 & 3 & 6.114703\\\\\n\t 5 & 4 & 6.260179\\\\\n\\end{tabular}\n",
            "text/markdown": "\nA grouped_df: 12 × 3\n\n| COD_ENSE2 &lt;int&gt; | COD_GRADO &lt;int&gt; | pxn &lt;dbl&gt; |\n|---|---|---|\n| 2 | 1 | 6.075021 |\n| 2 | 2 | 6.130174 |\n| 2 | 3 | 6.067432 |\n| 2 | 4 | 6.040168 |\n| 2 | 5 | 5.889979 |\n| 2 | 6 | 5.820602 |\n| 2 | 7 | 5.693939 |\n| 2 | 8 | 5.707942 |\n| 5 | 1 | 5.772608 |\n| 5 | 2 | 5.917634 |\n| 5 | 3 | 6.114703 |\n| 5 | 4 | 6.260179 |\n\n",
            "text/html": [
              "<table class=\"dataframe\">\n",
              "<caption>A grouped_df: 12 × 3</caption>\n",
              "<thead>\n",
              "\t<tr><th scope=col>COD_ENSE2</th><th scope=col>COD_GRADO</th><th scope=col>pxn</th></tr>\n",
              "\t<tr><th scope=col>&lt;int&gt;</th><th scope=col>&lt;int&gt;</th><th scope=col>&lt;dbl&gt;</th></tr>\n",
              "</thead>\n",
              "<tbody>\n",
              "\t<tr><td>2</td><td>1</td><td>6.075021</td></tr>\n",
              "\t<tr><td>2</td><td>2</td><td>6.130174</td></tr>\n",
              "\t<tr><td>2</td><td>3</td><td>6.067432</td></tr>\n",
              "\t<tr><td>2</td><td>4</td><td>6.040168</td></tr>\n",
              "\t<tr><td>2</td><td>5</td><td>5.889979</td></tr>\n",
              "\t<tr><td>2</td><td>6</td><td>5.820602</td></tr>\n",
              "\t<tr><td>2</td><td>7</td><td>5.693939</td></tr>\n",
              "\t<tr><td>2</td><td>8</td><td>5.707942</td></tr>\n",
              "\t<tr><td>5</td><td>1</td><td>5.772608</td></tr>\n",
              "\t<tr><td>5</td><td>2</td><td>5.917634</td></tr>\n",
              "\t<tr><td>5</td><td>3</td><td>6.114703</td></tr>\n",
              "\t<tr><td>5</td><td>4</td><td>6.260179</td></tr>\n",
              "</tbody>\n",
              "</table>\n"
            ]
          },
          "metadata": {
            "tags": []
          }
        }
      ]
    },
    {
      "cell_type": "code",
      "metadata": {
        "colab": {
          "base_uri": "https://localhost:8080/",
          "height": 437
        },
        "id": "0JQoQSPRJkRR",
        "outputId": "33d55a57-2cbc-49c0-c8c9-7bb2c5f810c1"
      },
      "source": [
        "p<-ggplot(data=promedios) +\n",
        "  geom_bar(stat=\"identity\", aes(x=1:12, y=pxn))+\n",
        "  coord_cartesian(ylim = c(5.5, 6.5))  \n",
        "\n",
        "p\n",
        "   "
      ],
      "execution_count": null,
      "outputs": [
        {
          "output_type": "display_data",
          "data": {
            "image/png": "[encoded data removed]",
            "text/plain": [
              "plot without title"
            ]
          },
          "metadata": {
            "tags": [],
            "image/png": {
              "width": 420,
              "height": 420
            }
          }
        }
      ]
    }
  ]
}